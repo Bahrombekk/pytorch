{
  "nbformat": 4,
  "nbformat_minor": 0,
  "metadata": {
    "colab": {
      "provenance": [],
      "authorship_tag": "ABX9TyNI/NsURSm8fk9aB8psoDWg",
      "include_colab_link": true
    },
    "kernelspec": {
      "name": "python3",
      "display_name": "Python 3"
    },
    "language_info": {
      "name": "python"
    }
  },
  "cells": [
    {
      "cell_type": "markdown",
      "metadata": {
        "id": "view-in-github",
        "colab_type": "text"
      },
      "source": [
        "<a href=\"https://colab.research.google.com/github/Bahrombekk/pytorch/blob/main/%22%22Data_AI_ipynb%22_ipynb%22.ipynb\" target=\"_parent\"><img src=\"https://colab.research.google.com/assets/colab-badge.svg\" alt=\"Open In Colab\"/></a>"
      ]
    },
    {
      "cell_type": "code",
      "execution_count": 1,
      "metadata": {
        "id": "o8clW6w6xcOp"
      },
      "outputs": [],
      "source": [
        "import torch\n",
        "import torch.nn as nn\n",
        "from torch.utils.data import Dataset,DataLoader,random_split\n",
        "import torch.nn.functional as F\n",
        "import glob\n",
        "\n",
        "from tqdm import tqdm\n",
        "import numpy as np\n",
        "import matplotlib.pyplot as plt\n",
        "from sklearn.metrics import accuracy_score\n",
        "# from torchinfo import summary\n",
        "from torchsummary import summary\n",
        "import pathlib\n",
        "from PIL import Image\n",
        "from torchvision.transforms import transforms\n",
        "from torch.optim import Adam\n",
        "\n",
        "import torchvision.transforms as T"
      ]
    },
    {
      "cell_type": "code",
      "source": [
        "!pip install torchinfo"
      ],
      "metadata": {
        "colab": {
          "base_uri": "https://localhost:8080/"
        },
        "id": "9hnVo-xfxeYq",
        "outputId": "2601b620-2fd9-4296-fd6e-b8be4f37da85"
      },
      "execution_count": 2,
      "outputs": [
        {
          "output_type": "stream",
          "name": "stdout",
          "text": [
            "Collecting torchinfo\n",
            "  Downloading torchinfo-1.8.0-py3-none-any.whl (23 kB)\n",
            "Installing collected packages: torchinfo\n",
            "Successfully installed torchinfo-1.8.0\n"
          ]
        }
      ]
    },
    {
      "cell_type": "markdown",
      "source": [
        "#Kompiyuter va telifon"
      ],
      "metadata": {
        "id": "nLPflCnKDYqB"
      }
    },
    {
      "cell_type": "code",
      "source": [
        "! wget -O dataset.zip https://www.dropbox.com/s/e5f4epncmydijrw/Komp_in_tel.zip?dl=0"
      ],
      "metadata": {
        "colab": {
          "base_uri": "https://localhost:8080/"
        },
        "id": "TngDOzw5xjhe",
        "outputId": "c22e1156-c80d-4f1f-90b0-ccedc5eda0b9"
      },
      "execution_count": 3,
      "outputs": [
        {
          "output_type": "stream",
          "name": "stdout",
          "text": [
            "--2023-07-12 12:04:24--  https://www.dropbox.com/s/e5f4epncmydijrw/Komp_in_tel.zip?dl=0\n",
            "Resolving www.dropbox.com (www.dropbox.com)... 162.125.5.18, 2620:100:601d:18::a27d:512\n",
            "Connecting to www.dropbox.com (www.dropbox.com)|162.125.5.18|:443... connected.\n",
            "HTTP request sent, awaiting response... 302 Found\n",
            "Location: /s/raw/e5f4epncmydijrw/Komp_in_tel.zip [following]\n",
            "--2023-07-12 12:04:24--  https://www.dropbox.com/s/raw/e5f4epncmydijrw/Komp_in_tel.zip\n",
            "Reusing existing connection to www.dropbox.com:443.\n",
            "HTTP request sent, awaiting response... 302 Found\n",
            "Location: https://uceea8070a504c6bb335fe8f5c6e.dl.dropboxusercontent.com/cd/0/inline/B_uN95cROoO48PfWMc-AtRnSNAhwRNFgIuYciv556GeGir8ZIfKabK_Ezkvl-HgT0Vd4piIsUEvQ8VtAyAFJVnbEsoRkEOQrZSows2h1qEBYYLZyhEDASwxpA-9hPDTATYS12ofhwW2XNw3d-CIYHZTYiZKh2WjiTjhTx650RFn5Ew/file# [following]\n",
            "--2023-07-12 12:04:25--  https://uceea8070a504c6bb335fe8f5c6e.dl.dropboxusercontent.com/cd/0/inline/B_uN95cROoO48PfWMc-AtRnSNAhwRNFgIuYciv556GeGir8ZIfKabK_Ezkvl-HgT0Vd4piIsUEvQ8VtAyAFJVnbEsoRkEOQrZSows2h1qEBYYLZyhEDASwxpA-9hPDTATYS12ofhwW2XNw3d-CIYHZTYiZKh2WjiTjhTx650RFn5Ew/file\n",
            "Resolving uceea8070a504c6bb335fe8f5c6e.dl.dropboxusercontent.com (uceea8070a504c6bb335fe8f5c6e.dl.dropboxusercontent.com)... 162.125.5.15, 2620:100:601d:15::a27d:50f\n",
            "Connecting to uceea8070a504c6bb335fe8f5c6e.dl.dropboxusercontent.com (uceea8070a504c6bb335fe8f5c6e.dl.dropboxusercontent.com)|162.125.5.15|:443... connected.\n",
            "HTTP request sent, awaiting response... 302 Found\n",
            "Location: /cd/0/inline2/B_vdIPrYiPwU4klYqv7_2St1dxCgDHt4sDOQ-E9nhhbfEvnTTZ0H08v-Zch1aL0MNAJeBCR29CHI-dxTdmQ7J0PeDkrsgCEVW8UZhZgGt3hOsSBTX2ceZm1vadPdrnqg4varBf2sDyFf3uAPiSV23nujkeaeutM4UJINKrwte4O2m7MEY4Nr5q-AwKwDWj7B0BlDhMlmMZCjwD-LiqECrYPD9Uey_sMb4Ag1lkT3FZJePIEL_e6aV4ojLVzVKk4BZpztflT76PHkaO-lfdPbMa_A5E-w2J4STsKsbUQ5dFxnExuh80YJ-DJCf3h2CK7886wk-g2_3b9XmLCHYPTwSXIJfI-Csw87EgwMCjJCCyWag0fw5r1SkMIl-kgkRQxES7DoX9y9adyXtMF7ZobxAv74CoOcpLwxguXVXVZ3e_1Z9Q/file [following]\n",
            "--2023-07-12 12:04:25--  https://uceea8070a504c6bb335fe8f5c6e.dl.dropboxusercontent.com/cd/0/inline2/B_vdIPrYiPwU4klYqv7_2St1dxCgDHt4sDOQ-E9nhhbfEvnTTZ0H08v-Zch1aL0MNAJeBCR29CHI-dxTdmQ7J0PeDkrsgCEVW8UZhZgGt3hOsSBTX2ceZm1vadPdrnqg4varBf2sDyFf3uAPiSV23nujkeaeutM4UJINKrwte4O2m7MEY4Nr5q-AwKwDWj7B0BlDhMlmMZCjwD-LiqECrYPD9Uey_sMb4Ag1lkT3FZJePIEL_e6aV4ojLVzVKk4BZpztflT76PHkaO-lfdPbMa_A5E-w2J4STsKsbUQ5dFxnExuh80YJ-DJCf3h2CK7886wk-g2_3b9XmLCHYPTwSXIJfI-Csw87EgwMCjJCCyWag0fw5r1SkMIl-kgkRQxES7DoX9y9adyXtMF7ZobxAv74CoOcpLwxguXVXVZ3e_1Z9Q/file\n",
            "Reusing existing connection to uceea8070a504c6bb335fe8f5c6e.dl.dropboxusercontent.com:443.\n",
            "HTTP request sent, awaiting response... 200 OK\n",
            "Length: 11843706 (11M) [application/zip]\n",
            "Saving to: ‘dataset.zip’\n",
            "\n",
            "dataset.zip         100%[===================>]  11.29M  46.1MB/s    in 0.2s    \n",
            "\n",
            "2023-07-12 12:04:26 (46.1 MB/s) - ‘dataset.zip’ saved [11843706/11843706]\n",
            "\n"
          ]
        }
      ]
    },
    {
      "cell_type": "code",
      "source": [
        "!unzip dataset.zip"
      ],
      "metadata": {
        "id": "WyA0sJEVxmsk"
      },
      "execution_count": null,
      "outputs": []
    },
    {
      "cell_type": "code",
      "source": [
        "device = torch.device(\"cuda\") if torch.cuda.is_available() else torch.device(\"cpu\")"
      ],
      "metadata": {
        "id": "uzXp7Xw3xpvE"
      },
      "execution_count": 54,
      "outputs": []
    },
    {
      "cell_type": "code",
      "source": [
        "transform = T.Compose([\n",
        "    T.Resize(size=(150,150)),\n",
        "    T.ToTensor()\n",
        "])"
      ],
      "metadata": {
        "id": "Rlmw35C7xrtm"
      },
      "execution_count": 55,
      "outputs": []
    },
    {
      "cell_type": "code",
      "source": [
        "class KOMP_in_tel_Dataset(Dataset):\n",
        "    def __init__(self, path, transform = None):\n",
        "        self.path_list = list(path.glob('*/*.jpg'))\n",
        "        self.transform = transform\n",
        "    def __getitem__(self,index):\n",
        "        img = Image.open(self.path_list[index])\n",
        "        label = (self.path_list[index]).parts[-2]\n",
        "        label = 0 if 'kompiyuter' in label else 1\n",
        "        if transform != None:\n",
        "            img = transform(img)\n",
        "        return img, int(label)\n",
        "    def __len__(self):\n",
        "        return len(self.path_list)"
      ],
      "metadata": {
        "id": "YGFfUzeIxt_s"
      },
      "execution_count": 56,
      "outputs": []
    },
    {
      "cell_type": "code",
      "source": [
        "train_path = pathlib.Path('/content/Komp_in_tel/train')\n",
        "test_path = pathlib.Path('/content/Komp_in_tel/validation')"
      ],
      "metadata": {
        "id": "X7CNq4uOxwg6"
      },
      "execution_count": 57,
      "outputs": []
    },
    {
      "cell_type": "code",
      "source": [
        "train_dataset = KOMP_in_tel_Dataset(train_path, transform)\n",
        "test_dataset = KOMP_in_tel_Dataset(test_path, transform)"
      ],
      "metadata": {
        "id": "h3BnAV1YxzQf"
      },
      "execution_count": 58,
      "outputs": []
    },
    {
      "cell_type": "code",
      "source": [
        "path_list = list(train_path.glob('*/*.jpg'))\n",
        "path_test=list(test_path.glob('*/*.jpg'))"
      ],
      "metadata": {
        "id": "DBTR8rRdx2eg"
      },
      "execution_count": 59,
      "outputs": []
    },
    {
      "cell_type": "code",
      "source": [
        "train_data = DataLoader(train_dataset, batch_size=50, shuffle=True)\n",
        "test_data = DataLoader(test_dataset, batch_size=1000, shuffle=True)"
      ],
      "metadata": {
        "id": "4XGcRylJx4mA"
      },
      "execution_count": 60,
      "outputs": []
    },
    {
      "cell_type": "code",
      "source": [
        "class ConvNet(nn.Module):\n",
        "    def __init__(self,num_classes=2):\n",
        "        super(ConvNet,self).__init__()\n",
        "        self.conv1=nn.Conv2d(in_channels=3,out_channels=12,kernel_size=3,stride=1,padding=1)\n",
        "        self.bn1=nn.BatchNorm2d(num_features=12)\n",
        "        self.relu1=nn.ReLU()\n",
        "        self.pool=nn.MaxPool2d(kernel_size=2)\n",
        "        self.conv2=nn.Conv2d(in_channels=12,out_channels=20,kernel_size=3,stride=1,padding=1)\n",
        "        self.relu2=nn.ReLU()\n",
        "        self.conv3=nn.Conv2d(in_channels=20,out_channels=32,kernel_size=3,stride=1,padding=1)\n",
        "        self.bn3=nn.BatchNorm2d(num_features=32)\n",
        "        self.relu3=nn.ReLU()\n",
        "        self.fc=nn.Linear(in_features=75 * 75 * 32,out_features=num_classes)\n",
        "    def forward(self,input):\n",
        "        output=self.conv1(input)\n",
        "        output=self.bn1(output)\n",
        "        output=self.relu1(output)\n",
        "        output=self.pool(output)\n",
        "        output=self.conv2(output)\n",
        "        output=self.relu2(output)\n",
        "        output=self.conv3(output)\n",
        "        output=self.bn3(output)\n",
        "        output=self.relu3(output)\n",
        "        output=output.view(-1,32*75*75)\n",
        "        output=self.fc(output)\n",
        "        return output\n"
      ],
      "metadata": {
        "id": "D9VmiQWPx7MS"
      },
      "execution_count": 61,
      "outputs": []
    },
    {
      "cell_type": "code",
      "source": [
        "model=ConvNet()"
      ],
      "metadata": {
        "id": "vQrWdwHtx9Cj"
      },
      "execution_count": 62,
      "outputs": []
    },
    {
      "cell_type": "code",
      "source": [
        "learning_rate = 0.001\n",
        "criterion = nn.CrossEntropyLoss()\n",
        "optimizer = torch.optim.Adam(model.parameters(),lr=learning_rate)"
      ],
      "metadata": {
        "id": "zeOD66KsyAGI"
      },
      "execution_count": 63,
      "outputs": []
    },
    {
      "cell_type": "code",
      "source": [
        "num_epochs = 5"
      ],
      "metadata": {
        "id": "gCcbdCj2yCWM"
      },
      "execution_count": 64,
      "outputs": []
    },
    {
      "cell_type": "code",
      "source": [
        "class Trainer:\n",
        "    def __init__(self, model, train_dataloader, test_dataloader, criterion, optimizer, epochs=3):\n",
        "        self.model = model\n",
        "        self.train_dataloader = train_dataloader\n",
        "        self.test_dataloader = test_dataloader\n",
        "        self.criterion = criterion\n",
        "        self.optimizer = optimizer\n",
        "        self.epochs = epochs\n",
        "        self.history = {'loss':[],'acc':[],'val_loss':[],'val_acc':[]}\n",
        "    def train_loop(self):\n",
        "        sum_loss = 0\n",
        "        sum_accuracy = 0\n",
        "        n = len(self.train_dataloader)\n",
        "        for i, (data,label) in enumerate(tqdm(self.train_dataloader)):\n",
        "            data = data.to(device)\n",
        "            label = label.to(device)\n",
        "            output = self.model(data)\n",
        "            loss = self.criterion(output, label)\n",
        "            sum_loss += loss.item()\n",
        "            n_corrects = (output.argmax(axis=1)==label).sum().item()\n",
        "            sum_accuracy += n_corrects/label.size(0)\n",
        "            loss.backward()\n",
        "            self.optimizer.step()\n",
        "            self.optimizer.zero_grad()\n",
        "        train_loss = sum_loss/n\n",
        "        train_accuracy = sum_accuracy/n\n",
        "        self.history['loss'].append(train_loss)\n",
        "        self.history['acc'].append(train_accuracy)\n",
        "        return train_loss, train_accuracy\n",
        "    def validation_loop(self):\n",
        "        sum_loss = 0\n",
        "        sum_accuracy = 0\n",
        "        n = len(self.test_dataloader)\n",
        "        for i, (data,label) in enumerate(tqdm(self.test_dataloader)):\n",
        "            data = data.to(device)\n",
        "            label = label.to(device)\n",
        "            output = self.model(data)\n",
        "            loss = self.criterion(output, label)\n",
        "            n_corrects = (output.argmax(axis=1)==label).sum().item()\n",
        "            sum_loss += loss.item()\n",
        "            sum_accuracy += n_corrects/label.size(0)\n",
        "        val_loss = sum_loss/n\n",
        "        val_accuracy = sum_accuracy/n\n",
        "        self.history['val_loss'].append(val_loss)\n",
        "        self.history['val_acc'].append(val_accuracy)\n",
        "        return val_loss, val_accuracy\n",
        "    def train(self):\n",
        "        for epoch in range(num_epochs):\n",
        "            train_loss, train_acc = self.train_loop()\n",
        "            val_loss, val_acc = self.validation_loop()\n",
        "            print()\n",
        "            print(f'Epoch[{epoch+1}/{num_epochs}] \\t train_loss: {train_loss:.5f}, train_acc: {train_acc:.2f} \\t val_loss: {val_loss:.5f} \\t val_acc: {val_acc:.2}')\n"
      ],
      "metadata": {
        "id": "CCn78OVRyEvV"
      },
      "execution_count": 65,
      "outputs": []
    },
    {
      "cell_type": "code",
      "source": [
        "trainer = Trainer(\n",
        "    model = model.to(device),\n",
        "    train_dataloader = train_data,\n",
        "    test_dataloader = test_data,\n",
        "    criterion=criterion,\n",
        "    optimizer=optimizer\n",
        ")"
      ],
      "metadata": {
        "id": "wqLTDKKmyHi-"
      },
      "execution_count": 66,
      "outputs": []
    },
    {
      "cell_type": "code",
      "source": [
        "trainer.train()"
      ],
      "metadata": {
        "colab": {
          "base_uri": "https://localhost:8080/"
        },
        "id": "4nT_LgCYyJy2",
        "outputId": "320f7a0c-aa16-4cb3-a0e9-df8ac8a963b4"
      },
      "execution_count": 67,
      "outputs": [
        {
          "output_type": "stream",
          "name": "stderr",
          "text": [
            "100%|██████████| 32/32 [00:41<00:00,  1.30s/it]\n",
            "100%|██████████| 1/1 [00:00<00:00, 10.10it/s]\n"
          ]
        },
        {
          "output_type": "stream",
          "name": "stdout",
          "text": [
            "\n",
            "Epoch[1/5] \t train_loss: 2.89756, train_acc: 0.88 \t val_loss: 0.89158 \t val_acc: 0.9\n"
          ]
        },
        {
          "output_type": "stream",
          "name": "stderr",
          "text": [
            "100%|██████████| 32/32 [00:40<00:00,  1.26s/it]\n",
            "100%|██████████| 1/1 [00:00<00:00,  9.50it/s]\n"
          ]
        },
        {
          "output_type": "stream",
          "name": "stdout",
          "text": [
            "\n",
            "Epoch[2/5] \t train_loss: 0.23423, train_acc: 0.99 \t val_loss: 13.35226 \t val_acc: 0.6\n"
          ]
        },
        {
          "output_type": "stream",
          "name": "stderr",
          "text": [
            "100%|██████████| 32/32 [00:39<00:00,  1.24s/it]\n",
            "100%|██████████| 1/1 [00:00<00:00, 10.66it/s]\n"
          ]
        },
        {
          "output_type": "stream",
          "name": "stdout",
          "text": [
            "\n",
            "Epoch[3/5] \t train_loss: 0.17563, train_acc: 0.99 \t val_loss: 1.73015 \t val_acc: 0.9\n"
          ]
        },
        {
          "output_type": "stream",
          "name": "stderr",
          "text": [
            "100%|██████████| 32/32 [00:41<00:00,  1.29s/it]\n",
            "100%|██████████| 1/1 [00:00<00:00, 10.62it/s]\n"
          ]
        },
        {
          "output_type": "stream",
          "name": "stdout",
          "text": [
            "\n",
            "Epoch[4/5] \t train_loss: 0.14747, train_acc: 0.99 \t val_loss: 0.00000 \t val_acc: 1.0\n"
          ]
        },
        {
          "output_type": "stream",
          "name": "stderr",
          "text": [
            "100%|██████████| 32/32 [00:40<00:00,  1.27s/it]\n",
            "100%|██████████| 1/1 [00:00<00:00,  8.92it/s]"
          ]
        },
        {
          "output_type": "stream",
          "name": "stdout",
          "text": [
            "\n",
            "Epoch[5/5] \t train_loss: 0.17425, train_acc: 0.99 \t val_loss: 3.29795 \t val_acc: 0.7\n"
          ]
        },
        {
          "output_type": "stream",
          "name": "stderr",
          "text": [
            "\n"
          ]
        }
      ]
    },
    {
      "cell_type": "code",
      "source": [
        "test_img,test_label=next(iter(test_data))\n",
        "pred=model(test_img.to(device))\n",
        "pred=pred.argmax(axis=1)\n",
        "pred = pred.detach().cpu()\n",
        "from sklearn.metrics import confusion_matrix\n",
        "print( test_label)\n",
        "cm=confusion_matrix(test_label,pred)\n",
        "print(cm)\n",
        "import seaborn as sns\n",
        "sns.heatmap(cm,annot=True)"
      ],
      "metadata": {
        "id": "hdUNwU0syPKl",
        "colab": {
          "base_uri": "https://localhost:8080/",
          "height": 504
        },
        "outputId": "e9479ff4-ce84-4ae4-9d41-6776641445ef"
      },
      "execution_count": 68,
      "outputs": [
        {
          "output_type": "stream",
          "name": "stdout",
          "text": [
            "tensor([1, 1, 1, 1, 1, 1, 1, 1, 1, 1])\n",
            "[[0 0]\n",
            " [3 7]]\n"
          ]
        },
        {
          "output_type": "execute_result",
          "data": {
            "text/plain": [
              "<Axes: >"
            ]
          },
          "metadata": {},
          "execution_count": 68
        },
        {
          "output_type": "display_data",
          "data": {
            "text/plain": [
              "<Figure size 640x480 with 2 Axes>"
            ],
            "image/png": "[encoded data removed]"
          },
          "metadata": {}
        }
      ]
    },
    {
      "cell_type": "markdown",
      "source": [
        "#Stol kompiyuteri va novutbuk"
      ],
      "metadata": {
        "id": "DubcT0xRDgt-"
      }
    },
    {
      "cell_type": "code",
      "source": [
        "! wget -O dataset.zip https://www.dropbox.com/s/fdlnoh5stmumy0d/Kompiyuter.zip?dl=0"
      ],
      "metadata": {
        "id": "ds94rdnyBOow",
        "colab": {
          "base_uri": "https://localhost:8080/"
        },
        "outputId": "23af8f7c-3781-4b0c-c23b-b9cf67734570"
      },
      "execution_count": 20,
      "outputs": [
        {
          "output_type": "stream",
          "name": "stdout",
          "text": [
            "--2023-07-12 12:08:12--  https://www.dropbox.com/s/fdlnoh5stmumy0d/Kompiyuter.zip?dl=0\n",
            "Resolving www.dropbox.com (www.dropbox.com)... 162.125.5.18, 2620:100:601b:18::a27d:812\n",
            "Connecting to www.dropbox.com (www.dropbox.com)|162.125.5.18|:443... connected.\n",
            "HTTP request sent, awaiting response... 302 Found\n",
            "Location: /s/raw/fdlnoh5stmumy0d/Kompiyuter.zip [following]\n",
            "--2023-07-12 12:08:12--  https://www.dropbox.com/s/raw/fdlnoh5stmumy0d/Kompiyuter.zip\n",
            "Reusing existing connection to www.dropbox.com:443.\n",
            "HTTP request sent, awaiting response... 302 Found\n",
            "Location: https://uc558c55423e64256920780f8278.dl.dropboxusercontent.com/cd/0/inline/B_tFHEKiJhTX1fUNnxbFHaAuhNxPTddbnU2Ld8WeWxTG4UKtNz2Hqv0ZPisWOMAeUP77KLAE0VuQ1PdUEgNcfK1eAy0l0dnvJ8OjXgRVB6z2u9rIByp8IpeWAHa1OiVWJ4CVAaMyl9g7j0NuaqxS0bvUp0O5zdCe1ts4SoGIwnmKxg/file# [following]\n",
            "--2023-07-12 12:08:13--  https://uc558c55423e64256920780f8278.dl.dropboxusercontent.com/cd/0/inline/B_tFHEKiJhTX1fUNnxbFHaAuhNxPTddbnU2Ld8WeWxTG4UKtNz2Hqv0ZPisWOMAeUP77KLAE0VuQ1PdUEgNcfK1eAy0l0dnvJ8OjXgRVB6z2u9rIByp8IpeWAHa1OiVWJ4CVAaMyl9g7j0NuaqxS0bvUp0O5zdCe1ts4SoGIwnmKxg/file\n",
            "Resolving uc558c55423e64256920780f8278.dl.dropboxusercontent.com (uc558c55423e64256920780f8278.dl.dropboxusercontent.com)... 162.125.5.15, 2620:100:601d:15::a27d:50f\n",
            "Connecting to uc558c55423e64256920780f8278.dl.dropboxusercontent.com (uc558c55423e64256920780f8278.dl.dropboxusercontent.com)|162.125.5.15|:443... connected.\n",
            "HTTP request sent, awaiting response... 302 Found\n",
            "Location: /cd/0/inline2/B_vkLsxqPb4w_R9SL06TAbSvrTKdG3T6qckdA2d0GL_T7vwbBosOzU5cG_SgmVZ47iY1a1d0_jx49aereMeax-t9X9aHHLBO1UFncEH5pKOqcU_5ZiNNof7N_cPZ_Rc5u9OTEV6buntw4ByS_xG39WWGM_wFih2uuQMoZad68BCVUf6I7VfucDcejFqQ4IjH7LTzBfwZD47EGHmL3FNXWpffcWTO0N544jON8XwIdlCxNcaGd9uFvZSPiqM2Hf56UZjUaa4TSOT9V_ugvIe7ApsuYcMXperkHBs7HRjS2GmAEYszRQJGFrAaTomulyTF9wnupdcoH1XG9KQQziF88HRTyNw08Vk8FQHlx_erlTr8MQDNpBlnP00rvbjLdMBNLPhQR6rU0gVdsOIy1GXf781cK5dAlgqK9z4qv_sX_FEu-A/file [following]\n",
            "--2023-07-12 12:08:13--  https://uc558c55423e64256920780f8278.dl.dropboxusercontent.com/cd/0/inline2/B_vkLsxqPb4w_R9SL06TAbSvrTKdG3T6qckdA2d0GL_T7vwbBosOzU5cG_SgmVZ47iY1a1d0_jx49aereMeax-t9X9aHHLBO1UFncEH5pKOqcU_5ZiNNof7N_cPZ_Rc5u9OTEV6buntw4ByS_xG39WWGM_wFih2uuQMoZad68BCVUf6I7VfucDcejFqQ4IjH7LTzBfwZD47EGHmL3FNXWpffcWTO0N544jON8XwIdlCxNcaGd9uFvZSPiqM2Hf56UZjUaa4TSOT9V_ugvIe7ApsuYcMXperkHBs7HRjS2GmAEYszRQJGFrAaTomulyTF9wnupdcoH1XG9KQQziF88HRTyNw08Vk8FQHlx_erlTr8MQDNpBlnP00rvbjLdMBNLPhQR6rU0gVdsOIy1GXf781cK5dAlgqK9z4qv_sX_FEu-A/file\n",
            "Reusing existing connection to uc558c55423e64256920780f8278.dl.dropboxusercontent.com:443.\n",
            "HTTP request sent, awaiting response... 200 OK\n",
            "Length: 11812930 (11M) [application/zip]\n",
            "Saving to: ‘dataset.zip’\n",
            "\n",
            "dataset.zip         100%[===================>]  11.27M  36.3MB/s    in 0.3s    \n",
            "\n",
            "2023-07-12 12:08:14 (36.3 MB/s) - ‘dataset.zip’ saved [11812930/11812930]\n",
            "\n"
          ]
        }
      ]
    },
    {
      "cell_type": "code",
      "source": [
        "!unzip dataset.zip"
      ],
      "metadata": {
        "id": "YfFaV3lTBZdW"
      },
      "execution_count": null,
      "outputs": []
    },
    {
      "cell_type": "code",
      "source": [
        "device = torch.device(\"cuda\") if torch.cuda.is_available() else torch.device(\"cpu\")"
      ],
      "metadata": {
        "id": "6zBwzk-CBeit"
      },
      "execution_count": 22,
      "outputs": []
    },
    {
      "cell_type": "code",
      "source": [
        "transform = T.Compose([\n",
        "    T.Resize(size=(150,150)),\n",
        "    T.ToTensor()\n",
        "])"
      ],
      "metadata": {
        "id": "bd-LCNCABhbQ"
      },
      "execution_count": 23,
      "outputs": []
    },
    {
      "cell_type": "code",
      "source": [
        "class KompyuterDataset(Dataset):\n",
        "    def __init__(self, path, transform = None):\n",
        "        self.path_list = list(path.glob('*/*.jpg'))\n",
        "        self.transform = transform\n",
        "    def __getitem__(self,index):\n",
        "        img = Image.open(self.path_list[index])\n",
        "        label = (self.path_list[index]).parts[-2]\n",
        "        label = 0 if 'kompiyuter' in label else 1\n",
        "        if transform != None:\n",
        "            img = transform(img)\n",
        "        return img, int(label)\n",
        "    def __len__(self):\n",
        "        return len(self.path_list)"
      ],
      "metadata": {
        "id": "NtBVuoH6Bkuf"
      },
      "execution_count": 24,
      "outputs": []
    },
    {
      "cell_type": "code",
      "source": [
        "train_path = pathlib.Path('/content/Kompiyuter/train')\n",
        "test_path = pathlib.Path('/content/Kompiyuter/validation')"
      ],
      "metadata": {
        "id": "ArV10cESBrZS"
      },
      "execution_count": 25,
      "outputs": []
    },
    {
      "cell_type": "code",
      "source": [
        "train_dataset = KompyuterDataset(train_path, transform)\n",
        "test_dataset = KompyuterDataset(test_path, transform)"
      ],
      "metadata": {
        "id": "u6mDrx4gB2bp"
      },
      "execution_count": 26,
      "outputs": []
    },
    {
      "cell_type": "code",
      "source": [
        "path_list = list(train_path.glob('*/*.jpg'))\n",
        "path_test=list(test_path.glob('*/*.jpg'))"
      ],
      "metadata": {
        "id": "q80wBAFZB51A"
      },
      "execution_count": 27,
      "outputs": []
    },
    {
      "cell_type": "code",
      "source": [
        "train_data = DataLoader(train_dataset, batch_size=50, shuffle=True)\n",
        "test_data = DataLoader(test_dataset, batch_size=2000, shuffle=True)"
      ],
      "metadata": {
        "id": "15a-2rGPB9Ns"
      },
      "execution_count": 28,
      "outputs": []
    },
    {
      "cell_type": "code",
      "source": [
        "class ConvNet(nn.Module):\n",
        "    def __init__(self,num_classes=2):\n",
        "        super(ConvNet,self).__init__()\n",
        "        self.conv1=nn.Conv2d(in_channels=3,out_channels=12,kernel_size=3,stride=1,padding=1)\n",
        "        self.bn1=nn.BatchNorm2d(num_features=12)\n",
        "        self.relu1=nn.ReLU()\n",
        "        self.pool=nn.MaxPool2d(kernel_size=2)\n",
        "        self.conv2=nn.Conv2d(in_channels=12,out_channels=20,kernel_size=3,stride=1,padding=1)\n",
        "        self.relu2=nn.ReLU()\n",
        "        self.conv3=nn.Conv2d(in_channels=20,out_channels=32,kernel_size=3,stride=1,padding=1)\n",
        "        self.bn3=nn.BatchNorm2d(num_features=32)\n",
        "        self.relu3=nn.ReLU()\n",
        "        self.fc=nn.Linear(in_features=75 * 75 * 32,out_features=num_classes)\n",
        "    def forward(self,input):\n",
        "        output=self.conv1(input)\n",
        "        output=self.bn1(output)\n",
        "        output=self.relu1(output)\n",
        "        output=self.pool(output)\n",
        "        output=self.conv2(output)\n",
        "        output=self.relu2(output)\n",
        "        output=self.conv3(output)\n",
        "        output=self.bn3(output)\n",
        "        output=self.relu3(output)\n",
        "        output=output.view(-1,32*75*75)\n",
        "        output=self.fc(output)\n",
        "        return output\n"
      ],
      "metadata": {
        "id": "wsWOohFRCAq-"
      },
      "execution_count": 29,
      "outputs": []
    },
    {
      "cell_type": "code",
      "source": [
        "model=ConvNet()"
      ],
      "metadata": {
        "id": "w8dRQ3ONCDov"
      },
      "execution_count": 30,
      "outputs": []
    },
    {
      "cell_type": "code",
      "source": [
        "learning_rate = 0.001\n",
        "criterion = nn.CrossEntropyLoss()\n",
        "optimizer = torch.optim.Adam(model.parameters(),lr=learning_rate)"
      ],
      "metadata": {
        "id": "XAKd-6SWCGOZ"
      },
      "execution_count": 31,
      "outputs": []
    },
    {
      "cell_type": "code",
      "source": [
        "num_epochs = 5"
      ],
      "metadata": {
        "id": "kJQKM3I5CJNw"
      },
      "execution_count": 32,
      "outputs": []
    },
    {
      "cell_type": "code",
      "source": [
        "class Trainer:\n",
        "    def __init__(self, model, train_dataloader, test_dataloader, criterion, optimizer, epochs=3):\n",
        "        self.model = model\n",
        "        self.train_dataloader = train_dataloader\n",
        "        self.test_dataloader = test_dataloader\n",
        "        self.criterion = criterion\n",
        "        self.optimizer = optimizer\n",
        "        self.epochs = epochs\n",
        "        self.history = {'loss':[],'acc':[],'val_loss':[],'val_acc':[]}\n",
        "    def train_loop(self):\n",
        "        sum_loss = 0\n",
        "        sum_accuracy = 0\n",
        "        n = len(self.train_dataloader)\n",
        "        for i, (data,label) in enumerate(tqdm(self.train_dataloader)):\n",
        "            data = data.to(device)\n",
        "            label = label.to(device)\n",
        "            output = self.model(data)\n",
        "            loss = self.criterion(output, label)\n",
        "            sum_loss += loss.item()\n",
        "            n_corrects = (output.argmax(axis=1)==label).sum().item()\n",
        "            sum_accuracy += n_corrects/label.size(0)\n",
        "            loss.backward()\n",
        "            self.optimizer.step()\n",
        "            self.optimizer.zero_grad()\n",
        "        train_loss = sum_loss/n\n",
        "        train_accuracy = sum_accuracy/n\n",
        "        self.history['loss'].append(train_loss)\n",
        "        self.history['acc'].append(train_accuracy)\n",
        "        return train_loss, train_accuracy\n",
        "    def validation_loop(self):\n",
        "        sum_loss = 0\n",
        "        sum_accuracy = 0\n",
        "        n = len(self.test_dataloader)\n",
        "        for i, (data,label) in enumerate(tqdm(self.test_dataloader)):\n",
        "            data = data.to(device)\n",
        "            label = label.to(device)\n",
        "            output = self.model(data)\n",
        "            loss = self.criterion(output, label)\n",
        "            n_corrects = (output.argmax(axis=1)==label).sum().item()\n",
        "            sum_loss += loss.item()\n",
        "            sum_accuracy += n_corrects/label.size(0)\n",
        "        val_loss = sum_loss/n\n",
        "        val_accuracy = sum_accuracy/n\n",
        "        self.history['val_loss'].append(val_loss)\n",
        "        self.history['val_acc'].append(val_accuracy)\n",
        "        return val_loss, val_accuracy\n",
        "    def train(self):\n",
        "        for epoch in range(num_epochs):\n",
        "            train_loss, train_acc = self.train_loop()\n",
        "            val_loss, val_acc = self.validation_loop()\n",
        "            print()\n",
        "            print(f'Epoch[{epoch+1}/{num_epochs}] \\t train_loss: {train_loss:.5f}, train_acc: {train_acc:.2f} \\t val_loss: {val_loss:.5f} \\t val_acc: {val_acc:.2}')\n"
      ],
      "metadata": {
        "id": "DTeiwZVJCMCu"
      },
      "execution_count": 33,
      "outputs": []
    },
    {
      "cell_type": "code",
      "source": [
        "trainer = Trainer(\n",
        "    model = model.to(device),\n",
        "    train_dataloader = train_data,\n",
        "    test_dataloader = test_data,\n",
        "    criterion=criterion,\n",
        "    optimizer=optimizer\n",
        ")"
      ],
      "metadata": {
        "id": "3IQN7YtHCPC3"
      },
      "execution_count": 34,
      "outputs": []
    },
    {
      "cell_type": "code",
      "source": [
        "trainer.train()"
      ],
      "metadata": {
        "id": "qrRMzS27CSys",
        "colab": {
          "base_uri": "https://localhost:8080/"
        },
        "outputId": "9ec69b3f-67f2-403a-cbd2-d55f3fe5a36d"
      },
      "execution_count": 35,
      "outputs": [
        {
          "output_type": "stream",
          "name": "stderr",
          "text": [
            "100%|██████████| 32/32 [00:41<00:00,  1.29s/it]\n",
            "100%|██████████| 1/1 [00:00<00:00,  5.07it/s]\n"
          ]
        },
        {
          "output_type": "stream",
          "name": "stdout",
          "text": [
            "\n",
            "Epoch[1/5] \t train_loss: 9.36451, train_acc: 0.78 \t val_loss: 6.70759 \t val_acc: 0.6\n"
          ]
        },
        {
          "output_type": "stream",
          "name": "stderr",
          "text": [
            "100%|██████████| 32/32 [00:42<00:00,  1.33s/it]\n",
            "100%|██████████| 1/1 [00:00<00:00,  5.45it/s]\n"
          ]
        },
        {
          "output_type": "stream",
          "name": "stdout",
          "text": [
            "\n",
            "Epoch[2/5] \t train_loss: 0.00180, train_acc: 1.00 \t val_loss: 3.92675 \t val_acc: 0.75\n"
          ]
        },
        {
          "output_type": "stream",
          "name": "stderr",
          "text": [
            "100%|██████████| 32/32 [00:43<00:00,  1.35s/it]\n",
            "100%|██████████| 1/1 [00:00<00:00,  5.41it/s]\n"
          ]
        },
        {
          "output_type": "stream",
          "name": "stdout",
          "text": [
            "\n",
            "Epoch[3/5] \t train_loss: 0.00013, train_acc: 1.00 \t val_loss: 4.72831 \t val_acc: 0.75\n"
          ]
        },
        {
          "output_type": "stream",
          "name": "stderr",
          "text": [
            "100%|██████████| 32/32 [00:43<00:00,  1.35s/it]\n",
            "100%|██████████| 1/1 [00:00<00:00,  5.20it/s]\n"
          ]
        },
        {
          "output_type": "stream",
          "name": "stdout",
          "text": [
            "\n",
            "Epoch[4/5] \t train_loss: 0.00136, train_acc: 1.00 \t val_loss: 3.56377 \t val_acc: 0.75\n"
          ]
        },
        {
          "output_type": "stream",
          "name": "stderr",
          "text": [
            "100%|██████████| 32/32 [00:43<00:00,  1.35s/it]\n",
            "100%|██████████| 1/1 [00:00<00:00,  3.61it/s]"
          ]
        },
        {
          "output_type": "stream",
          "name": "stdout",
          "text": [
            "\n",
            "Epoch[5/5] \t train_loss: 0.00003, train_acc: 1.00 \t val_loss: 5.13183 \t val_acc: 0.75\n"
          ]
        },
        {
          "output_type": "stream",
          "name": "stderr",
          "text": [
            "\n"
          ]
        }
      ]
    },
    {
      "cell_type": "code",
      "source": [
        "test_img,test_label=next(iter(test_data))\n",
        "pred=model(test_img.to(device))\n",
        "pred=pred.argmax(axis=1)\n",
        "pred = pred.detach().cpu()\n",
        "from sklearn.metrics import confusion_matrix\n",
        "print( test_label)\n",
        "cm=confusion_matrix(test_label,pred)\n",
        "print(cm)\n",
        "import seaborn as sns\n",
        "sns.heatmap(cm,annot=True)"
      ],
      "metadata": {
        "id": "YW760-ZaCrzm",
        "colab": {
          "base_uri": "https://localhost:8080/",
          "height": 504
        },
        "outputId": "e5954b57-bde0-4f2f-8ff1-601e622de50b"
      },
      "execution_count": 36,
      "outputs": [
        {
          "output_type": "stream",
          "name": "stdout",
          "text": [
            "tensor([1, 0, 1, 1, 0, 1, 0, 0, 0, 0, 0, 1, 0, 1, 0, 1, 0, 1, 1, 1])\n",
            "[[10  0]\n",
            " [ 5  5]]\n"
          ]
        },
        {
          "output_type": "execute_result",
          "data": {
            "text/plain": [
              "<Axes: >"
            ]
          },
          "metadata": {},
          "execution_count": 36
        },
        {
          "output_type": "display_data",
          "data": {
            "text/plain": [
              "<Figure size 640x480 with 2 Axes>"
            ],
            "image/png": "[encoded data removed]"
          },
          "metadata": {}
        }
      ]
    },
    {
      "cell_type": "markdown",
      "source": [
        "#Teztibbiy yordam va Politsiya moshinalari"
      ],
      "metadata": {
        "id": "naWKZDZ9DdaW"
      }
    },
    {
      "cell_type": "code",
      "source": [
        "! wget -O tezyordam_in_polis.zip https://www.dropbox.com/s/zbrbvyj6la2jivv/Tez_in_polis.zip?dl=0"
      ],
      "metadata": {
        "id": "GdAk39BjDkXE",
        "colab": {
          "base_uri": "https://localhost:8080/"
        },
        "outputId": "31b89705-a240-498f-c863-ac8d9624e181"
      },
      "execution_count": 37,
      "outputs": [
        {
          "output_type": "stream",
          "name": "stdout",
          "text": [
            "--2023-07-12 12:11:50--  https://www.dropbox.com/s/zbrbvyj6la2jivv/Tez_in_polis.zip?dl=0\n",
            "Resolving www.dropbox.com (www.dropbox.com)... 162.125.5.18, 2620:100:601d:18::a27d:512\n",
            "Connecting to www.dropbox.com (www.dropbox.com)|162.125.5.18|:443... connected.\n",
            "HTTP request sent, awaiting response... 302 Found\n",
            "Location: /s/raw/zbrbvyj6la2jivv/Tez_in_polis.zip [following]\n",
            "--2023-07-12 12:11:50--  https://www.dropbox.com/s/raw/zbrbvyj6la2jivv/Tez_in_polis.zip\n",
            "Reusing existing connection to www.dropbox.com:443.\n",
            "HTTP request sent, awaiting response... 302 Found\n",
            "Location: https://uc71193c9e39669071b2cb29cd25.dl.dropboxusercontent.com/cd/0/inline/B_twIkORaDraEcyMwFw9bGSuCNd3SYpl253MA8fNCoEL0B8bY4EZZUDSVYNqsDdvkrOO6OykULpAbX28r9Iqc5Ism8Tv_6NY2XvBzTL-kfKlpr-Ll3KnekM-q-b9qV8JlThQDUSicpUAbGsieRYWssY7XbIBqNyEoQJak5lZ4B767w/file# [following]\n",
            "--2023-07-12 12:11:51--  https://uc71193c9e39669071b2cb29cd25.dl.dropboxusercontent.com/cd/0/inline/B_twIkORaDraEcyMwFw9bGSuCNd3SYpl253MA8fNCoEL0B8bY4EZZUDSVYNqsDdvkrOO6OykULpAbX28r9Iqc5Ism8Tv_6NY2XvBzTL-kfKlpr-Ll3KnekM-q-b9qV8JlThQDUSicpUAbGsieRYWssY7XbIBqNyEoQJak5lZ4B767w/file\n",
            "Resolving uc71193c9e39669071b2cb29cd25.dl.dropboxusercontent.com (uc71193c9e39669071b2cb29cd25.dl.dropboxusercontent.com)... 162.125.5.15, 2620:100:601d:15::a27d:50f\n",
            "Connecting to uc71193c9e39669071b2cb29cd25.dl.dropboxusercontent.com (uc71193c9e39669071b2cb29cd25.dl.dropboxusercontent.com)|162.125.5.15|:443... connected.\n",
            "HTTP request sent, awaiting response... 302 Found\n",
            "Location: /cd/0/inline2/B_vIOUF_vl5acKgFMLCjA0O6xi82go-84EJOSwF8BLEslGXgYsVspImz-sRnrTHcnqj6RZjksWmED__yIlBm42Qycg7YrC3rTWploQmLKwV9aF4RIP7Bctj4L5iOpG61K9isev2aPrNOfRcqO6kkwDEScMlOEpl0ijklr4YpvIC1MN77ViQ5RNFTc07OXwTl5PupOFKwNJT9e769ZZ05BYsX9LbZcV00sAeQC6yZpa7J3KgstJMxO7pL7paTbpqYdDeVWlMQhmKiAVM7jq7zP07e1V6TYF9Qm0axCauZt_c4iFEjUrVM4mcqCrsCn1KRp4VVcjo5E2AXcr5X1rwzLbkdrrxjaNteZYrg5J4et6oanR3GNorzAA9M_q5-fdUFhDyMnpXWthJ5Mgom_hFYozbLSqdLO7FzTMUdxVjalILrcw/file [following]\n",
            "--2023-07-12 12:11:51--  https://uc71193c9e39669071b2cb29cd25.dl.dropboxusercontent.com/cd/0/inline2/B_vIOUF_vl5acKgFMLCjA0O6xi82go-84EJOSwF8BLEslGXgYsVspImz-sRnrTHcnqj6RZjksWmED__yIlBm42Qycg7YrC3rTWploQmLKwV9aF4RIP7Bctj4L5iOpG61K9isev2aPrNOfRcqO6kkwDEScMlOEpl0ijklr4YpvIC1MN77ViQ5RNFTc07OXwTl5PupOFKwNJT9e769ZZ05BYsX9LbZcV00sAeQC6yZpa7J3KgstJMxO7pL7paTbpqYdDeVWlMQhmKiAVM7jq7zP07e1V6TYF9Qm0axCauZt_c4iFEjUrVM4mcqCrsCn1KRp4VVcjo5E2AXcr5X1rwzLbkdrrxjaNteZYrg5J4et6oanR3GNorzAA9M_q5-fdUFhDyMnpXWthJ5Mgom_hFYozbLSqdLO7FzTMUdxVjalILrcw/file\n",
            "Reusing existing connection to uc71193c9e39669071b2cb29cd25.dl.dropboxusercontent.com:443.\n",
            "HTTP request sent, awaiting response... 200 OK\n",
            "Length: 25138312 (24M) [application/zip]\n",
            "Saving to: ‘tezyordam_in_polis.zip’\n",
            "\n",
            "tezyordam_in_polis. 100%[===================>]  23.97M  53.3MB/s    in 0.4s    \n",
            "\n",
            "2023-07-12 12:11:53 (53.3 MB/s) - ‘tezyordam_in_polis.zip’ saved [25138312/25138312]\n",
            "\n"
          ]
        }
      ]
    },
    {
      "cell_type": "code",
      "source": [
        "!unzip tezyordam_in_polis.zip"
      ],
      "metadata": {
        "id": "7XhLloatD4Vj"
      },
      "execution_count": null,
      "outputs": []
    },
    {
      "cell_type": "code",
      "source": [
        "device = torch.device(\"cuda\") if torch.cuda.is_available() else torch.device(\"cpu\")"
      ],
      "metadata": {
        "id": "n1JW-SCsD__H"
      },
      "execution_count": 39,
      "outputs": []
    },
    {
      "cell_type": "code",
      "source": [
        "transform = T.Compose([\n",
        "    T.Resize(size=(150,150)),\n",
        "    T.ToTensor()\n",
        "])"
      ],
      "metadata": {
        "id": "rcLo7FUDEFt-"
      },
      "execution_count": 40,
      "outputs": []
    },
    {
      "cell_type": "code",
      "source": [
        "class Tez_in_pol_Dataset(Dataset):\n",
        "    def __init__(self, path, transform = None):\n",
        "        self.path_list = list(path.glob('*/*.jpg'))\n",
        "        self.transform = transform\n",
        "    def __getitem__(self,index):\n",
        "        img = Image.open(self.path_list[index])\n",
        "        label = (self.path_list[index]).parts[-2]\n",
        "        label = 0 if 'Polis' in label else 1\n",
        "        if transform != None:\n",
        "            img = transform(img)\n",
        "        return img, int(label)\n",
        "    def __len__(self):\n",
        "        return len(self.path_list)"
      ],
      "metadata": {
        "id": "l0uR7vxFEFrh"
      },
      "execution_count": 41,
      "outputs": []
    },
    {
      "cell_type": "code",
      "source": [
        "train_path = pathlib.Path('/content/Tez_in_polis/tren')\n",
        "test_path = pathlib.Path('/content/Tez_in_polis/test')"
      ],
      "metadata": {
        "id": "-T-2C8ylEjbW"
      },
      "execution_count": 42,
      "outputs": []
    },
    {
      "cell_type": "code",
      "source": [
        "train_dataset = Tez_in_pol_Dataset(train_path, transform)\n",
        "test_dataset = Tez_in_pol_Dataset(test_path, transform)"
      ],
      "metadata": {
        "id": "UqQ6Q12vEjbf"
      },
      "execution_count": 43,
      "outputs": []
    },
    {
      "cell_type": "code",
      "source": [
        "path_list = list(train_path.glob('*/*.jpg'))\n",
        "path_test=list(test_path.glob('*/*.jpg'))"
      ],
      "metadata": {
        "id": "ne7ocsEsEjbf"
      },
      "execution_count": 44,
      "outputs": []
    },
    {
      "cell_type": "code",
      "source": [
        "train_data = DataLoader(train_dataset, batch_size=10, shuffle=True)\n",
        "test_data = DataLoader(test_dataset, batch_size=5000, shuffle=True)"
      ],
      "metadata": {
        "id": "XS_DmayMEjbf"
      },
      "execution_count": 45,
      "outputs": []
    },
    {
      "cell_type": "code",
      "source": [
        "class ConvNet(nn.Module):\n",
        "    def __init__(self,num_classes=2):\n",
        "        super(ConvNet,self).__init__()\n",
        "        self.conv1=nn.Conv2d(in_channels=3,out_channels=12,kernel_size=3,stride=1,padding=1)\n",
        "        self.bn1=nn.BatchNorm2d(num_features=12)\n",
        "        self.relu1=nn.ReLU()\n",
        "        self.pool=nn.MaxPool2d(kernel_size=2)\n",
        "        self.conv2=nn.Conv2d(in_channels=12,out_channels=20,kernel_size=3,stride=1,padding=1)\n",
        "        self.relu2=nn.ReLU()\n",
        "\n",
        "        self.conv3=nn.Conv2d(in_channels=20,out_channels=32,kernel_size=3,stride=1,padding=1)\n",
        "        self.bn3=nn.BatchNorm2d(num_features=32)\n",
        "        self.relu3=nn.ReLU()\n",
        "\n",
        "        self.fc=nn.Linear(in_features=75 * 75 * 32,out_features=num_classes)\n",
        "\n",
        "    def forward(self,input):\n",
        "        output=self.conv1(input)\n",
        "        output=self.bn1(output)\n",
        "        output=self.relu1(output)\n",
        "        output=self.pool(output)\n",
        "        output=self.conv2(output)\n",
        "        output=self.relu2(output)\n",
        "        output=self.conv3(output)\n",
        "        output=self.bn3(output)\n",
        "        output=self.relu3(output)\n",
        "        output=output.view(-1,32*75*75)\n",
        "        output=self.fc(output)\n",
        "        return output\n"
      ],
      "metadata": {
        "id": "SZDdXJDnEjbg"
      },
      "execution_count": 46,
      "outputs": []
    },
    {
      "cell_type": "code",
      "source": [
        "model=ConvNet()"
      ],
      "metadata": {
        "id": "sFU0jPnREjbg"
      },
      "execution_count": 47,
      "outputs": []
    },
    {
      "cell_type": "code",
      "source": [
        "learning_rate = 0.001\n",
        "criterion = nn.CrossEntropyLoss()\n",
        "optimizer = torch.optim.Adam(model.parameters(),lr=learning_rate)"
      ],
      "metadata": {
        "id": "MnGbkWI_Ejbg"
      },
      "execution_count": 48,
      "outputs": []
    },
    {
      "cell_type": "code",
      "source": [
        "num_epochs = 5"
      ],
      "metadata": {
        "id": "DbVyOQRAEjbg"
      },
      "execution_count": 49,
      "outputs": []
    },
    {
      "cell_type": "code",
      "source": [
        "class Trainer:\n",
        "    def __init__(self, model, train_dataloader, test_dataloader, criterion, optimizer, epochs=3):\n",
        "        self.model = model\n",
        "        self.train_dataloader = train_dataloader\n",
        "        self.test_dataloader = test_dataloader\n",
        "        self.criterion = criterion\n",
        "        self.optimizer = optimizer\n",
        "\n",
        "        self.epochs = epochs\n",
        "        self.history = {'loss':[],'acc':[],'val_loss':[],'val_acc':[]}\n",
        "    def train_loop(self):\n",
        "        sum_loss = 0\n",
        "        sum_accuracy = 0\n",
        "        n = len(self.train_dataloader)\n",
        "        for i, (data,label) in enumerate(tqdm(self.train_dataloader)):\n",
        "            data = data.to(device)\n",
        "            label = label.to(device)\n",
        "            output = self.model(data)\n",
        "            loss = self.criterion(output, label)\n",
        "            sum_loss += loss.item()\n",
        "            n_corrects = (output.argmax(axis=1)==label).sum().item()\n",
        "            sum_accuracy += n_corrects/label.size(0)\n",
        "            loss.backward()\n",
        "            self.optimizer.step()\n",
        "            self.optimizer.zero_grad()\n",
        "        train_loss = sum_loss/n\n",
        "        train_accuracy = sum_accuracy/n\n",
        "        self.history['loss'].append(train_loss)\n",
        "        self.history['acc'].append(train_accuracy)\n",
        "        return train_loss, train_accuracy\n",
        "    def validation_loop(self):\n",
        "        sum_loss = 0\n",
        "        sum_accuracy = 0\n",
        "        n = len(self.test_dataloader)\n",
        "        for i, (data,label) in enumerate(tqdm(self.test_dataloader)):\n",
        "            data = data.to(device)\n",
        "            label = label.to(device)\n",
        "            output = self.model(data)\n",
        "            loss = self.criterion(output, label)\n",
        "            n_corrects = (output.argmax(axis=1)==label).sum().item()\n",
        "            sum_loss += loss.item()\n",
        "            sum_accuracy += n_corrects/label.size(0)\n",
        "        val_loss = sum_loss/n\n",
        "        val_accuracy = sum_accuracy/n\n",
        "        self.history['val_loss'].append(val_loss)\n",
        "        self.history['val_acc'].append(val_accuracy)\n",
        "        return val_loss, val_accuracy\n",
        "    def train(self):\n",
        "        for epoch in range(num_epochs):\n",
        "            train_loss, train_acc = self.train_loop()\n",
        "            val_loss, val_acc = self.validation_loop()\n",
        "            print()\n",
        "            print(f'Epoch[{epoch+1}/{num_epochs}] \\t train_loss: {train_loss:.5f}, train_acc: {train_acc:.2f} \\t val_loss: {val_loss:.5f} \\t val_acc: {val_acc:.2}')\n"
      ],
      "metadata": {
        "id": "9x10tvyWGIEU"
      },
      "execution_count": 50,
      "outputs": []
    },
    {
      "cell_type": "code",
      "source": [
        "trainer = Trainer(\n",
        "    model = model.to(device),\n",
        "    train_dataloader = train_data,\n",
        "    test_dataloader = test_data,\n",
        "    criterion=criterion,\n",
        "    optimizer=optimizer\n",
        ")"
      ],
      "metadata": {
        "id": "M0fjrTsWGcbZ"
      },
      "execution_count": 51,
      "outputs": []
    },
    {
      "cell_type": "code",
      "source": [
        "trainer.train()"
      ],
      "metadata": {
        "id": "t-_p_-qQGfZI",
        "colab": {
          "base_uri": "https://localhost:8080/"
        },
        "outputId": "3f97c38a-7ee1-4594-ab12-a029931e8046"
      },
      "execution_count": 52,
      "outputs": [
        {
          "output_type": "stream",
          "name": "stderr",
          "text": [
            "100%|██████████| 240/240 [00:51<00:00,  4.62it/s]\n",
            "100%|██████████| 1/1 [00:01<00:00,  1.51s/it]\n"
          ]
        },
        {
          "output_type": "stream",
          "name": "stdout",
          "text": [
            "\n",
            "Epoch[1/5] \t train_loss: 2.80982, train_acc: 0.88 \t val_loss: 2.49112 \t val_acc: 0.92\n"
          ]
        },
        {
          "output_type": "stream",
          "name": "stderr",
          "text": [
            "100%|██████████| 240/240 [01:03<00:00,  3.75it/s]\n",
            "100%|██████████| 1/1 [00:00<00:00,  1.25it/s]\n"
          ]
        },
        {
          "output_type": "stream",
          "name": "stdout",
          "text": [
            "\n",
            "Epoch[2/5] \t train_loss: 0.13466, train_acc: 0.99 \t val_loss: 2.66506 \t val_acc: 0.93\n"
          ]
        },
        {
          "output_type": "stream",
          "name": "stderr",
          "text": [
            "100%|██████████| 240/240 [01:03<00:00,  3.76it/s]\n",
            "100%|██████████| 1/1 [00:00<00:00,  1.29it/s]\n"
          ]
        },
        {
          "output_type": "stream",
          "name": "stdout",
          "text": [
            "\n",
            "Epoch[3/5] \t train_loss: 0.09514, train_acc: 0.99 \t val_loss: 2.28523 \t val_acc: 0.87\n"
          ]
        },
        {
          "output_type": "stream",
          "name": "stderr",
          "text": [
            "100%|██████████| 240/240 [01:19<00:00,  3.01it/s]\n",
            "100%|██████████| 1/1 [00:00<00:00,  1.29it/s]\n"
          ]
        },
        {
          "output_type": "stream",
          "name": "stdout",
          "text": [
            "\n",
            "Epoch[4/5] \t train_loss: 0.20284, train_acc: 0.99 \t val_loss: 4.42426 \t val_acc: 0.87\n"
          ]
        },
        {
          "output_type": "stream",
          "name": "stderr",
          "text": [
            "100%|██████████| 240/240 [02:18<00:00,  1.73it/s]\n",
            "100%|██████████| 1/1 [00:00<00:00,  1.29it/s]"
          ]
        },
        {
          "output_type": "stream",
          "name": "stdout",
          "text": [
            "\n",
            "Epoch[5/5] \t train_loss: 0.17496, train_acc: 0.99 \t val_loss: 4.63826 \t val_acc: 0.87\n"
          ]
        },
        {
          "output_type": "stream",
          "name": "stderr",
          "text": [
            "\n"
          ]
        }
      ]
    },
    {
      "cell_type": "code",
      "source": [
        "test_img,test_label=next(iter(test_data))\n",
        "pred=model(test_img.to(device))\n",
        "pred=pred.argmax(axis=1)\n",
        "pred = pred.detach().cpu()\n",
        "from sklearn.metrics import confusion_matrix\n",
        "print( test_label)\n",
        "cm=confusion_matrix(test_label,pred)\n",
        "print(cm)\n",
        "import seaborn as sns\n",
        "sns.heatmap(cm,annot=True)"
      ],
      "metadata": {
        "id": "BshqHxfqGicO",
        "colab": {
          "base_uri": "https://localhost:8080/",
          "height": 534
        },
        "outputId": "18da4f1f-d592-4441-aeef-04708ddfacb4"
      },
      "execution_count": 53,
      "outputs": [
        {
          "output_type": "stream",
          "name": "stdout",
          "text": [
            "tensor([1, 1, 1, 0, 0, 1, 1, 1, 1, 0, 1, 0, 0, 1, 1, 1, 1, 0, 1, 1, 0, 1, 0, 1,\n",
            "        1, 0, 1, 1, 0, 0, 1, 1, 0, 0, 0, 0, 1, 0, 0, 0, 1, 1, 0, 0, 1, 0, 0, 0,\n",
            "        0, 1, 1, 0, 1, 0, 0, 0, 0, 0, 1, 1])\n",
            "[[27  3]\n",
            " [ 5 25]]\n"
          ]
        },
        {
          "output_type": "execute_result",
          "data": {
            "text/plain": [
              "<Axes: >"
            ]
          },
          "metadata": {},
          "execution_count": 53
        },
        {
          "output_type": "display_data",
          "data": {
            "text/plain": [
              "<Figure size 640x480 with 2 Axes>"
            ],
            "image/png": "[encoded data removed]"
          },
          "metadata": {}
        }
      ]
    }
  ]
}