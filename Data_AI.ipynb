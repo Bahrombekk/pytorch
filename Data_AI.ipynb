{
  "nbformat": 4,
  "nbformat_minor": 0,
  "metadata": {
    "colab": {
      "provenance": [],
      "authorship_tag": "ABX9TyP/W/Bm2GiqDLLM0/8kNPR0",
      "include_colab_link": true
    },
    "kernelspec": {
      "name": "python3",
      "display_name": "Python 3"
    },
    "language_info": {
      "name": "python"
    }
  },
  "cells": [
    {
      "cell_type": "markdown",
      "metadata": {
        "id": "view-in-github",
        "colab_type": "text"
      },
      "source": [
        "<a href=\"https://colab.research.google.com/github/Bahrombekk/pytorch/blob/main/Data_AI.ipynb\" target=\"_parent\"><img src=\"https://colab.research.google.com/assets/colab-badge.svg\" alt=\"Open In Colab\"/></a>"
      ]
    },
    {
      "cell_type": "code",
      "execution_count": 1,
      "metadata": {
        "id": "o8clW6w6xcOp"
      },
      "outputs": [],
      "source": [
        "import torch\n",
        "import torch.nn as nn\n",
        "from torch.utils.data import Dataset,DataLoader,random_split\n",
        "import torch.nn.functional as F\n",
        "import glob\n",
        "\n",
        "from tqdm import tqdm\n",
        "import numpy as np\n",
        "import matplotlib.pyplot as plt\n",
        "from sklearn.metrics import accuracy_score\n",
        "# from torchinfo import summary\n",
        "from torchsummary import summary\n",
        "import pathlib\n",
        "from PIL import Image\n",
        "from torchvision.transforms import transforms\n",
        "from torch.optim import Adam\n",
        "\n",
        "import torchvision.transforms as T"
      ]
    },
    {
      "cell_type": "code",
      "source": [
        "!pip install torchinfo"
      ],
      "metadata": {
        "colab": {
          "base_uri": "https://localhost:8080/"
        },
        "id": "9hnVo-xfxeYq",
        "outputId": "16c76950-02f2-4d2f-e307-8cb7fae25f7e"
      },
      "execution_count": 2,
      "outputs": [
        {
          "output_type": "stream",
          "name": "stdout",
          "text": [
            "Collecting torchinfo\n",
            "  Downloading torchinfo-1.8.0-py3-none-any.whl (23 kB)\n",
            "Installing collected packages: torchinfo\n",
            "Successfully installed torchinfo-1.8.0\n"
          ]
        }
      ]
    },
    {
      "cell_type": "code",
      "source": [
        "! wget -O dataset.zip https://www.dropbox.com/s/e5f4epncmydijrw/Komp_in_tel.zip?dl=0"
      ],
      "metadata": {
        "colab": {
          "base_uri": "https://localhost:8080/"
        },
        "id": "TngDOzw5xjhe",
        "outputId": "1e512d15-b9bf-4bb9-e8a2-3a82d1642e4c"
      },
      "execution_count": 3,
      "outputs": [
        {
          "output_type": "stream",
          "name": "stdout",
          "text": [
            "--2023-07-09 16:38:38--  https://www.dropbox.com/s/e5f4epncmydijrw/Komp_in_tel.zip?dl=0\n",
            "Resolving www.dropbox.com (www.dropbox.com)... 162.125.71.18, 2620:100:6021:18::a27d:4112\n",
            "Connecting to www.dropbox.com (www.dropbox.com)|162.125.71.18|:443... connected.\n",
            "HTTP request sent, awaiting response... 302 Found\n",
            "Location: /s/raw/e5f4epncmydijrw/Komp_in_tel.zip [following]\n",
            "--2023-07-09 16:38:38--  https://www.dropbox.com/s/raw/e5f4epncmydijrw/Komp_in_tel.zip\n",
            "Reusing existing connection to www.dropbox.com:443.\n",
            "HTTP request sent, awaiting response... 302 Found\n",
            "Location: https://uc24a0f1a2652a6206f02413f273.dl.dropboxusercontent.com/cd/0/inline/B_j4B7cZA4JpwvNP_dEz1SInk6zyJ_FRCj5Q864Qdcgx_MgNOm-0TyS-n3i-_g5UJpQJCKMEOAicWQGTDRF2fkuvbXXWUOE_Qz-mJEMkVXeWt87Iy61JGcRnbYNWoOCUobZqvXYV-3-k9pnMHLQQIjehhFHAh7TLG3dnwN0-2K4tmw/file# [following]\n",
            "--2023-07-09 16:38:39--  https://uc24a0f1a2652a6206f02413f273.dl.dropboxusercontent.com/cd/0/inline/B_j4B7cZA4JpwvNP_dEz1SInk6zyJ_FRCj5Q864Qdcgx_MgNOm-0TyS-n3i-_g5UJpQJCKMEOAicWQGTDRF2fkuvbXXWUOE_Qz-mJEMkVXeWt87Iy61JGcRnbYNWoOCUobZqvXYV-3-k9pnMHLQQIjehhFHAh7TLG3dnwN0-2K4tmw/file\n",
            "Resolving uc24a0f1a2652a6206f02413f273.dl.dropboxusercontent.com (uc24a0f1a2652a6206f02413f273.dl.dropboxusercontent.com)... 162.125.65.15, 2620:100:6021:15::a27d:410f\n",
            "Connecting to uc24a0f1a2652a6206f02413f273.dl.dropboxusercontent.com (uc24a0f1a2652a6206f02413f273.dl.dropboxusercontent.com)|162.125.65.15|:443... connected.\n",
            "HTTP request sent, awaiting response... 302 Found\n",
            "Location: /cd/0/inline2/B_jB-XC-cAhgPUZFq5DgxQSl1SeKgTywvXbeiUKmE7NM6rNDeYh2QfjvTR4oZ03XcPH0dHNMSoR3ab5mGJxNQEeIBeXhih-qj_E3LhkFJ_VLmUgwpXhClVnXA08YZ-Ms9BQnvHcxa8I5QG6McIF6763wiIyNP2bAdFdi61POkZblrZNgfO-2pXxZnoND61XNiJkbM_XzbqnysDEVr5Q5zn8xH--wLdqyocAfIa1ck8Grc_P7_AYeRiLuHA6WhuT4v_O2Q_CjC5vXXwUJ-UtAhv-NeoARx2jrJvQgZfx_jAtpb-3sTeedn2AWngEcqEg1iRN5L_E8ZioNia_GNgbpfO58kUu05qBiz8S8y-CLqs9xSmxU2ZYQxMhxWTXyfpmz28CeBwq7UYS0MdGXUE8U_vZluTIUHqJYSeVs5MlOfYNjng/file [following]\n",
            "--2023-07-09 16:38:39--  https://uc24a0f1a2652a6206f02413f273.dl.dropboxusercontent.com/cd/0/inline2/B_jB-XC-cAhgPUZFq5DgxQSl1SeKgTywvXbeiUKmE7NM6rNDeYh2QfjvTR4oZ03XcPH0dHNMSoR3ab5mGJxNQEeIBeXhih-qj_E3LhkFJ_VLmUgwpXhClVnXA08YZ-Ms9BQnvHcxa8I5QG6McIF6763wiIyNP2bAdFdi61POkZblrZNgfO-2pXxZnoND61XNiJkbM_XzbqnysDEVr5Q5zn8xH--wLdqyocAfIa1ck8Grc_P7_AYeRiLuHA6WhuT4v_O2Q_CjC5vXXwUJ-UtAhv-NeoARx2jrJvQgZfx_jAtpb-3sTeedn2AWngEcqEg1iRN5L_E8ZioNia_GNgbpfO58kUu05qBiz8S8y-CLqs9xSmxU2ZYQxMhxWTXyfpmz28CeBwq7UYS0MdGXUE8U_vZluTIUHqJYSeVs5MlOfYNjng/file\n",
            "Reusing existing connection to uc24a0f1a2652a6206f02413f273.dl.dropboxusercontent.com:443.\n",
            "HTTP request sent, awaiting response... 200 OK\n",
            "Length: 1525693 (1.5M) [application/zip]\n",
            "Saving to: ‘dataset.zip’\n",
            "\n",
            "dataset.zip         100%[===================>]   1.45M  --.-KB/s    in 0.1s    \n",
            "\n",
            "2023-07-09 16:38:40 (12.0 MB/s) - ‘dataset.zip’ saved [1525693/1525693]\n",
            "\n"
          ]
        }
      ]
    },
    {
      "cell_type": "code",
      "source": [
        "!unzip dataset.zip"
      ],
      "metadata": {
        "id": "WyA0sJEVxmsk"
      },
      "execution_count": null,
      "outputs": []
    },
    {
      "cell_type": "code",
      "source": [
        "device = torch.device(\"cuda\") if torch.cuda.is_available() else torch.device(\"cpu\")"
      ],
      "metadata": {
        "id": "uzXp7Xw3xpvE"
      },
      "execution_count": 55,
      "outputs": []
    },
    {
      "cell_type": "code",
      "source": [
        "transform = T.Compose([\n",
        "    T.Resize(size=(150,150)),\n",
        "    T.ToTensor()\n",
        "])"
      ],
      "metadata": {
        "id": "Rlmw35C7xrtm"
      },
      "execution_count": 56,
      "outputs": []
    },
    {
      "cell_type": "code",
      "source": [
        "class KOMP_in_tel_Dataset(Dataset):\n",
        "\n",
        "    def __init__(self, path, transform = None):\n",
        "        # int for cross entryp loss\n",
        "        self.path_list = list(path.glob('*/*.jpg'))\n",
        "        self.transform = transform\n",
        "\n",
        "    def __getitem__(self,index):\n",
        "        img = Image.open(self.path_list[index])\n",
        "        label = (self.path_list[index]).parts[-2]\n",
        "        label = 0 if 'kompiyuter' in label else 1\n",
        "        if transform != None:\n",
        "            img = transform(img)\n",
        "\n",
        "        return img, int(label)\n",
        "\n",
        "    def __len__(self):\n",
        "        return len(self.path_list)"
      ],
      "metadata": {
        "id": "YGFfUzeIxt_s"
      },
      "execution_count": 71,
      "outputs": []
    },
    {
      "cell_type": "code",
      "source": [
        "train_path = pathlib.Path('/content/Komp_in_tel/train')\n",
        "test_path = pathlib.Path('/content/Komp_in_tel/validation')"
      ],
      "metadata": {
        "id": "X7CNq4uOxwg6"
      },
      "execution_count": 72,
      "outputs": []
    },
    {
      "cell_type": "code",
      "source": [
        "train_dataset = KOMP_in_tel_Dataset(train_path, transform)\n",
        "test_dataset = KOMP_in_tel_Dataset(test_path, transform)"
      ],
      "metadata": {
        "id": "h3BnAV1YxzQf"
      },
      "execution_count": 73,
      "outputs": []
    },
    {
      "cell_type": "code",
      "source": [
        "path_list = list(train_path.glob('*/*.jpg'))\n",
        "path_test=list(test_path.glob('*/*.jpg'))"
      ],
      "metadata": {
        "id": "DBTR8rRdx2eg"
      },
      "execution_count": 74,
      "outputs": []
    },
    {
      "cell_type": "code",
      "source": [
        "train_data = DataLoader(train_dataset, batch_size=10, shuffle=True)\n",
        "test_data = DataLoader(test_dataset, batch_size=10, shuffle=True)"
      ],
      "metadata": {
        "id": "4XGcRylJx4mA"
      },
      "execution_count": 75,
      "outputs": []
    },
    {
      "cell_type": "code",
      "source": [
        "class ConvNet(nn.Module):\n",
        "    def __init__(self,num_classes=2):\n",
        "        super(ConvNet,self).__init__()\n",
        "\n",
        "        #Output size after convolution filter\n",
        "        #((w-f+2P)/s) +1\n",
        "\n",
        "        #Input shape= (256,3,150,150)\n",
        "\n",
        "        self.conv1=nn.Conv2d(in_channels=3,out_channels=12,kernel_size=3,stride=1,padding=1)\n",
        "        #Shape= (256,12,150,150)\n",
        "        self.bn1=nn.BatchNorm2d(num_features=12)\n",
        "        #Shape= (256,12,150,150)\n",
        "        self.relu1=nn.ReLU()\n",
        "        #Shape= (256,12,150,150)\n",
        "\n",
        "        self.pool=nn.MaxPool2d(kernel_size=2)\n",
        "        #Reduce the image size be factor 2\n",
        "        #Shape= (256,12,75,75)\n",
        "\n",
        "        self.conv2=nn.Conv2d(in_channels=12,out_channels=20,kernel_size=3,stride=1,padding=1)\n",
        "        #Shape= (256,20,75,75)\n",
        "        self.relu2=nn.ReLU()\n",
        "        #Shape= (256,20,75,75)\n",
        "\n",
        "        self.conv3=nn.Conv2d(in_channels=20,out_channels=32,kernel_size=3,stride=1,padding=1)\n",
        "        #Shape= (256,32,75,75)\n",
        "        self.bn3=nn.BatchNorm2d(num_features=32)\n",
        "        #Shape= (256,32,75,75)\n",
        "        self.relu3=nn.ReLU()\n",
        "        #Shape= (256,32,75,75)\n",
        "\n",
        "        self.fc=nn.Linear(in_features=75 * 75 * 32,out_features=num_classes)\n",
        "\n",
        "        #Feed forwad function\n",
        "\n",
        "    def forward(self,input):\n",
        "        output=self.conv1(input)\n",
        "        output=self.bn1(output)\n",
        "        output=self.relu1(output)\n",
        "\n",
        "        output=self.pool(output)\n",
        "\n",
        "        output=self.conv2(output)\n",
        "        output=self.relu2(output)\n",
        "\n",
        "        output=self.conv3(output)\n",
        "        output=self.bn3(output)\n",
        "        output=self.relu3(output)\n",
        "\n",
        "        #Above output will be in matrix form, with shape (256,32,75,75)\n",
        "\n",
        "        output=output.view(-1,32*75*75)\n",
        "\n",
        "        output=self.fc(output)\n",
        "\n",
        "        return output\n"
      ],
      "metadata": {
        "id": "D9VmiQWPx7MS"
      },
      "execution_count": 76,
      "outputs": []
    },
    {
      "cell_type": "code",
      "source": [
        "model=ConvNet()"
      ],
      "metadata": {
        "id": "vQrWdwHtx9Cj"
      },
      "execution_count": 77,
      "outputs": []
    },
    {
      "cell_type": "code",
      "source": [
        "learning_rate = 0.001\n",
        "criterion = nn.CrossEntropyLoss()\n",
        "optimizer = torch.optim.Adam(model.parameters(),lr=learning_rate)"
      ],
      "metadata": {
        "id": "zeOD66KsyAGI"
      },
      "execution_count": 78,
      "outputs": []
    },
    {
      "cell_type": "code",
      "source": [
        "num_epochs = 5"
      ],
      "metadata": {
        "id": "gCcbdCj2yCWM"
      },
      "execution_count": 79,
      "outputs": []
    },
    {
      "cell_type": "code",
      "source": [
        "class Trainer:\n",
        "    def __init__(self, model, train_dataloader, test_dataloader, criterion, optimizer, epochs=3):\n",
        "        self.model = model\n",
        "        self.train_dataloader = train_dataloader\n",
        "        self.test_dataloader = test_dataloader\n",
        "        self.criterion = criterion\n",
        "        self.optimizer = optimizer\n",
        "\n",
        "        self.epochs = epochs\n",
        "        self.history = {'loss':[],'acc':[],'val_loss':[],'val_acc':[]}\n",
        "\n",
        "    def train_loop(self):\n",
        "        sum_loss = 0\n",
        "        sum_accuracy = 0\n",
        "        n = len(self.train_dataloader)\n",
        "        for i, (data,label) in enumerate(tqdm(self.train_dataloader)):\n",
        "            data = data.to(device)\n",
        "            label = label.to(device)\n",
        "            # prediction model\n",
        "            output = self.model(data)\n",
        "            # find loss\n",
        "            loss = self.criterion(output, label)\n",
        "\n",
        "            sum_loss += loss.item()\n",
        "            n_corrects = (output.argmax(axis=1)==label).sum().item()\n",
        "            sum_accuracy += n_corrects/label.size(0)\n",
        "\n",
        "            loss.backward()\n",
        "            self.optimizer.step()\n",
        "            self.optimizer.zero_grad()\n",
        "\n",
        "\n",
        "        train_loss = sum_loss/n\n",
        "        train_accuracy = sum_accuracy/n\n",
        "\n",
        "        self.history['loss'].append(train_loss)\n",
        "        self.history['acc'].append(train_accuracy)\n",
        "\n",
        "        return train_loss, train_accuracy\n",
        "\n",
        "    def validation_loop(self):\n",
        "        sum_loss = 0\n",
        "        sum_accuracy = 0\n",
        "        n = len(self.test_dataloader)\n",
        "        for i, (data,label) in enumerate(tqdm(self.test_dataloader)):\n",
        "            data = data.to(device)\n",
        "            label = label.to(device)\n",
        "            # prediction model\n",
        "            output = self.model(data)\n",
        "            # find loss\n",
        "            loss = self.criterion(output, label)\n",
        "            n_corrects = (output.argmax(axis=1)==label).sum().item()\n",
        "\n",
        "            sum_loss += loss.item()\n",
        "            sum_accuracy += n_corrects/label.size(0)\n",
        "\n",
        "        val_loss = sum_loss/n\n",
        "        val_accuracy = sum_accuracy/n\n",
        "\n",
        "        self.history['val_loss'].append(val_loss)\n",
        "        self.history['val_acc'].append(val_accuracy)\n",
        "\n",
        "        return val_loss, val_accuracy\n",
        "\n",
        "    def train(self):\n",
        "        for epoch in range(num_epochs):\n",
        "            train_loss, train_acc = self.train_loop()\n",
        "            val_loss, val_acc = self.validation_loop()\n",
        "            print()\n",
        "            print(f'Epoch[{epoch+1}/{num_epochs}] \\t train_loss: {train_loss:.5f}, train_acc: {train_acc:.2f} \\t val_loss: {val_loss:.5f} \\t val_acc: {val_acc:.2}')\n"
      ],
      "metadata": {
        "id": "CCn78OVRyEvV"
      },
      "execution_count": 80,
      "outputs": []
    },
    {
      "cell_type": "code",
      "source": [
        "trainer = Trainer(\n",
        "    model = model.to(device),\n",
        "    train_dataloader = train_data,\n",
        "    test_dataloader = test_data,\n",
        "    criterion=criterion,\n",
        "    optimizer=optimizer\n",
        ")"
      ],
      "metadata": {
        "id": "wqLTDKKmyHi-"
      },
      "execution_count": 81,
      "outputs": []
    },
    {
      "cell_type": "code",
      "source": [
        "trainer.train()"
      ],
      "metadata": {
        "colab": {
          "base_uri": "https://localhost:8080/"
        },
        "id": "4nT_LgCYyJy2",
        "outputId": "10a8e85a-7ce3-4ac5-9654-6df677e9db17"
      },
      "execution_count": 82,
      "outputs": [
        {
          "output_type": "stream",
          "name": "stderr",
          "text": [
            "100%|██████████| 20/20 [00:04<00:00,  4.98it/s]\n",
            "100%|██████████| 1/1 [00:00<00:00, 10.19it/s]\n"
          ]
        },
        {
          "output_type": "stream",
          "name": "stdout",
          "text": [
            "\n",
            "Epoch[1/5] \t train_loss: 9.11578, train_acc: 0.72 \t val_loss: 0.90843 \t val_acc: 0.9\n"
          ]
        },
        {
          "output_type": "stream",
          "name": "stderr",
          "text": [
            "100%|██████████| 20/20 [00:03<00:00,  5.41it/s]\n",
            "100%|██████████| 1/1 [00:00<00:00, 11.80it/s]\n"
          ]
        },
        {
          "output_type": "stream",
          "name": "stdout",
          "text": [
            "\n",
            "Epoch[2/5] \t train_loss: 1.70458, train_acc: 0.93 \t val_loss: 1.06035 \t val_acc: 0.8\n"
          ]
        },
        {
          "output_type": "stream",
          "name": "stderr",
          "text": [
            "100%|██████████| 20/20 [00:04<00:00,  4.75it/s]\n",
            "100%|██████████| 1/1 [00:00<00:00,  7.03it/s]\n"
          ]
        },
        {
          "output_type": "stream",
          "name": "stdout",
          "text": [
            "\n",
            "Epoch[3/5] \t train_loss: 0.49775, train_acc: 0.98 \t val_loss: 0.02024 \t val_acc: 1.0\n"
          ]
        },
        {
          "output_type": "stream",
          "name": "stderr",
          "text": [
            "100%|██████████| 20/20 [00:04<00:00,  4.82it/s]\n",
            "100%|██████████| 1/1 [00:00<00:00,  9.30it/s]\n"
          ]
        },
        {
          "output_type": "stream",
          "name": "stdout",
          "text": [
            "\n",
            "Epoch[4/5] \t train_loss: 0.49091, train_acc: 0.97 \t val_loss: 0.01140 \t val_acc: 1.0\n"
          ]
        },
        {
          "output_type": "stream",
          "name": "stderr",
          "text": [
            "100%|██████████| 20/20 [00:03<00:00,  5.51it/s]\n",
            "100%|██████████| 1/1 [00:00<00:00, 11.55it/s]"
          ]
        },
        {
          "output_type": "stream",
          "name": "stdout",
          "text": [
            "\n",
            "Epoch[5/5] \t train_loss: 0.32906, train_acc: 0.98 \t val_loss: 5.58698 \t val_acc: 0.7\n"
          ]
        },
        {
          "output_type": "stream",
          "name": "stderr",
          "text": [
            "\n"
          ]
        }
      ]
    },
    {
      "cell_type": "code",
      "source": [
        "test_img,test_label=next(iter(test_data))\n",
        "pred=model(test_img.to(device))\n",
        "pred=pred.argmax(axis=1)\n",
        "pred = pred.detach().cpu()\n",
        "from sklearn.metrics import confusion_matrix\n",
        "print( test_label)\n",
        "cm=confusion_matrix(test_label,pred)\n",
        "print(cm)\n",
        "import seaborn as sns\n",
        "sns.heatmap(cm,annot=True)"
      ],
      "metadata": {
        "colab": {
          "base_uri": "https://localhost:8080/",
          "height": 504
        },
        "id": "hdUNwU0syPKl",
        "outputId": "4449f236-8259-4177-dcb8-1c70587120c6"
      },
      "execution_count": 83,
      "outputs": [
        {
          "output_type": "stream",
          "name": "stdout",
          "text": [
            "tensor([1, 1, 1, 1, 1, 1, 1, 1, 1, 1])\n",
            "[[0 0]\n",
            " [3 7]]\n"
          ]
        },
        {
          "output_type": "execute_result",
          "data": {
            "text/plain": [
              "<Axes: >"
            ]
          },
          "metadata": {},
          "execution_count": 83
        },
        {
          "output_type": "display_data",
          "data": {
            "text/plain": [
              "<Figure size 640x480 with 2 Axes>"
            ],
            "image/png": "[encoded data removed]"
          },
          "metadata": {}
        }
      ]
    },
    {
      "cell_type": "code",
      "source": [
        "! wget -O dataset.zip https://www.dropbox.com/s/fdlnoh5stmumy0d/Kompiyuter.zip?dl=0"
      ],
      "metadata": {
        "colab": {
          "base_uri": "https://localhost:8080/"
        },
        "id": "ds94rdnyBOow",
        "outputId": "babf349d-056e-4cc7-87ba-9da44ec2881c"
      },
      "execution_count": 21,
      "outputs": [
        {
          "output_type": "stream",
          "name": "stdout",
          "text": [
            "--2023-07-09 16:43:41--  https://www.dropbox.com/s/fdlnoh5stmumy0d/Kompiyuter.zip?dl=0\n",
            "Resolving www.dropbox.com (www.dropbox.com)... 162.125.65.18, 2620:100:6027:18::a27d:4812\n",
            "Connecting to www.dropbox.com (www.dropbox.com)|162.125.65.18|:443... connected.\n",
            "HTTP request sent, awaiting response... 302 Found\n",
            "Location: /s/raw/fdlnoh5stmumy0d/Kompiyuter.zip [following]\n",
            "--2023-07-09 16:43:42--  https://www.dropbox.com/s/raw/fdlnoh5stmumy0d/Kompiyuter.zip\n",
            "Reusing existing connection to www.dropbox.com:443.\n",
            "HTTP request sent, awaiting response... 302 Found\n",
            "Location: https://uc4c1c0fc08c9686e5f9c083bbd9.dl.dropboxusercontent.com/cd/0/inline/B_hujwHuVCcvoAxhf8y6581MCvaCEIplYtkvSWp90_RAyzA1lZHJaPz-Z_ZyMZc9GTkcsKL7T96mFFtQgJiiTPL0odaPUxfXaGrnpzpxlnVUkMDMZZihM5FbL24WjTHeM0TKrsPBuya4GMaVe957_OdZ_RDHuhwgSAJqZdwiwjO1dA/file# [following]\n",
            "--2023-07-09 16:43:42--  https://uc4c1c0fc08c9686e5f9c083bbd9.dl.dropboxusercontent.com/cd/0/inline/B_hujwHuVCcvoAxhf8y6581MCvaCEIplYtkvSWp90_RAyzA1lZHJaPz-Z_ZyMZc9GTkcsKL7T96mFFtQgJiiTPL0odaPUxfXaGrnpzpxlnVUkMDMZZihM5FbL24WjTHeM0TKrsPBuya4GMaVe957_OdZ_RDHuhwgSAJqZdwiwjO1dA/file\n",
            "Resolving uc4c1c0fc08c9686e5f9c083bbd9.dl.dropboxusercontent.com (uc4c1c0fc08c9686e5f9c083bbd9.dl.dropboxusercontent.com)... 162.125.66.15, 2620:100:6027:15::a27d:480f\n",
            "Connecting to uc4c1c0fc08c9686e5f9c083bbd9.dl.dropboxusercontent.com (uc4c1c0fc08c9686e5f9c083bbd9.dl.dropboxusercontent.com)|162.125.66.15|:443... connected.\n",
            "HTTP request sent, awaiting response... 302 Found\n",
            "Location: /cd/0/inline2/B_h-WxdYYyEl-fRo5Sf5CQCeSV2wK2WtK3kHkbxbY_r-q9or68RYz--PJy4jPJUiA5KW3XudjOjkjFCZ7N1QrBhuclv6LXSIS4NeOwF7vWk7oYdm5GkMjDmEAq_Q-ArIfcnZgrRSrg-zY_9hKBKYGJ674Cm65j_BlH0mO0L8iiQ1Wtsmc_FdzYy-0I_FwGtusMEsdZeL2v9br2jboq_up2JNnz5OLxFTehioAiva3LqGiObBnC2Ak-e-tDdM8N4yweDDwLwen5mk7AoKRXpIz6t6EV7Dh-VkB8SIRDot8ExW_t8rBPlV0Es8MUKRAUdF9kVOPrz6IPrZllRhhirws0yDhN_hXVSAikZIvb3FfEZx5sxsdpePCFbAOphqLliCIHObhG3XrkARSEgljy53gu3nbmrFNIpH2z2fsEnbplBkRw/file [following]\n",
            "--2023-07-09 16:43:42--  https://uc4c1c0fc08c9686e5f9c083bbd9.dl.dropboxusercontent.com/cd/0/inline2/B_h-WxdYYyEl-fRo5Sf5CQCeSV2wK2WtK3kHkbxbY_r-q9or68RYz--PJy4jPJUiA5KW3XudjOjkjFCZ7N1QrBhuclv6LXSIS4NeOwF7vWk7oYdm5GkMjDmEAq_Q-ArIfcnZgrRSrg-zY_9hKBKYGJ674Cm65j_BlH0mO0L8iiQ1Wtsmc_FdzYy-0I_FwGtusMEsdZeL2v9br2jboq_up2JNnz5OLxFTehioAiva3LqGiObBnC2Ak-e-tDdM8N4yweDDwLwen5mk7AoKRXpIz6t6EV7Dh-VkB8SIRDot8ExW_t8rBPlV0Es8MUKRAUdF9kVOPrz6IPrZllRhhirws0yDhN_hXVSAikZIvb3FfEZx5sxsdpePCFbAOphqLliCIHObhG3XrkARSEgljy53gu3nbmrFNIpH2z2fsEnbplBkRw/file\n",
            "Reusing existing connection to uc4c1c0fc08c9686e5f9c083bbd9.dl.dropboxusercontent.com:443.\n",
            "HTTP request sent, awaiting response... 200 OK\n",
            "Length: 865265 (845K) [application/zip]\n",
            "Saving to: ‘dataset.zip’\n",
            "\n",
            "dataset.zip         100%[===================>] 844.99K  --.-KB/s    in 0.1s    \n",
            "\n",
            "2023-07-09 16:43:43 (6.12 MB/s) - ‘dataset.zip’ saved [865265/865265]\n",
            "\n"
          ]
        }
      ]
    },
    {
      "cell_type": "code",
      "source": [
        "!unzip dataset.zip"
      ],
      "metadata": {
        "id": "YfFaV3lTBZdW"
      },
      "execution_count": null,
      "outputs": []
    },
    {
      "cell_type": "code",
      "source": [
        "device = torch.device(\"cuda\") if torch.cuda.is_available() else torch.device(\"cpu\")"
      ],
      "metadata": {
        "id": "6zBwzk-CBeit"
      },
      "execution_count": 84,
      "outputs": []
    },
    {
      "cell_type": "code",
      "source": [
        "transform = T.Compose([\n",
        "    T.Resize(size=(150,150)),\n",
        "    T.ToTensor()\n",
        "])"
      ],
      "metadata": {
        "id": "bd-LCNCABhbQ"
      },
      "execution_count": 85,
      "outputs": []
    },
    {
      "cell_type": "code",
      "source": [
        "class KompyuterDataset(Dataset):\n",
        "\n",
        "    def __init__(self, path, transform = None):\n",
        "        # int for cross entryp loss\n",
        "        self.path_list = list(path.glob('*/*.jpg'))\n",
        "        self.transform = transform\n",
        "\n",
        "    def __getitem__(self,index):\n",
        "        img = Image.open(self.path_list[index])\n",
        "        label = (self.path_list[index]).parts[-2]\n",
        "        label = 0 if 'kompiyuter' in label else 1\n",
        "        if transform != None:\n",
        "            img = transform(img)\n",
        "\n",
        "        return img, int(label)\n",
        "\n",
        "    def __len__(self):\n",
        "        return len(self.path_list)"
      ],
      "metadata": {
        "id": "NtBVuoH6Bkuf"
      },
      "execution_count": 86,
      "outputs": []
    },
    {
      "cell_type": "code",
      "source": [
        "train_path = pathlib.Path('/content/Kompiyuter/train')\n",
        "test_path = pathlib.Path('/content/Kompiyuter/validation')"
      ],
      "metadata": {
        "id": "ArV10cESBrZS"
      },
      "execution_count": 87,
      "outputs": []
    },
    {
      "cell_type": "code",
      "source": [
        "train_dataset = KompyuterDataset(train_path, transform)\n",
        "test_dataset = KompyuterDataset(test_path, transform)"
      ],
      "metadata": {
        "id": "u6mDrx4gB2bp"
      },
      "execution_count": 88,
      "outputs": []
    },
    {
      "cell_type": "code",
      "source": [
        "path_list = list(train_path.glob('*/*.jpg'))\n",
        "path_test=list(test_path.glob('*/*.jpg'))"
      ],
      "metadata": {
        "id": "q80wBAFZB51A"
      },
      "execution_count": 89,
      "outputs": []
    },
    {
      "cell_type": "code",
      "source": [
        "train_data = DataLoader(train_dataset, batch_size=10, shuffle=True)\n",
        "test_data = DataLoader(test_dataset, batch_size=10, shuffle=True)"
      ],
      "metadata": {
        "id": "15a-2rGPB9Ns"
      },
      "execution_count": 90,
      "outputs": []
    },
    {
      "cell_type": "code",
      "source": [
        "class ConvNet(nn.Module):\n",
        "    def __init__(self,num_classes=2):\n",
        "        super(ConvNet,self).__init__()\n",
        "\n",
        "        #Output size after convolution filter\n",
        "        #((w-f+2P)/s) +1\n",
        "\n",
        "        #Input shape= (256,3,150,150)\n",
        "\n",
        "        self.conv1=nn.Conv2d(in_channels=3,out_channels=12,kernel_size=3,stride=1,padding=1)\n",
        "        #Shape= (256,12,150,150)\n",
        "        self.bn1=nn.BatchNorm2d(num_features=12)\n",
        "        #Shape= (256,12,150,150)\n",
        "        self.relu1=nn.ReLU()\n",
        "        #Shape= (256,12,150,150)\n",
        "\n",
        "        self.pool=nn.MaxPool2d(kernel_size=2)\n",
        "        #Reduce the image size be factor 2\n",
        "        #Shape= (256,12,75,75)\n",
        "\n",
        "        self.conv2=nn.Conv2d(in_channels=12,out_channels=20,kernel_size=3,stride=1,padding=1)\n",
        "        #Shape= (256,20,75,75)\n",
        "        self.relu2=nn.ReLU()\n",
        "        #Shape= (256,20,75,75)\n",
        "\n",
        "        self.conv3=nn.Conv2d(in_channels=20,out_channels=32,kernel_size=3,stride=1,padding=1)\n",
        "        #Shape= (256,32,75,75)\n",
        "        self.bn3=nn.BatchNorm2d(num_features=32)\n",
        "        #Shape= (256,32,75,75)\n",
        "        self.relu3=nn.ReLU()\n",
        "        #Shape= (256,32,75,75)\n",
        "\n",
        "        self.fc=nn.Linear(in_features=75 * 75 * 32,out_features=num_classes)\n",
        "\n",
        "        #Feed forwad function\n",
        "\n",
        "    def forward(self,input):\n",
        "        output=self.conv1(input)\n",
        "        output=self.bn1(output)\n",
        "        output=self.relu1(output)\n",
        "\n",
        "        output=self.pool(output)\n",
        "\n",
        "        output=self.conv2(output)\n",
        "        output=self.relu2(output)\n",
        "\n",
        "        output=self.conv3(output)\n",
        "        output=self.bn3(output)\n",
        "        output=self.relu3(output)\n",
        "\n",
        "        #Above output will be in matrix form, with shape (256,32,75,75)\n",
        "\n",
        "        output=output.view(-1,32*75*75)\n",
        "\n",
        "        output=self.fc(output)\n",
        "\n",
        "        return output\n"
      ],
      "metadata": {
        "id": "wsWOohFRCAq-"
      },
      "execution_count": 91,
      "outputs": []
    },
    {
      "cell_type": "code",
      "source": [
        "model=ConvNet()"
      ],
      "metadata": {
        "id": "w8dRQ3ONCDov"
      },
      "execution_count": 92,
      "outputs": []
    },
    {
      "cell_type": "code",
      "source": [
        "learning_rate = 0.001\n",
        "criterion = nn.CrossEntropyLoss()\n",
        "optimizer = torch.optim.Adam(model.parameters(),lr=learning_rate)"
      ],
      "metadata": {
        "id": "XAKd-6SWCGOZ"
      },
      "execution_count": 93,
      "outputs": []
    },
    {
      "cell_type": "code",
      "source": [
        "num_epochs = 5"
      ],
      "metadata": {
        "id": "kJQKM3I5CJNw"
      },
      "execution_count": 94,
      "outputs": []
    },
    {
      "cell_type": "code",
      "source": [
        "class Trainer:\n",
        "    def __init__(self, model, train_dataloader, test_dataloader, criterion, optimizer, epochs=3):\n",
        "        self.model = model\n",
        "        self.train_dataloader = train_dataloader\n",
        "        self.test_dataloader = test_dataloader\n",
        "        self.criterion = criterion\n",
        "        self.optimizer = optimizer\n",
        "\n",
        "        self.epochs = epochs\n",
        "        self.history = {'loss':[],'acc':[],'val_loss':[],'val_acc':[]}\n",
        "\n",
        "    def train_loop(self):\n",
        "        sum_loss = 0\n",
        "        sum_accuracy = 0\n",
        "        n = len(self.train_dataloader)\n",
        "        for i, (data,label) in enumerate(tqdm(self.train_dataloader)):\n",
        "            data = data.to(device)\n",
        "            label = label.to(device)\n",
        "            # prediction model\n",
        "            output = self.model(data)\n",
        "            # find loss\n",
        "            loss = self.criterion(output, label)\n",
        "\n",
        "            sum_loss += loss.item()\n",
        "            n_corrects = (output.argmax(axis=1)==label).sum().item()\n",
        "            sum_accuracy += n_corrects/label.size(0)\n",
        "\n",
        "            loss.backward()\n",
        "            self.optimizer.step()\n",
        "            self.optimizer.zero_grad()\n",
        "\n",
        "\n",
        "        train_loss = sum_loss/n\n",
        "        train_accuracy = sum_accuracy/n\n",
        "\n",
        "        self.history['loss'].append(train_loss)\n",
        "        self.history['acc'].append(train_accuracy)\n",
        "\n",
        "        return train_loss, train_accuracy\n",
        "\n",
        "    def validation_loop(self):\n",
        "        sum_loss = 0\n",
        "        sum_accuracy = 0\n",
        "        n = len(self.test_dataloader)\n",
        "        for i, (data,label) in enumerate(tqdm(self.test_dataloader)):\n",
        "            data = data.to(device)\n",
        "            label = label.to(device)\n",
        "            # prediction model\n",
        "            output = self.model(data)\n",
        "            # find loss\n",
        "            loss = self.criterion(output, label)\n",
        "            n_corrects = (output.argmax(axis=1)==label).sum().item()\n",
        "\n",
        "            sum_loss += loss.item()\n",
        "            sum_accuracy += n_corrects/label.size(0)\n",
        "\n",
        "        val_loss = sum_loss/n\n",
        "        val_accuracy = sum_accuracy/n\n",
        "\n",
        "        self.history['val_loss'].append(val_loss)\n",
        "        self.history['val_acc'].append(val_accuracy)\n",
        "\n",
        "        return val_loss, val_accuracy\n",
        "\n",
        "    def train(self):\n",
        "        for epoch in range(num_epochs):\n",
        "            train_loss, train_acc = self.train_loop()\n",
        "            val_loss, val_acc = self.validation_loop()\n",
        "            print()\n",
        "            print(f'Epoch[{epoch+1}/{num_epochs}] \\t train_loss: {train_loss:.5f}, train_acc: {train_acc:.2f} \\t val_loss: {val_loss:.5f} \\t val_acc: {val_acc:.2}')\n"
      ],
      "metadata": {
        "id": "DTeiwZVJCMCu"
      },
      "execution_count": 95,
      "outputs": []
    },
    {
      "cell_type": "code",
      "source": [
        "trainer = Trainer(\n",
        "    model = model.to(device),\n",
        "    train_dataloader = train_data,\n",
        "    test_dataloader = test_data,\n",
        "    criterion=criterion,\n",
        "    optimizer=optimizer\n",
        ")"
      ],
      "metadata": {
        "id": "3IQN7YtHCPC3"
      },
      "execution_count": 96,
      "outputs": []
    },
    {
      "cell_type": "code",
      "source": [
        "trainer.train()"
      ],
      "metadata": {
        "colab": {
          "base_uri": "https://localhost:8080/"
        },
        "id": "qrRMzS27CSys",
        "outputId": "8c528af7-2b6f-49b4-c2e0-83985d8afd80"
      },
      "execution_count": 99,
      "outputs": [
        {
          "output_type": "stream",
          "name": "stderr",
          "text": [
            "100%|██████████| 10/10 [00:01<00:00,  5.14it/s]\n",
            "100%|██████████| 2/2 [00:00<00:00,  9.97it/s]\n"
          ]
        },
        {
          "output_type": "stream",
          "name": "stdout",
          "text": [
            "\n",
            "Epoch[1/5] \t train_loss: 1.88420, train_acc: 0.94 \t val_loss: 12.72379 \t val_acc: 0.65\n"
          ]
        },
        {
          "output_type": "stream",
          "name": "stderr",
          "text": [
            "100%|██████████| 10/10 [00:08<00:00,  1.25it/s]\n",
            "100%|██████████| 2/2 [00:00<00:00, 10.20it/s]\n"
          ]
        },
        {
          "output_type": "stream",
          "name": "stdout",
          "text": [
            "\n",
            "Epoch[2/5] \t train_loss: 0.88480, train_acc: 0.97 \t val_loss: 7.60129 \t val_acc: 0.7\n"
          ]
        },
        {
          "output_type": "stream",
          "name": "stderr",
          "text": [
            "100%|██████████| 10/10 [00:02<00:00,  4.72it/s]\n",
            "100%|██████████| 2/2 [00:00<00:00,  9.15it/s]\n"
          ]
        },
        {
          "output_type": "stream",
          "name": "stdout",
          "text": [
            "\n",
            "Epoch[3/5] \t train_loss: 0.00009, train_acc: 1.00 \t val_loss: 11.77107 \t val_acc: 0.7\n"
          ]
        },
        {
          "output_type": "stream",
          "name": "stderr",
          "text": [
            "100%|██████████| 10/10 [00:07<00:00,  1.30it/s]\n",
            "100%|██████████| 2/2 [00:00<00:00,  9.51it/s]\n"
          ]
        },
        {
          "output_type": "stream",
          "name": "stdout",
          "text": [
            "\n",
            "Epoch[4/5] \t train_loss: 0.20016, train_acc: 0.99 \t val_loss: 7.92817 \t val_acc: 0.7\n"
          ]
        },
        {
          "output_type": "stream",
          "name": "stderr",
          "text": [
            "100%|██████████| 10/10 [00:02<00:00,  4.28it/s]\n",
            "100%|██████████| 2/2 [00:00<00:00,  9.88it/s]"
          ]
        },
        {
          "output_type": "stream",
          "name": "stdout",
          "text": [
            "\n",
            "Epoch[5/5] \t train_loss: 0.00000, train_acc: 1.00 \t val_loss: 6.04412 \t val_acc: 0.75\n"
          ]
        },
        {
          "output_type": "stream",
          "name": "stderr",
          "text": [
            "\n"
          ]
        }
      ]
    },
    {
      "cell_type": "code",
      "source": [
        "test_img,test_label=next(iter(test_data))\n",
        "pred=model(test_img.to(device))\n",
        "pred=pred.argmax(axis=1)\n",
        "pred = pred.detach().cpu()\n",
        "from sklearn.metrics import confusion_matrix\n",
        "print( test_label)\n",
        "cm=confusion_matrix(test_label,pred)\n",
        "print(cm)\n",
        "import seaborn as sns\n",
        "sns.heatmap(cm,annot=True)"
      ],
      "metadata": {
        "colab": {
          "base_uri": "https://localhost:8080/",
          "height": 504
        },
        "id": "YW760-ZaCrzm",
        "outputId": "7cb2b2d9-6fa2-4ae3-f8f0-dad9aaa2a7a3"
      },
      "execution_count": 100,
      "outputs": [
        {
          "output_type": "stream",
          "name": "stdout",
          "text": [
            "tensor([1, 0, 1, 1, 0, 0, 1, 0, 0, 0])\n",
            "[[5 1]\n",
            " [1 3]]\n"
          ]
        },
        {
          "output_type": "execute_result",
          "data": {
            "text/plain": [
              "<Axes: >"
            ]
          },
          "metadata": {},
          "execution_count": 100
        },
        {
          "output_type": "display_data",
          "data": {
            "text/plain": [
              "<Figure size 640x480 with 2 Axes>"
            ],
            "image/png": "[encoded data removed]"
          },
          "metadata": {}
        }
      ]
    }
  ]
}