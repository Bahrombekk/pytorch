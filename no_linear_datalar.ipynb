{
  "nbformat": 4,
  "nbformat_minor": 0,
  "metadata": {
    "colab": {
      "provenance": [],
      "collapsed_sections": [
        "NzXmzXYF68ro",
        "974DaadNIJ5t",
        "q1ucUtwwicLR"
      ],
      "authorship_tag": "ABX9TyOGz9Lb+13WxYjPFS67M0XC",
      "include_colab_link": true
    },
    "kernelspec": {
      "name": "python3",
      "display_name": "Python 3"
    },
    "language_info": {
      "name": "python"
    }
  },
  "cells": [
    {
      "cell_type": "markdown",
      "metadata": {
        "id": "view-in-github",
        "colab_type": "text"
      },
      "source": [
        "<a href=\"https://colab.research.google.com/github/Bahrombekk/pytorch/blob/main/no_linear_datalar.ipynb\" target=\"_parent\"><img src=\"https://colab.research.google.com/assets/colab-badge.svg\" alt=\"Open In Colab\"/></a>"
      ]
    },
    {
      "cell_type": "code",
      "execution_count": 5,
      "metadata": {
        "id": "KtcW6-276ULG"
      },
      "outputs": [],
      "source": [
        "import matplotlib.pyplot as plt\n",
        "import numpy as np\n",
        "import pandas as pd\n",
        "import torch\n",
        "from sklearn.model_selection import train_test_split"
      ]
    },
    {
      "cell_type": "markdown",
      "source": [
        "#Avto"
      ],
      "metadata": {
        "id": "NzXmzXYF68ro"
      }
    },
    {
      "cell_type": "markdown",
      "source": [
        "1) mpg: avtomobil erishgan gallon uchun mil.\n",
        "\n",
        "2) cylinders: avtomobil dvigatelidagi silindrlar soni (4, 6 yoki 8).\n",
        "\n",
        "3) displacement: dvigatel hajmi (kub dyuymlarda) yoki dvigatelning o'lchami.\n",
        "\n",
        "4) horsepower: dvigatel tomonidan ishlab chiqarilgan ot kuchi.\n",
        "\n",
        "5) weight: avtomobilning og'irligi (funtlarda).\n",
        "\n",
        "6) acceleration: avtomobilning soatiga 0 dan 60 milyagacha tezlashishi uchun ketadigan vaqt (sekundlarda).\n",
        "\n",
        "7) model year: avtomobil modeli ishlab chiqarilgan yil (19yy formatida).\n",
        "\n",
        "8) origin: avtomobil modelining kelib chiqishini ko'rsatuvchi sanab o'tilgan qiymat (1: Amerika, 2: Yevropa, 3: Yapon).\n",
        "\n",
        "9) car name: avtomobil modeli nomini o'z ichiga olgan qator."
      ],
      "metadata": {
        "id": "OFflS0vDhL6b"
      }
    },
    {
      "cell_type": "code",
      "source": [
        "!wget https://raw.githubusercontent.com/JavohirJalilov/Datasets/main/Regression/auto-mpg.csv"
      ],
      "metadata": {
        "colab": {
          "base_uri": "https://localhost:8080/"
        },
        "id": "2G4eWWyW64wt",
        "outputId": "8e88e913-e62d-4c2d-b666-fbb33d9d60ec"
      },
      "execution_count": 6,
      "outputs": [
        {
          "output_type": "stream",
          "name": "stdout",
          "text": [
            "--2023-06-20 09:25:29--  https://raw.githubusercontent.com/JavohirJalilov/Datasets/main/Regression/auto-mpg.csv\n",
            "Resolving raw.githubusercontent.com (raw.githubusercontent.com)... 185.199.108.133, 185.199.109.133, 185.199.110.133, ...\n",
            "Connecting to raw.githubusercontent.com (raw.githubusercontent.com)|185.199.108.133|:443... connected.\n",
            "HTTP request sent, awaiting response... 200 OK\n",
            "Length: 14978 (15K) [text/plain]\n",
            "Saving to: ‘auto-mpg.csv’\n",
            "\n",
            "\rauto-mpg.csv          0%[                    ]       0  --.-KB/s               \rauto-mpg.csv        100%[===================>]  14.63K  --.-KB/s    in 0s      \n",
            "\n",
            "2023-06-20 09:25:29 (104 MB/s) - ‘auto-mpg.csv’ saved [14978/14978]\n",
            "\n"
          ]
        }
      ]
    },
    {
      "cell_type": "code",
      "source": [
        "data=pd.read_csv(\"auto-mpg.csv\")\n",
        "data"
      ],
      "metadata": {
        "colab": {
          "base_uri": "https://localhost:8080/",
          "height": 424
        },
        "id": "CuAx6fu37ByD",
        "outputId": "fd2e9e3d-a405-41e0-ba5c-ae040069b462"
      },
      "execution_count": 7,
      "outputs": [
        {
          "output_type": "execute_result",
          "data": {
            "text/plain": [
              "      mpg  cylinders  displacement  horsepower  weight  acceleration  \\\n",
              "0    18.0        8.0         307.0       130.0  3504.0          12.0   \n",
              "1    15.0        8.0         350.0       165.0  3693.0          11.5   \n",
              "2    18.0        8.0         318.0       150.0  3436.0          11.0   \n",
              "3    16.0        8.0         304.0       150.0  3433.0          12.0   \n",
              "4    17.0        8.0         302.0       140.0  3449.0          10.5   \n",
              "..    ...        ...           ...         ...     ...           ...   \n",
              "387  27.0        4.0         140.0        86.0  2790.0          15.6   \n",
              "388  44.0        4.0          97.0        52.0  2130.0          24.6   \n",
              "389  32.0        4.0         135.0        84.0  2295.0          11.6   \n",
              "390  28.0        4.0         120.0        79.0  2625.0          18.6   \n",
              "391  31.0        4.0         119.0        82.0  2720.0          19.4   \n",
              "\n",
              "     model year  origin  \n",
              "0          70.0     1.0  \n",
              "1          70.0     1.0  \n",
              "2          70.0     1.0  \n",
              "3          70.0     1.0  \n",
              "4          70.0     1.0  \n",
              "..          ...     ...  \n",
              "387        82.0     1.0  \n",
              "388        82.0     2.0  \n",
              "389        82.0     1.0  \n",
              "390        82.0     1.0  \n",
              "391        82.0     1.0  \n",
              "\n",
              "[392 rows x 8 columns]"
            ],
            "text/html": [
              "\n",
              "  <div id=\"df-73492ba0-7c42-4aeb-8eb6-f3cef0ae77e6\">\n",
              "    <div class=\"colab-df-container\">\n",
              "      <div>\n",
              "<style scoped>\n",
              "    .dataframe tbody tr th:only-of-type {\n",
              "        vertical-align: middle;\n",
              "    }\n",
              "\n",
              "    .dataframe tbody tr th {\n",
              "        vertical-align: top;\n",
              "    }\n",
              "\n",
              "    .dataframe thead th {\n",
              "        text-align: right;\n",
              "    }\n",
              "</style>\n",
              "<table border=\"1\" class=\"dataframe\">\n",
              "  <thead>\n",
              "    <tr style=\"text-align: right;\">\n",
              "      <th></th>\n",
              "      <th>mpg</th>\n",
              "      <th>cylinders</th>\n",
              "      <th>displacement</th>\n",
              "      <th>horsepower</th>\n",
              "      <th>weight</th>\n",
              "      <th>acceleration</th>\n",
              "      <th>model year</th>\n",
              "      <th>origin</th>\n",
              "    </tr>\n",
              "  </thead>\n",
              "  <tbody>\n",
              "    <tr>\n",
              "      <th>0</th>\n",
              "      <td>18.0</td>\n",
              "      <td>8.0</td>\n",
              "      <td>307.0</td>\n",
              "      <td>130.0</td>\n",
              "      <td>3504.0</td>\n",
              "      <td>12.0</td>\n",
              "      <td>70.0</td>\n",
              "      <td>1.0</td>\n",
              "    </tr>\n",
              "    <tr>\n",
              "      <th>1</th>\n",
              "      <td>15.0</td>\n",
              "      <td>8.0</td>\n",
              "      <td>350.0</td>\n",
              "      <td>165.0</td>\n",
              "      <td>3693.0</td>\n",
              "      <td>11.5</td>\n",
              "      <td>70.0</td>\n",
              "      <td>1.0</td>\n",
              "    </tr>\n",
              "    <tr>\n",
              "      <th>2</th>\n",
              "      <td>18.0</td>\n",
              "      <td>8.0</td>\n",
              "      <td>318.0</td>\n",
              "      <td>150.0</td>\n",
              "      <td>3436.0</td>\n",
              "      <td>11.0</td>\n",
              "      <td>70.0</td>\n",
              "      <td>1.0</td>\n",
              "    </tr>\n",
              "    <tr>\n",
              "      <th>3</th>\n",
              "      <td>16.0</td>\n",
              "      <td>8.0</td>\n",
              "      <td>304.0</td>\n",
              "      <td>150.0</td>\n",
              "      <td>3433.0</td>\n",
              "      <td>12.0</td>\n",
              "      <td>70.0</td>\n",
              "      <td>1.0</td>\n",
              "    </tr>\n",
              "    <tr>\n",
              "      <th>4</th>\n",
              "      <td>17.0</td>\n",
              "      <td>8.0</td>\n",
              "      <td>302.0</td>\n",
              "      <td>140.0</td>\n",
              "      <td>3449.0</td>\n",
              "      <td>10.5</td>\n",
              "      <td>70.0</td>\n",
              "      <td>1.0</td>\n",
              "    </tr>\n",
              "    <tr>\n",
              "      <th>...</th>\n",
              "      <td>...</td>\n",
              "      <td>...</td>\n",
              "      <td>...</td>\n",
              "      <td>...</td>\n",
              "      <td>...</td>\n",
              "      <td>...</td>\n",
              "      <td>...</td>\n",
              "      <td>...</td>\n",
              "    </tr>\n",
              "    <tr>\n",
              "      <th>387</th>\n",
              "      <td>27.0</td>\n",
              "      <td>4.0</td>\n",
              "      <td>140.0</td>\n",
              "      <td>86.0</td>\n",
              "      <td>2790.0</td>\n",
              "      <td>15.6</td>\n",
              "      <td>82.0</td>\n",
              "      <td>1.0</td>\n",
              "    </tr>\n",
              "    <tr>\n",
              "      <th>388</th>\n",
              "      <td>44.0</td>\n",
              "      <td>4.0</td>\n",
              "      <td>97.0</td>\n",
              "      <td>52.0</td>\n",
              "      <td>2130.0</td>\n",
              "      <td>24.6</td>\n",
              "      <td>82.0</td>\n",
              "      <td>2.0</td>\n",
              "    </tr>\n",
              "    <tr>\n",
              "      <th>389</th>\n",
              "      <td>32.0</td>\n",
              "      <td>4.0</td>\n",
              "      <td>135.0</td>\n",
              "      <td>84.0</td>\n",
              "      <td>2295.0</td>\n",
              "      <td>11.6</td>\n",
              "      <td>82.0</td>\n",
              "      <td>1.0</td>\n",
              "    </tr>\n",
              "    <tr>\n",
              "      <th>390</th>\n",
              "      <td>28.0</td>\n",
              "      <td>4.0</td>\n",
              "      <td>120.0</td>\n",
              "      <td>79.0</td>\n",
              "      <td>2625.0</td>\n",
              "      <td>18.6</td>\n",
              "      <td>82.0</td>\n",
              "      <td>1.0</td>\n",
              "    </tr>\n",
              "    <tr>\n",
              "      <th>391</th>\n",
              "      <td>31.0</td>\n",
              "      <td>4.0</td>\n",
              "      <td>119.0</td>\n",
              "      <td>82.0</td>\n",
              "      <td>2720.0</td>\n",
              "      <td>19.4</td>\n",
              "      <td>82.0</td>\n",
              "      <td>1.0</td>\n",
              "    </tr>\n",
              "  </tbody>\n",
              "</table>\n",
              "<p>392 rows × 8 columns</p>\n",
              "</div>\n",
              "      <button class=\"colab-df-convert\" onclick=\"convertToInteractive('df-73492ba0-7c42-4aeb-8eb6-f3cef0ae77e6')\"\n",
              "              title=\"Convert this dataframe to an interactive table.\"\n",
              "              style=\"display:none;\">\n",
              "        \n",
              "  <svg xmlns=\"http://www.w3.org/2000/svg\" height=\"24px\"viewBox=\"0 0 24 24\"\n",
              "       width=\"24px\">\n",
              "    <path d=\"M0 0h24v24H0V0z\" fill=\"none\"/>\n",
              "    <path d=\"M18.56 5.44l.94 2.06.94-2.06 2.06-.94-2.06-.94-.94-2.06-.94 2.06-2.06.94zm-11 1L8.5 8.5l.94-2.06 2.06-.94-2.06-.94L8.5 2.5l-.94 2.06-2.06.94zm10 10l.94 2.06.94-2.06 2.06-.94-2.06-.94-.94-2.06-.94 2.06-2.06.94z\"/><path d=\"M17.41 7.96l-1.37-1.37c-.4-.4-.92-.59-1.43-.59-.52 0-1.04.2-1.43.59L10.3 9.45l-7.72 7.72c-.78.78-.78 2.05 0 2.83L4 21.41c.39.39.9.59 1.41.59.51 0 1.02-.2 1.41-.59l7.78-7.78 2.81-2.81c.8-.78.8-2.07 0-2.86zM5.41 20L4 18.59l7.72-7.72 1.47 1.35L5.41 20z\"/>\n",
              "  </svg>\n",
              "      </button>\n",
              "      \n",
              "  <style>\n",
              "    .colab-df-container {\n",
              "      display:flex;\n",
              "      flex-wrap:wrap;\n",
              "      gap: 12px;\n",
              "    }\n",
              "\n",
              "    .colab-df-convert {\n",
              "      background-color: #E8F0FE;\n",
              "      border: none;\n",
              "      border-radius: 50%;\n",
              "      cursor: pointer;\n",
              "      display: none;\n",
              "      fill: #1967D2;\n",
              "      height: 32px;\n",
              "      padding: 0 0 0 0;\n",
              "      width: 32px;\n",
              "    }\n",
              "\n",
              "    .colab-df-convert:hover {\n",
              "      background-color: #E2EBFA;\n",
              "      box-shadow: 0px 1px 2px rgba(60, 64, 67, 0.3), 0px 1px 3px 1px rgba(60, 64, 67, 0.15);\n",
              "      fill: #174EA6;\n",
              "    }\n",
              "\n",
              "    [theme=dark] .colab-df-convert {\n",
              "      background-color: #3B4455;\n",
              "      fill: #D2E3FC;\n",
              "    }\n",
              "\n",
              "    [theme=dark] .colab-df-convert:hover {\n",
              "      background-color: #434B5C;\n",
              "      box-shadow: 0px 1px 3px 1px rgba(0, 0, 0, 0.15);\n",
              "      filter: drop-shadow(0px 1px 2px rgba(0, 0, 0, 0.3));\n",
              "      fill: #FFFFFF;\n",
              "    }\n",
              "  </style>\n",
              "\n",
              "      <script>\n",
              "        const buttonEl =\n",
              "          document.querySelector('#df-73492ba0-7c42-4aeb-8eb6-f3cef0ae77e6 button.colab-df-convert');\n",
              "        buttonEl.style.display =\n",
              "          google.colab.kernel.accessAllowed ? 'block' : 'none';\n",
              "\n",
              "        async function convertToInteractive(key) {\n",
              "          const element = document.querySelector('#df-73492ba0-7c42-4aeb-8eb6-f3cef0ae77e6');\n",
              "          const dataTable =\n",
              "            await google.colab.kernel.invokeFunction('convertToInteractive',\n",
              "                                                     [key], {});\n",
              "          if (!dataTable) return;\n",
              "\n",
              "          const docLinkHtml = 'Like what you see? Visit the ' +\n",
              "            '<a target=\"_blank\" href=https://colab.research.google.com/notebooks/data_table.ipynb>data table notebook</a>'\n",
              "            + ' to learn more about interactive tables.';\n",
              "          element.innerHTML = '';\n",
              "          dataTable['output_type'] = 'display_data';\n",
              "          await google.colab.output.renderOutput(dataTable, element);\n",
              "          const docLink = document.createElement('div');\n",
              "          docLink.innerHTML = docLinkHtml;\n",
              "          element.appendChild(docLink);\n",
              "        }\n",
              "      </script>\n",
              "    </div>\n",
              "  </div>\n",
              "  "
            ]
          },
          "metadata": {},
          "execution_count": 7
        }
      ]
    },
    {
      "cell_type": "code",
      "source": [
        "data=np.array(data)\n",
        "x=data[:,1:]\n",
        "y=data[:,0]"
      ],
      "metadata": {
        "id": "Jd9ngJKR7Mek"
      },
      "execution_count": 8,
      "outputs": []
    },
    {
      "cell_type": "code",
      "source": [
        "x=torch.tensor(x,dtype=torch.float32)\n",
        "y=torch.tensor(y,dtype=torch.float32).reshape(-1,1)"
      ],
      "metadata": {
        "id": "z3W6ibrk7n6J"
      },
      "execution_count": 9,
      "outputs": []
    },
    {
      "cell_type": "code",
      "source": [
        "class Net(torch.nn.Module):\n",
        "  def __init__(self, in_feature, out_feature):\n",
        "    super().__init__()\n",
        "    self.fc1 = torch.nn.Linear(in_feature,64)\n",
        "    self.fc2 = torch.nn.Linear(64,16)\n",
        "    self.fc3 = torch.nn.Linear(16,8)\n",
        "    self.fc4 = torch.nn.Linear(8,out_feature)\n",
        "    self.af = torch.nn.ReLU()\n",
        "\n",
        "  def forward(self,x):\n",
        "    x = self.af(self.fc1(x))\n",
        "    x = self.af(self.fc2(x))\n",
        "    x = self.af(self.fc3(x))\n",
        "\n",
        "    out = self.fc4(x)\n",
        "    return out"
      ],
      "metadata": {
        "id": "a8YuVEXS75YH"
      },
      "execution_count": 10,
      "outputs": []
    },
    {
      "cell_type": "code",
      "source": [
        "model=Net(7,1)"
      ],
      "metadata": {
        "id": "7cwPT5Wp8hwF"
      },
      "execution_count": 11,
      "outputs": []
    },
    {
      "cell_type": "code",
      "source": [
        "criterion=torch.nn.MSELoss()\n",
        "l=0.01\n",
        "optimizer=torch.optim.Adam(model.parameters(),lr=l)"
      ],
      "metadata": {
        "id": "OAtlYVUx8pkn"
      },
      "execution_count": 12,
      "outputs": []
    },
    {
      "cell_type": "code",
      "source": [
        "x_train, x_test, y_train, y_test = train_test_split(x, y, test_size=0.2, random_state=42)"
      ],
      "metadata": {
        "id": "p-yVK_JE9cLE"
      },
      "execution_count": 13,
      "outputs": []
    },
    {
      "cell_type": "code",
      "source": [
        "loss_history = {\"train\":[], \"validation\": []}"
      ],
      "metadata": {
        "id": "xVxL6WrUFsZP"
      },
      "execution_count": 14,
      "outputs": []
    },
    {
      "cell_type": "code",
      "source": [
        "def validation(model, criterion, loss_history, epoch):\n",
        "  val = model(x_test)\n",
        "  val_loss = criterion(val, y_test)\n",
        "  loss_history['validation'].append(val_loss.item())\n",
        "\n",
        "  return val_loss.item()"
      ],
      "metadata": {
        "id": "oD0qcbynE3Uw"
      },
      "execution_count": 15,
      "outputs": []
    },
    {
      "cell_type": "code",
      "source": [
        "def train(model, criterion, optimizer, loss_history, epoch):\n",
        "  optimizer.zero_grad()\n",
        "  y_hat = model(x_train)\n",
        "\n",
        "  loss = criterion(y_hat, y_train)\n",
        "\n",
        "  loss.backward()\n",
        "  loss_history['train'].append(loss.item())\n",
        "  optimizer.step()\n",
        "\n",
        "  return loss.item()"
      ],
      "metadata": {
        "id": "OhAAitnX9MF9"
      },
      "execution_count": 16,
      "outputs": []
    },
    {
      "cell_type": "code",
      "source": [
        "epochs = 300\n",
        "\n",
        "for epoch in range(epochs):\n",
        "  loss = train(model, criterion, optimizer, loss_history, epoch)\n",
        "  val_loss = validation(model, criterion, loss_history, epoch)\n",
        "\n",
        "  if epoch%20 == 0:\n",
        "\n",
        "    print(f\"EPOCH: {epoch} \\t TRAIN_LOSS: {loss:.3f}  \\t  VAL_LOSS: {val_loss:.3f}\")\n",
        "\n"
      ],
      "metadata": {
        "colab": {
          "base_uri": "https://localhost:8080/"
        },
        "id": "BDLAnjb0FQdZ",
        "outputId": "4e3a841d-0500-4855-91d6-d78877aebe3b"
      },
      "execution_count": 17,
      "outputs": [
        {
          "output_type": "stream",
          "name": "stdout",
          "text": [
            "EPOCH: 0 \t TRAIN_LOSS: 1478.743  \t  VAL_LOSS: 1405.884\n",
            "EPOCH: 20 \t TRAIN_LOSS: 181.613  \t  VAL_LOSS: 173.656\n",
            "EPOCH: 40 \t TRAIN_LOSS: 180.643  \t  VAL_LOSS: 165.175\n",
            "EPOCH: 60 \t TRAIN_LOSS: 170.890  \t  VAL_LOSS: 154.071\n",
            "EPOCH: 80 \t TRAIN_LOSS: 162.686  \t  VAL_LOSS: 146.179\n",
            "EPOCH: 100 \t TRAIN_LOSS: 145.537  \t  VAL_LOSS: 128.011\n",
            "EPOCH: 120 \t TRAIN_LOSS: 102.316  \t  VAL_LOSS: 84.259\n",
            "EPOCH: 140 \t TRAIN_LOSS: 43.428  \t  VAL_LOSS: 38.686\n",
            "EPOCH: 160 \t TRAIN_LOSS: 32.937  \t  VAL_LOSS: 32.320\n",
            "EPOCH: 180 \t TRAIN_LOSS: 27.583  \t  VAL_LOSS: 27.696\n",
            "EPOCH: 200 \t TRAIN_LOSS: 23.181  \t  VAL_LOSS: 23.837\n",
            "EPOCH: 220 \t TRAIN_LOSS: 19.611  \t  VAL_LOSS: 20.279\n",
            "EPOCH: 240 \t TRAIN_LOSS: 16.779  \t  VAL_LOSS: 17.461\n",
            "EPOCH: 260 \t TRAIN_LOSS: 14.558  \t  VAL_LOSS: 15.026\n",
            "EPOCH: 280 \t TRAIN_LOSS: 13.169  \t  VAL_LOSS: 12.330\n"
          ]
        }
      ]
    },
    {
      "cell_type": "code",
      "source": [
        "plt.figure(dpi=200)\n",
        "\n",
        "plt.plot(list(range(epochs)),loss_history['train'], label='train')\n",
        "plt.plot(list(range(epochs)),loss_history['validation'], label='validation')\n",
        "plt.legend()\n",
        "plt.show()"
      ],
      "metadata": {
        "colab": {
          "base_uri": "https://localhost:8080/",
          "height": 711
        },
        "id": "Cb9o3BW4Fgho",
        "outputId": "5684bd66-5644-407e-bb4b-d860b2b7f7b4"
      },
      "execution_count": 18,
      "outputs": [
        {
          "output_type": "display_data",
          "data": {
            "text/plain": [
              "<Figure size 1280x960 with 1 Axes>"
            ],
            "image/png": "[encoded data removed]"
          },
          "metadata": {}
        }
      ]
    },
    {
      "cell_type": "markdown",
      "source": [
        "#wine_quality"
      ],
      "metadata": {
        "id": "974DaadNIJ5t"
      }
    },
    {
      "cell_type": "markdown",
      "source": [
        "1) fixed acidity: 1 litr sharobda uchuvchan bo'lmagan (tez bug'lanib ketmaydigan) kislotalar miqdori. Bu kislotalar asosan sharobda mustahkamlanadi, ya'ni ular fermentatsiya yoki boshqa jarayonlar bilan turli birikmalarga aylantirilmaydi.\n",
        "\n",
        "2) volatile acidity: 1 litr sharobdagi sirka kislotasi (sirkaga o'xshash hid) va boshqa uchuvchi kislotalarning miqdori. Ushbu kislotalar asosan fermentatsiya paytida hosil bo'ladi va sharobning ta'mi va hidiga hissa qo'shishi mumkin.\n",
        "\n",
        "3) citric acid: 1 litr sharobda limon kislotasi miqdori (tsitrus mevalarida mavjud). Bu kislota odatda sharobga ta'mga qo'shimcha sifatida qo'shiladi.\n",
        "\n",
        "4) residual sugar: Fermentatsiya tugagandan keyin 1 litr sharobda qolgan shakar miqdori. Bu sharobning shirinligiga hissa qo'shishi mumkin.\n",
        "\n",
        "5) chlorides: 1 litr sharobdagi tuzga o'xshash moddalarning grammdagi miqdori. Bu sharobning ta'mi va og'ziga ta'sir qilishi mumkin.\n",
        "\n",
        "6) free sulfur dioxide: Boshqa birikmalar bilan bog'lanmagan konservant sifatida vinoga qo'shilgan oltingugurt dioksidi (SO2) miqdori. Bu sharobni mikroorganizmlardan va oksidlanishdan himoya qilishi mumkin.\n",
        "\n",
        "7) total sulfur dioxide: 1 litr sharobdagi SO2 ning umumiy miqdori, shu jumladan erkin va bog'langan shakllar.\n",
        "\n",
        "8) density: 1 litr sharobning zichligi. Bu sharobning alkogol tarkibini ko'rsatishi mumkin.\n",
        "\n",
        "9) pH: 1 litr vinoning kislotaligi yoki ishqoriyligi, 0 dan 14 gacha bo'lgan shkalada. Pastroq pH qiymatlari yuqori kislotalikni ko'rsatadi.\n",
        "\n",
        "10) sulphates: 1 litr vinodagi sulfatlar (SO4) miqdori. Bu mikroblarga qarshi vosita va antioksidant sifatida harakat qilishi mumkin.\n",
        "\n",
        "11) alcohol: 1 litr sharobdagi spirtning miqdori bo'yicha foiz.\n",
        "\n",
        "12) quality bu ustunda sifatni bildiradi bu ustunga qarab biz taxmin qila olamiz"
      ],
      "metadata": {
        "id": "K7dL6HxBf8yA"
      }
    },
    {
      "cell_type": "code",
      "source": [
        "data=pd.read_csv(\"/content/winequality-red.csv\")\n",
        "data"
      ],
      "metadata": {
        "colab": {
          "base_uri": "https://localhost:8080/",
          "height": 502
        },
        "id": "NLYBZjNuF3vu",
        "outputId": "966a1918-8d65-4b68-9b89-54481efe37bd"
      },
      "execution_count": 44,
      "outputs": [
        {
          "output_type": "execute_result",
          "data": {
            "text/plain": [
              "      fixed acidity  volatile acidity  citric acid  residual sugar  chlorides  \\\n",
              "0               7.4             0.700         0.00             1.9      0.076   \n",
              "1               7.8             0.880         0.00             2.6      0.098   \n",
              "2               7.8             0.760         0.04             2.3      0.092   \n",
              "3              11.2             0.280         0.56             1.9      0.075   \n",
              "4               7.4             0.700         0.00             1.9      0.076   \n",
              "...             ...               ...          ...             ...        ...   \n",
              "1594            6.2             0.600         0.08             2.0      0.090   \n",
              "1595            5.9             0.550         0.10             2.2      0.062   \n",
              "1596            6.3             0.510         0.13             2.3      0.076   \n",
              "1597            5.9             0.645         0.12             2.0      0.075   \n",
              "1598            6.0             0.310         0.47             3.6      0.067   \n",
              "\n",
              "      free sulfur dioxide  total sulfur dioxide  density    pH  sulphates  \\\n",
              "0                    11.0                  34.0  0.99780  3.51       0.56   \n",
              "1                    25.0                  67.0  0.99680  3.20       0.68   \n",
              "2                    15.0                  54.0  0.99700  3.26       0.65   \n",
              "3                    17.0                  60.0  0.99800  3.16       0.58   \n",
              "4                    11.0                  34.0  0.99780  3.51       0.56   \n",
              "...                   ...                   ...      ...   ...        ...   \n",
              "1594                 32.0                  44.0  0.99490  3.45       0.58   \n",
              "1595                 39.0                  51.0  0.99512  3.52       0.76   \n",
              "1596                 29.0                  40.0  0.99574  3.42       0.75   \n",
              "1597                 32.0                  44.0  0.99547  3.57       0.71   \n",
              "1598                 18.0                  42.0  0.99549  3.39       0.66   \n",
              "\n",
              "      alcohol  quality  \n",
              "0         9.4        5  \n",
              "1         9.8        5  \n",
              "2         9.8        5  \n",
              "3         9.8        6  \n",
              "4         9.4        5  \n",
              "...       ...      ...  \n",
              "1594     10.5        5  \n",
              "1595     11.2        6  \n",
              "1596     11.0        6  \n",
              "1597     10.2        5  \n",
              "1598     11.0        6  \n",
              "\n",
              "[1599 rows x 12 columns]"
            ],
            "text/html": [
              "\n",
              "  <div id=\"df-c4556685-8d55-429d-ac00-25c18d43c130\">\n",
              "    <div class=\"colab-df-container\">\n",
              "      <div>\n",
              "<style scoped>\n",
              "    .dataframe tbody tr th:only-of-type {\n",
              "        vertical-align: middle;\n",
              "    }\n",
              "\n",
              "    .dataframe tbody tr th {\n",
              "        vertical-align: top;\n",
              "    }\n",
              "\n",
              "    .dataframe thead th {\n",
              "        text-align: right;\n",
              "    }\n",
              "</style>\n",
              "<table border=\"1\" class=\"dataframe\">\n",
              "  <thead>\n",
              "    <tr style=\"text-align: right;\">\n",
              "      <th></th>\n",
              "      <th>fixed acidity</th>\n",
              "      <th>volatile acidity</th>\n",
              "      <th>citric acid</th>\n",
              "      <th>residual sugar</th>\n",
              "      <th>chlorides</th>\n",
              "      <th>free sulfur dioxide</th>\n",
              "      <th>total sulfur dioxide</th>\n",
              "      <th>density</th>\n",
              "      <th>pH</th>\n",
              "      <th>sulphates</th>\n",
              "      <th>alcohol</th>\n",
              "      <th>quality</th>\n",
              "    </tr>\n",
              "  </thead>\n",
              "  <tbody>\n",
              "    <tr>\n",
              "      <th>0</th>\n",
              "      <td>7.4</td>\n",
              "      <td>0.700</td>\n",
              "      <td>0.00</td>\n",
              "      <td>1.9</td>\n",
              "      <td>0.076</td>\n",
              "      <td>11.0</td>\n",
              "      <td>34.0</td>\n",
              "      <td>0.99780</td>\n",
              "      <td>3.51</td>\n",
              "      <td>0.56</td>\n",
              "      <td>9.4</td>\n",
              "      <td>5</td>\n",
              "    </tr>\n",
              "    <tr>\n",
              "      <th>1</th>\n",
              "      <td>7.8</td>\n",
              "      <td>0.880</td>\n",
              "      <td>0.00</td>\n",
              "      <td>2.6</td>\n",
              "      <td>0.098</td>\n",
              "      <td>25.0</td>\n",
              "      <td>67.0</td>\n",
              "      <td>0.99680</td>\n",
              "      <td>3.20</td>\n",
              "      <td>0.68</td>\n",
              "      <td>9.8</td>\n",
              "      <td>5</td>\n",
              "    </tr>\n",
              "    <tr>\n",
              "      <th>2</th>\n",
              "      <td>7.8</td>\n",
              "      <td>0.760</td>\n",
              "      <td>0.04</td>\n",
              "      <td>2.3</td>\n",
              "      <td>0.092</td>\n",
              "      <td>15.0</td>\n",
              "      <td>54.0</td>\n",
              "      <td>0.99700</td>\n",
              "      <td>3.26</td>\n",
              "      <td>0.65</td>\n",
              "      <td>9.8</td>\n",
              "      <td>5</td>\n",
              "    </tr>\n",
              "    <tr>\n",
              "      <th>3</th>\n",
              "      <td>11.2</td>\n",
              "      <td>0.280</td>\n",
              "      <td>0.56</td>\n",
              "      <td>1.9</td>\n",
              "      <td>0.075</td>\n",
              "      <td>17.0</td>\n",
              "      <td>60.0</td>\n",
              "      <td>0.99800</td>\n",
              "      <td>3.16</td>\n",
              "      <td>0.58</td>\n",
              "      <td>9.8</td>\n",
              "      <td>6</td>\n",
              "    </tr>\n",
              "    <tr>\n",
              "      <th>4</th>\n",
              "      <td>7.4</td>\n",
              "      <td>0.700</td>\n",
              "      <td>0.00</td>\n",
              "      <td>1.9</td>\n",
              "      <td>0.076</td>\n",
              "      <td>11.0</td>\n",
              "      <td>34.0</td>\n",
              "      <td>0.99780</td>\n",
              "      <td>3.51</td>\n",
              "      <td>0.56</td>\n",
              "      <td>9.4</td>\n",
              "      <td>5</td>\n",
              "    </tr>\n",
              "    <tr>\n",
              "      <th>...</th>\n",
              "      <td>...</td>\n",
              "      <td>...</td>\n",
              "      <td>...</td>\n",
              "      <td>...</td>\n",
              "      <td>...</td>\n",
              "      <td>...</td>\n",
              "      <td>...</td>\n",
              "      <td>...</td>\n",
              "      <td>...</td>\n",
              "      <td>...</td>\n",
              "      <td>...</td>\n",
              "      <td>...</td>\n",
              "    </tr>\n",
              "    <tr>\n",
              "      <th>1594</th>\n",
              "      <td>6.2</td>\n",
              "      <td>0.600</td>\n",
              "      <td>0.08</td>\n",
              "      <td>2.0</td>\n",
              "      <td>0.090</td>\n",
              "      <td>32.0</td>\n",
              "      <td>44.0</td>\n",
              "      <td>0.99490</td>\n",
              "      <td>3.45</td>\n",
              "      <td>0.58</td>\n",
              "      <td>10.5</td>\n",
              "      <td>5</td>\n",
              "    </tr>\n",
              "    <tr>\n",
              "      <th>1595</th>\n",
              "      <td>5.9</td>\n",
              "      <td>0.550</td>\n",
              "      <td>0.10</td>\n",
              "      <td>2.2</td>\n",
              "      <td>0.062</td>\n",
              "      <td>39.0</td>\n",
              "      <td>51.0</td>\n",
              "      <td>0.99512</td>\n",
              "      <td>3.52</td>\n",
              "      <td>0.76</td>\n",
              "      <td>11.2</td>\n",
              "      <td>6</td>\n",
              "    </tr>\n",
              "    <tr>\n",
              "      <th>1596</th>\n",
              "      <td>6.3</td>\n",
              "      <td>0.510</td>\n",
              "      <td>0.13</td>\n",
              "      <td>2.3</td>\n",
              "      <td>0.076</td>\n",
              "      <td>29.0</td>\n",
              "      <td>40.0</td>\n",
              "      <td>0.99574</td>\n",
              "      <td>3.42</td>\n",
              "      <td>0.75</td>\n",
              "      <td>11.0</td>\n",
              "      <td>6</td>\n",
              "    </tr>\n",
              "    <tr>\n",
              "      <th>1597</th>\n",
              "      <td>5.9</td>\n",
              "      <td>0.645</td>\n",
              "      <td>0.12</td>\n",
              "      <td>2.0</td>\n",
              "      <td>0.075</td>\n",
              "      <td>32.0</td>\n",
              "      <td>44.0</td>\n",
              "      <td>0.99547</td>\n",
              "      <td>3.57</td>\n",
              "      <td>0.71</td>\n",
              "      <td>10.2</td>\n",
              "      <td>5</td>\n",
              "    </tr>\n",
              "    <tr>\n",
              "      <th>1598</th>\n",
              "      <td>6.0</td>\n",
              "      <td>0.310</td>\n",
              "      <td>0.47</td>\n",
              "      <td>3.6</td>\n",
              "      <td>0.067</td>\n",
              "      <td>18.0</td>\n",
              "      <td>42.0</td>\n",
              "      <td>0.99549</td>\n",
              "      <td>3.39</td>\n",
              "      <td>0.66</td>\n",
              "      <td>11.0</td>\n",
              "      <td>6</td>\n",
              "    </tr>\n",
              "  </tbody>\n",
              "</table>\n",
              "<p>1599 rows × 12 columns</p>\n",
              "</div>\n",
              "      <button class=\"colab-df-convert\" onclick=\"convertToInteractive('df-c4556685-8d55-429d-ac00-25c18d43c130')\"\n",
              "              title=\"Convert this dataframe to an interactive table.\"\n",
              "              style=\"display:none;\">\n",
              "        \n",
              "  <svg xmlns=\"http://www.w3.org/2000/svg\" height=\"24px\"viewBox=\"0 0 24 24\"\n",
              "       width=\"24px\">\n",
              "    <path d=\"M0 0h24v24H0V0z\" fill=\"none\"/>\n",
              "    <path d=\"M18.56 5.44l.94 2.06.94-2.06 2.06-.94-2.06-.94-.94-2.06-.94 2.06-2.06.94zm-11 1L8.5 8.5l.94-2.06 2.06-.94-2.06-.94L8.5 2.5l-.94 2.06-2.06.94zm10 10l.94 2.06.94-2.06 2.06-.94-2.06-.94-.94-2.06-.94 2.06-2.06.94z\"/><path d=\"M17.41 7.96l-1.37-1.37c-.4-.4-.92-.59-1.43-.59-.52 0-1.04.2-1.43.59L10.3 9.45l-7.72 7.72c-.78.78-.78 2.05 0 2.83L4 21.41c.39.39.9.59 1.41.59.51 0 1.02-.2 1.41-.59l7.78-7.78 2.81-2.81c.8-.78.8-2.07 0-2.86zM5.41 20L4 18.59l7.72-7.72 1.47 1.35L5.41 20z\"/>\n",
              "  </svg>\n",
              "      </button>\n",
              "      \n",
              "  <style>\n",
              "    .colab-df-container {\n",
              "      display:flex;\n",
              "      flex-wrap:wrap;\n",
              "      gap: 12px;\n",
              "    }\n",
              "\n",
              "    .colab-df-convert {\n",
              "      background-color: #E8F0FE;\n",
              "      border: none;\n",
              "      border-radius: 50%;\n",
              "      cursor: pointer;\n",
              "      display: none;\n",
              "      fill: #1967D2;\n",
              "      height: 32px;\n",
              "      padding: 0 0 0 0;\n",
              "      width: 32px;\n",
              "    }\n",
              "\n",
              "    .colab-df-convert:hover {\n",
              "      background-color: #E2EBFA;\n",
              "      box-shadow: 0px 1px 2px rgba(60, 64, 67, 0.3), 0px 1px 3px 1px rgba(60, 64, 67, 0.15);\n",
              "      fill: #174EA6;\n",
              "    }\n",
              "\n",
              "    [theme=dark] .colab-df-convert {\n",
              "      background-color: #3B4455;\n",
              "      fill: #D2E3FC;\n",
              "    }\n",
              "\n",
              "    [theme=dark] .colab-df-convert:hover {\n",
              "      background-color: #434B5C;\n",
              "      box-shadow: 0px 1px 3px 1px rgba(0, 0, 0, 0.15);\n",
              "      filter: drop-shadow(0px 1px 2px rgba(0, 0, 0, 0.3));\n",
              "      fill: #FFFFFF;\n",
              "    }\n",
              "  </style>\n",
              "\n",
              "      <script>\n",
              "        const buttonEl =\n",
              "          document.querySelector('#df-c4556685-8d55-429d-ac00-25c18d43c130 button.colab-df-convert');\n",
              "        buttonEl.style.display =\n",
              "          google.colab.kernel.accessAllowed ? 'block' : 'none';\n",
              "\n",
              "        async function convertToInteractive(key) {\n",
              "          const element = document.querySelector('#df-c4556685-8d55-429d-ac00-25c18d43c130');\n",
              "          const dataTable =\n",
              "            await google.colab.kernel.invokeFunction('convertToInteractive',\n",
              "                                                     [key], {});\n",
              "          if (!dataTable) return;\n",
              "\n",
              "          const docLinkHtml = 'Like what you see? Visit the ' +\n",
              "            '<a target=\"_blank\" href=https://colab.research.google.com/notebooks/data_table.ipynb>data table notebook</a>'\n",
              "            + ' to learn more about interactive tables.';\n",
              "          element.innerHTML = '';\n",
              "          dataTable['output_type'] = 'display_data';\n",
              "          await google.colab.output.renderOutput(dataTable, element);\n",
              "          const docLink = document.createElement('div');\n",
              "          docLink.innerHTML = docLinkHtml;\n",
              "          element.appendChild(docLink);\n",
              "        }\n",
              "      </script>\n",
              "    </div>\n",
              "  </div>\n",
              "  "
            ]
          },
          "metadata": {},
          "execution_count": 44
        }
      ]
    },
    {
      "cell_type": "code",
      "source": [
        "data=np.array(data)"
      ],
      "metadata": {
        "id": "XRH1IUZmIb8V"
      },
      "execution_count": 45,
      "outputs": []
    },
    {
      "cell_type": "code",
      "source": [
        "x = data[:, :-1]\n",
        "y = data[:, -1]"
      ],
      "metadata": {
        "id": "FbKwU48LIkV4"
      },
      "execution_count": 46,
      "outputs": []
    },
    {
      "cell_type": "code",
      "source": [
        "x=torch.tensor(x,dtype=torch.float32)\n",
        "y=torch.tensor(y,dtype=torch.float32).reshape(-1,1)"
      ],
      "metadata": {
        "id": "0G1JraywORSd"
      },
      "execution_count": 47,
      "outputs": []
    },
    {
      "cell_type": "code",
      "source": [
        "class Net(torch.nn.Module):\n",
        "  def __init__(self, in_feature, out_feature):\n",
        "    super().__init__()\n",
        "    self.fc1 = torch.nn.Linear(in_feature,64)\n",
        "    self.fc2 = torch.nn.Linear(64,16)\n",
        "    self.fc3 = torch.nn.Linear(16,8)\n",
        "    self.fc4 = torch.nn.Linear(8,out_feature)\n",
        "    self.af = torch.nn.ReLU()\n",
        "\n",
        "  def forward(self,x):\n",
        "    x = self.af(self.fc1(x))\n",
        "    x = self.af(self.fc2(x))\n",
        "    x = self.af(self.fc3(x))\n",
        "\n",
        "    out = self.fc4(x)\n",
        "    return out"
      ],
      "metadata": {
        "id": "ZlAVZFK7ROQf"
      },
      "execution_count": 48,
      "outputs": []
    },
    {
      "cell_type": "code",
      "source": [
        "model=Net(11,1)"
      ],
      "metadata": {
        "id": "0pCH33tHRpcR"
      },
      "execution_count": 49,
      "outputs": []
    },
    {
      "cell_type": "code",
      "source": [
        "criterion=torch.nn.MSELoss()\n",
        "l=0.01\n",
        "optimizer=torch.optim.Adam(model.parameters(),lr=l)"
      ],
      "metadata": {
        "id": "l3luZ-RmR8wy"
      },
      "execution_count": 50,
      "outputs": []
    },
    {
      "cell_type": "code",
      "source": [
        "x_train, x_test, y_train, y_test = train_test_split(x, y, test_size=0.2, random_state=42)"
      ],
      "metadata": {
        "id": "oR6RamQqPQM7"
      },
      "execution_count": 51,
      "outputs": []
    },
    {
      "cell_type": "code",
      "source": [
        "loss_history={\"train\": [],\"validation\" : []}"
      ],
      "metadata": {
        "id": "VXsbh5TUWVhp"
      },
      "execution_count": 52,
      "outputs": []
    },
    {
      "cell_type": "code",
      "source": [
        "def validation(model,criterion,loss_history,epoch):\n",
        "  val=model(x_test)\n",
        "  val_loss=criterion(val,y_test)\n",
        "  loss_history[\"validation\"].append(val_loss.item())\n",
        "  return val_loss.item()"
      ],
      "metadata": {
        "id": "e8szHEpfWwC_"
      },
      "execution_count": 53,
      "outputs": []
    },
    {
      "cell_type": "code",
      "source": [
        "def train(model,criterion,optimizer,loss_history,epoch):\n",
        "  optimizer.zero_grad()\n",
        "  y_hat=model(x_train)\n",
        "  loss=criterion(y_hat,y_train)\n",
        "  loss.backward()\n",
        "  loss_history[\"train\"].append(loss.item())\n",
        "  optimizer.step()\n",
        "  return loss.item()"
      ],
      "metadata": {
        "id": "_dz2f2OSX3bm"
      },
      "execution_count": 54,
      "outputs": []
    },
    {
      "cell_type": "code",
      "source": [
        "epoch=300\n",
        "for epoch in range(epoch):\n",
        "  loss=train(model,criterion,optimizer,loss_history,epoch)\n",
        "  val_loss=validation(model,criterion,loss_history,epoch)\n",
        "  if epoch%20==0:\n",
        "    print(f\"EPOCH: {epoch} \\t TRAIN_LOSS: {loss:.3f}  \\t  VAL_LOSS: {val_loss:.3f}\")"
      ],
      "metadata": {
        "colab": {
          "base_uri": "https://localhost:8080/"
        },
        "id": "KuVYSRcKZK6z",
        "outputId": "5dadd426-b065-4a4c-e566-ff6c9c7f3db8"
      },
      "execution_count": 55,
      "outputs": [
        {
          "output_type": "stream",
          "name": "stdout",
          "text": [
            "EPOCH: 0 \t TRAIN_LOSS: 30.810  \t  VAL_LOSS: 22.492\n",
            "EPOCH: 20 \t TRAIN_LOSS: 1.338  \t  VAL_LOSS: 1.220\n",
            "EPOCH: 40 \t TRAIN_LOSS: 0.673  \t  VAL_LOSS: 0.673\n",
            "EPOCH: 60 \t TRAIN_LOSS: 0.587  \t  VAL_LOSS: 0.572\n",
            "EPOCH: 80 \t TRAIN_LOSS: 0.547  \t  VAL_LOSS: 0.542\n",
            "EPOCH: 100 \t TRAIN_LOSS: 0.524  \t  VAL_LOSS: 0.520\n",
            "EPOCH: 120 \t TRAIN_LOSS: 0.507  \t  VAL_LOSS: 0.504\n",
            "EPOCH: 140 \t TRAIN_LOSS: 0.493  \t  VAL_LOSS: 0.490\n",
            "EPOCH: 160 \t TRAIN_LOSS: 0.482  \t  VAL_LOSS: 0.478\n",
            "EPOCH: 180 \t TRAIN_LOSS: 0.473  \t  VAL_LOSS: 0.468\n",
            "EPOCH: 200 \t TRAIN_LOSS: 0.466  \t  VAL_LOSS: 0.459\n",
            "EPOCH: 220 \t TRAIN_LOSS: 0.460  \t  VAL_LOSS: 0.451\n",
            "EPOCH: 240 \t TRAIN_LOSS: 0.455  \t  VAL_LOSS: 0.444\n",
            "EPOCH: 260 \t TRAIN_LOSS: 0.450  \t  VAL_LOSS: 0.438\n",
            "EPOCH: 280 \t TRAIN_LOSS: 0.447  \t  VAL_LOSS: 0.433\n"
          ]
        }
      ]
    },
    {
      "cell_type": "code",
      "source": [
        "plt.figure(dpi=200)\n",
        "\n",
        "plt.plot(list(range(epochs)),loss_history['train'], label='train')\n",
        "plt.plot(list(range(epochs)),loss_history['validation'], label='validation')\n",
        "plt.legend()\n",
        "plt.show()"
      ],
      "metadata": {
        "colab": {
          "base_uri": "https://localhost:8080/",
          "height": 734
        },
        "id": "YAyC0Turbeqg",
        "outputId": "02e9075d-afc2-49a5-9ea7-ef395088e09b"
      },
      "execution_count": 56,
      "outputs": [
        {
          "output_type": "display_data",
          "data": {
            "text/plain": [
              "<Figure size 1280x960 with 1 Axes>"
            ],
            "image/png": "[encoded data removed]"
          },
          "metadata": {}
        }
      ]
    },
    {
      "cell_type": "markdown",
      "source": [
        "#energy_effiency"
      ],
      "metadata": {
        "id": "q1ucUtwwicLR"
      }
    },
    {
      "cell_type": "markdown",
      "source": [
        "X1 Nisbiy ixchamlik\n",
        "\n",
        "X2 Sirt maydoni\n",
        "\n",
        "X3 Devor maydoni\n",
        "\n",
        "X4 Tom maydoni\n",
        "\n",
        "X5 Umumiy balandlik\n",
        "\n",
        "X6 Orientatsiya\n",
        "\n",
        "X7 Oynali maydon\n",
        "\n",
        "X8 Oynali maydon taqsimoti\n",
        "\n",
        "y1 Isitish yuki\n",
        "\n",
        "y2 Sovutish yuki"
      ],
      "metadata": {
        "id": "rFqxuPQSjves"
      }
    },
    {
      "cell_type": "code",
      "source": [
        "data=pd.read_csv(\"/content/ENB2012_data.csv\")\n",
        "data"
      ],
      "metadata": {
        "colab": {
          "base_uri": "https://localhost:8080/",
          "height": 424
        },
        "id": "N6TGKlzscltT",
        "outputId": "0c1b5966-60ee-424a-f577-66054cfbe662"
      },
      "execution_count": 164,
      "outputs": [
        {
          "output_type": "execute_result",
          "data": {
            "text/plain": [
              "       X1     X2     X3      X4   X5  X6   X7  X8     Y1     Y2\n",
              "0    0.98  514.5  294.0  110.25  7.0   2  0.0   0  15.55  21.33\n",
              "1    0.98  514.5  294.0  110.25  7.0   3  0.0   0  15.55  21.33\n",
              "2    0.98  514.5  294.0  110.25  7.0   4  0.0   0  15.55  21.33\n",
              "3    0.98  514.5  294.0  110.25  7.0   5  0.0   0  15.55  21.33\n",
              "4    0.90  563.5  318.5  122.50  7.0   2  0.0   0  20.84  28.28\n",
              "..    ...    ...    ...     ...  ...  ..  ...  ..    ...    ...\n",
              "763  0.64  784.0  343.0  220.50  3.5   5  0.4   5  17.88  21.40\n",
              "764  0.62  808.5  367.5  220.50  3.5   2  0.4   5  16.54  16.88\n",
              "765  0.62  808.5  367.5  220.50  3.5   3  0.4   5  16.44  17.11\n",
              "766  0.62  808.5  367.5  220.50  3.5   4  0.4   5  16.48  16.61\n",
              "767  0.62  808.5  367.5  220.50  3.5   5  0.4   5  16.64  16.03\n",
              "\n",
              "[768 rows x 10 columns]"
            ],
            "text/html": [
              "\n",
              "  <div id=\"df-b5fbc0a4-73cf-46bc-8062-0f7984f32f6d\">\n",
              "    <div class=\"colab-df-container\">\n",
              "      <div>\n",
              "<style scoped>\n",
              "    .dataframe tbody tr th:only-of-type {\n",
              "        vertical-align: middle;\n",
              "    }\n",
              "\n",
              "    .dataframe tbody tr th {\n",
              "        vertical-align: top;\n",
              "    }\n",
              "\n",
              "    .dataframe thead th {\n",
              "        text-align: right;\n",
              "    }\n",
              "</style>\n",
              "<table border=\"1\" class=\"dataframe\">\n",
              "  <thead>\n",
              "    <tr style=\"text-align: right;\">\n",
              "      <th></th>\n",
              "      <th>X1</th>\n",
              "      <th>X2</th>\n",
              "      <th>X3</th>\n",
              "      <th>X4</th>\n",
              "      <th>X5</th>\n",
              "      <th>X6</th>\n",
              "      <th>X7</th>\n",
              "      <th>X8</th>\n",
              "      <th>Y1</th>\n",
              "      <th>Y2</th>\n",
              "    </tr>\n",
              "  </thead>\n",
              "  <tbody>\n",
              "    <tr>\n",
              "      <th>0</th>\n",
              "      <td>0.98</td>\n",
              "      <td>514.5</td>\n",
              "      <td>294.0</td>\n",
              "      <td>110.25</td>\n",
              "      <td>7.0</td>\n",
              "      <td>2</td>\n",
              "      <td>0.0</td>\n",
              "      <td>0</td>\n",
              "      <td>15.55</td>\n",
              "      <td>21.33</td>\n",
              "    </tr>\n",
              "    <tr>\n",
              "      <th>1</th>\n",
              "      <td>0.98</td>\n",
              "      <td>514.5</td>\n",
              "      <td>294.0</td>\n",
              "      <td>110.25</td>\n",
              "      <td>7.0</td>\n",
              "      <td>3</td>\n",
              "      <td>0.0</td>\n",
              "      <td>0</td>\n",
              "      <td>15.55</td>\n",
              "      <td>21.33</td>\n",
              "    </tr>\n",
              "    <tr>\n",
              "      <th>2</th>\n",
              "      <td>0.98</td>\n",
              "      <td>514.5</td>\n",
              "      <td>294.0</td>\n",
              "      <td>110.25</td>\n",
              "      <td>7.0</td>\n",
              "      <td>4</td>\n",
              "      <td>0.0</td>\n",
              "      <td>0</td>\n",
              "      <td>15.55</td>\n",
              "      <td>21.33</td>\n",
              "    </tr>\n",
              "    <tr>\n",
              "      <th>3</th>\n",
              "      <td>0.98</td>\n",
              "      <td>514.5</td>\n",
              "      <td>294.0</td>\n",
              "      <td>110.25</td>\n",
              "      <td>7.0</td>\n",
              "      <td>5</td>\n",
              "      <td>0.0</td>\n",
              "      <td>0</td>\n",
              "      <td>15.55</td>\n",
              "      <td>21.33</td>\n",
              "    </tr>\n",
              "    <tr>\n",
              "      <th>4</th>\n",
              "      <td>0.90</td>\n",
              "      <td>563.5</td>\n",
              "      <td>318.5</td>\n",
              "      <td>122.50</td>\n",
              "      <td>7.0</td>\n",
              "      <td>2</td>\n",
              "      <td>0.0</td>\n",
              "      <td>0</td>\n",
              "      <td>20.84</td>\n",
              "      <td>28.28</td>\n",
              "    </tr>\n",
              "    <tr>\n",
              "      <th>...</th>\n",
              "      <td>...</td>\n",
              "      <td>...</td>\n",
              "      <td>...</td>\n",
              "      <td>...</td>\n",
              "      <td>...</td>\n",
              "      <td>...</td>\n",
              "      <td>...</td>\n",
              "      <td>...</td>\n",
              "      <td>...</td>\n",
              "      <td>...</td>\n",
              "    </tr>\n",
              "    <tr>\n",
              "      <th>763</th>\n",
              "      <td>0.64</td>\n",
              "      <td>784.0</td>\n",
              "      <td>343.0</td>\n",
              "      <td>220.50</td>\n",
              "      <td>3.5</td>\n",
              "      <td>5</td>\n",
              "      <td>0.4</td>\n",
              "      <td>5</td>\n",
              "      <td>17.88</td>\n",
              "      <td>21.40</td>\n",
              "    </tr>\n",
              "    <tr>\n",
              "      <th>764</th>\n",
              "      <td>0.62</td>\n",
              "      <td>808.5</td>\n",
              "      <td>367.5</td>\n",
              "      <td>220.50</td>\n",
              "      <td>3.5</td>\n",
              "      <td>2</td>\n",
              "      <td>0.4</td>\n",
              "      <td>5</td>\n",
              "      <td>16.54</td>\n",
              "      <td>16.88</td>\n",
              "    </tr>\n",
              "    <tr>\n",
              "      <th>765</th>\n",
              "      <td>0.62</td>\n",
              "      <td>808.5</td>\n",
              "      <td>367.5</td>\n",
              "      <td>220.50</td>\n",
              "      <td>3.5</td>\n",
              "      <td>3</td>\n",
              "      <td>0.4</td>\n",
              "      <td>5</td>\n",
              "      <td>16.44</td>\n",
              "      <td>17.11</td>\n",
              "    </tr>\n",
              "    <tr>\n",
              "      <th>766</th>\n",
              "      <td>0.62</td>\n",
              "      <td>808.5</td>\n",
              "      <td>367.5</td>\n",
              "      <td>220.50</td>\n",
              "      <td>3.5</td>\n",
              "      <td>4</td>\n",
              "      <td>0.4</td>\n",
              "      <td>5</td>\n",
              "      <td>16.48</td>\n",
              "      <td>16.61</td>\n",
              "    </tr>\n",
              "    <tr>\n",
              "      <th>767</th>\n",
              "      <td>0.62</td>\n",
              "      <td>808.5</td>\n",
              "      <td>367.5</td>\n",
              "      <td>220.50</td>\n",
              "      <td>3.5</td>\n",
              "      <td>5</td>\n",
              "      <td>0.4</td>\n",
              "      <td>5</td>\n",
              "      <td>16.64</td>\n",
              "      <td>16.03</td>\n",
              "    </tr>\n",
              "  </tbody>\n",
              "</table>\n",
              "<p>768 rows × 10 columns</p>\n",
              "</div>\n",
              "      <button class=\"colab-df-convert\" onclick=\"convertToInteractive('df-b5fbc0a4-73cf-46bc-8062-0f7984f32f6d')\"\n",
              "              title=\"Convert this dataframe to an interactive table.\"\n",
              "              style=\"display:none;\">\n",
              "        \n",
              "  <svg xmlns=\"http://www.w3.org/2000/svg\" height=\"24px\"viewBox=\"0 0 24 24\"\n",
              "       width=\"24px\">\n",
              "    <path d=\"M0 0h24v24H0V0z\" fill=\"none\"/>\n",
              "    <path d=\"M18.56 5.44l.94 2.06.94-2.06 2.06-.94-2.06-.94-.94-2.06-.94 2.06-2.06.94zm-11 1L8.5 8.5l.94-2.06 2.06-.94-2.06-.94L8.5 2.5l-.94 2.06-2.06.94zm10 10l.94 2.06.94-2.06 2.06-.94-2.06-.94-.94-2.06-.94 2.06-2.06.94z\"/><path d=\"M17.41 7.96l-1.37-1.37c-.4-.4-.92-.59-1.43-.59-.52 0-1.04.2-1.43.59L10.3 9.45l-7.72 7.72c-.78.78-.78 2.05 0 2.83L4 21.41c.39.39.9.59 1.41.59.51 0 1.02-.2 1.41-.59l7.78-7.78 2.81-2.81c.8-.78.8-2.07 0-2.86zM5.41 20L4 18.59l7.72-7.72 1.47 1.35L5.41 20z\"/>\n",
              "  </svg>\n",
              "      </button>\n",
              "      \n",
              "  <style>\n",
              "    .colab-df-container {\n",
              "      display:flex;\n",
              "      flex-wrap:wrap;\n",
              "      gap: 12px;\n",
              "    }\n",
              "\n",
              "    .colab-df-convert {\n",
              "      background-color: #E8F0FE;\n",
              "      border: none;\n",
              "      border-radius: 50%;\n",
              "      cursor: pointer;\n",
              "      display: none;\n",
              "      fill: #1967D2;\n",
              "      height: 32px;\n",
              "      padding: 0 0 0 0;\n",
              "      width: 32px;\n",
              "    }\n",
              "\n",
              "    .colab-df-convert:hover {\n",
              "      background-color: #E2EBFA;\n",
              "      box-shadow: 0px 1px 2px rgba(60, 64, 67, 0.3), 0px 1px 3px 1px rgba(60, 64, 67, 0.15);\n",
              "      fill: #174EA6;\n",
              "    }\n",
              "\n",
              "    [theme=dark] .colab-df-convert {\n",
              "      background-color: #3B4455;\n",
              "      fill: #D2E3FC;\n",
              "    }\n",
              "\n",
              "    [theme=dark] .colab-df-convert:hover {\n",
              "      background-color: #434B5C;\n",
              "      box-shadow: 0px 1px 3px 1px rgba(0, 0, 0, 0.15);\n",
              "      filter: drop-shadow(0px 1px 2px rgba(0, 0, 0, 0.3));\n",
              "      fill: #FFFFFF;\n",
              "    }\n",
              "  </style>\n",
              "\n",
              "      <script>\n",
              "        const buttonEl =\n",
              "          document.querySelector('#df-b5fbc0a4-73cf-46bc-8062-0f7984f32f6d button.colab-df-convert');\n",
              "        buttonEl.style.display =\n",
              "          google.colab.kernel.accessAllowed ? 'block' : 'none';\n",
              "\n",
              "        async function convertToInteractive(key) {\n",
              "          const element = document.querySelector('#df-b5fbc0a4-73cf-46bc-8062-0f7984f32f6d');\n",
              "          const dataTable =\n",
              "            await google.colab.kernel.invokeFunction('convertToInteractive',\n",
              "                                                     [key], {});\n",
              "          if (!dataTable) return;\n",
              "\n",
              "          const docLinkHtml = 'Like what you see? Visit the ' +\n",
              "            '<a target=\"_blank\" href=https://colab.research.google.com/notebooks/data_table.ipynb>data table notebook</a>'\n",
              "            + ' to learn more about interactive tables.';\n",
              "          element.innerHTML = '';\n",
              "          dataTable['output_type'] = 'display_data';\n",
              "          await google.colab.output.renderOutput(dataTable, element);\n",
              "          const docLink = document.createElement('div');\n",
              "          docLink.innerHTML = docLinkHtml;\n",
              "          element.appendChild(docLink);\n",
              "        }\n",
              "      </script>\n",
              "    </div>\n",
              "  </div>\n",
              "  "
            ]
          },
          "metadata": {},
          "execution_count": 164
        }
      ]
    },
    {
      "cell_type": "code",
      "source": [
        "data = pd.read_csv(\"/content/ENB2012_data.csv\")\n",
        "data = np.array(data)\n",
        "x = data[:, :-2]\n",
        "y = data[:, -2]\n",
        "x = torch.tensor(x, dtype=torch.float32)\n",
        "y = torch.tensor(y, dtype=torch.float32).reshape(-1,1)"
      ],
      "metadata": {
        "id": "lxAtlN6Nj6WJ"
      },
      "execution_count": 165,
      "outputs": []
    },
    {
      "cell_type": "code",
      "source": [
        "x_train, x_test, y_train, y_test = train_test_split(x, y, test_size=0.3, random_state=42)"
      ],
      "metadata": {
        "id": "lAd8RIFPq3bY"
      },
      "execution_count": 166,
      "outputs": []
    },
    {
      "cell_type": "code",
      "source": [
        "x_train = x_train.reshape(-1,8)\n",
        "x_test = x_test.reshape(-1,8)\n",
        "y_train = y_train.reshape(-1, 1)\n",
        "y_test = y_test.reshape(-1, 1)\n"
      ],
      "metadata": {
        "id": "GK9-w4d0OfKF"
      },
      "execution_count": 167,
      "outputs": []
    },
    {
      "cell_type": "code",
      "source": [
        "class Net(torch.nn.Module):\n",
        "  def __init__(self, in_feature, out_feature):\n",
        "    super().__init__()\n",
        "    self.fc1=torch.nn.Linear(in_feature,64)\n",
        "    self.fc2=torch.nn.Linear(64,16)\n",
        "    self.fc3=torch.nn.Linear(16,8)\n",
        "    self.fc4=torch.nn.Linear(8,out_feature)\n",
        "    self.af = torch.nn.ReLU()\n",
        "  def forward(self,x):\n",
        "    x=self.af(self.fc1(x))\n",
        "    x=self.af(self.fc2(x))\n",
        "    x=self.af(self.fc3(x))\n",
        "    out = self.fc4(x)\n",
        "    return out"
      ],
      "metadata": {
        "id": "fGjn7EGhnS9r"
      },
      "execution_count": 168,
      "outputs": []
    },
    {
      "cell_type": "code",
      "source": [
        "model=Net(8,2)"
      ],
      "metadata": {
        "id": "dfuPruaqqWJS"
      },
      "execution_count": 169,
      "outputs": []
    },
    {
      "cell_type": "code",
      "source": [
        "criterion=torch.nn.MSELoss()\n",
        "l=0.01\n",
        "optimizer=torch.optim.Adam(model.parameters(),lr=l)"
      ],
      "metadata": {
        "id": "gfRtANgyqdHb"
      },
      "execution_count": 170,
      "outputs": []
    },
    {
      "cell_type": "code",
      "source": [
        "loss_history={\"train\": [],\"validation\": []}"
      ],
      "metadata": {
        "id": "CLSI_I2HvYrs"
      },
      "execution_count": 171,
      "outputs": []
    },
    {
      "cell_type": "code",
      "source": [
        "def validation(model,criterion,loss_history,epoch):\n",
        "  val=model(x_test)\n",
        "  val_loss=criterion(val,y_test)\n",
        "  loss_history[\"validation\"].append(val_loss.item())\n",
        "  return val_loss.item()"
      ],
      "metadata": {
        "id": "W6lJTdTjvxqK"
      },
      "execution_count": 172,
      "outputs": []
    },
    {
      "cell_type": "code",
      "source": [
        "def train(model, criterion, optimizer, loss_history, epoch):\n",
        "  optimizer.zero_grad()\n",
        "  y_hat=model(x_train)\n",
        "  loss=criterion(y_hat,y_train)\n",
        "  loss.backward()\n",
        "  optimizer.step()\n",
        "  loss_history[\"train\"].append(loss.item())\n",
        "  return loss.item()\n"
      ],
      "metadata": {
        "id": "6YywFFuPwyP_"
      },
      "execution_count": 173,
      "outputs": []
    },
    {
      "cell_type": "code",
      "source": [
        "epochs = 1500\n",
        "for epoch in range(epochs):\n",
        "  loss = train(model, criterion, optimizer, loss_history, epoch)\n",
        "  val_loss = validation(model, criterion, loss_history, epoch)\n",
        "  if epoch%20 == 0:\n",
        "    print(f\"EPOCH: {epoch} \\t TRAIN_LOSS: {loss:.3f}  \\t  VAL_LOSS: {val_loss:.3f}\")"
      ],
      "metadata": {
        "colab": {
          "base_uri": "https://localhost:8080/"
        },
        "id": "OoExq3F9x2-o",
        "outputId": "c82ab57e-828e-491e-eb60-374b49ef89ee"
      },
      "execution_count": 174,
      "outputs": [
        {
          "output_type": "stream",
          "name": "stderr",
          "text": [
            "/usr/local/lib/python3.10/dist-packages/torch/nn/modules/loss.py:536: UserWarning: Using a target size (torch.Size([537, 1])) that is different to the input size (torch.Size([537, 2])). This will likely lead to incorrect results due to broadcasting. Please ensure they have the same size.\n",
            "  return F.mse_loss(input, target, reduction=self.reduction)\n",
            "/usr/local/lib/python3.10/dist-packages/torch/nn/modules/loss.py:536: UserWarning: Using a target size (torch.Size([231, 1])) that is different to the input size (torch.Size([231, 2])). This will likely lead to incorrect results due to broadcasting. Please ensure they have the same size.\n",
            "  return F.mse_loss(input, target, reduction=self.reduction)\n"
          ]
        },
        {
          "output_type": "stream",
          "name": "stdout",
          "text": [
            "EPOCH: 0 \t TRAIN_LOSS: 722.277  \t  VAL_LOSS: 486.749\n",
            "EPOCH: 20 \t TRAIN_LOSS: 127.744  \t  VAL_LOSS: 124.777\n",
            "EPOCH: 40 \t TRAIN_LOSS: 76.236  \t  VAL_LOSS: 74.600\n",
            "EPOCH: 60 \t TRAIN_LOSS: 31.319  \t  VAL_LOSS: 30.207\n",
            "EPOCH: 80 \t TRAIN_LOSS: 26.618  \t  VAL_LOSS: 25.445\n",
            "EPOCH: 100 \t TRAIN_LOSS: 24.420  \t  VAL_LOSS: 24.025\n",
            "EPOCH: 120 \t TRAIN_LOSS: 22.544  \t  VAL_LOSS: 22.116\n",
            "EPOCH: 140 \t TRAIN_LOSS: 20.752  \t  VAL_LOSS: 20.461\n",
            "EPOCH: 160 \t TRAIN_LOSS: 19.122  \t  VAL_LOSS: 19.064\n",
            "EPOCH: 180 \t TRAIN_LOSS: 17.848  \t  VAL_LOSS: 18.302\n",
            "EPOCH: 200 \t TRAIN_LOSS: 16.441  \t  VAL_LOSS: 16.970\n",
            "EPOCH: 220 \t TRAIN_LOSS: 15.661  \t  VAL_LOSS: 16.422\n",
            "EPOCH: 240 \t TRAIN_LOSS: 15.570  \t  VAL_LOSS: 15.522\n",
            "EPOCH: 260 \t TRAIN_LOSS: 14.408  \t  VAL_LOSS: 15.319\n",
            "EPOCH: 280 \t TRAIN_LOSS: 13.951  \t  VAL_LOSS: 14.768\n",
            "EPOCH: 300 \t TRAIN_LOSS: 14.060  \t  VAL_LOSS: 14.130\n",
            "EPOCH: 320 \t TRAIN_LOSS: 14.050  \t  VAL_LOSS: 14.533\n",
            "EPOCH: 340 \t TRAIN_LOSS: 14.271  \t  VAL_LOSS: 15.334\n",
            "EPOCH: 360 \t TRAIN_LOSS: 13.265  \t  VAL_LOSS: 13.834\n",
            "EPOCH: 380 \t TRAIN_LOSS: 12.824  \t  VAL_LOSS: 13.314\n",
            "EPOCH: 400 \t TRAIN_LOSS: 13.770  \t  VAL_LOSS: 14.810\n",
            "EPOCH: 420 \t TRAIN_LOSS: 13.026  \t  VAL_LOSS: 14.396\n",
            "EPOCH: 440 \t TRAIN_LOSS: 12.438  \t  VAL_LOSS: 13.042\n",
            "EPOCH: 460 \t TRAIN_LOSS: 14.041  \t  VAL_LOSS: 16.199\n",
            "EPOCH: 480 \t TRAIN_LOSS: 11.760  \t  VAL_LOSS: 12.364\n",
            "EPOCH: 500 \t TRAIN_LOSS: 11.934  \t  VAL_LOSS: 12.503\n",
            "EPOCH: 520 \t TRAIN_LOSS: 11.424  \t  VAL_LOSS: 11.970\n",
            "EPOCH: 540 \t TRAIN_LOSS: 13.677  \t  VAL_LOSS: 16.449\n",
            "EPOCH: 560 \t TRAIN_LOSS: 11.338  \t  VAL_LOSS: 11.627\n",
            "EPOCH: 580 \t TRAIN_LOSS: 10.893  \t  VAL_LOSS: 11.368\n",
            "EPOCH: 600 \t TRAIN_LOSS: 13.981  \t  VAL_LOSS: 13.949\n",
            "EPOCH: 620 \t TRAIN_LOSS: 10.602  \t  VAL_LOSS: 11.069\n",
            "EPOCH: 640 \t TRAIN_LOSS: 10.540  \t  VAL_LOSS: 11.004\n",
            "EPOCH: 660 \t TRAIN_LOSS: 10.525  \t  VAL_LOSS: 10.781\n",
            "EPOCH: 680 \t TRAIN_LOSS: 10.662  \t  VAL_LOSS: 11.290\n",
            "EPOCH: 700 \t TRAIN_LOSS: 11.400  \t  VAL_LOSS: 11.695\n",
            "EPOCH: 720 \t TRAIN_LOSS: 10.478  \t  VAL_LOSS: 10.666\n",
            "EPOCH: 740 \t TRAIN_LOSS: 10.041  \t  VAL_LOSS: 11.491\n",
            "EPOCH: 760 \t TRAIN_LOSS: 10.945  \t  VAL_LOSS: 11.438\n",
            "EPOCH: 780 \t TRAIN_LOSS: 11.468  \t  VAL_LOSS: 12.458\n",
            "EPOCH: 800 \t TRAIN_LOSS: 13.018  \t  VAL_LOSS: 13.402\n",
            "EPOCH: 820 \t TRAIN_LOSS: 10.442  \t  VAL_LOSS: 10.087\n",
            "EPOCH: 840 \t TRAIN_LOSS: 9.394  \t  VAL_LOSS: 10.191\n",
            "EPOCH: 860 \t TRAIN_LOSS: 10.212  \t  VAL_LOSS: 9.689\n",
            "EPOCH: 880 \t TRAIN_LOSS: 9.587  \t  VAL_LOSS: 10.087\n",
            "EPOCH: 900 \t TRAIN_LOSS: 9.057  \t  VAL_LOSS: 9.591\n",
            "EPOCH: 920 \t TRAIN_LOSS: 9.188  \t  VAL_LOSS: 11.546\n",
            "EPOCH: 940 \t TRAIN_LOSS: 10.012  \t  VAL_LOSS: 9.880\n",
            "EPOCH: 960 \t TRAIN_LOSS: 9.021  \t  VAL_LOSS: 9.468\n",
            "EPOCH: 980 \t TRAIN_LOSS: 8.869  \t  VAL_LOSS: 9.327\n",
            "EPOCH: 1000 \t TRAIN_LOSS: 10.248  \t  VAL_LOSS: 10.201\n",
            "EPOCH: 1020 \t TRAIN_LOSS: 8.693  \t  VAL_LOSS: 9.636\n",
            "EPOCH: 1040 \t TRAIN_LOSS: 9.759  \t  VAL_LOSS: 9.601\n",
            "EPOCH: 1060 \t TRAIN_LOSS: 8.553  \t  VAL_LOSS: 9.075\n",
            "EPOCH: 1080 \t TRAIN_LOSS: 8.452  \t  VAL_LOSS: 9.037\n",
            "EPOCH: 1100 \t TRAIN_LOSS: 9.238  \t  VAL_LOSS: 10.463\n",
            "EPOCH: 1120 \t TRAIN_LOSS: 11.241  \t  VAL_LOSS: 10.134\n",
            "EPOCH: 1140 \t TRAIN_LOSS: 8.559  \t  VAL_LOSS: 9.291\n",
            "EPOCH: 1160 \t TRAIN_LOSS: 8.415  \t  VAL_LOSS: 8.968\n",
            "EPOCH: 1180 \t TRAIN_LOSS: 8.259  \t  VAL_LOSS: 8.740\n",
            "EPOCH: 1200 \t TRAIN_LOSS: 8.139  \t  VAL_LOSS: 8.643\n",
            "EPOCH: 1220 \t TRAIN_LOSS: 8.050  \t  VAL_LOSS: 8.549\n",
            "EPOCH: 1240 \t TRAIN_LOSS: 8.025  \t  VAL_LOSS: 8.596\n",
            "EPOCH: 1260 \t TRAIN_LOSS: 13.412  \t  VAL_LOSS: 10.770\n",
            "EPOCH: 1280 \t TRAIN_LOSS: 8.540  \t  VAL_LOSS: 8.670\n",
            "EPOCH: 1300 \t TRAIN_LOSS: 8.100  \t  VAL_LOSS: 8.494\n",
            "EPOCH: 1320 \t TRAIN_LOSS: 7.883  \t  VAL_LOSS: 8.380\n",
            "EPOCH: 1340 \t TRAIN_LOSS: 7.769  \t  VAL_LOSS: 8.232\n",
            "EPOCH: 1360 \t TRAIN_LOSS: 7.676  \t  VAL_LOSS: 8.127\n",
            "EPOCH: 1380 \t TRAIN_LOSS: 7.595  \t  VAL_LOSS: 8.030\n",
            "EPOCH: 1400 \t TRAIN_LOSS: 7.545  \t  VAL_LOSS: 7.991\n",
            "EPOCH: 1420 \t TRAIN_LOSS: 20.292  \t  VAL_LOSS: 14.876\n",
            "EPOCH: 1440 \t TRAIN_LOSS: 9.109  \t  VAL_LOSS: 9.461\n",
            "EPOCH: 1460 \t TRAIN_LOSS: 8.315  \t  VAL_LOSS: 8.585\n",
            "EPOCH: 1480 \t TRAIN_LOSS: 7.966  \t  VAL_LOSS: 8.443\n"
          ]
        }
      ]
    },
    {
      "cell_type": "code",
      "source": [
        "plt.figure(dpi=200)\n",
        "\n",
        "plt.plot(list(range(epochs)),loss_history['train'], label='train')\n",
        "plt.plot(list(range(epochs)),loss_history['validation'], label='validation')\n",
        "plt.legend()\n",
        "plt.show()"
      ],
      "metadata": {
        "colab": {
          "base_uri": "https://localhost:8080/",
          "height": 723
        },
        "id": "ZSr8JqBtmrRq",
        "outputId": "2534f32f-2d9c-40e6-99f8-605130c12a60"
      },
      "execution_count": 175,
      "outputs": [
        {
          "output_type": "display_data",
          "data": {
            "text/plain": [
              "<Figure size 1280x960 with 1 Axes>"
            ],
            "image/png": "[encoded data removed]"
          },
          "metadata": {}
        }
      ]
    },
    {
      "cell_type": "code",
      "source": [],
      "metadata": {
        "id": "Ruv-5Pf8mv5Z"
      },
      "execution_count": null,
      "outputs": []
    }
  ]
}