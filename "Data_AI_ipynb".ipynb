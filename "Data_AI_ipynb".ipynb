{
  "nbformat": 4,
  "nbformat_minor": 0,
  "metadata": {
    "colab": {
      "provenance": [],
      "authorship_tag": "ABX9TyOffSubG0D2tKX6lrA5mAtK",
      "include_colab_link": true
    },
    "kernelspec": {
      "name": "python3",
      "display_name": "Python 3"
    },
    "language_info": {
      "name": "python"
    }
  },
  "cells": [
    {
      "cell_type": "markdown",
      "metadata": {
        "id": "view-in-github",
        "colab_type": "text"
      },
      "source": [
        "<a href=\"https://colab.research.google.com/github/Bahrombekk/pytorch/blob/main/%22Data_AI_ipynb%22.ipynb\" target=\"_parent\"><img src=\"https://colab.research.google.com/assets/colab-badge.svg\" alt=\"Open In Colab\"/></a>"
      ]
    },
    {
      "cell_type": "code",
      "execution_count": 1,
      "metadata": {
        "id": "o8clW6w6xcOp"
      },
      "outputs": [],
      "source": [
        "import torch\n",
        "import torch.nn as nn\n",
        "from torch.utils.data import Dataset,DataLoader,random_split\n",
        "import torch.nn.functional as F\n",
        "import glob\n",
        "\n",
        "from tqdm import tqdm\n",
        "import numpy as np\n",
        "import matplotlib.pyplot as plt\n",
        "from sklearn.metrics import accuracy_score\n",
        "# from torchinfo import summary\n",
        "from torchsummary import summary\n",
        "import pathlib\n",
        "from PIL import Image\n",
        "from torchvision.transforms import transforms\n",
        "from torch.optim import Adam\n",
        "\n",
        "import torchvision.transforms as T"
      ]
    },
    {
      "cell_type": "code",
      "source": [
        "!pip install torchinfo"
      ],
      "metadata": {
        "colab": {
          "base_uri": "https://localhost:8080/"
        },
        "id": "9hnVo-xfxeYq",
        "outputId": "e89464e1-fd81-45a4-87da-01ce02acf2a4"
      },
      "execution_count": 2,
      "outputs": [
        {
          "output_type": "stream",
          "name": "stdout",
          "text": [
            "Collecting torchinfo\n",
            "  Downloading torchinfo-1.8.0-py3-none-any.whl (23 kB)\n",
            "Installing collected packages: torchinfo\n",
            "Successfully installed torchinfo-1.8.0\n"
          ]
        }
      ]
    },
    {
      "cell_type": "markdown",
      "source": [
        "#Kompiyuter va telifon"
      ],
      "metadata": {
        "id": "nLPflCnKDYqB"
      }
    },
    {
      "cell_type": "code",
      "source": [
        "! wget -O dataset.zip https://www.dropbox.com/s/e5f4epncmydijrw/Komp_in_tel.zip?dl=0"
      ],
      "metadata": {
        "colab": {
          "base_uri": "https://localhost:8080/"
        },
        "id": "TngDOzw5xjhe",
        "outputId": "93dd9d6a-5d6f-438a-c29b-554580777803"
      },
      "execution_count": 20,
      "outputs": [
        {
          "output_type": "stream",
          "name": "stdout",
          "text": [
            "--2023-07-10 18:54:19--  https://www.dropbox.com/s/e5f4epncmydijrw/Komp_in_tel.zip?dl=0\n",
            "Resolving www.dropbox.com (www.dropbox.com)... 162.125.2.18, 2620:100:6022:18::a27d:4212\n",
            "Connecting to www.dropbox.com (www.dropbox.com)|162.125.2.18|:443... connected.\n",
            "HTTP request sent, awaiting response... 302 Found\n",
            "Location: /s/raw/e5f4epncmydijrw/Komp_in_tel.zip [following]\n",
            "--2023-07-10 18:54:20--  https://www.dropbox.com/s/raw/e5f4epncmydijrw/Komp_in_tel.zip\n",
            "Reusing existing connection to www.dropbox.com:443.\n",
            "HTTP request sent, awaiting response... 302 Found\n",
            "Location: https://uc4df43d8ee6ee163d6714737e75.dl.dropboxusercontent.com/cd/0/inline/B_lws7Zle2dlogfV2GE0pRChQd6MuyteJLS1bv6Obc7TkSMrIcxNUTxEOUqVUhbXisoIeBoiL7UyqrqSXld8j_hhaiu5IwDMz-kxtJRfX8RZGqqGyW8NubKiI_pKBGE45jeR2d8yTB1320ztrcPtL_q9wyI4M8kwEIo5dKZ7R0qQjA/file# [following]\n",
            "--2023-07-10 18:54:20--  https://uc4df43d8ee6ee163d6714737e75.dl.dropboxusercontent.com/cd/0/inline/B_lws7Zle2dlogfV2GE0pRChQd6MuyteJLS1bv6Obc7TkSMrIcxNUTxEOUqVUhbXisoIeBoiL7UyqrqSXld8j_hhaiu5IwDMz-kxtJRfX8RZGqqGyW8NubKiI_pKBGE45jeR2d8yTB1320ztrcPtL_q9wyI4M8kwEIo5dKZ7R0qQjA/file\n",
            "Resolving uc4df43d8ee6ee163d6714737e75.dl.dropboxusercontent.com (uc4df43d8ee6ee163d6714737e75.dl.dropboxusercontent.com)... 162.125.81.15, 2620:100:6017:15::a27d:20f\n",
            "Connecting to uc4df43d8ee6ee163d6714737e75.dl.dropboxusercontent.com (uc4df43d8ee6ee163d6714737e75.dl.dropboxusercontent.com)|162.125.81.15|:443... connected.\n",
            "HTTP request sent, awaiting response... 302 Found\n",
            "Location: /cd/0/inline2/B_lOwPJAADnTjQSQv_9ynn9VdjGhuNAsaenUf2od1qhdgmX7uoj3eTszJJa4pvhjpV9_Osy4cXJ-BHsN1nx-fidcEUbHENXdQnTWFFtWit80H6MUwLZgr7HyvPwJWt44mUoyKNhO3Yt4w0YhoUiYGl1KPNkhQZyzrlI2fTHqkBrnvCkCWSwkUX3D73LNOjrQv2x3pecLvS5khLc1159jVtpZh2mvACe5gW1aloomvctxMdlv5EMZVS0l3H6CMUQlKUAe513dunSJanodNv7z-n4TblUm2cKebkk0TnqFV9vn4gFnZ-AvSmVfpvOBPQU-HaDKt_Plxz7u9OtPAynYZ-HamF0s7vAZoFBvN8oMurs03K-3xrnpljZBGn-CNZg6BmM9uc7pRigTGL5Mc2nHP_wg5bdCOUyVVEPL8eIfTUQokQ/file [following]\n",
            "--2023-07-10 18:54:21--  https://uc4df43d8ee6ee163d6714737e75.dl.dropboxusercontent.com/cd/0/inline2/B_lOwPJAADnTjQSQv_9ynn9VdjGhuNAsaenUf2od1qhdgmX7uoj3eTszJJa4pvhjpV9_Osy4cXJ-BHsN1nx-fidcEUbHENXdQnTWFFtWit80H6MUwLZgr7HyvPwJWt44mUoyKNhO3Yt4w0YhoUiYGl1KPNkhQZyzrlI2fTHqkBrnvCkCWSwkUX3D73LNOjrQv2x3pecLvS5khLc1159jVtpZh2mvACe5gW1aloomvctxMdlv5EMZVS0l3H6CMUQlKUAe513dunSJanodNv7z-n4TblUm2cKebkk0TnqFV9vn4gFnZ-AvSmVfpvOBPQU-HaDKt_Plxz7u9OtPAynYZ-HamF0s7vAZoFBvN8oMurs03K-3xrnpljZBGn-CNZg6BmM9uc7pRigTGL5Mc2nHP_wg5bdCOUyVVEPL8eIfTUQokQ/file\n",
            "Reusing existing connection to uc4df43d8ee6ee163d6714737e75.dl.dropboxusercontent.com:443.\n",
            "HTTP request sent, awaiting response... 200 OK\n",
            "Length: 1525693 (1.5M) [application/zip]\n",
            "Saving to: ‘dataset.zip’\n",
            "\n",
            "dataset.zip         100%[===================>]   1.45M  1.38MB/s    in 1.1s    \n",
            "\n",
            "2023-07-10 18:54:23 (1.38 MB/s) - ‘dataset.zip’ saved [1525693/1525693]\n",
            "\n"
          ]
        }
      ]
    },
    {
      "cell_type": "code",
      "source": [
        "!unzip dataset.zip"
      ],
      "metadata": {
        "id": "WyA0sJEVxmsk"
      },
      "execution_count": null,
      "outputs": []
    },
    {
      "cell_type": "code",
      "source": [
        "device = torch.device(\"cuda\") if torch.cuda.is_available() else torch.device(\"cpu\")"
      ],
      "metadata": {
        "id": "uzXp7Xw3xpvE"
      },
      "execution_count": 166,
      "outputs": []
    },
    {
      "cell_type": "code",
      "source": [
        "transform = T.Compose([\n",
        "    T.Resize(size=(150,150)),\n",
        "    T.ToTensor()\n",
        "])"
      ],
      "metadata": {
        "id": "Rlmw35C7xrtm"
      },
      "execution_count": 167,
      "outputs": []
    },
    {
      "cell_type": "code",
      "source": [
        "class KOMP_in_tel_Dataset(Dataset):\n",
        "    def __init__(self, path, transform = None):\n",
        "        self.path_list = list(path.glob('*/*.jpg'))\n",
        "        self.transform = transform\n",
        "    def __getitem__(self,index):\n",
        "        img = Image.open(self.path_list[index])\n",
        "        label = (self.path_list[index]).parts[-2]\n",
        "        label = 0 if 'kompiyuter' in label else 1\n",
        "        if transform != None:\n",
        "            img = transform(img)\n",
        "        return img, int(label)\n",
        "    def __len__(self):\n",
        "        return len(self.path_list)"
      ],
      "metadata": {
        "id": "YGFfUzeIxt_s"
      },
      "execution_count": 168,
      "outputs": []
    },
    {
      "cell_type": "code",
      "source": [
        "train_path = pathlib.Path('/content/Komp_in_tel/train')\n",
        "test_path = pathlib.Path('/content/Komp_in_tel/validation')"
      ],
      "metadata": {
        "id": "X7CNq4uOxwg6"
      },
      "execution_count": 169,
      "outputs": []
    },
    {
      "cell_type": "code",
      "source": [
        "train_dataset = KOMP_in_tel_Dataset(train_path, transform)\n",
        "test_dataset = KOMP_in_tel_Dataset(test_path, transform)"
      ],
      "metadata": {
        "id": "h3BnAV1YxzQf"
      },
      "execution_count": 170,
      "outputs": []
    },
    {
      "cell_type": "code",
      "source": [
        "path_list = list(train_path.glob('*/*.jpg'))\n",
        "path_test=list(test_path.glob('*/*.jpg'))"
      ],
      "metadata": {
        "id": "DBTR8rRdx2eg"
      },
      "execution_count": 171,
      "outputs": []
    },
    {
      "cell_type": "code",
      "source": [
        "train_data = DataLoader(train_dataset, batch_size=50, shuffle=True)\n",
        "test_data = DataLoader(test_dataset, batch_size=50, shuffle=True)"
      ],
      "metadata": {
        "id": "4XGcRylJx4mA"
      },
      "execution_count": 172,
      "outputs": []
    },
    {
      "cell_type": "code",
      "source": [
        "class ConvNet(nn.Module):\n",
        "    def __init__(self,num_classes=2):\n",
        "        super(ConvNet,self).__init__()\n",
        "        self.conv1=nn.Conv2d(in_channels=3,out_channels=12,kernel_size=3,stride=1,padding=1)\n",
        "        self.bn1=nn.BatchNorm2d(num_features=12)\n",
        "        self.relu1=nn.ReLU()\n",
        "        self.pool=nn.MaxPool2d(kernel_size=2)\n",
        "        self.conv2=nn.Conv2d(in_channels=12,out_channels=20,kernel_size=3,stride=1,padding=1)\n",
        "        self.relu2=nn.ReLU()\n",
        "        self.conv3=nn.Conv2d(in_channels=20,out_channels=32,kernel_size=3,stride=1,padding=1)\n",
        "        self.bn3=nn.BatchNorm2d(num_features=32)\n",
        "        self.relu3=nn.ReLU()\n",
        "        self.fc=nn.Linear(in_features=75 * 75 * 32,out_features=num_classes)\n",
        "    def forward(self,input):\n",
        "        output=self.conv1(input)\n",
        "        output=self.bn1(output)\n",
        "        output=self.relu1(output)\n",
        "        output=self.pool(output)\n",
        "        output=self.conv2(output)\n",
        "        output=self.relu2(output)\n",
        "        output=self.conv3(output)\n",
        "        output=self.bn3(output)\n",
        "        output=self.relu3(output)\n",
        "        output=output.view(-1,32*75*75)\n",
        "        output=self.fc(output)\n",
        "        return output\n"
      ],
      "metadata": {
        "id": "D9VmiQWPx7MS"
      },
      "execution_count": 173,
      "outputs": []
    },
    {
      "cell_type": "code",
      "source": [
        "model=ConvNet()"
      ],
      "metadata": {
        "id": "vQrWdwHtx9Cj"
      },
      "execution_count": 174,
      "outputs": []
    },
    {
      "cell_type": "code",
      "source": [
        "learning_rate = 0.001\n",
        "criterion = nn.CrossEntropyLoss()\n",
        "optimizer = torch.optim.Adam(model.parameters(),lr=learning_rate)"
      ],
      "metadata": {
        "id": "zeOD66KsyAGI"
      },
      "execution_count": 175,
      "outputs": []
    },
    {
      "cell_type": "code",
      "source": [
        "num_epochs = 5"
      ],
      "metadata": {
        "id": "gCcbdCj2yCWM"
      },
      "execution_count": 176,
      "outputs": []
    },
    {
      "cell_type": "code",
      "source": [
        "class Trainer:\n",
        "    def __init__(self, model, train_dataloader, test_dataloader, criterion, optimizer, epochs=3):\n",
        "        self.model = model\n",
        "        self.train_dataloader = train_dataloader\n",
        "        self.test_dataloader = test_dataloader\n",
        "        self.criterion = criterion\n",
        "        self.optimizer = optimizer\n",
        "        self.epochs = epochs\n",
        "        self.history = {'loss':[],'acc':[],'val_loss':[],'val_acc':[]}\n",
        "    def train_loop(self):\n",
        "        sum_loss = 0\n",
        "        sum_accuracy = 0\n",
        "        n = len(self.train_dataloader)\n",
        "        for i, (data,label) in enumerate(tqdm(self.train_dataloader)):\n",
        "            data = data.to(device)\n",
        "            label = label.to(device)\n",
        "            output = self.model(data)\n",
        "            loss = self.criterion(output, label)\n",
        "            sum_loss += loss.item()\n",
        "            n_corrects = (output.argmax(axis=1)==label).sum().item()\n",
        "            sum_accuracy += n_corrects/label.size(0)\n",
        "            loss.backward()\n",
        "            self.optimizer.step()\n",
        "            self.optimizer.zero_grad()\n",
        "        train_loss = sum_loss/n\n",
        "        train_accuracy = sum_accuracy/n\n",
        "        self.history['loss'].append(train_loss)\n",
        "        self.history['acc'].append(train_accuracy)\n",
        "        return train_loss, train_accuracy\n",
        "    def validation_loop(self):\n",
        "        sum_loss = 0\n",
        "        sum_accuracy = 0\n",
        "        n = len(self.test_dataloader)\n",
        "        for i, (data,label) in enumerate(tqdm(self.test_dataloader)):\n",
        "            data = data.to(device)\n",
        "            label = label.to(device)\n",
        "            output = self.model(data)\n",
        "            loss = self.criterion(output, label)\n",
        "            n_corrects = (output.argmax(axis=1)==label).sum().item()\n",
        "            sum_loss += loss.item()\n",
        "            sum_accuracy += n_corrects/label.size(0)\n",
        "        val_loss = sum_loss/n\n",
        "        val_accuracy = sum_accuracy/n\n",
        "        self.history['val_loss'].append(val_loss)\n",
        "        self.history['val_acc'].append(val_accuracy)\n",
        "        return val_loss, val_accuracy\n",
        "    def train(self):\n",
        "        for epoch in range(num_epochs):\n",
        "            train_loss, train_acc = self.train_loop()\n",
        "            val_loss, val_acc = self.validation_loop()\n",
        "            print()\n",
        "            print(f'Epoch[{epoch+1}/{num_epochs}] \\t train_loss: {train_loss:.5f}, train_acc: {train_acc:.2f} \\t val_loss: {val_loss:.5f} \\t val_acc: {val_acc:.2}')\n"
      ],
      "metadata": {
        "id": "CCn78OVRyEvV"
      },
      "execution_count": 177,
      "outputs": []
    },
    {
      "cell_type": "code",
      "source": [
        "trainer = Trainer(\n",
        "    model = model.to(device),\n",
        "    train_dataloader = train_data,\n",
        "    test_dataloader = test_data,\n",
        "    criterion=criterion,\n",
        "    optimizer=optimizer\n",
        ")"
      ],
      "metadata": {
        "id": "wqLTDKKmyHi-"
      },
      "execution_count": 178,
      "outputs": []
    },
    {
      "cell_type": "code",
      "source": [
        "trainer.train()"
      ],
      "metadata": {
        "colab": {
          "base_uri": "https://localhost:8080/"
        },
        "id": "4nT_LgCYyJy2",
        "outputId": "60bf6331-b278-46dc-c3c5-cd6d794daaed"
      },
      "execution_count": 179,
      "outputs": [
        {
          "output_type": "stream",
          "name": "stderr",
          "text": [
            "100%|██████████| 4/4 [00:04<00:00,  1.22s/it]\n",
            "100%|██████████| 1/1 [00:00<00:00, 10.97it/s]\n"
          ]
        },
        {
          "output_type": "stream",
          "name": "stdout",
          "text": [
            "\n",
            "Epoch[1/5] \t train_loss: 6.03382, train_acc: 0.62 \t val_loss: 7.32580 \t val_acc: 0.7\n"
          ]
        },
        {
          "output_type": "stream",
          "name": "stderr",
          "text": [
            "100%|██████████| 4/4 [00:05<00:00,  1.37s/it]\n",
            "100%|██████████| 1/1 [00:00<00:00, 10.54it/s]\n"
          ]
        },
        {
          "output_type": "stream",
          "name": "stdout",
          "text": [
            "\n",
            "Epoch[2/5] \t train_loss: 3.99455, train_acc: 0.85 \t val_loss: 5.75101 \t val_acc: 0.6\n"
          ]
        },
        {
          "output_type": "stream",
          "name": "stderr",
          "text": [
            "100%|██████████| 4/4 [00:04<00:00,  1.22s/it]\n",
            "100%|██████████| 1/1 [00:00<00:00, 11.06it/s]\n"
          ]
        },
        {
          "output_type": "stream",
          "name": "stdout",
          "text": [
            "\n",
            "Epoch[3/5] \t train_loss: 2.39932, train_acc: 0.87 \t val_loss: 0.00000 \t val_acc: 1.0\n"
          ]
        },
        {
          "output_type": "stream",
          "name": "stderr",
          "text": [
            "100%|██████████| 4/4 [00:04<00:00,  1.24s/it]\n",
            "100%|██████████| 1/1 [00:00<00:00,  7.75it/s]\n"
          ]
        },
        {
          "output_type": "stream",
          "name": "stdout",
          "text": [
            "\n",
            "Epoch[4/5] \t train_loss: 0.99552, train_acc: 0.93 \t val_loss: 0.00000 \t val_acc: 1.0\n"
          ]
        },
        {
          "output_type": "stream",
          "name": "stderr",
          "text": [
            "100%|██████████| 4/4 [00:05<00:00,  1.36s/it]\n",
            "100%|██████████| 1/1 [00:00<00:00, 11.08it/s]"
          ]
        },
        {
          "output_type": "stream",
          "name": "stdout",
          "text": [
            "\n",
            "Epoch[5/5] \t train_loss: 0.46252, train_acc: 0.97 \t val_loss: 3.30386 \t val_acc: 0.8\n"
          ]
        },
        {
          "output_type": "stream",
          "name": "stderr",
          "text": [
            "\n"
          ]
        }
      ]
    },
    {
      "cell_type": "code",
      "source": [
        "test_img,test_label=next(iter(test_data))\n",
        "pred=model(test_img.to(device))\n",
        "pred=pred.argmax(axis=1)\n",
        "pred = pred.detach().cpu()\n",
        "from sklearn.metrics import confusion_matrix\n",
        "print( test_label)\n",
        "cm=confusion_matrix(test_label,pred)\n",
        "print(cm)\n",
        "import seaborn as sns\n",
        "sns.heatmap(cm,annot=True)"
      ],
      "metadata": {
        "colab": {
          "base_uri": "https://localhost:8080/",
          "height": 504
        },
        "id": "hdUNwU0syPKl",
        "outputId": "96975114-306b-4c70-86f9-46c62f9c45df"
      },
      "execution_count": 180,
      "outputs": [
        {
          "output_type": "stream",
          "name": "stdout",
          "text": [
            "tensor([1, 1, 1, 1, 1, 1, 1, 1, 1, 1])\n",
            "[[0 0]\n",
            " [2 8]]\n"
          ]
        },
        {
          "output_type": "execute_result",
          "data": {
            "text/plain": [
              "<Axes: >"
            ]
          },
          "metadata": {},
          "execution_count": 180
        },
        {
          "output_type": "display_data",
          "data": {
            "text/plain": [
              "<Figure size 640x480 with 2 Axes>"
            ],
            "image/png": "[encoded data removed]"
          },
          "metadata": {}
        }
      ]
    },
    {
      "cell_type": "markdown",
      "source": [
        "#Stol kompiyuteri va novutbuk"
      ],
      "metadata": {
        "id": "DubcT0xRDgt-"
      }
    },
    {
      "cell_type": "code",
      "source": [
        "! wget -O dataset.zip https://www.dropbox.com/s/fdlnoh5stmumy0d/Kompiyuter.zip?dl=0"
      ],
      "metadata": {
        "colab": {
          "base_uri": "https://localhost:8080/"
        },
        "id": "ds94rdnyBOow",
        "outputId": "0c929b0f-eb7a-4f15-94c4-d393beca14b0"
      },
      "execution_count": 59,
      "outputs": [
        {
          "output_type": "stream",
          "name": "stdout",
          "text": [
            "--2023-07-10 18:59:53--  https://www.dropbox.com/s/fdlnoh5stmumy0d/Kompiyuter.zip?dl=0\n",
            "Resolving www.dropbox.com (www.dropbox.com)... 162.125.2.18, 2620:100:6017:18::a27d:212\n",
            "Connecting to www.dropbox.com (www.dropbox.com)|162.125.2.18|:443... connected.\n",
            "HTTP request sent, awaiting response... 302 Found\n",
            "Location: /s/raw/fdlnoh5stmumy0d/Kompiyuter.zip [following]\n",
            "--2023-07-10 18:59:53--  https://www.dropbox.com/s/raw/fdlnoh5stmumy0d/Kompiyuter.zip\n",
            "Reusing existing connection to www.dropbox.com:443.\n",
            "HTTP request sent, awaiting response... 302 Found\n",
            "Location: https://uc662858fb43c6c3faa0315d39ee.dl.dropboxusercontent.com/cd/0/inline/B_mgU6VKUg_5XDO-6DJJ6l4eB0EBwqZVxl8438jVILZO73QtrTwYFNPtIIBbRZme0fu8lHvuo620YBGqckjNsmE7xq-QjnaNuS-F9Zij0UT75Wx79PPpokjg3xPTS-GAehNLAnPw0o3OPkrrzGBS6FXAdxQ2T0CJKJOFoierevhYnw/file# [following]\n",
            "--2023-07-10 18:59:54--  https://uc662858fb43c6c3faa0315d39ee.dl.dropboxusercontent.com/cd/0/inline/B_mgU6VKUg_5XDO-6DJJ6l4eB0EBwqZVxl8438jVILZO73QtrTwYFNPtIIBbRZme0fu8lHvuo620YBGqckjNsmE7xq-QjnaNuS-F9Zij0UT75Wx79PPpokjg3xPTS-GAehNLAnPw0o3OPkrrzGBS6FXAdxQ2T0CJKJOFoierevhYnw/file\n",
            "Resolving uc662858fb43c6c3faa0315d39ee.dl.dropboxusercontent.com (uc662858fb43c6c3faa0315d39ee.dl.dropboxusercontent.com)... 162.125.66.15, 2620:100:6022:15::a27d:420f\n",
            "Connecting to uc662858fb43c6c3faa0315d39ee.dl.dropboxusercontent.com (uc662858fb43c6c3faa0315d39ee.dl.dropboxusercontent.com)|162.125.66.15|:443... connected.\n",
            "HTTP request sent, awaiting response... 302 Found\n",
            "Location: /cd/0/inline2/B_mjbF6JHQMSSGUfPa_Tmt9n965X_MhEuXNvvoXlckqzffhrbqhJTj58lMiCQu1NA3oC1ULKOIxu8HrOYb9-WOIp1VULYf_9V4ou5jBs-wZhu9wK7vss7MSCsGcp_s42Kipv0T--neDLu6jkrvBZNw4zJEnhejnAKGpd1J29BpfsiE-6Ur209xzr6_npwFMOSOW5PhogIHhDkSCXVrZo7pUq1J7tXozpJcGNk3nSXhZQ_UiBhz15K5_qin11t4MwFKOPfnf4lYijW6iNgimIm56CDmOGeBf1MrwdTYle0uvYi4L77TuflTpq2DvzosdCW2CUP2ZAbEKrpMf9I1yGveSQvJ2nVObrKXFgLVYO6_NbWhtYO72lNTfI5LdG9gNMJp_iSmqOXs3EhFK2co-oliU6Vbnix2iFFgIFFbrpgg4JTQ/file [following]\n",
            "--2023-07-10 18:59:55--  https://uc662858fb43c6c3faa0315d39ee.dl.dropboxusercontent.com/cd/0/inline2/B_mjbF6JHQMSSGUfPa_Tmt9n965X_MhEuXNvvoXlckqzffhrbqhJTj58lMiCQu1NA3oC1ULKOIxu8HrOYb9-WOIp1VULYf_9V4ou5jBs-wZhu9wK7vss7MSCsGcp_s42Kipv0T--neDLu6jkrvBZNw4zJEnhejnAKGpd1J29BpfsiE-6Ur209xzr6_npwFMOSOW5PhogIHhDkSCXVrZo7pUq1J7tXozpJcGNk3nSXhZQ_UiBhz15K5_qin11t4MwFKOPfnf4lYijW6iNgimIm56CDmOGeBf1MrwdTYle0uvYi4L77TuflTpq2DvzosdCW2CUP2ZAbEKrpMf9I1yGveSQvJ2nVObrKXFgLVYO6_NbWhtYO72lNTfI5LdG9gNMJp_iSmqOXs3EhFK2co-oliU6Vbnix2iFFgIFFbrpgg4JTQ/file\n",
            "Reusing existing connection to uc662858fb43c6c3faa0315d39ee.dl.dropboxusercontent.com:443.\n",
            "HTTP request sent, awaiting response... 200 OK\n",
            "Length: 865265 (845K) [application/zip]\n",
            "Saving to: ‘dataset.zip’\n",
            "\n",
            "dataset.zip         100%[===================>] 844.99K  1.02MB/s    in 0.8s    \n",
            "\n",
            "2023-07-10 18:59:56 (1.02 MB/s) - ‘dataset.zip’ saved [865265/865265]\n",
            "\n"
          ]
        }
      ]
    },
    {
      "cell_type": "code",
      "source": [
        "!unzip dataset.zip"
      ],
      "metadata": {
        "id": "YfFaV3lTBZdW"
      },
      "execution_count": null,
      "outputs": []
    },
    {
      "cell_type": "code",
      "source": [
        "device = torch.device(\"cuda\") if torch.cuda.is_available() else torch.device(\"cpu\")"
      ],
      "metadata": {
        "id": "6zBwzk-CBeit"
      },
      "execution_count": 62,
      "outputs": []
    },
    {
      "cell_type": "code",
      "source": [
        "transform = T.Compose([\n",
        "    T.Resize(size=(150,150)),\n",
        "    T.ToTensor()\n",
        "])"
      ],
      "metadata": {
        "id": "bd-LCNCABhbQ"
      },
      "execution_count": 63,
      "outputs": []
    },
    {
      "cell_type": "code",
      "source": [
        "class KompyuterDataset(Dataset):\n",
        "    def __init__(self, path, transform = None):\n",
        "        self.path_list = list(path.glob('*/*.jpg'))\n",
        "        self.transform = transform\n",
        "    def __getitem__(self,index):\n",
        "        img = Image.open(self.path_list[index])\n",
        "        label = (self.path_list[index]).parts[-2]\n",
        "        label = 0 if 'kompiyuter' in label else 1\n",
        "        if transform != None:\n",
        "            img = transform(img)\n",
        "        return img, int(label)\n",
        "    def __len__(self):\n",
        "        return len(self.path_list)"
      ],
      "metadata": {
        "id": "NtBVuoH6Bkuf"
      },
      "execution_count": 153,
      "outputs": []
    },
    {
      "cell_type": "code",
      "source": [
        "train_path = pathlib.Path('/content/Kompiyuter/train')\n",
        "test_path = pathlib.Path('/content/Kompiyuter/validation')"
      ],
      "metadata": {
        "id": "ArV10cESBrZS"
      },
      "execution_count": 154,
      "outputs": []
    },
    {
      "cell_type": "code",
      "source": [
        "train_dataset = KompyuterDataset(train_path, transform)\n",
        "test_dataset = KompyuterDataset(test_path, transform)"
      ],
      "metadata": {
        "id": "u6mDrx4gB2bp"
      },
      "execution_count": 155,
      "outputs": []
    },
    {
      "cell_type": "code",
      "source": [
        "path_list = list(train_path.glob('*/*.jpg'))\n",
        "path_test=list(test_path.glob('*/*.jpg'))"
      ],
      "metadata": {
        "id": "q80wBAFZB51A"
      },
      "execution_count": 156,
      "outputs": []
    },
    {
      "cell_type": "code",
      "source": [
        "train_data = DataLoader(train_dataset, batch_size=50, shuffle=True)\n",
        "test_data = DataLoader(test_dataset, batch_size=50, shuffle=True)"
      ],
      "metadata": {
        "id": "15a-2rGPB9Ns"
      },
      "execution_count": 157,
      "outputs": []
    },
    {
      "cell_type": "code",
      "source": [
        "class ConvNet(nn.Module):\n",
        "    def __init__(self,num_classes=2):\n",
        "        super(ConvNet,self).__init__()\n",
        "        self.conv1=nn.Conv2d(in_channels=3,out_channels=12,kernel_size=3,stride=1,padding=1)\n",
        "        self.bn1=nn.BatchNorm2d(num_features=12)\n",
        "        self.relu1=nn.ReLU()\n",
        "        self.pool=nn.MaxPool2d(kernel_size=2)\n",
        "        self.conv2=nn.Conv2d(in_channels=12,out_channels=20,kernel_size=3,stride=1,padding=1)\n",
        "        self.relu2=nn.ReLU()\n",
        "        self.conv3=nn.Conv2d(in_channels=20,out_channels=32,kernel_size=3,stride=1,padding=1)\n",
        "        self.bn3=nn.BatchNorm2d(num_features=32)\n",
        "        self.relu3=nn.ReLU()\n",
        "        self.fc=nn.Linear(in_features=75 * 75 * 32,out_features=num_classes)\n",
        "    def forward(self,input):\n",
        "        output=self.conv1(input)\n",
        "        output=self.bn1(output)\n",
        "        output=self.relu1(output)\n",
        "        output=self.pool(output)\n",
        "        output=self.conv2(output)\n",
        "        output=self.relu2(output)\n",
        "        output=self.conv3(output)\n",
        "        output=self.bn3(output)\n",
        "        output=self.relu3(output)\n",
        "        output=output.view(-1,32*75*75)\n",
        "        output=self.fc(output)\n",
        "        return output\n"
      ],
      "metadata": {
        "id": "wsWOohFRCAq-"
      },
      "execution_count": 158,
      "outputs": []
    },
    {
      "cell_type": "code",
      "source": [
        "model=ConvNet()"
      ],
      "metadata": {
        "id": "w8dRQ3ONCDov"
      },
      "execution_count": 159,
      "outputs": []
    },
    {
      "cell_type": "code",
      "source": [
        "learning_rate = 0.001\n",
        "criterion = nn.CrossEntropyLoss()\n",
        "optimizer = torch.optim.Adam(model.parameters(),lr=learning_rate)"
      ],
      "metadata": {
        "id": "XAKd-6SWCGOZ"
      },
      "execution_count": 160,
      "outputs": []
    },
    {
      "cell_type": "code",
      "source": [
        "num_epochs = 5"
      ],
      "metadata": {
        "id": "kJQKM3I5CJNw"
      },
      "execution_count": 161,
      "outputs": []
    },
    {
      "cell_type": "code",
      "source": [
        "class Trainer:\n",
        "    def __init__(self, model, train_dataloader, test_dataloader, criterion, optimizer, epochs=3):\n",
        "        self.model = model\n",
        "        self.train_dataloader = train_dataloader\n",
        "        self.test_dataloader = test_dataloader\n",
        "        self.criterion = criterion\n",
        "        self.optimizer = optimizer\n",
        "        self.epochs = epochs\n",
        "        self.history = {'loss':[],'acc':[],'val_loss':[],'val_acc':[]}\n",
        "    def train_loop(self):\n",
        "        sum_loss = 0\n",
        "        sum_accuracy = 0\n",
        "        n = len(self.train_dataloader)\n",
        "        for i, (data,label) in enumerate(tqdm(self.train_dataloader)):\n",
        "            data = data.to(device)\n",
        "            label = label.to(device)\n",
        "            output = self.model(data)\n",
        "            loss = self.criterion(output, label)\n",
        "            sum_loss += loss.item()\n",
        "            n_corrects = (output.argmax(axis=1)==label).sum().item()\n",
        "            sum_accuracy += n_corrects/label.size(0)\n",
        "            loss.backward()\n",
        "            self.optimizer.step()\n",
        "            self.optimizer.zero_grad()\n",
        "        train_loss = sum_loss/n\n",
        "        train_accuracy = sum_accuracy/n\n",
        "        self.history['loss'].append(train_loss)\n",
        "        self.history['acc'].append(train_accuracy)\n",
        "        return train_loss, train_accuracy\n",
        "    def validation_loop(self):\n",
        "        sum_loss = 0\n",
        "        sum_accuracy = 0\n",
        "        n = len(self.test_dataloader)\n",
        "        for i, (data,label) in enumerate(tqdm(self.test_dataloader)):\n",
        "            data = data.to(device)\n",
        "            label = label.to(device)\n",
        "            output = self.model(data)\n",
        "            loss = self.criterion(output, label)\n",
        "            n_corrects = (output.argmax(axis=1)==label).sum().item()\n",
        "            sum_loss += loss.item()\n",
        "            sum_accuracy += n_corrects/label.size(0)\n",
        "        val_loss = sum_loss/n\n",
        "        val_accuracy = sum_accuracy/n\n",
        "        self.history['val_loss'].append(val_loss)\n",
        "        self.history['val_acc'].append(val_accuracy)\n",
        "        return val_loss, val_accuracy\n",
        "    def train(self):\n",
        "        for epoch in range(num_epochs):\n",
        "            train_loss, train_acc = self.train_loop()\n",
        "            val_loss, val_acc = self.validation_loop()\n",
        "            print()\n",
        "            print(f'Epoch[{epoch+1}/{num_epochs}] \\t train_loss: {train_loss:.5f}, train_acc: {train_acc:.2f} \\t val_loss: {val_loss:.5f} \\t val_acc: {val_acc:.2}')\n"
      ],
      "metadata": {
        "id": "DTeiwZVJCMCu"
      },
      "execution_count": 162,
      "outputs": []
    },
    {
      "cell_type": "code",
      "source": [
        "trainer = Trainer(\n",
        "    model = model.to(device),\n",
        "    train_dataloader = train_data,\n",
        "    test_dataloader = test_data,\n",
        "    criterion=criterion,\n",
        "    optimizer=optimizer\n",
        ")"
      ],
      "metadata": {
        "id": "3IQN7YtHCPC3"
      },
      "execution_count": 163,
      "outputs": []
    },
    {
      "cell_type": "code",
      "source": [
        "trainer.train()"
      ],
      "metadata": {
        "colab": {
          "base_uri": "https://localhost:8080/"
        },
        "id": "qrRMzS27CSys",
        "outputId": "e20978ea-8d1d-4ca7-fee8-6c030c20598c"
      },
      "execution_count": 164,
      "outputs": [
        {
          "output_type": "stream",
          "name": "stderr",
          "text": [
            "100%|██████████| 2/2 [00:02<00:00,  1.21s/it]\n",
            "100%|██████████| 1/1 [00:00<00:00,  5.46it/s]\n"
          ]
        },
        {
          "output_type": "stream",
          "name": "stdout",
          "text": [
            "\n",
            "Epoch[1/5] \t train_loss: 23.66635, train_acc: 0.42 \t val_loss: 2.90132 \t val_acc: 0.65\n"
          ]
        },
        {
          "output_type": "stream",
          "name": "stderr",
          "text": [
            "100%|██████████| 2/2 [00:02<00:00,  1.17s/it]\n",
            "100%|██████████| 1/1 [00:00<00:00,  5.19it/s]\n"
          ]
        },
        {
          "output_type": "stream",
          "name": "stdout",
          "text": [
            "\n",
            "Epoch[2/5] \t train_loss: 15.83187, train_acc: 0.66 \t val_loss: 21.39245 \t val_acc: 0.5\n"
          ]
        },
        {
          "output_type": "stream",
          "name": "stderr",
          "text": [
            "100%|██████████| 2/2 [00:03<00:00,  1.64s/it]\n",
            "100%|██████████| 1/1 [00:00<00:00,  5.30it/s]\n"
          ]
        },
        {
          "output_type": "stream",
          "name": "stdout",
          "text": [
            "\n",
            "Epoch[3/5] \t train_loss: 10.03863, train_acc: 0.65 \t val_loss: 12.23822 \t val_acc: 0.5\n"
          ]
        },
        {
          "output_type": "stream",
          "name": "stderr",
          "text": [
            "100%|██████████| 2/2 [00:02<00:00,  1.16s/it]\n",
            "100%|██████████| 1/1 [00:00<00:00,  5.61it/s]\n"
          ]
        },
        {
          "output_type": "stream",
          "name": "stdout",
          "text": [
            "\n",
            "Epoch[4/5] \t train_loss: 9.71026, train_acc: 0.58 \t val_loss: 17.39186 \t val_acc: 0.5\n"
          ]
        },
        {
          "output_type": "stream",
          "name": "stderr",
          "text": [
            "100%|██████████| 2/2 [00:02<00:00,  1.20s/it]\n",
            "100%|██████████| 1/1 [00:00<00:00,  5.64it/s]"
          ]
        },
        {
          "output_type": "stream",
          "name": "stdout",
          "text": [
            "\n",
            "Epoch[5/5] \t train_loss: 3.45240, train_acc: 0.79 \t val_loss: 4.28478 \t val_acc: 0.75\n"
          ]
        },
        {
          "output_type": "stream",
          "name": "stderr",
          "text": [
            "\n"
          ]
        }
      ]
    },
    {
      "cell_type": "code",
      "source": [
        "test_img,test_label=next(iter(test_data))\n",
        "pred=model(test_img.to(device))\n",
        "pred=pred.argmax(axis=1)\n",
        "pred = pred.detach().cpu()\n",
        "from sklearn.metrics import confusion_matrix\n",
        "print( test_label)\n",
        "cm=confusion_matrix(test_label,pred)\n",
        "print(cm)\n",
        "import seaborn as sns\n",
        "sns.heatmap(cm,annot=True)"
      ],
      "metadata": {
        "colab": {
          "base_uri": "https://localhost:8080/",
          "height": 504
        },
        "id": "YW760-ZaCrzm",
        "outputId": "f26f2c4e-2fc3-4092-f745-58aa7a686d3b"
      },
      "execution_count": 165,
      "outputs": [
        {
          "output_type": "stream",
          "name": "stdout",
          "text": [
            "tensor([0, 0, 0, 0, 1, 1, 0, 1, 0, 1, 1, 0, 1, 0, 1, 1, 0, 1, 0, 1])\n",
            "[[8 2]\n",
            " [3 7]]\n"
          ]
        },
        {
          "output_type": "execute_result",
          "data": {
            "text/plain": [
              "<Axes: >"
            ]
          },
          "metadata": {},
          "execution_count": 165
        },
        {
          "output_type": "display_data",
          "data": {
            "text/plain": [
              "<Figure size 640x480 with 2 Axes>"
            ],
            "image/png": "[encoded data removed]"
          },
          "metadata": {}
        }
      ]
    },
    {
      "cell_type": "markdown",
      "source": [
        "#Teztibbiy yordam va Politsiya moshinalari"
      ],
      "metadata": {
        "id": "naWKZDZ9DdaW"
      }
    },
    {
      "cell_type": "code",
      "source": [
        "! wget -O tezyordam_in_polis.zip https://www.dropbox.com/s/zbrbvyj6la2jivv/Tez_in_polis.zip?dl=0"
      ],
      "metadata": {
        "id": "GdAk39BjDkXE",
        "outputId": "2085e476-38dc-4539-e4d8-e5b6fa9beb01",
        "colab": {
          "base_uri": "https://localhost:8080/"
        }
      },
      "execution_count": 3,
      "outputs": [
        {
          "output_type": "stream",
          "name": "stdout",
          "text": [
            "--2023-07-10 18:48:44--  https://www.dropbox.com/s/zbrbvyj6la2jivv/Tez_in_polis.zip?dl=0\n",
            "Resolving www.dropbox.com (www.dropbox.com)... 162.125.2.18, 2620:100:6022:18::a27d:4212\n",
            "Connecting to www.dropbox.com (www.dropbox.com)|162.125.2.18|:443... connected.\n",
            "HTTP request sent, awaiting response... 302 Found\n",
            "Location: /s/raw/zbrbvyj6la2jivv/Tez_in_polis.zip [following]\n",
            "--2023-07-10 18:48:51--  https://www.dropbox.com/s/raw/zbrbvyj6la2jivv/Tez_in_polis.zip\n",
            "Reusing existing connection to www.dropbox.com:443.\n",
            "HTTP request sent, awaiting response... 302 Found\n",
            "Location: https://uc227d26a4abf792617a5fdc001f.dl.dropboxusercontent.com/cd/0/inline/B_mzwGL-W60oUthNovdLjPo42n_7i509P3ijtbMeqVfLzLVMWkewhetHjK8az1-aQ3SRlHDvHSzh-WqGy7k_qVNQ2Tn-KD-7eZ0w3J-XzzzalhtHZJD1TopbBF-TcpnLX5la7ZDD58i8fePFmYnizer3fsA91rM_cPuyyNuxNwzMgg/file# [following]\n",
            "--2023-07-10 18:48:52--  https://uc227d26a4abf792617a5fdc001f.dl.dropboxusercontent.com/cd/0/inline/B_mzwGL-W60oUthNovdLjPo42n_7i509P3ijtbMeqVfLzLVMWkewhetHjK8az1-aQ3SRlHDvHSzh-WqGy7k_qVNQ2Tn-KD-7eZ0w3J-XzzzalhtHZJD1TopbBF-TcpnLX5la7ZDD58i8fePFmYnizer3fsA91rM_cPuyyNuxNwzMgg/file\n",
            "Resolving uc227d26a4abf792617a5fdc001f.dl.dropboxusercontent.com (uc227d26a4abf792617a5fdc001f.dl.dropboxusercontent.com)... 162.125.81.15, 2620:100:6017:15::a27d:20f\n",
            "Connecting to uc227d26a4abf792617a5fdc001f.dl.dropboxusercontent.com (uc227d26a4abf792617a5fdc001f.dl.dropboxusercontent.com)|162.125.81.15|:443... connected.\n",
            "HTTP request sent, awaiting response... 302 Found\n",
            "Location: /cd/0/inline2/B_lGi7CMIEPYCKBY2R93mqNXMxUcAJSBqEUiCK1nW8gOQ2C9j571NjRvNajVkxgQ64oK89PFeVs98kQW43hjjUatQHXsibAHZoGmkEgsCv52SrxR-fLkwHWXeqcstp3GRbLY-cAiy9ipyrpQe5_w5c_H_lgUuSnPigr_hBT2SEQWxd6yoO28vjF5o6uW2dMuaxuSiRRmYcxmerWoDVP3I74Av0cLC-hv_D0WTA0ptN4Yc6yxdlLTzSD2bzSZSin0W6lIvlNj8-LWa7NsF45fHYOgTUpvoRWn0ghvyjx3wvF0Ku-gIlJ8iiCf-kXPVz2XEmIdKI2gN_2hRSnSW6Dy-_QnMRzUnwIwUC3VkAhsscJpPeZAbMoIih51bfNsXKvKHkTLGmRodJW8_KwoGwB9thzSA4JxUrxHUoDWAj77fN7V6Q/file [following]\n",
            "--2023-07-10 18:48:53--  https://uc227d26a4abf792617a5fdc001f.dl.dropboxusercontent.com/cd/0/inline2/B_lGi7CMIEPYCKBY2R93mqNXMxUcAJSBqEUiCK1nW8gOQ2C9j571NjRvNajVkxgQ64oK89PFeVs98kQW43hjjUatQHXsibAHZoGmkEgsCv52SrxR-fLkwHWXeqcstp3GRbLY-cAiy9ipyrpQe5_w5c_H_lgUuSnPigr_hBT2SEQWxd6yoO28vjF5o6uW2dMuaxuSiRRmYcxmerWoDVP3I74Av0cLC-hv_D0WTA0ptN4Yc6yxdlLTzSD2bzSZSin0W6lIvlNj8-LWa7NsF45fHYOgTUpvoRWn0ghvyjx3wvF0Ku-gIlJ8iiCf-kXPVz2XEmIdKI2gN_2hRSnSW6Dy-_QnMRzUnwIwUC3VkAhsscJpPeZAbMoIih51bfNsXKvKHkTLGmRodJW8_KwoGwB9thzSA4JxUrxHUoDWAj77fN7V6Q/file\n",
            "Reusing existing connection to uc227d26a4abf792617a5fdc001f.dl.dropboxusercontent.com:443.\n",
            "HTTP request sent, awaiting response... 200 OK\n",
            "Length: 12867732 (12M) [application/zip]\n",
            "Saving to: ‘tezyordam_in_polis.zip’\n",
            "\n",
            "tezyordam_in_polis. 100%[===================>]  12.27M  5.18MB/s    in 2.4s    \n",
            "\n",
            "2023-07-10 18:48:56 (5.18 MB/s) - ‘tezyordam_in_polis.zip’ saved [12867732/12867732]\n",
            "\n"
          ]
        }
      ]
    },
    {
      "cell_type": "code",
      "source": [
        "!unzip tezyordam_in_polis.zip"
      ],
      "metadata": {
        "id": "7XhLloatD4Vj",
        "colab": {
          "base_uri": "https://localhost:8080/"
        },
        "outputId": "ff78946e-20f5-43c4-d474-10e6bd6a8a17"
      },
      "execution_count": 4,
      "outputs": [
        {
          "output_type": "stream",
          "name": "stdout",
          "text": [
            "Archive:  tezyordam_in_polis.zip\n",
            "   creating: Tez_in_polis/\n",
            "   creating: Tez_in_polis/test/\n",
            "   creating: Tez_in_polis/test/Polis/\n",
            "  inflating: Tez_in_polis/test/Polis/download11.jpg  \n",
            "  inflating: Tez_in_polis/test/Polis/download12.jpg  \n",
            "  inflating: Tez_in_polis/test/Polis/download23.jpg  \n",
            "  inflating: Tez_in_polis/test/Polis/download24.jpg  \n",
            "  inflating: Tez_in_polis/test/Polis/download25.jpg  \n",
            "  inflating: Tez_in_polis/test/Polis/download5.jpg  \n",
            "  inflating: Tez_in_polis/test/Polis/download6.jpg  \n",
            "  inflating: Tez_in_polis/test/Polis/images (1).jpg  \n",
            "  inflating: Tez_in_polis/test/Polis/images (10).jpg  \n",
            "  inflating: Tez_in_polis/test/Polis/images (13).jpg  \n",
            "  inflating: Tez_in_polis/test/Polis/images (14).jpg  \n",
            "  inflating: Tez_in_polis/test/Polis/images (15).jpg  \n",
            "  inflating: Tez_in_polis/test/Polis/images (16).jpg  \n",
            "  inflating: Tez_in_polis/test/Polis/images (17).jpg  \n",
            "  inflating: Tez_in_polis/test/Polis/images (18).jpg  \n",
            "  inflating: Tez_in_polis/test/Polis/images (19).jpg  \n",
            "  inflating: Tez_in_polis/test/Polis/images (2).jpg  \n",
            "  inflating: Tez_in_polis/test/Polis/images (20).jpg  \n",
            "  inflating: Tez_in_polis/test/Polis/images (21).jpg  \n",
            "  inflating: Tez_in_polis/test/Polis/images (22).jpg  \n",
            "  inflating: Tez_in_polis/test/Polis/images (26).jpg  \n",
            "  inflating: Tez_in_polis/test/Polis/images (27).jpg  \n",
            "  inflating: Tez_in_polis/test/Polis/images (28).jpg  \n",
            "  inflating: Tez_in_polis/test/Polis/images (29).jpg  \n",
            "  inflating: Tez_in_polis/test/Polis/images (3).jpg  \n",
            "  inflating: Tez_in_polis/test/Polis/images (30).jpg  \n",
            "  inflating: Tez_in_polis/test/Polis/images (4).jpg  \n",
            "  inflating: Tez_in_polis/test/Polis/images (7).jpg  \n",
            "  inflating: Tez_in_polis/test/Polis/images (8).jpg  \n",
            "  inflating: Tez_in_polis/test/Polis/images (9).jpg  \n",
            "   creating: Tez_in_polis/test/tezyordam/\n",
            "  inflating: Tez_in_polis/test/tezyordam/download (1).jpg  \n",
            "  inflating: Tez_in_polis/test/tezyordam/download (13).jpg  \n",
            "  inflating: Tez_in_polis/test/tezyordam/download (18).jpg  \n",
            "  inflating: Tez_in_polis/test/tezyordam/download (2).jpg  \n",
            "  inflating: Tez_in_polis/test/tezyordam/download (3).jpg  \n",
            "  inflating: Tez_in_polis/test/tezyordam/download.jpg  \n",
            "  inflating: Tez_in_polis/test/tezyordam/images (1).jpg  \n",
            "  inflating: Tez_in_polis/test/tezyordam/images (10).jpg  \n",
            "  inflating: Tez_in_polis/test/tezyordam/images (12).jpg  \n",
            "  inflating: Tez_in_polis/test/tezyordam/images (14).jpg  \n",
            "  inflating: Tez_in_polis/test/tezyordam/images (15).jpg  \n",
            "  inflating: Tez_in_polis/test/tezyordam/images (16).jpg  \n",
            "  inflating: Tez_in_polis/test/tezyordam/images (17).jpg  \n",
            "  inflating: Tez_in_polis/test/tezyordam/images (19).jpg  \n",
            "  inflating: Tez_in_polis/test/tezyordam/images (20).jpg  \n",
            "  inflating: Tez_in_polis/test/tezyordam/images (21).jpg  \n",
            "  inflating: Tez_in_polis/test/tezyordam/images (22).jpg  \n",
            "  inflating: Tez_in_polis/test/tezyordam/images (23).jpg  \n",
            "  inflating: Tez_in_polis/test/tezyordam/images (24).jpg  \n",
            "  inflating: Tez_in_polis/test/tezyordam/images (25).jpg  \n",
            "  inflating: Tez_in_polis/test/tezyordam/images (26).jpg  \n",
            "  inflating: Tez_in_polis/test/tezyordam/images (27).jpg  \n",
            "  inflating: Tez_in_polis/test/tezyordam/images (28).jpg  \n",
            "  inflating: Tez_in_polis/test/tezyordam/images (29).jpg  \n",
            "  inflating: Tez_in_polis/test/tezyordam/images (30).jpg  \n",
            "  inflating: Tez_in_polis/test/tezyordam/images (31).jpg  \n",
            "  inflating: Tez_in_polis/test/tezyordam/images (6).jpg  \n",
            "  inflating: Tez_in_polis/test/tezyordam/images (7).jpg  \n",
            "  inflating: Tez_in_polis/test/tezyordam/images (8).jpg  \n",
            "  inflating: Tez_in_polis/test/tezyordam/images (9).jpg  \n",
            "   creating: Tez_in_polis/tren/\n",
            "   creating: Tez_in_polis/tren/Polis/\n",
            "  inflating: Tez_in_polis/tren/Polis/download1.jpg  \n",
            "  inflating: Tez_in_polis/tren/Polis/download10.jpg  \n",
            "  inflating: Tez_in_polis/tren/Polis/download105.jpg  \n",
            "  inflating: Tez_in_polis/tren/Polis/download106.jpg  \n",
            "  inflating: Tez_in_polis/tren/Polis/download106q.jpg  \n",
            "  inflating: Tez_in_polis/tren/Polis/download107.jpg  \n",
            "  inflating: Tez_in_polis/tren/Polis/download108.jpg  \n",
            "  inflating: Tez_in_polis/tren/Polis/download109.jpg  \n",
            "  inflating: Tez_in_polis/tren/Polis/download10q.jpg  \n",
            "  inflating: Tez_in_polis/tren/Polis/download10q7.jpg  \n",
            "  inflating: Tez_in_polis/tren/Polis/download10q8.jpg  \n",
            "  inflating: Tez_in_polis/tren/Polis/download10q9.jpg  \n",
            "  inflating: Tez_in_polis/tren/Polis/download11.jpg  \n",
            "  inflating: Tez_in_polis/tren/Polis/download110.jpg  \n",
            "  inflating: Tez_in_polis/tren/Polis/download110q.jpg  \n",
            "  inflating: Tez_in_polis/tren/Polis/download111.jpg  \n",
            "  inflating: Tez_in_polis/tren/Polis/download112.jpg  \n",
            "  inflating: Tez_in_polis/tren/Polis/download11q.jpg  \n",
            "  inflating: Tez_in_polis/tren/Polis/download11q1.jpg  \n",
            "  inflating: Tez_in_polis/tren/Polis/download11q2.jpg  \n",
            "  inflating: Tez_in_polis/tren/Polis/download12.jpg  \n",
            "  inflating: Tez_in_polis/tren/Polis/download12q.jpg  \n",
            "  inflating: Tez_in_polis/tren/Polis/download154.jpg  \n",
            "  inflating: Tez_in_polis/tren/Polis/download155.jpg  \n",
            "  inflating: Tez_in_polis/tren/Polis/download156.jpg  \n",
            "  inflating: Tez_in_polis/tren/Polis/download157.jpg  \n",
            "  inflating: Tez_in_polis/tren/Polis/download158.jpg  \n",
            "  inflating: Tez_in_polis/tren/Polis/download159.jpg  \n",
            "  inflating: Tez_in_polis/tren/Polis/download15q4.jpg  \n",
            "  inflating: Tez_in_polis/tren/Polis/download15q6.jpg  \n",
            "  inflating: Tez_in_polis/tren/Polis/download15q9.jpg  \n",
            "  inflating: Tez_in_polis/tren/Polis/download160.jpg  \n",
            "  inflating: Tez_in_polis/tren/Polis/download161.jpg  \n",
            "  inflating: Tez_in_polis/tren/Polis/download162.jpg  \n",
            "  inflating: Tez_in_polis/tren/Polis/download16q1.jpg  \n",
            "  inflating: Tez_in_polis/tren/Polis/download1q.jpg  \n",
            "  inflating: Tez_in_polis/tren/Polis/download1q05.jpg  \n",
            "  inflating: Tez_in_polis/tren/Polis/download1q55.jpg  \n",
            "  inflating: Tez_in_polis/tren/Polis/download1q57.jpg  \n",
            "  inflating: Tez_in_polis/tren/Polis/download1q58.jpg  \n",
            "  inflating: Tez_in_polis/tren/Polis/download1q60.jpg  \n",
            "  inflating: Tez_in_polis/tren/Polis/download1q62.jpg  \n",
            "  inflating: Tez_in_polis/tren/Polis/download2.jpg  \n",
            "  inflating: Tez_in_polis/tren/Polis/download212.jpg  \n",
            "  inflating: Tez_in_polis/tren/Polis/download213.jpg  \n",
            "  inflating: Tez_in_polis/tren/Polis/download214.jpg  \n",
            "  inflating: Tez_in_polis/tren/Polis/download216.jpg  \n",
            "  inflating: Tez_in_polis/tren/Polis/download21q2.jpg  \n",
            "  inflating: Tez_in_polis/tren/Polis/download21q3.jpg  \n",
            "  inflating: Tez_in_polis/tren/Polis/download223.jpg  \n",
            "  inflating: Tez_in_polis/tren/Polis/download238.jpg  \n",
            "  inflating: Tez_in_polis/tren/Polis/download239.jpg  \n",
            "  inflating: Tez_in_polis/tren/Polis/download23q8.jpg  \n",
            "  inflating: Tez_in_polis/tren/Polis/download23q9.jpg  \n",
            "  inflating: Tez_in_polis/tren/Polis/download240.jpg  \n",
            "  inflating: Tez_in_polis/tren/Polis/download241.jpg  \n",
            "  inflating: Tez_in_polis/tren/Polis/download242.jpg  \n",
            "  inflating: Tez_in_polis/tren/Polis/download243.jpg  \n",
            "  inflating: Tez_in_polis/tren/Polis/download244.jpg  \n",
            "  inflating: Tez_in_polis/tren/Polis/download245.jpg  \n",
            "  inflating: Tez_in_polis/tren/Polis/download246.jpg  \n",
            "  inflating: Tez_in_polis/tren/Polis/download247.jpg  \n",
            "  inflating: Tez_in_polis/tren/Polis/download24q2.jpg  \n",
            "  inflating: Tez_in_polis/tren/Polis/download24q5.jpg  \n",
            "  inflating: Tez_in_polis/tren/Polis/download24q6.jpg  \n",
            "  inflating: Tez_in_polis/tren/Polis/download266.jpg  \n",
            "  inflating: Tez_in_polis/tren/Polis/download26q6.jpg  \n",
            "  inflating: Tez_in_polis/tren/Polis/download287.jpg  \n",
            "  inflating: Tez_in_polis/tren/Polis/download288.jpg  \n",
            "  inflating: Tez_in_polis/tren/Polis/download289.jpg  \n",
            "  inflating: Tez_in_polis/tren/Polis/download28q8.jpg  \n",
            "  inflating: Tez_in_polis/tren/Polis/download28q9.jpg  \n",
            "  inflating: Tez_in_polis/tren/Polis/download290.jpg  \n",
            "  inflating: Tez_in_polis/tren/Polis/download291.jpg  \n",
            "  inflating: Tez_in_polis/tren/Polis/download29q0.jpg  \n",
            "  inflating: Tez_in_polis/tren/Polis/download29q1.jpg  \n",
            "  inflating: Tez_in_polis/tren/Polis/download2q.jpg  \n",
            "  inflating: Tez_in_polis/tren/Polis/download2q16.jpg  \n",
            "  inflating: Tez_in_polis/tren/Polis/download2q41.jpg  \n",
            "  inflating: Tez_in_polis/tren/Polis/download2q43.jpg  \n",
            "  inflating: Tez_in_polis/tren/Polis/download2q44.jpg  \n",
            "  inflating: Tez_in_polis/tren/Polis/download2q47.jpg  \n",
            "  inflating: Tez_in_polis/tren/Polis/download2q87.jpg  \n",
            "  inflating: Tez_in_polis/tren/Polis/download3.jpg  \n",
            "  inflating: Tez_in_polis/tren/Polis/download33.jpg  \n",
            "  inflating: Tez_in_polis/tren/Polis/download34.jpg  \n",
            "  inflating: Tez_in_polis/tren/Polis/download34q.jpg  \n",
            "  inflating: Tez_in_polis/tren/Polis/download35.jpg  \n",
            "  inflating: Tez_in_polis/tren/Polis/download36.jpg  \n",
            "  inflating: Tez_in_polis/tren/Polis/download37.jpg  \n",
            "  inflating: Tez_in_polis/tren/Polis/download37q.jpg  \n",
            "  inflating: Tez_in_polis/tren/Polis/download38.jpg  \n",
            "  inflating: Tez_in_polis/tren/Polis/download38q.jpg  \n",
            "  inflating: Tez_in_polis/tren/Polis/download39.jpg  \n",
            "  inflating: Tez_in_polis/tren/Polis/download39q.jpg  \n",
            "  inflating: Tez_in_polis/tren/Polis/download3q.jpg  \n",
            "  inflating: Tez_in_polis/tren/Polis/download3q3.jpg  \n",
            "  inflating: Tez_in_polis/tren/Polis/download3q5.jpg  \n",
            "  inflating: Tez_in_polis/tren/Polis/download3q6.jpg  \n",
            "  inflating: Tez_in_polis/tren/Polis/download4.jpg  \n",
            "  inflating: Tez_in_polis/tren/Polis/download40.jpg  \n",
            "  inflating: Tez_in_polis/tren/Polis/download40q.jpg  \n",
            "  inflating: Tez_in_polis/tren/Polis/download41.jpg  \n",
            "  inflating: Tez_in_polis/tren/Polis/download41q.jpg  \n",
            "  inflating: Tez_in_polis/tren/Polis/download42.jpg  \n",
            "  inflating: Tez_in_polis/tren/Polis/download42q.jpg  \n",
            "  inflating: Tez_in_polis/tren/Polis/download43.jpg  \n",
            "  inflating: Tez_in_polis/tren/Polis/download43q.jpg  \n",
            "  inflating: Tez_in_polis/tren/Polis/download44.jpg  \n",
            "  inflating: Tez_in_polis/tren/Polis/download44q.jpg  \n",
            "  inflating: Tez_in_polis/tren/Polis/download45.jpg  \n",
            "  inflating: Tez_in_polis/tren/Polis/download45q.jpg  \n",
            "  inflating: Tez_in_polis/tren/Polis/download46.jpg  \n",
            "  inflating: Tez_in_polis/tren/Polis/download46q.jpg  \n",
            "  inflating: Tez_in_polis/tren/Polis/download4q.jpg  \n",
            "  inflating: Tez_in_polis/tren/Polis/download5.jpg  \n",
            "  inflating: Tez_in_polis/tren/Polis/download5q.jpg  \n",
            "  inflating: Tez_in_polis/tren/Polis/download6.jpg  \n",
            "  inflating: Tez_in_polis/tren/Polis/download6q.jpg  \n",
            "  inflating: Tez_in_polis/tren/Polis/download7.jpg  \n",
            "  inflating: Tez_in_polis/tren/Polis/download7q.jpg  \n",
            "  inflating: Tez_in_polis/tren/Polis/download8.jpg  \n",
            "  inflating: Tez_in_polis/tren/Polis/download8q.jpg  \n",
            "  inflating: Tez_in_polis/tren/Polis/download9.jpg  \n",
            "  inflating: Tez_in_polis/tren/Polis/download90.jpg  \n",
            "  inflating: Tez_in_polis/tren/Polis/download90q.jpg  \n",
            "  inflating: Tez_in_polis/tren/Polis/download91.jpg  \n",
            "  inflating: Tez_in_polis/tren/Polis/download92.jpg  \n",
            "  inflating: Tez_in_polis/tren/Polis/download92q.jpg  \n",
            "  inflating: Tez_in_polis/tren/Polis/download93.jpg  \n",
            "  inflating: Tez_in_polis/tren/Polis/download93q.jpg  \n",
            "  inflating: Tez_in_polis/tren/Polis/download94.jpg  \n",
            "  inflating: Tez_in_polis/tren/Polis/download94q.jpg  \n",
            "  inflating: Tez_in_polis/tren/Polis/download95.jpg  \n",
            "  inflating: Tez_in_polis/tren/Polis/download96.jpg  \n",
            "  inflating: Tez_in_polis/tren/Polis/download96q.jpg  \n",
            "  inflating: Tez_in_polis/tren/Polis/download97.jpg  \n",
            "  inflating: Tez_in_polis/tren/Polis/download9q.jpg  \n",
            "  inflating: Tez_in_polis/tren/Polis/download9q1.jpg  \n",
            "  inflating: Tez_in_polis/tren/Polis/download9q5.jpg  \n",
            "  inflating: Tez_in_polis/tren/Polis/download9q7.jpg  \n",
            "  inflating: Tez_in_polis/tren/Polis/downloadq214.jpg  \n",
            "  inflating: Tez_in_polis/tren/Polis/downloadq223.jpg  \n",
            "  inflating: Tez_in_polis/tren/Polis/downloadq240.jpg  \n",
            "  inflating: Tez_in_polis/tren/Polis/images (100).jpg  \n",
            "  inflating: Tez_in_polis/tren/Polis/images (100q).jpg  \n",
            "  inflating: Tez_in_polis/tren/Polis/images (101).jpg  \n",
            "  inflating: Tez_in_polis/tren/Polis/images (101q).jpg  \n",
            "  inflating: Tez_in_polis/tren/Polis/images (102).jpg  \n",
            "  inflating: Tez_in_polis/tren/Polis/images (102q).jpg  \n",
            "  inflating: Tez_in_polis/tren/Polis/images (103).jpg  \n",
            "  inflating: Tez_in_polis/tren/Polis/images (103q).jpg  \n",
            "  inflating: Tez_in_polis/tren/Polis/images (104).jpg  \n",
            "  inflating: Tez_in_polis/tren/Polis/images (104q).jpg  \n",
            "  inflating: Tez_in_polis/tren/Polis/images (113).jpg  \n",
            "  inflating: Tez_in_polis/tren/Polis/images (114).jpg  \n",
            "  inflating: Tez_in_polis/tren/Polis/images (115).jpg  \n",
            "  inflating: Tez_in_polis/tren/Polis/images (116).jpg  \n",
            "  inflating: Tez_in_polis/tren/Polis/images (117).jpg  \n",
            "  inflating: Tez_in_polis/tren/Polis/images (118).jpg  \n",
            "  inflating: Tez_in_polis/tren/Polis/images (119).jpg  \n",
            "  inflating: Tez_in_polis/tren/Polis/images (11q5).jpg  \n",
            "  inflating: Tez_in_polis/tren/Polis/images (11q6).jpg  \n",
            "  inflating: Tez_in_polis/tren/Polis/images (11q7).jpg  \n",
            "  inflating: Tez_in_polis/tren/Polis/images (11q84).jpg  \n",
            "  inflating: Tez_in_polis/tren/Polis/images (11q9).jpg  \n",
            "  inflating: Tez_in_polis/tren/Polis/images (120).jpg  \n",
            "  inflating: Tez_in_polis/tren/Polis/images (120q).jpg  \n",
            "  inflating: Tez_in_polis/tren/Polis/images (121).jpg  \n",
            "  inflating: Tez_in_polis/tren/Polis/images (122).jpg  \n",
            "  inflating: Tez_in_polis/tren/Polis/images (122q).jpg  \n",
            "  inflating: Tez_in_polis/tren/Polis/images (123).jpg  \n",
            "  inflating: Tez_in_polis/tren/Polis/images (124).jpg  \n",
            "  inflating: Tez_in_polis/tren/Polis/images (125).jpg  \n",
            "  inflating: Tez_in_polis/tren/Polis/images (126).jpg  \n",
            "  inflating: Tez_in_polis/tren/Polis/images (127).jpg  \n",
            "  inflating: Tez_in_polis/tren/Polis/images (127q).jpg  \n",
            "  inflating: Tez_in_polis/tren/Polis/images (128).jpg  \n",
            "  inflating: Tez_in_polis/tren/Polis/images (128q).jpg  \n",
            "  inflating: Tez_in_polis/tren/Polis/images (129).jpg  \n",
            "  inflating: Tez_in_polis/tren/Polis/images (129q).jpg  \n",
            "  inflating: Tez_in_polis/tren/Polis/images (12q1).jpg  \n",
            "  inflating: Tez_in_polis/tren/Polis/images (12q3).jpg  \n",
            "  inflating: Tez_in_polis/tren/Polis/images (12q5).jpg  \n",
            "  inflating: Tez_in_polis/tren/Polis/images (13).jpg  \n",
            "  inflating: Tez_in_polis/tren/Polis/images (13)q.jpg  \n",
            "  inflating: Tez_in_polis/tren/Polis/images (130).jpg  \n",
            "  inflating: Tez_in_polis/tren/Polis/images (131).jpg  \n",
            "  inflating: Tez_in_polis/tren/Polis/images (131q).jpg  \n",
            "  inflating: Tez_in_polis/tren/Polis/images (132).jpg  \n",
            "  inflating: Tez_in_polis/tren/Polis/images (132q).jpg  \n",
            "  inflating: Tez_in_polis/tren/Polis/images (133).jpg  \n",
            "  inflating: Tez_in_polis/tren/Polis/images (133q).jpg  \n",
            "  inflating: Tez_in_polis/tren/Polis/images (134).jpg  \n",
            "  inflating: Tez_in_polis/tren/Polis/images (134q).jpg  \n",
            "  inflating: Tez_in_polis/tren/Polis/images (135).jpg  \n",
            "  inflating: Tez_in_polis/tren/Polis/images (135q).jpg  \n",
            "  inflating: Tez_in_polis/tren/Polis/images (136).jpg  \n",
            "  inflating: Tez_in_polis/tren/Polis/images (137).jpg  \n",
            "  inflating: Tez_in_polis/tren/Polis/images (138).jpg  \n",
            "  inflating: Tez_in_polis/tren/Polis/images (138q).jpg  \n",
            "  inflating: Tez_in_polis/tren/Polis/images (139).jpg  \n",
            "  inflating: Tez_in_polis/tren/Polis/images (13q).jpg  \n",
            "  inflating: Tez_in_polis/tren/Polis/images (13q7).jpg  \n",
            "  inflating: Tez_in_polis/tren/Polis/images (13q9).jpg  \n",
            "  inflating: Tez_in_polis/tren/Polis/images (14).jpg  \n",
            "  inflating: Tez_in_polis/tren/Polis/images (140).jpg  \n",
            "  inflating: Tez_in_polis/tren/Polis/images (140q).jpg  \n",
            "  inflating: Tez_in_polis/tren/Polis/images (141).jpg  \n",
            "  inflating: Tez_in_polis/tren/Polis/images (141q).jpg  \n",
            "  inflating: Tez_in_polis/tren/Polis/images (142).jpg  \n",
            "  inflating: Tez_in_polis/tren/Polis/images (142q).jpg  \n",
            "  inflating: Tez_in_polis/tren/Polis/images (143).jpg  \n",
            "  inflating: Tez_in_polis/tren/Polis/images (144).jpg  \n",
            "  inflating: Tez_in_polis/tren/Polis/images (145).jpg  \n",
            "  inflating: Tez_in_polis/tren/Polis/images (146).jpg  \n",
            "  inflating: Tez_in_polis/tren/Polis/images (146q).jpg  \n",
            "  inflating: Tez_in_polis/tren/Polis/images (147).jpg  \n",
            "  inflating: Tez_in_polis/tren/Polis/images (148).jpg  \n",
            "  inflating: Tez_in_polis/tren/Polis/images (149).jpg  \n",
            "  inflating: Tez_in_polis/tren/Polis/images (14q).jpg  \n",
            "  inflating: Tez_in_polis/tren/Polis/images (14q3).jpg  \n",
            "  inflating: Tez_in_polis/tren/Polis/images (14q4).jpg  \n",
            "  inflating: Tez_in_polis/tren/Polis/images (14q5).jpg  \n",
            "  inflating: Tez_in_polis/tren/Polis/images (14q7).jpg  \n",
            "  inflating: Tez_in_polis/tren/Polis/images (14q8).jpg  \n",
            "  inflating: Tez_in_polis/tren/Polis/images (14q9).jpg  \n",
            "  inflating: Tez_in_polis/tren/Polis/images (15).jpg  \n",
            "  inflating: Tez_in_polis/tren/Polis/images (150).jpg  \n",
            "  inflating: Tez_in_polis/tren/Polis/images (151).jpg  \n",
            "  inflating: Tez_in_polis/tren/Polis/images (152).jpg  \n",
            "  inflating: Tez_in_polis/tren/Polis/images (152q).jpg  \n",
            "  inflating: Tez_in_polis/tren/Polis/images (153).jpg  \n",
            "  inflating: Tez_in_polis/tren/Polis/images (153q).jpg  \n",
            "  inflating: Tez_in_polis/tren/Polis/images (15q).jpg  \n",
            "  inflating: Tez_in_polis/tren/Polis/images (15q0).jpg  \n",
            "  inflating: Tez_in_polis/tren/Polis/images (16).jpg  \n",
            "  inflating: Tez_in_polis/tren/Polis/images (163).jpg  \n",
            "  inflating: Tez_in_polis/tren/Polis/images (164).jpg  \n",
            "  inflating: Tez_in_polis/tren/Polis/images (165).jpg  \n",
            "  inflating: Tez_in_polis/tren/Polis/images (166).jpg  \n",
            "  inflating: Tez_in_polis/tren/Polis/images (166q).jpg  \n",
            "  inflating: Tez_in_polis/tren/Polis/images (167).jpg  \n",
            "  inflating: Tez_in_polis/tren/Polis/images (168).jpg  \n",
            "  inflating: Tez_in_polis/tren/Polis/images (168q).jpg  \n",
            "  inflating: Tez_in_polis/tren/Polis/images (169).jpg  \n",
            "  inflating: Tez_in_polis/tren/Polis/images (16q).jpg  \n",
            "  inflating: Tez_in_polis/tren/Polis/images (16q3).jpg  \n",
            "  inflating: Tez_in_polis/tren/Polis/images (16q7).jpg  \n",
            "  inflating: Tez_in_polis/tren/Polis/images (16q9).jpg  \n",
            "  inflating: Tez_in_polis/tren/Polis/images (17).jpg  \n",
            "  inflating: Tez_in_polis/tren/Polis/images (170).jpg  \n",
            "  inflating: Tez_in_polis/tren/Polis/images (170q).jpg  \n",
            "  inflating: Tez_in_polis/tren/Polis/images (171).jpg  \n",
            "  inflating: Tez_in_polis/tren/Polis/images (171q).jpg  \n",
            "  inflating: Tez_in_polis/tren/Polis/images (172).jpg  \n",
            "  inflating: Tez_in_polis/tren/Polis/images (172q).jpg  \n",
            "  inflating: Tez_in_polis/tren/Polis/images (173).jpg  \n",
            "  inflating: Tez_in_polis/tren/Polis/images (174).jpg  \n",
            "  inflating: Tez_in_polis/tren/Polis/images (174q).jpg  \n",
            "  inflating: Tez_in_polis/tren/Polis/images (175).jpg  \n",
            "  inflating: Tez_in_polis/tren/Polis/images (175q).jpg  \n",
            "  inflating: Tez_in_polis/tren/Polis/images (176).jpg  \n",
            "  inflating: Tez_in_polis/tren/Polis/images (177).jpg  \n",
            "  inflating: Tez_in_polis/tren/Polis/images (177q).jpg  \n",
            "  inflating: Tez_in_polis/tren/Polis/images (178).jpg  \n",
            "  inflating: Tez_in_polis/tren/Polis/images (179).jpg  \n",
            "  inflating: Tez_in_polis/tren/Polis/images (17q).jpg  \n",
            "  inflating: Tez_in_polis/tren/Polis/images (17q3).jpg  \n",
            "  inflating: Tez_in_polis/tren/Polis/images (17q6).jpg  \n",
            "  inflating: Tez_in_polis/tren/Polis/images (17q8).jpg  \n",
            "  inflating: Tez_in_polis/tren/Polis/images (17q9).jpg  \n",
            "  inflating: Tez_in_polis/tren/Polis/images (18.jpg  \n",
            "  inflating: Tez_in_polis/tren/Polis/images (180).jpg  \n",
            "  inflating: Tez_in_polis/tren/Polis/images (180q).jpg  \n",
            "  inflating: Tez_in_polis/tren/Polis/images (181).jpg  \n",
            "  inflating: Tez_in_polis/tren/Polis/images (182).jpg  \n",
            "  inflating: Tez_in_polis/tren/Polis/images (183).jpg  \n",
            "  inflating: Tez_in_polis/tren/Polis/images (184).jpg  \n",
            "  inflating: Tez_in_polis/tren/Polis/images (185).jpg  \n",
            "  inflating: Tez_in_polis/tren/Polis/images (186).jpg  \n",
            "  inflating: Tez_in_polis/tren/Polis/images (187).jpg  \n",
            "  inflating: Tez_in_polis/tren/Polis/images (188).jpg  \n",
            "  inflating: Tez_in_polis/tren/Polis/images (189).jpg  \n",
            "  inflating: Tez_in_polis/tren/Polis/images (18q.jpg  \n",
            "  inflating: Tez_in_polis/tren/Polis/images (18q2).jpg  \n",
            "  inflating: Tez_in_polis/tren/Polis/images (18q3).jpg  \n",
            "  inflating: Tez_in_polis/tren/Polis/images (18q6).jpg  \n",
            "  inflating: Tez_in_polis/tren/Polis/images (18q8).jpg  \n",
            "  inflating: Tez_in_polis/tren/Polis/images (19).jpg  \n",
            "  inflating: Tez_in_polis/tren/Polis/images (190).jpg  \n",
            "  inflating: Tez_in_polis/tren/Polis/images (191).jpg  \n",
            "  inflating: Tez_in_polis/tren/Polis/images (192).jpg  \n",
            "  inflating: Tez_in_polis/tren/Polis/images (193).jpg  \n",
            "  inflating: Tez_in_polis/tren/Polis/images (194).jpg  \n",
            "  inflating: Tez_in_polis/tren/Polis/images (195).jpg  \n",
            "  inflating: Tez_in_polis/tren/Polis/images (196).jpg  \n",
            "  inflating: Tez_in_polis/tren/Polis/images (196q).jpg  \n",
            "  inflating: Tez_in_polis/tren/Polis/images (197).jpg  \n",
            "  inflating: Tez_in_polis/tren/Polis/images (198).jpg  \n",
            "  inflating: Tez_in_polis/tren/Polis/images (199).jpg  \n",
            "  inflating: Tez_in_polis/tren/Polis/images (199q).jpg  \n",
            "  inflating: Tez_in_polis/tren/Polis/images (19q).jpg  \n",
            "  inflating: Tez_in_polis/tren/Polis/images (19q1).jpg  \n",
            "  inflating: Tez_in_polis/tren/Polis/images (19q5).jpg  \n",
            "  inflating: Tez_in_polis/tren/Polis/images (19q8).jpg  \n",
            "  inflating: Tez_in_polis/tren/Polis/images (1q13).jpg  \n",
            "  inflating: Tez_in_polis/tren/Polis/images (1q14).jpg  \n",
            "  inflating: Tez_in_polis/tren/Polis/images (1q18).jpg  \n",
            "  inflating: Tez_in_polis/tren/Polis/images (1q24).jpg  \n",
            "  inflating: Tez_in_polis/tren/Polis/images (1q26).jpg  \n",
            "  inflating: Tez_in_polis/tren/Polis/images (1q30).jpg  \n",
            "  inflating: Tez_in_polis/tren/Polis/images (1q51).jpg  \n",
            "  inflating: Tez_in_polis/tren/Polis/images (1q64).jpg  \n",
            "  inflating: Tez_in_polis/tren/Polis/images (1q65).jpg  \n",
            "  inflating: Tez_in_polis/tren/Polis/images (1q81).jpg  \n",
            "  inflating: Tez_in_polis/tren/Polis/images (1q85).jpg  \n",
            "  inflating: Tez_in_polis/tren/Polis/images (1q87).jpg  \n",
            "  inflating: Tez_in_polis/tren/Polis/images (1q89).jpg  \n",
            "  inflating: Tez_in_polis/tren/Polis/images (1q90).jpg  \n",
            "  inflating: Tez_in_polis/tren/Polis/images (1q97).jpg  \n",
            "  inflating: Tez_in_polis/tren/Polis/images (20).jpg  \n",
            "  inflating: Tez_in_polis/tren/Polis/images (200).jpg  \n",
            "  inflating: Tez_in_polis/tren/Polis/images (200q).jpg  \n",
            "  inflating: Tez_in_polis/tren/Polis/images (201).jpg  \n",
            "  inflating: Tez_in_polis/tren/Polis/images (202).jpg  \n",
            "  inflating: Tez_in_polis/tren/Polis/images (202q).jpg  \n",
            "  inflating: Tez_in_polis/tren/Polis/images (203).jpg  \n",
            "  inflating: Tez_in_polis/tren/Polis/images (204).jpg  \n",
            "  inflating: Tez_in_polis/tren/Polis/images (205).jpg  \n",
            "  inflating: Tez_in_polis/tren/Polis/images (206).jpg  \n",
            "  inflating: Tez_in_polis/tren/Polis/images (206q).jpg  \n",
            "  inflating: Tez_in_polis/tren/Polis/images (207).jpg  \n",
            "  inflating: Tez_in_polis/tren/Polis/images (207q).jpg  \n",
            "  inflating: Tez_in_polis/tren/Polis/images (208).jpg  \n",
            "  inflating: Tez_in_polis/tren/Polis/images (208q).jpg  \n",
            "  inflating: Tez_in_polis/tren/Polis/images (209).jpg  \n",
            "  inflating: Tez_in_polis/tren/Polis/images (20q).jpg  \n",
            "  inflating: Tez_in_polis/tren/Polis/images (20q1).jpg  \n",
            "  inflating: Tez_in_polis/tren/Polis/images (20q3).jpg  \n",
            "  inflating: Tez_in_polis/tren/Polis/images (20q4).jpg  \n",
            "  inflating: Tez_in_polis/tren/Polis/images (20q5).jpg  \n",
            "  inflating: Tez_in_polis/tren/Polis/images (21).jpg  \n",
            "  inflating: Tez_in_polis/tren/Polis/images (210).jpg  \n",
            "  inflating: Tez_in_polis/tren/Polis/images (211).jpg  \n",
            "  inflating: Tez_in_polis/tren/Polis/images (211q).jpg  \n",
            "  inflating: Tez_in_polis/tren/Polis/images (215).jpg  \n",
            "  inflating: Tez_in_polis/tren/Polis/images (217).jpg  \n",
            "  inflating: Tez_in_polis/tren/Polis/images (218).jpg  \n",
            "  inflating: Tez_in_polis/tren/Polis/images (219).jpg  \n",
            "  inflating: Tez_in_polis/tren/Polis/images (21q0).jpg  \n",
            "  inflating: Tez_in_polis/tren/Polis/images (21q5).jpg  \n",
            "  inflating: Tez_in_polis/tren/Polis/images (21q7).jpg  \n",
            "  inflating: Tez_in_polis/tren/Polis/images (21q8).jpg  \n",
            "  inflating: Tez_in_polis/tren/Polis/images (21q9).jpg  \n",
            "  inflating: Tez_in_polis/tren/Polis/images (22).jpg  \n",
            "  inflating: Tez_in_polis/tren/Polis/images (220).jpg  \n",
            "  inflating: Tez_in_polis/tren/Polis/images (220q).jpg  \n",
            "  inflating: Tez_in_polis/tren/Polis/images (221).jpg  \n",
            "  inflating: Tez_in_polis/tren/Polis/images (222).jpg  \n",
            "  inflating: Tez_in_polis/tren/Polis/images (224).jpg  \n",
            "  inflating: Tez_in_polis/tren/Polis/images (225).jpg  \n",
            "  inflating: Tez_in_polis/tren/Polis/images (226).jpg  \n",
            "  inflating: Tez_in_polis/tren/Polis/images (227).jpg  \n",
            "  inflating: Tez_in_polis/tren/Polis/images (228).jpg  \n",
            "  inflating: Tez_in_polis/tren/Polis/images (229).jpg  \n",
            "  inflating: Tez_in_polis/tren/Polis/images (22q4).jpg  \n",
            "  inflating: Tez_in_polis/tren/Polis/images (22q5).jpg  \n",
            "  inflating: Tez_in_polis/tren/Polis/images (22q6).jpg  \n",
            "  inflating: Tez_in_polis/tren/Polis/images (22q7).jpg  \n",
            "  inflating: Tez_in_polis/tren/Polis/images (23).jpg  \n",
            "  inflating: Tez_in_polis/tren/Polis/images (230).jpg  \n",
            "  inflating: Tez_in_polis/tren/Polis/images (231).jpg  \n",
            "  inflating: Tez_in_polis/tren/Polis/images (232).jpg  \n",
            "  inflating: Tez_in_polis/tren/Polis/images (232q).jpg  \n",
            "  inflating: Tez_in_polis/tren/Polis/images (233).jpg  \n",
            "  inflating: Tez_in_polis/tren/Polis/images (234).jpg  \n",
            "  inflating: Tez_in_polis/tren/Polis/images (235).jpg  \n",
            "  inflating: Tez_in_polis/tren/Polis/images (236).jpg  \n",
            "  inflating: Tez_in_polis/tren/Polis/images (237).jpg  \n",
            "  inflating: Tez_in_polis/tren/Polis/images (23q0).jpg  \n",
            "  inflating: Tez_in_polis/tren/Polis/images (23q4).jpg  \n",
            "  inflating: Tez_in_polis/tren/Polis/images (23q5).jpg  \n",
            "  inflating: Tez_in_polis/tren/Polis/images (23q6).jpg  \n",
            "  inflating: Tez_in_polis/tren/Polis/images (23q7).jpg  \n",
            "  inflating: Tez_in_polis/tren/Polis/images (24).jpg  \n",
            "  inflating: Tez_in_polis/tren/Polis/images (248).jpg  \n",
            "  inflating: Tez_in_polis/tren/Polis/images (249).jpg  \n",
            "  inflating: Tez_in_polis/tren/Polis/images (24q).jpg  \n",
            "  inflating: Tez_in_polis/tren/Polis/images (24q8).jpg  \n",
            "  inflating: Tez_in_polis/tren/Polis/images (25).jpg  \n",
            "  inflating: Tez_in_polis/tren/Polis/images (250).jpg  \n",
            "  inflating: Tez_in_polis/tren/Polis/images (251).jpg  \n",
            "  inflating: Tez_in_polis/tren/Polis/images (252).jpg  \n",
            "  inflating: Tez_in_polis/tren/Polis/images (253).jpg  \n",
            "  inflating: Tez_in_polis/tren/Polis/images (254).jpg  \n",
            "  inflating: Tez_in_polis/tren/Polis/images (254q).jpg  \n",
            "  inflating: Tez_in_polis/tren/Polis/images (255).jpg  \n",
            "  inflating: Tez_in_polis/tren/Polis/images (256).jpg  \n",
            "  inflating: Tez_in_polis/tren/Polis/images (257).jpg  \n",
            "  inflating: Tez_in_polis/tren/Polis/images (258).jpg  \n",
            "  inflating: Tez_in_polis/tren/Polis/images (259).jpg  \n",
            "  inflating: Tez_in_polis/tren/Polis/images (25q).jpg  \n",
            "  inflating: Tez_in_polis/tren/Polis/images (25q1).jpg  \n",
            "  inflating: Tez_in_polis/tren/Polis/images (25q3).jpg  \n",
            "  inflating: Tez_in_polis/tren/Polis/images (25q5).jpg  \n",
            "  inflating: Tez_in_polis/tren/Polis/images (26).jpg  \n",
            "  inflating: Tez_in_polis/tren/Polis/images (260).jpg  \n",
            "  inflating: Tez_in_polis/tren/Polis/images (261).jpg  \n",
            "  inflating: Tez_in_polis/tren/Polis/images (262).jpg  \n",
            "  inflating: Tez_in_polis/tren/Polis/images (262q).jpg  \n",
            "  inflating: Tez_in_polis/tren/Polis/images (263).jpg  \n",
            "  inflating: Tez_in_polis/tren/Polis/images (264).jpg  \n",
            "  inflating: Tez_in_polis/tren/Polis/images (265).jpg  \n",
            "  inflating: Tez_in_polis/tren/Polis/images (267).jpg  \n",
            "  inflating: Tez_in_polis/tren/Polis/images (268).jpg  \n",
            "  inflating: Tez_in_polis/tren/Polis/images (269).jpg  \n",
            "  inflating: Tez_in_polis/tren/Polis/images (26q).jpg  \n",
            "  inflating: Tez_in_polis/tren/Polis/images (26q0).jpg  \n",
            "  inflating: Tez_in_polis/tren/Polis/images (26q3).jpg  \n",
            "  inflating: Tez_in_polis/tren/Polis/images (26q5).jpg  \n",
            "  inflating: Tez_in_polis/tren/Polis/images (26q8).jpg  \n",
            "  inflating: Tez_in_polis/tren/Polis/images (27).jpg  \n",
            "  inflating: Tez_in_polis/tren/Polis/images (270).jpg  \n",
            "  inflating: Tez_in_polis/tren/Polis/images (271).jpg  \n",
            "  inflating: Tez_in_polis/tren/Polis/images (272).jpg  \n",
            "  inflating: Tez_in_polis/tren/Polis/images (273).jpg  \n",
            "  inflating: Tez_in_polis/tren/Polis/images (274).jpg  \n",
            "  inflating: Tez_in_polis/tren/Polis/images (275).jpg  \n",
            "  inflating: Tez_in_polis/tren/Polis/images (276).jpg  \n",
            "  inflating: Tez_in_polis/tren/Polis/images (277).jpg  \n",
            "  inflating: Tez_in_polis/tren/Polis/images (278).jpg  \n",
            "  inflating: Tez_in_polis/tren/Polis/images (279).jpg  \n",
            "  inflating: Tez_in_polis/tren/Polis/images (27q).jpg  \n",
            "  inflating: Tez_in_polis/tren/Polis/images (27q0).jpg  \n",
            "  inflating: Tez_in_polis/tren/Polis/images (27q1).jpg  \n",
            "  inflating: Tez_in_polis/tren/Polis/images (27q2).jpg  \n",
            "  inflating: Tez_in_polis/tren/Polis/images (27q4).jpg  \n",
            "  inflating: Tez_in_polis/tren/Polis/images (27q5).jpg  \n",
            "  inflating: Tez_in_polis/tren/Polis/images (27q8).jpg  \n",
            "  inflating: Tez_in_polis/tren/Polis/images (27q9).jpg  \n",
            "  inflating: Tez_in_polis/tren/Polis/images (28).jpg  \n",
            "  inflating: Tez_in_polis/tren/Polis/images (280).jpg  \n",
            "  inflating: Tez_in_polis/tren/Polis/images (281).jpg  \n",
            "  inflating: Tez_in_polis/tren/Polis/images (282).jpg  \n",
            "  inflating: Tez_in_polis/tren/Polis/images (283).jpg  \n",
            "  inflating: Tez_in_polis/tren/Polis/images (284).jpg  \n",
            "  inflating: Tez_in_polis/tren/Polis/images (285).jpg  \n",
            "  inflating: Tez_in_polis/tren/Polis/images (286).jpg  \n",
            "  inflating: Tez_in_polis/tren/Polis/images (28q).jpg  \n",
            "  inflating: Tez_in_polis/tren/Polis/images (28q1).jpg  \n",
            "  inflating: Tez_in_polis/tren/Polis/images (28q2).jpg  \n",
            "  inflating: Tez_in_polis/tren/Polis/images (28q3).jpg  \n",
            "  inflating: Tez_in_polis/tren/Polis/images (28q4).jpg  \n",
            "  inflating: Tez_in_polis/tren/Polis/images (28q5).jpg  \n",
            "  inflating: Tez_in_polis/tren/Polis/images (28q6).jpg  \n",
            "  inflating: Tez_in_polis/tren/Polis/images (29).jpg  \n",
            "  inflating: Tez_in_polis/tren/Polis/images (292).jpg  \n",
            "  inflating: Tez_in_polis/tren/Polis/images (293).jpg  \n",
            "  inflating: Tez_in_polis/tren/Polis/images (294).jpg  \n",
            "  inflating: Tez_in_polis/tren/Polis/images (294q).jpg  \n",
            "  inflating: Tez_in_polis/tren/Polis/images (295).jpg  \n",
            "  inflating: Tez_in_polis/tren/Polis/images (296).jpg  \n",
            "  inflating: Tez_in_polis/tren/Polis/images (297).jpg  \n",
            "  inflating: Tez_in_polis/tren/Polis/images (298).jpg  \n",
            "  inflating: Tez_in_polis/tren/Polis/images (299).jpg  \n",
            "  inflating: Tez_in_polis/tren/Polis/images (29q3).jpg  \n",
            "  inflating: Tez_in_polis/tren/Polis/images (29q6).jpg  \n",
            "  inflating: Tez_in_polis/tren/Polis/images (29q9).jpg  \n",
            "  inflating: Tez_in_polis/tren/Polis/images (2q09).jpg  \n",
            "  inflating: Tez_in_polis/tren/Polis/images (2q2).jpg  \n",
            "  inflating: Tez_in_polis/tren/Polis/images (2q21).jpg  \n",
            "  inflating: Tez_in_polis/tren/Polis/images (2q28).jpg  \n",
            "  inflating: Tez_in_polis/tren/Polis/images (2q29).jpg  \n",
            "  inflating: Tez_in_polis/tren/Polis/images (2q3).jpg  \n",
            "  inflating: Tez_in_polis/tren/Polis/images (2q31).jpg  \n",
            "  inflating: Tez_in_polis/tren/Polis/images (2q33).jpg  \n",
            "  inflating: Tez_in_polis/tren/Polis/images (2q49).jpg  \n",
            "  inflating: Tez_in_polis/tren/Polis/images (2q50).jpg  \n",
            "  inflating: Tez_in_polis/tren/Polis/images (2q52).jpg  \n",
            "  inflating: Tez_in_polis/tren/Polis/images (2q56).jpg  \n",
            "  inflating: Tez_in_polis/tren/Polis/images (2q57).jpg  \n",
            "  inflating: Tez_in_polis/tren/Polis/images (2q58).jpg  \n",
            "  inflating: Tez_in_polis/tren/Polis/images (2q59).jpg  \n",
            "  inflating: Tez_in_polis/tren/Polis/images (2q61).jpg  \n",
            "  inflating: Tez_in_polis/tren/Polis/images (2q64).jpg  \n",
            "  inflating: Tez_in_polis/tren/Polis/images (2q73).jpg  \n",
            "  inflating: Tez_in_polis/tren/Polis/images (2q76).jpg  \n",
            "  inflating: Tez_in_polis/tren/Polis/images (2q77).jpg  \n",
            "  inflating: Tez_in_polis/tren/Polis/images (2q80).jpg  \n",
            "  inflating: Tez_in_polis/tren/Polis/images (2q9).jpg  \n",
            "  inflating: Tez_in_polis/tren/Polis/images (2q92).jpg  \n",
            "  inflating: Tez_in_polis/tren/Polis/images (2q95).jpg  \n",
            "  inflating: Tez_in_polis/tren/Polis/images (2q97).jpg  \n",
            "  inflating: Tez_in_polis/tren/Polis/images (2q98).jpg  \n",
            "  inflating: Tez_in_polis/tren/Polis/images (2qq69).jpg  \n",
            "  inflating: Tez_in_polis/tren/Polis/images (30).jpg  \n",
            "  inflating: Tez_in_polis/tren/Polis/images (300).jpg  \n",
            "  inflating: Tez_in_polis/tren/Polis/images (300q).jpg  \n",
            "  inflating: Tez_in_polis/tren/Polis/images (30q).jpg  \n",
            "  inflating: Tez_in_polis/tren/Polis/images (31).jpg  \n",
            "  inflating: Tez_in_polis/tren/Polis/images (32).jpg  \n",
            "  inflating: Tez_in_polis/tren/Polis/images (32q).jpg  \n",
            "  inflating: Tez_in_polis/tren/Polis/images (36q7).jpg  \n",
            "  inflating: Tez_in_polis/tren/Polis/images (3q1).jpg  \n",
            "  inflating: Tez_in_polis/tren/Polis/images (47).jpg  \n",
            "  inflating: Tez_in_polis/tren/Polis/images (47q).jpg  \n",
            "  inflating: Tez_in_polis/tren/Polis/images (48).jpg  \n",
            "  inflating: Tez_in_polis/tren/Polis/images (48q).jpg  \n",
            "  inflating: Tez_in_polis/tren/Polis/images (49).jpg  \n",
            "  inflating: Tez_in_polis/tren/Polis/images (4q9).jpg  \n",
            "  inflating: Tez_in_polis/tren/Polis/images (50).jpg  \n",
            "  inflating: Tez_in_polis/tren/Polis/images (50q).jpg  \n",
            "  inflating: Tez_in_polis/tren/Polis/images (51).jpg  \n",
            "  inflating: Tez_in_polis/tren/Polis/images (51q).jpg  \n",
            "  inflating: Tez_in_polis/tren/Polis/images (52).jpg  \n",
            "  inflating: Tez_in_polis/tren/Polis/images (52q).jpg  \n",
            "  inflating: Tez_in_polis/tren/Polis/images (53).jpg  \n",
            "  inflating: Tez_in_polis/tren/Polis/images (53q).jpg  \n",
            "  inflating: Tez_in_polis/tren/Polis/images (54).jpg  \n",
            "  inflating: Tez_in_polis/tren/Polis/images (54q).jpg  \n",
            "  inflating: Tez_in_polis/tren/Polis/images (55).jpg  \n",
            "  inflating: Tez_in_polis/tren/Polis/images (55q).jpg  \n",
            "  inflating: Tez_in_polis/tren/Polis/images (56).jpg  \n",
            "  inflating: Tez_in_polis/tren/Polis/images (56q).jpg  \n",
            "  inflating: Tez_in_polis/tren/Polis/images (57).jpg  \n",
            "  inflating: Tez_in_polis/tren/Polis/images (57q).jpg  \n",
            "  inflating: Tez_in_polis/tren/Polis/images (58).jpg  \n",
            "  inflating: Tez_in_polis/tren/Polis/images (58q).jpg  \n",
            "  inflating: Tez_in_polis/tren/Polis/images (59).jpg  \n",
            "  inflating: Tez_in_polis/tren/Polis/images (59q).jpg  \n",
            "  inflating: Tez_in_polis/tren/Polis/images (60).jpg  \n",
            "  inflating: Tez_in_polis/tren/Polis/images (60q).jpg  \n",
            "  inflating: Tez_in_polis/tren/Polis/images (61).jpg  \n",
            "  inflating: Tez_in_polis/tren/Polis/images (61q).jpg  \n",
            "  inflating: Tez_in_polis/tren/Polis/images (62).jpg  \n",
            "  inflating: Tez_in_polis/tren/Polis/images (62q).jpg  \n",
            "  inflating: Tez_in_polis/tren/Polis/images (63).jpg  \n",
            "  inflating: Tez_in_polis/tren/Polis/images (63q).jpg  \n",
            "  inflating: Tez_in_polis/tren/Polis/images (64).jpg  \n",
            "  inflating: Tez_in_polis/tren/Polis/images (64q).jpg  \n",
            "  inflating: Tez_in_polis/tren/Polis/images (65).jpg  \n",
            "  inflating: Tez_in_polis/tren/Polis/images (66).jpg  \n",
            "  inflating: Tez_in_polis/tren/Polis/images (67).jpg  \n",
            "  inflating: Tez_in_polis/tren/Polis/images (67q).jpg  \n",
            "  inflating: Tez_in_polis/tren/Polis/images (68).jpg  \n",
            "  inflating: Tez_in_polis/tren/Polis/images (68q).jpg  \n",
            "  inflating: Tez_in_polis/tren/Polis/images (69).jpg  \n",
            "  inflating: Tez_in_polis/tren/Polis/images (69q).jpg  \n",
            "  inflating: Tez_in_polis/tren/Polis/images (6q5).jpg  \n",
            "  inflating: Tez_in_polis/tren/Polis/images (6q6).jpg  \n",
            "  inflating: Tez_in_polis/tren/Polis/images (70).jpg  \n",
            "  inflating: Tez_in_polis/tren/Polis/images (70q).jpg  \n",
            "  inflating: Tez_in_polis/tren/Polis/images (71).jpg  \n",
            "  inflating: Tez_in_polis/tren/Polis/images (71q).jpg  \n",
            "  inflating: Tez_in_polis/tren/Polis/images (72).jpg  \n",
            "  inflating: Tez_in_polis/tren/Polis/images (72q).jpg  \n",
            "  inflating: Tez_in_polis/tren/Polis/images (73).jpg  \n",
            "  inflating: Tez_in_polis/tren/Polis/images (73q).jpg  \n",
            "  inflating: Tez_in_polis/tren/Polis/images (74).jpg  \n",
            "  inflating: Tez_in_polis/tren/Polis/images (74q).jpg  \n",
            "  inflating: Tez_in_polis/tren/Polis/images (75).jpg  \n",
            "  inflating: Tez_in_polis/tren/Polis/images (75q).jpg  \n",
            "  inflating: Tez_in_polis/tren/Polis/images (76).jpg  \n",
            "  inflating: Tez_in_polis/tren/Polis/images (76q).jpg  \n",
            "  inflating: Tez_in_polis/tren/Polis/images (77).jpg  \n",
            "  inflating: Tez_in_polis/tren/Polis/images (77q).jpg  \n",
            "  inflating: Tez_in_polis/tren/Polis/images (78).jpg  \n",
            "  inflating: Tez_in_polis/tren/Polis/images (78q).jpg  \n",
            "  inflating: Tez_in_polis/tren/Polis/images (79).jpg  \n",
            "  inflating: Tez_in_polis/tren/Polis/images (79q).jpg  \n",
            "  inflating: Tez_in_polis/tren/Polis/images (80).jpg  \n",
            "  inflating: Tez_in_polis/tren/Polis/images (80q).jpg  \n",
            "  inflating: Tez_in_polis/tren/Polis/images (81).jpg  \n",
            "  inflating: Tez_in_polis/tren/Polis/images (81q).jpg  \n",
            "  inflating: Tez_in_polis/tren/Polis/images (82).jpg  \n",
            "  inflating: Tez_in_polis/tren/Polis/images (83).jpg  \n",
            "  inflating: Tez_in_polis/tren/Polis/images (83q).jpg  \n",
            "  inflating: Tez_in_polis/tren/Polis/images (84).jpg  \n",
            "  inflating: Tez_in_polis/tren/Polis/images (84q).jpg  \n",
            "  inflating: Tez_in_polis/tren/Polis/images (85).jpg  \n",
            "  inflating: Tez_in_polis/tren/Polis/images (86).jpg  \n",
            "  inflating: Tez_in_polis/tren/Polis/images (86q).jpg  \n",
            "  inflating: Tez_in_polis/tren/Polis/images (87).jpg  \n",
            "  inflating: Tez_in_polis/tren/Polis/images (87q).jpg  \n",
            "  inflating: Tez_in_polis/tren/Polis/images (88).jpg  \n",
            "  inflating: Tez_in_polis/tren/Polis/images (88q).jpg  \n",
            "  inflating: Tez_in_polis/tren/Polis/images (89).jpg  \n",
            "  inflating: Tez_in_polis/tren/Polis/images (8q2).jpg  \n",
            "  inflating: Tez_in_polis/tren/Polis/images (8q5).jpg  \n",
            "  inflating: Tez_in_polis/tren/Polis/images (8q9).jpg  \n",
            "  inflating: Tez_in_polis/tren/Polis/images (98).jpg  \n",
            "  inflating: Tez_in_polis/tren/Polis/images (99).jpg  \n",
            "  inflating: Tez_in_polis/tren/Polis/images (9q8).jpg  \n",
            "  inflating: Tez_in_polis/tren/Polis/images (9q9).jpg  \n",
            "  inflating: Tez_in_polis/tren/Polis/images (q192).jpg  \n",
            "  inflating: Tez_in_polis/tren/Polis/images (q193).jpg  \n",
            "  inflating: Tez_in_polis/tren/Polis/images (q194).jpg  \n",
            "  inflating: Tez_in_polis/tren/Polis/images (q21).jpg  \n",
            "  inflating: Tez_in_polis/tren/Polis/images (q222).jpg  \n",
            "   creating: Tez_in_polis/tren/tezyordam/\n",
            "  inflating: Tez_in_polis/tren/tezyordam/downloa4 - Copy.jpg  \n",
            "  inflating: Tez_in_polis/tren/tezyordam/downloa4.jpg  \n",
            "  inflating: Tez_in_polis/tren/tezyordam/download1 - Copy.jpg  \n",
            "  inflating: Tez_in_polis/tren/tezyordam/download1.jpg  \n",
            "  inflating: Tez_in_polis/tren/tezyordam/download10 - Copy.jpg  \n",
            "  inflating: Tez_in_polis/tren/tezyordam/download10.jpg  \n",
            "  inflating: Tez_in_polis/tren/tezyordam/download106 - Copy.jpg  \n",
            "  inflating: Tez_in_polis/tren/tezyordam/download106.jpg  \n",
            "  inflating: Tez_in_polis/tren/tezyordam/download107 - Copy.jpg  \n",
            "  inflating: Tez_in_polis/tren/tezyordam/download107.jpg  \n",
            "  inflating: Tez_in_polis/tren/tezyordam/download108 - Copy.jpg  \n",
            "  inflating: Tez_in_polis/tren/tezyordam/download108.jpg  \n",
            "  inflating: Tez_in_polis/tren/tezyordam/download109 - Copy.jpg  \n",
            "  inflating: Tez_in_polis/tren/tezyordam/download109.jpg  \n",
            "  inflating: Tez_in_polis/tren/tezyordam/download11 - Copy.jpg  \n",
            "  inflating: Tez_in_polis/tren/tezyordam/download11.jpg  \n",
            "  inflating: Tez_in_polis/tren/tezyordam/download110 - Copy.jpg  \n",
            "  inflating: Tez_in_polis/tren/tezyordam/download110.jpg  \n",
            "  inflating: Tez_in_polis/tren/tezyordam/download111 - Copy.jpg  \n",
            "  inflating: Tez_in_polis/tren/tezyordam/download111.jpg  \n",
            "  inflating: Tez_in_polis/tren/tezyordam/download112 - Copy.jpg  \n",
            "  inflating: Tez_in_polis/tren/tezyordam/download112.jpg  \n",
            "  inflating: Tez_in_polis/tren/tezyordam/download113 - Copy.jpg  \n",
            "  inflating: Tez_in_polis/tren/tezyordam/download113.jpg  \n",
            "  inflating: Tez_in_polis/tren/tezyordam/download114 - Copy.jpg  \n",
            "  inflating: Tez_in_polis/tren/tezyordam/download114.jpg  \n",
            "  inflating: Tez_in_polis/tren/tezyordam/download115 - Copy.jpg  \n",
            "  inflating: Tez_in_polis/tren/tezyordam/download115.jpg  \n",
            "  inflating: Tez_in_polis/tren/tezyordam/download168 - Copy.jpg  \n",
            "  inflating: Tez_in_polis/tren/tezyordam/download168.jpg  \n",
            "  inflating: Tez_in_polis/tren/tezyordam/download169 - Copy.jpg  \n",
            "  inflating: Tez_in_polis/tren/tezyordam/download169.jpg  \n",
            "  inflating: Tez_in_polis/tren/tezyordam/download170 - Copy.jpg  \n",
            "  inflating: Tez_in_polis/tren/tezyordam/download170.jpg  \n",
            "  inflating: Tez_in_polis/tren/tezyordam/download2 - Copy.jpg  \n",
            "  inflating: Tez_in_polis/tren/tezyordam/download2.jpg  \n",
            "  inflating: Tez_in_polis/tren/tezyordam/download201 - Copy.jpg  \n",
            "  inflating: Tez_in_polis/tren/tezyordam/download201.jpg  \n",
            "  inflating: Tez_in_polis/tren/tezyordam/download202 - Copy.jpg  \n",
            "  inflating: Tez_in_polis/tren/tezyordam/download202.jpg  \n",
            "  inflating: Tez_in_polis/tren/tezyordam/download253 - Copy.jpg  \n",
            "  inflating: Tez_in_polis/tren/tezyordam/download253.jpg  \n",
            "  inflating: Tez_in_polis/tren/tezyordam/download254 - Copy.jpg  \n",
            "  inflating: Tez_in_polis/tren/tezyordam/download254.jpg  \n",
            "  inflating: Tez_in_polis/tren/tezyordam/download255 - Copy.jpg  \n",
            "  inflating: Tez_in_polis/tren/tezyordam/download255.jpg  \n",
            "  inflating: Tez_in_polis/tren/tezyordam/download256 - Copy.jpg  \n",
            "  inflating: Tez_in_polis/tren/tezyordam/download256.jpg  \n",
            "  inflating: Tez_in_polis/tren/tezyordam/download297 - Copy.jpg  \n",
            "  inflating: Tez_in_polis/tren/tezyordam/download297.jpg  \n",
            "  inflating: Tez_in_polis/tren/tezyordam/download298 - Copy.jpg  \n",
            "  inflating: Tez_in_polis/tren/tezyordam/download298.jpg  \n",
            "  inflating: Tez_in_polis/tren/tezyordam/download299 - Copy.jpg  \n",
            "  inflating: Tez_in_polis/tren/tezyordam/download299.jpg  \n",
            "  inflating: Tez_in_polis/tren/tezyordam/download3 - Copy.jpg  \n",
            "  inflating: Tez_in_polis/tren/tezyordam/download3.jpg  \n",
            "  inflating: Tez_in_polis/tren/tezyordam/download300 - Copy.jpg  \n",
            "  inflating: Tez_in_polis/tren/tezyordam/download300.jpg  \n",
            "  inflating: Tez_in_polis/tren/tezyordam/download5 - Copy.jpg  \n",
            "  inflating: Tez_in_polis/tren/tezyordam/download5.jpg  \n",
            "  inflating: Tez_in_polis/tren/tezyordam/download6 - Copy.jpg  \n",
            "  inflating: Tez_in_polis/tren/tezyordam/download6.jpg  \n",
            "  inflating: Tez_in_polis/tren/tezyordam/download7 - Copy.jpg  \n",
            "  inflating: Tez_in_polis/tren/tezyordam/download7.jpg  \n",
            "  inflating: Tez_in_polis/tren/tezyordam/download79 - Copy.jpg  \n",
            "  inflating: Tez_in_polis/tren/tezyordam/download79.jpg  \n",
            "  inflating: Tez_in_polis/tren/tezyordam/download8 - Copy.jpg  \n",
            "  inflating: Tez_in_polis/tren/tezyordam/download8.jpg  \n",
            "  inflating: Tez_in_polis/tren/tezyordam/download80 - Copy.jpg  \n",
            "  inflating: Tez_in_polis/tren/tezyordam/download80.jpg  \n",
            "  inflating: Tez_in_polis/tren/tezyordam/download81 - Copy.jpg  \n",
            "  inflating: Tez_in_polis/tren/tezyordam/download81.jpg  \n",
            "  inflating: Tez_in_polis/tren/tezyordam/download82 - Copy.jpg  \n",
            "  inflating: Tez_in_polis/tren/tezyordam/download82.jpg  \n",
            "  inflating: Tez_in_polis/tren/tezyordam/download83 - Copy.jpg  \n",
            "  inflating: Tez_in_polis/tren/tezyordam/download83.jpg  \n",
            "  inflating: Tez_in_polis/tren/tezyordam/download84 - Copy.jpg  \n",
            "  inflating: Tez_in_polis/tren/tezyordam/download84.jpg  \n",
            "  inflating: Tez_in_polis/tren/tezyordam/download85 - Copy.jpg  \n",
            "  inflating: Tez_in_polis/tren/tezyordam/download85.jpg  \n",
            "  inflating: Tez_in_polis/tren/tezyordam/download86 - Copy.jpg  \n",
            "  inflating: Tez_in_polis/tren/tezyordam/download86.jpg  \n",
            "  inflating: Tez_in_polis/tren/tezyordam/download87 - Copy.jpg  \n",
            "  inflating: Tez_in_polis/tren/tezyordam/download87.jpg  \n",
            "  inflating: Tez_in_polis/tren/tezyordam/download88 - Copy.jpg  \n",
            "  inflating: Tez_in_polis/tren/tezyordam/download88.jpg  \n",
            "  inflating: Tez_in_polis/tren/tezyordam/download89 - Copy.jpg  \n",
            "  inflating: Tez_in_polis/tren/tezyordam/download89.jpg  \n",
            "  inflating: Tez_in_polis/tren/tezyordam/download9 - Copy.jpg  \n",
            "  inflating: Tez_in_polis/tren/tezyordam/download9.jpg  \n",
            "  inflating: Tez_in_polis/tren/tezyordam/download90 - Copy.jpg  \n",
            "  inflating: Tez_in_polis/tren/tezyordam/download90.jpg  \n",
            "  inflating: Tez_in_polis/tren/tezyordam/download91 - Copy.jpg  \n",
            "  inflating: Tez_in_polis/tren/tezyordam/download91.jpg  \n",
            "  inflating: Tez_in_polis/tren/tezyordam/images (100) - Copy.jpg  \n",
            "  inflating: Tez_in_polis/tren/tezyordam/images (100).jpg  \n",
            "  inflating: Tez_in_polis/tren/tezyordam/images (101) - Copy.jpg  \n",
            "  inflating: Tez_in_polis/tren/tezyordam/images (101).jpg  \n",
            "  inflating: Tez_in_polis/tren/tezyordam/images (102) - Copy.jpg  \n",
            "  inflating: Tez_in_polis/tren/tezyordam/images (102).jpg  \n",
            "  inflating: Tez_in_polis/tren/tezyordam/images (103) - Copy.jpg  \n",
            "  inflating: Tez_in_polis/tren/tezyordam/images (103).jpg  \n",
            "  inflating: Tez_in_polis/tren/tezyordam/images (104) - Copy.jpg  \n",
            "  inflating: Tez_in_polis/tren/tezyordam/images (104).jpg  \n",
            "  inflating: Tez_in_polis/tren/tezyordam/images (105) - Copy.jpg  \n",
            "  inflating: Tez_in_polis/tren/tezyordam/images (105).jpg  \n",
            "  inflating: Tez_in_polis/tren/tezyordam/images (116) - Copy.jpg  \n",
            "  inflating: Tez_in_polis/tren/tezyordam/images (116).jpg  \n",
            "  inflating: Tez_in_polis/tren/tezyordam/images (117) - Copy.jpg  \n",
            "  inflating: Tez_in_polis/tren/tezyordam/images (117).jpg  \n",
            "  inflating: Tez_in_polis/tren/tezyordam/images (118) - Copy.jpg  \n",
            "  inflating: Tez_in_polis/tren/tezyordam/images (118).jpg  \n",
            "  inflating: Tez_in_polis/tren/tezyordam/images (119) - Copy.jpg  \n",
            "  inflating: Tez_in_polis/tren/tezyordam/images (119).jpg  \n",
            "  inflating: Tez_in_polis/tren/tezyordam/images (12) - Copy.jpg  \n",
            "  inflating: Tez_in_polis/tren/tezyordam/images (12).jpg  \n",
            "  inflating: Tez_in_polis/tren/tezyordam/images (120) - Copy.jpg  \n",
            "  inflating: Tez_in_polis/tren/tezyordam/images (120).jpg  \n",
            "  inflating: Tez_in_polis/tren/tezyordam/images (121) - Copy.jpg  \n",
            "  inflating: Tez_in_polis/tren/tezyordam/images (121).jpg  \n",
            "  inflating: Tez_in_polis/tren/tezyordam/images (122) - Copy.jpg  \n",
            "  inflating: Tez_in_polis/tren/tezyordam/images (122).jpg  \n",
            "  inflating: Tez_in_polis/tren/tezyordam/images (123) - Copy.jpg  \n",
            "  inflating: Tez_in_polis/tren/tezyordam/images (123).jpg  \n",
            "  inflating: Tez_in_polis/tren/tezyordam/images (124) - Copy.jpg  \n",
            "  inflating: Tez_in_polis/tren/tezyordam/images (124).jpg  \n",
            "  inflating: Tez_in_polis/tren/tezyordam/images (125) - Copy.jpg  \n",
            "  inflating: Tez_in_polis/tren/tezyordam/images (125).jpg  \n",
            "  inflating: Tez_in_polis/tren/tezyordam/images (126) - Copy.jpg  \n",
            "  inflating: Tez_in_polis/tren/tezyordam/images (126).jpg  \n",
            "  inflating: Tez_in_polis/tren/tezyordam/images (127) - Copy.jpg  \n",
            "  inflating: Tez_in_polis/tren/tezyordam/images (127).jpg  \n",
            "  inflating: Tez_in_polis/tren/tezyordam/images (128) - Copy.jpg  \n",
            "  inflating: Tez_in_polis/tren/tezyordam/images (128).jpg  \n",
            "  inflating: Tez_in_polis/tren/tezyordam/images (129) - Copy.jpg  \n",
            "  inflating: Tez_in_polis/tren/tezyordam/images (129).jpg  \n",
            "  inflating: Tez_in_polis/tren/tezyordam/images (13) - Copy.jpg  \n",
            "  inflating: Tez_in_polis/tren/tezyordam/images (13).jpg  \n",
            "  inflating: Tez_in_polis/tren/tezyordam/images (130) - Copy.jpg  \n",
            "  inflating: Tez_in_polis/tren/tezyordam/images (130).jpg  \n",
            "  inflating: Tez_in_polis/tren/tezyordam/images (131) - Copy.jpg  \n",
            "  inflating: Tez_in_polis/tren/tezyordam/images (131).jpg  \n",
            "  inflating: Tez_in_polis/tren/tezyordam/images (132) - Copy.jpg  \n",
            "  inflating: Tez_in_polis/tren/tezyordam/images (132).jpg  \n",
            "  inflating: Tez_in_polis/tren/tezyordam/images (133) - Copy.jpg  \n",
            "  inflating: Tez_in_polis/tren/tezyordam/images (133).jpg  \n",
            "  inflating: Tez_in_polis/tren/tezyordam/images (134) - Copy.jpg  \n",
            "  inflating: Tez_in_polis/tren/tezyordam/images (134).jpg  \n",
            "  inflating: Tez_in_polis/tren/tezyordam/images (135) - Copy.jpg  \n",
            "  inflating: Tez_in_polis/tren/tezyordam/images (135).jpg  \n",
            "  inflating: Tez_in_polis/tren/tezyordam/images (136) - Copy.jpg  \n",
            "  inflating: Tez_in_polis/tren/tezyordam/images (136).jpg  \n",
            "  inflating: Tez_in_polis/tren/tezyordam/images (137) - Copy.jpg  \n",
            "  inflating: Tez_in_polis/tren/tezyordam/images (137).jpg  \n",
            "  inflating: Tez_in_polis/tren/tezyordam/images (138) - Copy.jpg  \n",
            "  inflating: Tez_in_polis/tren/tezyordam/images (138).jpg  \n",
            "  inflating: Tez_in_polis/tren/tezyordam/images (139) - Copy.jpg  \n",
            "  inflating: Tez_in_polis/tren/tezyordam/images (139).jpg  \n",
            "  inflating: Tez_in_polis/tren/tezyordam/images (14) - Copy.jpg  \n",
            "  inflating: Tez_in_polis/tren/tezyordam/images (14).jpg  \n",
            "  inflating: Tez_in_polis/tren/tezyordam/images (140) - Copy.jpg  \n",
            "  inflating: Tez_in_polis/tren/tezyordam/images (140).jpg  \n",
            "  inflating: Tez_in_polis/tren/tezyordam/images (141) - Copy.jpg  \n",
            "  inflating: Tez_in_polis/tren/tezyordam/images (141).jpg  \n",
            "  inflating: Tez_in_polis/tren/tezyordam/images (142) - Copy.jpg  \n",
            "  inflating: Tez_in_polis/tren/tezyordam/images (142).jpg  \n",
            "  inflating: Tez_in_polis/tren/tezyordam/images (143) - Copy.jpg  \n",
            "  inflating: Tez_in_polis/tren/tezyordam/images (143).jpg  \n",
            "  inflating: Tez_in_polis/tren/tezyordam/images (144) - Copy.jpg  \n",
            "  inflating: Tez_in_polis/tren/tezyordam/images (144).jpg  \n",
            "  inflating: Tez_in_polis/tren/tezyordam/images (145) - Copy.jpg  \n",
            "  inflating: Tez_in_polis/tren/tezyordam/images (145).jpg  \n",
            "  inflating: Tez_in_polis/tren/tezyordam/images (146) - Copy.jpg  \n",
            "  inflating: Tez_in_polis/tren/tezyordam/images (146).jpg  \n",
            "  inflating: Tez_in_polis/tren/tezyordam/images (147) - Copy.jpg  \n",
            "  inflating: Tez_in_polis/tren/tezyordam/images (147).jpg  \n",
            "  inflating: Tez_in_polis/tren/tezyordam/images (148) - Copy.jpg  \n",
            "  inflating: Tez_in_polis/tren/tezyordam/images (148).jpg  \n",
            "  inflating: Tez_in_polis/tren/tezyordam/images (149) - Copy.jpg  \n",
            "  inflating: Tez_in_polis/tren/tezyordam/images (149).jpg  \n",
            "  inflating: Tez_in_polis/tren/tezyordam/images (15) - Copy.jpg  \n",
            "  inflating: Tez_in_polis/tren/tezyordam/images (15).jpg  \n",
            "  inflating: Tez_in_polis/tren/tezyordam/images (150) - Copy.jpg  \n",
            "  inflating: Tez_in_polis/tren/tezyordam/images (150).jpg  \n",
            "  inflating: Tez_in_polis/tren/tezyordam/images (151) - Copy.jpg  \n",
            "  inflating: Tez_in_polis/tren/tezyordam/images (151).jpg  \n",
            "  inflating: Tez_in_polis/tren/tezyordam/images (152) - Copy.jpg  \n",
            "  inflating: Tez_in_polis/tren/tezyordam/images (152).jpg  \n",
            "  inflating: Tez_in_polis/tren/tezyordam/images (153) - Copy.jpg  \n",
            "  inflating: Tez_in_polis/tren/tezyordam/images (153).jpg  \n",
            "  inflating: Tez_in_polis/tren/tezyordam/images (154) - Copy.jpg  \n",
            "  inflating: Tez_in_polis/tren/tezyordam/images (154).jpg  \n",
            "  inflating: Tez_in_polis/tren/tezyordam/images (155) - Copy.jpg  \n",
            "  inflating: Tez_in_polis/tren/tezyordam/images (155).jpg  \n",
            "  inflating: Tez_in_polis/tren/tezyordam/images (156) - Copy.jpg  \n",
            "  inflating: Tez_in_polis/tren/tezyordam/images (156).jpg  \n",
            "  inflating: Tez_in_polis/tren/tezyordam/images (157) - Copy.jpg  \n",
            "  inflating: Tez_in_polis/tren/tezyordam/images (157).jpg  \n",
            "  inflating: Tez_in_polis/tren/tezyordam/images (158) - Copy.jpg  \n",
            "  inflating: Tez_in_polis/tren/tezyordam/images (158).jpg  \n",
            "  inflating: Tez_in_polis/tren/tezyordam/images (159) - Copy.jpg  \n",
            "  inflating: Tez_in_polis/tren/tezyordam/images (159).jpg  \n",
            "  inflating: Tez_in_polis/tren/tezyordam/images (16) - Copy.jpg  \n",
            "  inflating: Tez_in_polis/tren/tezyordam/images (16).jpg  \n",
            "  inflating: Tez_in_polis/tren/tezyordam/images (160) - Copy.jpg  \n",
            "  inflating: Tez_in_polis/tren/tezyordam/images (160).jpg  \n",
            "  inflating: Tez_in_polis/tren/tezyordam/images (161) - Copy.jpg  \n",
            "  inflating: Tez_in_polis/tren/tezyordam/images (161).jpg  \n",
            "  inflating: Tez_in_polis/tren/tezyordam/images (162) - Copy.jpg  \n",
            "  inflating: Tez_in_polis/tren/tezyordam/images (162).jpg  \n",
            "  inflating: Tez_in_polis/tren/tezyordam/images (163) - Copy.jpg  \n",
            "  inflating: Tez_in_polis/tren/tezyordam/images (163).jpg  \n",
            "  inflating: Tez_in_polis/tren/tezyordam/images (164) - Copy.jpg  \n",
            "  inflating: Tez_in_polis/tren/tezyordam/images (164).jpg  \n",
            "  inflating: Tez_in_polis/tren/tezyordam/images (165) - Copy.jpg  \n",
            "  inflating: Tez_in_polis/tren/tezyordam/images (165).jpg  \n",
            "  inflating: Tez_in_polis/tren/tezyordam/images (166) - Copy.jpg  \n",
            "  inflating: Tez_in_polis/tren/tezyordam/images (166).jpg  \n",
            "  inflating: Tez_in_polis/tren/tezyordam/images (167) - Copy.jpg  \n",
            "  inflating: Tez_in_polis/tren/tezyordam/images (167).jpg  \n",
            "  inflating: Tez_in_polis/tren/tezyordam/images (17) - Copy.jpg  \n",
            "  inflating: Tez_in_polis/tren/tezyordam/images (17).jpg  \n",
            "  inflating: Tez_in_polis/tren/tezyordam/images (171) - Copy.jpg  \n",
            "  inflating: Tez_in_polis/tren/tezyordam/images (171).jpg  \n",
            "  inflating: Tez_in_polis/tren/tezyordam/images (172) - Copy.jpg  \n",
            "  inflating: Tez_in_polis/tren/tezyordam/images (172).jpg  \n",
            "  inflating: Tez_in_polis/tren/tezyordam/images (173) - Copy.jpg  \n",
            "  inflating: Tez_in_polis/tren/tezyordam/images (173).jpg  \n",
            "  inflating: Tez_in_polis/tren/tezyordam/images (174) - Copy.jpg  \n",
            "  inflating: Tez_in_polis/tren/tezyordam/images (174).jpg  \n",
            "  inflating: Tez_in_polis/tren/tezyordam/images (175) - Copy.jpg  \n",
            "  inflating: Tez_in_polis/tren/tezyordam/images (175).jpg  \n",
            "  inflating: Tez_in_polis/tren/tezyordam/images (176) - Copy.jpg  \n",
            "  inflating: Tez_in_polis/tren/tezyordam/images (176).jpg  \n",
            "  inflating: Tez_in_polis/tren/tezyordam/images (177) - Copy.jpg  \n",
            "  inflating: Tez_in_polis/tren/tezyordam/images (177).jpg  \n",
            "  inflating: Tez_in_polis/tren/tezyordam/images (178) - Copy.jpg  \n",
            "  inflating: Tez_in_polis/tren/tezyordam/images (178).jpg  \n",
            "  inflating: Tez_in_polis/tren/tezyordam/images (179) - Copy.jpg  \n",
            "  inflating: Tez_in_polis/tren/tezyordam/images (179).jpg  \n",
            "  inflating: Tez_in_polis/tren/tezyordam/images (18) - Copy.jpg  \n",
            "  inflating: Tez_in_polis/tren/tezyordam/images (18).jpg  \n",
            "  inflating: Tez_in_polis/tren/tezyordam/images (180) - Copy.jpg  \n",
            "  inflating: Tez_in_polis/tren/tezyordam/images (180).jpg  \n",
            "  inflating: Tez_in_polis/tren/tezyordam/images (181) - Copy.jpg  \n",
            "  inflating: Tez_in_polis/tren/tezyordam/images (181).jpg  \n",
            "  inflating: Tez_in_polis/tren/tezyordam/images (182) - Copy.jpg  \n",
            "  inflating: Tez_in_polis/tren/tezyordam/images (182).jpg  \n",
            "  inflating: Tez_in_polis/tren/tezyordam/images (183) - Copy.jpg  \n",
            "  inflating: Tez_in_polis/tren/tezyordam/images (183).jpg  \n",
            "  inflating: Tez_in_polis/tren/tezyordam/images (184) - Copy.jpg  \n",
            "  inflating: Tez_in_polis/tren/tezyordam/images (184).jpg  \n",
            "  inflating: Tez_in_polis/tren/tezyordam/images (185) - Copy.jpg  \n",
            "  inflating: Tez_in_polis/tren/tezyordam/images (185).jpg  \n",
            "  inflating: Tez_in_polis/tren/tezyordam/images (186) - Copy.jpg  \n",
            "  inflating: Tez_in_polis/tren/tezyordam/images (186).jpg  \n",
            "  inflating: Tez_in_polis/tren/tezyordam/images (187) - Copy.jpg  \n",
            "  inflating: Tez_in_polis/tren/tezyordam/images (187).jpg  \n",
            "  inflating: Tez_in_polis/tren/tezyordam/images (188) - Copy.jpg  \n",
            "  inflating: Tez_in_polis/tren/tezyordam/images (188).jpg  \n",
            "  inflating: Tez_in_polis/tren/tezyordam/images (189) - Copy.jpg  \n",
            "  inflating: Tez_in_polis/tren/tezyordam/images (189).jpg  \n",
            "  inflating: Tez_in_polis/tren/tezyordam/images (19) - Copy.jpg  \n",
            "  inflating: Tez_in_polis/tren/tezyordam/images (19).jpg  \n",
            "  inflating: Tez_in_polis/tren/tezyordam/images (190) - Copy.jpg  \n",
            "  inflating: Tez_in_polis/tren/tezyordam/images (190).jpg  \n",
            "  inflating: Tez_in_polis/tren/tezyordam/images (191) - Copy.jpg  \n",
            "  inflating: Tez_in_polis/tren/tezyordam/images (191).jpg  \n",
            "  inflating: Tez_in_polis/tren/tezyordam/images (192) - Copy.jpg  \n",
            "  inflating: Tez_in_polis/tren/tezyordam/images (192).jpg  \n",
            "  inflating: Tez_in_polis/tren/tezyordam/images (193) - Copy.jpg  \n",
            "  inflating: Tez_in_polis/tren/tezyordam/images (193).jpg  \n",
            "  inflating: Tez_in_polis/tren/tezyordam/images (194) - Copy.jpg  \n",
            "  inflating: Tez_in_polis/tren/tezyordam/images (194).jpg  \n",
            "  inflating: Tez_in_polis/tren/tezyordam/images (195) - Copy.jpg  \n",
            "  inflating: Tez_in_polis/tren/tezyordam/images (195).jpg  \n",
            "  inflating: Tez_in_polis/tren/tezyordam/images (196) - Copy.jpg  \n",
            "  inflating: Tez_in_polis/tren/tezyordam/images (196).jpg  \n",
            "  inflating: Tez_in_polis/tren/tezyordam/images (197) - Copy.jpg  \n",
            "  inflating: Tez_in_polis/tren/tezyordam/images (197).jpg  \n",
            "  inflating: Tez_in_polis/tren/tezyordam/images (198) - Copy.jpg  \n",
            "  inflating: Tez_in_polis/tren/tezyordam/images (198).jpg  \n",
            "  inflating: Tez_in_polis/tren/tezyordam/images (199) - Copy.jpg  \n",
            "  inflating: Tez_in_polis/tren/tezyordam/images (199).jpg  \n",
            "  inflating: Tez_in_polis/tren/tezyordam/images (20) - Copy.jpg  \n",
            "  inflating: Tez_in_polis/tren/tezyordam/images (20).jpg  \n",
            "  inflating: Tez_in_polis/tren/tezyordam/images (200) - Copy.jpg  \n",
            "  inflating: Tez_in_polis/tren/tezyordam/images (200).jpg  \n",
            "  inflating: Tez_in_polis/tren/tezyordam/images (203) - Copy.jpg  \n",
            "  inflating: Tez_in_polis/tren/tezyordam/images (203).jpg  \n",
            "  inflating: Tez_in_polis/tren/tezyordam/images (204) - Copy.jpg  \n",
            "  inflating: Tez_in_polis/tren/tezyordam/images (204).jpg  \n",
            "  inflating: Tez_in_polis/tren/tezyordam/images (205) - Copy.jpg  \n",
            "  inflating: Tez_in_polis/tren/tezyordam/images (205).jpg  \n",
            "  inflating: Tez_in_polis/tren/tezyordam/images (206) - Copy.jpg  \n",
            "  inflating: Tez_in_polis/tren/tezyordam/images (206).jpg  \n",
            "  inflating: Tez_in_polis/tren/tezyordam/images (207) - Copy.jpg  \n",
            "  inflating: Tez_in_polis/tren/tezyordam/images (207).jpg  \n",
            "  inflating: Tez_in_polis/tren/tezyordam/images (208) - Copy.jpg  \n",
            "  inflating: Tez_in_polis/tren/tezyordam/images (208).jpg  \n",
            "  inflating: Tez_in_polis/tren/tezyordam/images (209) - Copy.jpg  \n",
            "  inflating: Tez_in_polis/tren/tezyordam/images (209).jpg  \n",
            "  inflating: Tez_in_polis/tren/tezyordam/images (21) - Copy.jpg  \n",
            "  inflating: Tez_in_polis/tren/tezyordam/images (21).jpg  \n",
            "  inflating: Tez_in_polis/tren/tezyordam/images (210) - Copy.jpg  \n",
            "  inflating: Tez_in_polis/tren/tezyordam/images (210).jpg  \n",
            "  inflating: Tez_in_polis/tren/tezyordam/images (211) - Copy.jpg  \n",
            "  inflating: Tez_in_polis/tren/tezyordam/images (211).jpg  \n",
            "  inflating: Tez_in_polis/tren/tezyordam/images (212) - Copy.jpg  \n",
            "  inflating: Tez_in_polis/tren/tezyordam/images (212).jpg  \n",
            "  inflating: Tez_in_polis/tren/tezyordam/images (213) - Copy.jpg  \n",
            "  inflating: Tez_in_polis/tren/tezyordam/images (213).jpg  \n",
            "  inflating: Tez_in_polis/tren/tezyordam/images (214) - Copy.jpg  \n",
            "  inflating: Tez_in_polis/tren/tezyordam/images (214).jpg  \n",
            "  inflating: Tez_in_polis/tren/tezyordam/images (215) - Copy.jpg  \n",
            "  inflating: Tez_in_polis/tren/tezyordam/images (215).jpg  \n",
            "  inflating: Tez_in_polis/tren/tezyordam/images (216) - Copy.jpg  \n",
            "  inflating: Tez_in_polis/tren/tezyordam/images (216).jpg  \n",
            "  inflating: Tez_in_polis/tren/tezyordam/images (217) - Copy.jpg  \n",
            "  inflating: Tez_in_polis/tren/tezyordam/images (217).jpg  \n",
            "  inflating: Tez_in_polis/tren/tezyordam/images (218) - Copy.jpg  \n",
            "  inflating: Tez_in_polis/tren/tezyordam/images (218).jpg  \n",
            "  inflating: Tez_in_polis/tren/tezyordam/images (219) - Copy.jpg  \n",
            "  inflating: Tez_in_polis/tren/tezyordam/images (219).jpg  \n",
            "  inflating: Tez_in_polis/tren/tezyordam/images (22) - Copy.jpg  \n",
            "  inflating: Tez_in_polis/tren/tezyordam/images (22).jpg  \n",
            "  inflating: Tez_in_polis/tren/tezyordam/images (220) - Copy.jpg  \n",
            "  inflating: Tez_in_polis/tren/tezyordam/images (220).jpg  \n",
            "  inflating: Tez_in_polis/tren/tezyordam/images (221) - Copy.jpg  \n",
            "  inflating: Tez_in_polis/tren/tezyordam/images (221).jpg  \n",
            "  inflating: Tez_in_polis/tren/tezyordam/images (222) - Copy.jpg  \n",
            "  inflating: Tez_in_polis/tren/tezyordam/images (222).jpg  \n",
            "  inflating: Tez_in_polis/tren/tezyordam/images (223) - Copy.jpg  \n",
            "  inflating: Tez_in_polis/tren/tezyordam/images (223).jpg  \n",
            "  inflating: Tez_in_polis/tren/tezyordam/images (224) - Copy.jpg  \n",
            "  inflating: Tez_in_polis/tren/tezyordam/images (224).jpg  \n",
            "  inflating: Tez_in_polis/tren/tezyordam/images (225) - Copy.jpg  \n",
            "  inflating: Tez_in_polis/tren/tezyordam/images (225).jpg  \n",
            "  inflating: Tez_in_polis/tren/tezyordam/images (226) - Copy.jpg  \n",
            "  inflating: Tez_in_polis/tren/tezyordam/images (226).jpg  \n",
            "  inflating: Tez_in_polis/tren/tezyordam/images (227) - Copy.jpg  \n",
            "  inflating: Tez_in_polis/tren/tezyordam/images (227).jpg  \n",
            "  inflating: Tez_in_polis/tren/tezyordam/images (228) - Copy.jpg  \n",
            "  inflating: Tez_in_polis/tren/tezyordam/images (228).jpg  \n",
            "  inflating: Tez_in_polis/tren/tezyordam/images (229) - Copy.jpg  \n",
            "  inflating: Tez_in_polis/tren/tezyordam/images (229).jpg  \n",
            "  inflating: Tez_in_polis/tren/tezyordam/images (23) - Copy.jpg  \n",
            "  inflating: Tez_in_polis/tren/tezyordam/images (23).jpg  \n",
            "  inflating: Tez_in_polis/tren/tezyordam/images (230) - Copy.jpg  \n",
            "  inflating: Tez_in_polis/tren/tezyordam/images (230).jpg  \n",
            "  inflating: Tez_in_polis/tren/tezyordam/images (231) - Copy.jpg  \n",
            "  inflating: Tez_in_polis/tren/tezyordam/images (231).jpg  \n",
            "  inflating: Tez_in_polis/tren/tezyordam/images (232) - Copy.jpg  \n",
            "  inflating: Tez_in_polis/tren/tezyordam/images (232).jpg  \n",
            "  inflating: Tez_in_polis/tren/tezyordam/images (233) - Copy.jpg  \n",
            "  inflating: Tez_in_polis/tren/tezyordam/images (233).jpg  \n",
            "  inflating: Tez_in_polis/tren/tezyordam/images (234) - Copy.jpg  \n",
            "  inflating: Tez_in_polis/tren/tezyordam/images (234).jpg  \n",
            "  inflating: Tez_in_polis/tren/tezyordam/images (235) - Copy.jpg  \n",
            "  inflating: Tez_in_polis/tren/tezyordam/images (235).jpg  \n",
            "  inflating: Tez_in_polis/tren/tezyordam/images (236) - Copy.jpg  \n",
            "  inflating: Tez_in_polis/tren/tezyordam/images (236).jpg  \n",
            "  inflating: Tez_in_polis/tren/tezyordam/images (237) - Copy.jpg  \n",
            "  inflating: Tez_in_polis/tren/tezyordam/images (237).jpg  \n",
            "  inflating: Tez_in_polis/tren/tezyordam/images (238) - Copy.jpg  \n",
            "  inflating: Tez_in_polis/tren/tezyordam/images (238).jpg  \n",
            "  inflating: Tez_in_polis/tren/tezyordam/images (239) - Copy.jpg  \n",
            "  inflating: Tez_in_polis/tren/tezyordam/images (239).jpg  \n",
            "  inflating: Tez_in_polis/tren/tezyordam/images (24) - Copy.jpg  \n",
            "  inflating: Tez_in_polis/tren/tezyordam/images (24).jpg  \n",
            "  inflating: Tez_in_polis/tren/tezyordam/images (240) - Copy.jpg  \n",
            "  inflating: Tez_in_polis/tren/tezyordam/images (240).jpg  \n",
            "  inflating: Tez_in_polis/tren/tezyordam/images (241 - Copy.jpg  \n",
            "  inflating: Tez_in_polis/tren/tezyordam/images (241.jpg  \n",
            "  inflating: Tez_in_polis/tren/tezyordam/images (242) - Copy.jpg  \n",
            "  inflating: Tez_in_polis/tren/tezyordam/images (242).jpg  \n",
            "  inflating: Tez_in_polis/tren/tezyordam/images (243) - Copy.jpg  \n",
            "  inflating: Tez_in_polis/tren/tezyordam/images (243).jpg  \n",
            "  inflating: Tez_in_polis/tren/tezyordam/images (244) - Copy.jpg  \n",
            "  inflating: Tez_in_polis/tren/tezyordam/images (244).jpg  \n",
            "  inflating: Tez_in_polis/tren/tezyordam/images (245) - Copy.jpg  \n",
            "  inflating: Tez_in_polis/tren/tezyordam/images (245).jpg  \n",
            "  inflating: Tez_in_polis/tren/tezyordam/images (246) - Copy.jpg  \n",
            "  inflating: Tez_in_polis/tren/tezyordam/images (246).jpg  \n",
            "  inflating: Tez_in_polis/tren/tezyordam/images (247) - Copy.jpg  \n",
            "  inflating: Tez_in_polis/tren/tezyordam/images (247).jpg  \n",
            "  inflating: Tez_in_polis/tren/tezyordam/images (248) - Copy.jpg  \n",
            "  inflating: Tez_in_polis/tren/tezyordam/images (248).jpg  \n",
            "  inflating: Tez_in_polis/tren/tezyordam/images (249) - Copy.jpg  \n",
            "  inflating: Tez_in_polis/tren/tezyordam/images (249).jpg  \n",
            "  inflating: Tez_in_polis/tren/tezyordam/images (25) - Copy.jpg  \n",
            "  inflating: Tez_in_polis/tren/tezyordam/images (25).jpg  \n",
            "  inflating: Tez_in_polis/tren/tezyordam/images (250) - Copy.jpg  \n",
            "  inflating: Tez_in_polis/tren/tezyordam/images (250).jpg  \n",
            "  inflating: Tez_in_polis/tren/tezyordam/images (251) - Copy.jpg  \n",
            "  inflating: Tez_in_polis/tren/tezyordam/images (251).jpg  \n",
            "  inflating: Tez_in_polis/tren/tezyordam/images (252) - Copy.jpg  \n",
            "  inflating: Tez_in_polis/tren/tezyordam/images (252).jpg  \n",
            "  inflating: Tez_in_polis/tren/tezyordam/images (257) - Copy.jpg  \n",
            "  inflating: Tez_in_polis/tren/tezyordam/images (257).jpg  \n",
            "  inflating: Tez_in_polis/tren/tezyordam/images (258) - Copy.jpg  \n",
            "  inflating: Tez_in_polis/tren/tezyordam/images (258).jpg  \n",
            "  inflating: Tez_in_polis/tren/tezyordam/images (259) - Copy.jpg  \n",
            "  inflating: Tez_in_polis/tren/tezyordam/images (259).jpg  \n",
            "  inflating: Tez_in_polis/tren/tezyordam/images (26) - Copy.jpg  \n",
            "  inflating: Tez_in_polis/tren/tezyordam/images (26).jpg  \n",
            "  inflating: Tez_in_polis/tren/tezyordam/images (260) - Copy.jpg  \n",
            "  inflating: Tez_in_polis/tren/tezyordam/images (260).jpg  \n",
            "  inflating: Tez_in_polis/tren/tezyordam/images (261) - Copy.jpg  \n",
            "  inflating: Tez_in_polis/tren/tezyordam/images (261).jpg  \n",
            "  inflating: Tez_in_polis/tren/tezyordam/images (262) - Copy.jpg  \n",
            "  inflating: Tez_in_polis/tren/tezyordam/images (262).jpg  \n",
            "  inflating: Tez_in_polis/tren/tezyordam/images (263) - Copy.jpg  \n",
            "  inflating: Tez_in_polis/tren/tezyordam/images (263).jpg  \n",
            "  inflating: Tez_in_polis/tren/tezyordam/images (264) - Copy.jpg  \n",
            "  inflating: Tez_in_polis/tren/tezyordam/images (264).jpg  \n",
            "  inflating: Tez_in_polis/tren/tezyordam/images (265) - Copy.jpg  \n",
            "  inflating: Tez_in_polis/tren/tezyordam/images (265).jpg  \n",
            "  inflating: Tez_in_polis/tren/tezyordam/images (266) - Copy.jpg  \n",
            "  inflating: Tez_in_polis/tren/tezyordam/images (266).jpg  \n",
            "  inflating: Tez_in_polis/tren/tezyordam/images (267) - Copy.jpg  \n",
            "  inflating: Tez_in_polis/tren/tezyordam/images (267).jpg  \n",
            "  inflating: Tez_in_polis/tren/tezyordam/images (268) - Copy.jpg  \n",
            "  inflating: Tez_in_polis/tren/tezyordam/images (268).jpg  \n",
            "  inflating: Tez_in_polis/tren/tezyordam/images (269) - Copy.jpg  \n",
            "  inflating: Tez_in_polis/tren/tezyordam/images (269).jpg  \n",
            "  inflating: Tez_in_polis/tren/tezyordam/images (27) - Copy.jpg  \n",
            "  inflating: Tez_in_polis/tren/tezyordam/images (27).jpg  \n",
            "  inflating: Tez_in_polis/tren/tezyordam/images (270) - Copy.jpg  \n",
            "  inflating: Tez_in_polis/tren/tezyordam/images (270).jpg  \n",
            "  inflating: Tez_in_polis/tren/tezyordam/images (271) - Copy.jpg  \n",
            "  inflating: Tez_in_polis/tren/tezyordam/images (271).jpg  \n",
            "  inflating: Tez_in_polis/tren/tezyordam/images (272) - Copy.jpg  \n",
            "  inflating: Tez_in_polis/tren/tezyordam/images (272).jpg  \n",
            "  inflating: Tez_in_polis/tren/tezyordam/images (273) - Copy.jpg  \n",
            "  inflating: Tez_in_polis/tren/tezyordam/images (273).jpg  \n",
            "  inflating: Tez_in_polis/tren/tezyordam/images (274) - Copy.jpg  \n",
            "  inflating: Tez_in_polis/tren/tezyordam/images (274).jpg  \n",
            "  inflating: Tez_in_polis/tren/tezyordam/images (275) - Copy.jpg  \n",
            "  inflating: Tez_in_polis/tren/tezyordam/images (275).jpg  \n",
            "  inflating: Tez_in_polis/tren/tezyordam/images (276) - Copy.jpg  \n",
            "  inflating: Tez_in_polis/tren/tezyordam/images (276).jpg  \n",
            "  inflating: Tez_in_polis/tren/tezyordam/images (277) - Copy.jpg  \n",
            "  inflating: Tez_in_polis/tren/tezyordam/images (277).jpg  \n",
            "  inflating: Tez_in_polis/tren/tezyordam/images (278) - Copy.jpg  \n",
            "  inflating: Tez_in_polis/tren/tezyordam/images (278).jpg  \n",
            "  inflating: Tez_in_polis/tren/tezyordam/images (279) - Copy.jpg  \n",
            "  inflating: Tez_in_polis/tren/tezyordam/images (279).jpg  \n",
            "  inflating: Tez_in_polis/tren/tezyordam/images (28) - Copy.jpg  \n",
            "  inflating: Tez_in_polis/tren/tezyordam/images (28).jpg  \n",
            "  inflating: Tez_in_polis/tren/tezyordam/images (280) - Copy.jpg  \n",
            "  inflating: Tez_in_polis/tren/tezyordam/images (280).jpg  \n",
            "  inflating: Tez_in_polis/tren/tezyordam/images (281) - Copy.jpg  \n",
            "  inflating: Tez_in_polis/tren/tezyordam/images (281).jpg  \n",
            "  inflating: Tez_in_polis/tren/tezyordam/images (282) - Copy.jpg  \n",
            "  inflating: Tez_in_polis/tren/tezyordam/images (282).jpg  \n",
            "  inflating: Tez_in_polis/tren/tezyordam/images (283) - Copy.jpg  \n",
            "  inflating: Tez_in_polis/tren/tezyordam/images (283).jpg  \n",
            "  inflating: Tez_in_polis/tren/tezyordam/images (284) - Copy.jpg  \n",
            "  inflating: Tez_in_polis/tren/tezyordam/images (284).jpg  \n",
            "  inflating: Tez_in_polis/tren/tezyordam/images (285) - Copy.jpg  \n",
            "  inflating: Tez_in_polis/tren/tezyordam/images (285).jpg  \n",
            "  inflating: Tez_in_polis/tren/tezyordam/images (286) - Copy.jpg  \n",
            "  inflating: Tez_in_polis/tren/tezyordam/images (286).jpg  \n",
            "  inflating: Tez_in_polis/tren/tezyordam/images (287) - Copy.jpg  \n",
            "  inflating: Tez_in_polis/tren/tezyordam/images (287).jpg  \n",
            "  inflating: Tez_in_polis/tren/tezyordam/images (288) - Copy.jpg  \n",
            "  inflating: Tez_in_polis/tren/tezyordam/images (288).jpg  \n",
            "  inflating: Tez_in_polis/tren/tezyordam/images (289) - Copy.jpg  \n",
            "  inflating: Tez_in_polis/tren/tezyordam/images (289).jpg  \n",
            "  inflating: Tez_in_polis/tren/tezyordam/images (29) - Copy.jpg  \n",
            "  inflating: Tez_in_polis/tren/tezyordam/images (29).jpg  \n",
            "  inflating: Tez_in_polis/tren/tezyordam/images (290) - Copy.jpg  \n",
            "  inflating: Tez_in_polis/tren/tezyordam/images (290).jpg  \n",
            "  inflating: Tez_in_polis/tren/tezyordam/images (291) - Copy.jpg  \n",
            "  inflating: Tez_in_polis/tren/tezyordam/images (291).jpg  \n",
            "  inflating: Tez_in_polis/tren/tezyordam/images (292) - Copy.jpg  \n",
            "  inflating: Tez_in_polis/tren/tezyordam/images (292).jpg  \n",
            "  inflating: Tez_in_polis/tren/tezyordam/images (293) - Copy.jpg  \n",
            "  inflating: Tez_in_polis/tren/tezyordam/images (293).jpg  \n",
            "  inflating: Tez_in_polis/tren/tezyordam/images (294) - Copy.jpg  \n",
            "  inflating: Tez_in_polis/tren/tezyordam/images (294).jpg  \n",
            "  inflating: Tez_in_polis/tren/tezyordam/images (295) - Copy.jpg  \n",
            "  inflating: Tez_in_polis/tren/tezyordam/images (295).jpg  \n",
            "  inflating: Tez_in_polis/tren/tezyordam/images (296) - Copy.jpg  \n",
            "  inflating: Tez_in_polis/tren/tezyordam/images (296).jpg  \n",
            "  inflating: Tez_in_polis/tren/tezyordam/images (30) - Copy.jpg  \n",
            "  inflating: Tez_in_polis/tren/tezyordam/images (30).jpg  \n",
            "  inflating: Tez_in_polis/tren/tezyordam/images (31) - Copy.jpg  \n",
            "  inflating: Tez_in_polis/tren/tezyordam/images (31).jpg  \n",
            "  inflating: Tez_in_polis/tren/tezyordam/images (32) - Copy.jpg  \n",
            "  inflating: Tez_in_polis/tren/tezyordam/images (32).jpg  \n",
            "  inflating: Tez_in_polis/tren/tezyordam/images (33) - Copy.jpg  \n",
            "  inflating: Tez_in_polis/tren/tezyordam/images (33).jpg  \n",
            "  inflating: Tez_in_polis/tren/tezyordam/images (34) - Copy.jpg  \n",
            "  inflating: Tez_in_polis/tren/tezyordam/images (34).jpg  \n",
            "  inflating: Tez_in_polis/tren/tezyordam/images (35) - Copy.jpg  \n",
            "  inflating: Tez_in_polis/tren/tezyordam/images (35).jpg  \n",
            "  inflating: Tez_in_polis/tren/tezyordam/images (36 - Copy.jpg  \n",
            "  inflating: Tez_in_polis/tren/tezyordam/images (36.jpg  \n",
            "  inflating: Tez_in_polis/tren/tezyordam/images (37) - Copy.jpg  \n",
            "  inflating: Tez_in_polis/tren/tezyordam/images (37).jpg  \n",
            "  inflating: Tez_in_polis/tren/tezyordam/images (38) - Copy.jpg  \n",
            "  inflating: Tez_in_polis/tren/tezyordam/images (38).jpg  \n",
            "  inflating: Tez_in_polis/tren/tezyordam/images (39) - Copy.jpg  \n",
            "  inflating: Tez_in_polis/tren/tezyordam/images (39).jpg  \n",
            "  inflating: Tez_in_polis/tren/tezyordam/images (40) - Copy.jpg  \n",
            "  inflating: Tez_in_polis/tren/tezyordam/images (40).jpg  \n",
            "  inflating: Tez_in_polis/tren/tezyordam/images (41) - Copy.jpg  \n",
            "  inflating: Tez_in_polis/tren/tezyordam/images (41).jpg  \n",
            "  inflating: Tez_in_polis/tren/tezyordam/images (42) - Copy.jpg  \n",
            "  inflating: Tez_in_polis/tren/tezyordam/images (42).jpg  \n",
            "  inflating: Tez_in_polis/tren/tezyordam/images (43) - Copy.jpg  \n",
            "  inflating: Tez_in_polis/tren/tezyordam/images (43).jpg  \n",
            "  inflating: Tez_in_polis/tren/tezyordam/images (44) - Copy.jpg  \n",
            "  inflating: Tez_in_polis/tren/tezyordam/images (44).jpg  \n",
            "  inflating: Tez_in_polis/tren/tezyordam/images (45) - Copy.jpg  \n",
            "  inflating: Tez_in_polis/tren/tezyordam/images (45).jpg  \n",
            "  inflating: Tez_in_polis/tren/tezyordam/images (46) - Copy.jpg  \n",
            "  inflating: Tez_in_polis/tren/tezyordam/images (46).jpg  \n",
            "  inflating: Tez_in_polis/tren/tezyordam/images (47) - Copy.jpg  \n",
            "  inflating: Tez_in_polis/tren/tezyordam/images (47).jpg  \n",
            "  inflating: Tez_in_polis/tren/tezyordam/images (48) - Copy.jpg  \n",
            "  inflating: Tez_in_polis/tren/tezyordam/images (48).jpg  \n",
            "  inflating: Tez_in_polis/tren/tezyordam/images (49) - Copy.jpg  \n",
            "  inflating: Tez_in_polis/tren/tezyordam/images (49).jpg  \n",
            "  inflating: Tez_in_polis/tren/tezyordam/images (50) - Copy.jpg  \n",
            "  inflating: Tez_in_polis/tren/tezyordam/images (50).jpg  \n",
            "  inflating: Tez_in_polis/tren/tezyordam/images (51) - Copy.jpg  \n",
            "  inflating: Tez_in_polis/tren/tezyordam/images (51).jpg  \n",
            "  inflating: Tez_in_polis/tren/tezyordam/images (52) - Copy.jpg  \n",
            "  inflating: Tez_in_polis/tren/tezyordam/images (52).jpg  \n",
            "  inflating: Tez_in_polis/tren/tezyordam/images (53) - Copy.jpg  \n",
            "  inflating: Tez_in_polis/tren/tezyordam/images (53).jpg  \n",
            "  inflating: Tez_in_polis/tren/tezyordam/images (54) - Copy.jpg  \n",
            "  inflating: Tez_in_polis/tren/tezyordam/images (54).jpg  \n",
            "  inflating: Tez_in_polis/tren/tezyordam/images (55) - Copy.jpg  \n",
            "  inflating: Tez_in_polis/tren/tezyordam/images (55).jpg  \n",
            "  inflating: Tez_in_polis/tren/tezyordam/images (56) - Copy.jpg  \n",
            "  inflating: Tez_in_polis/tren/tezyordam/images (56).jpg  \n",
            "  inflating: Tez_in_polis/tren/tezyordam/images (57) - Copy.jpg  \n",
            "  inflating: Tez_in_polis/tren/tezyordam/images (57).jpg  \n",
            "  inflating: Tez_in_polis/tren/tezyordam/images (58) - Copy.jpg  \n",
            "  inflating: Tez_in_polis/tren/tezyordam/images (58).jpg  \n",
            "  inflating: Tez_in_polis/tren/tezyordam/images (59) - Copy.jpg  \n",
            "  inflating: Tez_in_polis/tren/tezyordam/images (59).jpg  \n",
            "  inflating: Tez_in_polis/tren/tezyordam/images (60 - Copy.jpg  \n",
            "  inflating: Tez_in_polis/tren/tezyordam/images (60.jpg  \n",
            "  inflating: Tez_in_polis/tren/tezyordam/images (61) - Copy.jpg  \n",
            "  inflating: Tez_in_polis/tren/tezyordam/images (61).jpg  \n",
            "  inflating: Tez_in_polis/tren/tezyordam/images (62) - Copy.jpg  \n",
            "  inflating: Tez_in_polis/tren/tezyordam/images (62).jpg  \n",
            "  inflating: Tez_in_polis/tren/tezyordam/images (63) - Copy.jpg  \n",
            "  inflating: Tez_in_polis/tren/tezyordam/images (63).jpg  \n",
            "  inflating: Tez_in_polis/tren/tezyordam/images (64) - Copy.jpg  \n",
            "  inflating: Tez_in_polis/tren/tezyordam/images (64).jpg  \n",
            "  inflating: Tez_in_polis/tren/tezyordam/images (65) - Copy.jpg  \n",
            "  inflating: Tez_in_polis/tren/tezyordam/images (65).jpg  \n",
            "  inflating: Tez_in_polis/tren/tezyordam/images (66) - Copy.jpg  \n",
            "  inflating: Tez_in_polis/tren/tezyordam/images (66).jpg  \n",
            "  inflating: Tez_in_polis/tren/tezyordam/images (67) - Copy.jpg  \n",
            "  inflating: Tez_in_polis/tren/tezyordam/images (67).jpg  \n",
            "  inflating: Tez_in_polis/tren/tezyordam/images (68) - Copy.jpg  \n",
            "  inflating: Tez_in_polis/tren/tezyordam/images (68).jpg  \n",
            "  inflating: Tez_in_polis/tren/tezyordam/images (69) - Copy.jpg  \n",
            "  inflating: Tez_in_polis/tren/tezyordam/images (69).jpg  \n",
            "  inflating: Tez_in_polis/tren/tezyordam/images (70) - Copy.jpg  \n",
            "  inflating: Tez_in_polis/tren/tezyordam/images (70).jpg  \n",
            "  inflating: Tez_in_polis/tren/tezyordam/images (71) - Copy.jpg  \n",
            "  inflating: Tez_in_polis/tren/tezyordam/images (71).jpg  \n",
            "  inflating: Tez_in_polis/tren/tezyordam/images (72) - Copy.jpg  \n",
            "  inflating: Tez_in_polis/tren/tezyordam/images (72).jpg  \n",
            "  inflating: Tez_in_polis/tren/tezyordam/images (73) - Copy.jpg  \n",
            "  inflating: Tez_in_polis/tren/tezyordam/images (73).jpg  \n",
            "  inflating: Tez_in_polis/tren/tezyordam/images (74) - Copy.jpg  \n",
            "  inflating: Tez_in_polis/tren/tezyordam/images (74).jpg  \n",
            "  inflating: Tez_in_polis/tren/tezyordam/images (75) - Copy.jpg  \n",
            "  inflating: Tez_in_polis/tren/tezyordam/images (75).jpg  \n",
            "  inflating: Tez_in_polis/tren/tezyordam/images (76) - Copy.jpg  \n",
            "  inflating: Tez_in_polis/tren/tezyordam/images (76).jpg  \n",
            "  inflating: Tez_in_polis/tren/tezyordam/images (77) - Copy.jpg  \n",
            "  inflating: Tez_in_polis/tren/tezyordam/images (77).jpg  \n",
            "  inflating: Tez_in_polis/tren/tezyordam/images (78) - Copy.jpg  \n",
            "  inflating: Tez_in_polis/tren/tezyordam/images (78).jpg  \n",
            "  inflating: Tez_in_polis/tren/tezyordam/images (92) - Copy.jpg  \n",
            "  inflating: Tez_in_polis/tren/tezyordam/images (92).jpg  \n",
            "  inflating: Tez_in_polis/tren/tezyordam/images (93) - Copy.jpg  \n",
            "  inflating: Tez_in_polis/tren/tezyordam/images (93).jpg  \n",
            "  inflating: Tez_in_polis/tren/tezyordam/images (94) - Copy.jpg  \n",
            "  inflating: Tez_in_polis/tren/tezyordam/images (94).jpg  \n",
            "  inflating: Tez_in_polis/tren/tezyordam/images (95) - Copy.jpg  \n",
            "  inflating: Tez_in_polis/tren/tezyordam/images (95).jpg  \n",
            "  inflating: Tez_in_polis/tren/tezyordam/images (96) - Copy.jpg  \n",
            "  inflating: Tez_in_polis/tren/tezyordam/images (96).jpg  \n",
            "  inflating: Tez_in_polis/tren/tezyordam/images (97) - Copy.jpg  \n",
            "  inflating: Tez_in_polis/tren/tezyordam/images (97).jpg  \n",
            "  inflating: Tez_in_polis/tren/tezyordam/images (98) - Copy.jpg  \n",
            "  inflating: Tez_in_polis/tren/tezyordam/images (98).jpg  \n",
            "  inflating: Tez_in_polis/tren/tezyordam/images (99) - Copy.jpg  \n",
            "  inflating: Tez_in_polis/tren/tezyordam/images (99).jpg  \n"
          ]
        }
      ]
    },
    {
      "cell_type": "code",
      "source": [
        "device = torch.device(\"cuda\") if torch.cuda.is_available() else torch.device(\"cpu\")"
      ],
      "metadata": {
        "id": "n1JW-SCsD__H"
      },
      "execution_count": 5,
      "outputs": []
    },
    {
      "cell_type": "code",
      "source": [
        "transform = T.Compose([\n",
        "    T.Resize(size=(150,150)),\n",
        "    T.ToTensor()\n",
        "])"
      ],
      "metadata": {
        "id": "rcLo7FUDEFt-"
      },
      "execution_count": 6,
      "outputs": []
    },
    {
      "cell_type": "code",
      "source": [
        "class Tez_in_pol_Dataset(Dataset):\n",
        "    def __init__(self, path, transform = None):\n",
        "        self.path_list = list(path.glob('*/*.jpg'))\n",
        "        self.transform = transform\n",
        "    def __getitem__(self,index):\n",
        "        img = Image.open(self.path_list[index])\n",
        "        label = (self.path_list[index]).parts[-2]\n",
        "        label = 0 if 'Polis' in label else 1\n",
        "        if transform != None:\n",
        "            img = transform(img)\n",
        "        return img, int(label)\n",
        "    def __len__(self):\n",
        "        return len(self.path_list)"
      ],
      "metadata": {
        "id": "l0uR7vxFEFrh"
      },
      "execution_count": 7,
      "outputs": []
    },
    {
      "cell_type": "code",
      "source": [
        "train_path = pathlib.Path('/content/Tez_in_polis/tren')\n",
        "test_path = pathlib.Path('/content/Tez_in_polis/test')"
      ],
      "metadata": {
        "id": "-T-2C8ylEjbW"
      },
      "execution_count": 8,
      "outputs": []
    },
    {
      "cell_type": "code",
      "source": [
        "train_dataset = Tez_in_pol_Dataset(train_path, transform)\n",
        "test_dataset = Tez_in_pol_Dataset(test_path, transform)"
      ],
      "metadata": {
        "id": "UqQ6Q12vEjbf"
      },
      "execution_count": 9,
      "outputs": []
    },
    {
      "cell_type": "code",
      "source": [
        "path_list = list(train_path.glob('*/*.jpg'))\n",
        "path_test=list(test_path.glob('*/*.jpg'))"
      ],
      "metadata": {
        "id": "ne7ocsEsEjbf"
      },
      "execution_count": 10,
      "outputs": []
    },
    {
      "cell_type": "code",
      "source": [
        "train_data = DataLoader(train_dataset, batch_size=10, shuffle=True)\n",
        "test_data = DataLoader(test_dataset, batch_size=10, shuffle=True)"
      ],
      "metadata": {
        "id": "XS_DmayMEjbf"
      },
      "execution_count": 11,
      "outputs": []
    },
    {
      "cell_type": "code",
      "source": [
        "class ConvNet(nn.Module):\n",
        "    def __init__(self,num_classes=2):\n",
        "        super(ConvNet,self).__init__()\n",
        "        self.conv1=nn.Conv2d(in_channels=3,out_channels=12,kernel_size=3,stride=1,padding=1)\n",
        "        self.bn1=nn.BatchNorm2d(num_features=12)\n",
        "        self.relu1=nn.ReLU()\n",
        "        self.pool=nn.MaxPool2d(kernel_size=2)\n",
        "        self.conv2=nn.Conv2d(in_channels=12,out_channels=20,kernel_size=3,stride=1,padding=1)\n",
        "        self.relu2=nn.ReLU()\n",
        "\n",
        "        self.conv3=nn.Conv2d(in_channels=20,out_channels=32,kernel_size=3,stride=1,padding=1)\n",
        "        self.bn3=nn.BatchNorm2d(num_features=32)\n",
        "        self.relu3=nn.ReLU()\n",
        "\n",
        "        self.fc=nn.Linear(in_features=75 * 75 * 32,out_features=num_classes)\n",
        "\n",
        "    def forward(self,input):\n",
        "        output=self.conv1(input)\n",
        "        output=self.bn1(output)\n",
        "        output=self.relu1(output)\n",
        "        output=self.pool(output)\n",
        "        output=self.conv2(output)\n",
        "        output=self.relu2(output)\n",
        "        output=self.conv3(output)\n",
        "        output=self.bn3(output)\n",
        "        output=self.relu3(output)\n",
        "        output=output.view(-1,32*75*75)\n",
        "        output=self.fc(output)\n",
        "        return output\n"
      ],
      "metadata": {
        "id": "SZDdXJDnEjbg"
      },
      "execution_count": 12,
      "outputs": []
    },
    {
      "cell_type": "code",
      "source": [
        "model=ConvNet()"
      ],
      "metadata": {
        "id": "sFU0jPnREjbg"
      },
      "execution_count": 13,
      "outputs": []
    },
    {
      "cell_type": "code",
      "source": [
        "learning_rate = 0.001\n",
        "criterion = nn.CrossEntropyLoss()\n",
        "optimizer = torch.optim.Adam(model.parameters(),lr=learning_rate)"
      ],
      "metadata": {
        "id": "MnGbkWI_Ejbg"
      },
      "execution_count": 14,
      "outputs": []
    },
    {
      "cell_type": "code",
      "source": [
        "num_epochs = 5"
      ],
      "metadata": {
        "id": "DbVyOQRAEjbg"
      },
      "execution_count": 15,
      "outputs": []
    },
    {
      "cell_type": "code",
      "source": [
        "class Trainer:\n",
        "    def __init__(self, model, train_dataloader, test_dataloader, criterion, optimizer, epochs=3):\n",
        "        self.model = model\n",
        "        self.train_dataloader = train_dataloader\n",
        "        self.test_dataloader = test_dataloader\n",
        "        self.criterion = criterion\n",
        "        self.optimizer = optimizer\n",
        "\n",
        "        self.epochs = epochs\n",
        "        self.history = {'loss':[],'acc':[],'val_loss':[],'val_acc':[]}\n",
        "    def train_loop(self):\n",
        "        sum_loss = 0\n",
        "        sum_accuracy = 0\n",
        "        n = len(self.train_dataloader)\n",
        "        for i, (data,label) in enumerate(tqdm(self.train_dataloader)):\n",
        "            data = data.to(device)\n",
        "            label = label.to(device)\n",
        "            output = self.model(data)\n",
        "            loss = self.criterion(output, label)\n",
        "            sum_loss += loss.item()\n",
        "            n_corrects = (output.argmax(axis=1)==label).sum().item()\n",
        "            sum_accuracy += n_corrects/label.size(0)\n",
        "            loss.backward()\n",
        "            self.optimizer.step()\n",
        "            self.optimizer.zero_grad()\n",
        "        train_loss = sum_loss/n\n",
        "        train_accuracy = sum_accuracy/n\n",
        "        self.history['loss'].append(train_loss)\n",
        "        self.history['acc'].append(train_accuracy)\n",
        "        return train_loss, train_accuracy\n",
        "    def validation_loop(self):\n",
        "        sum_loss = 0\n",
        "        sum_accuracy = 0\n",
        "        n = len(self.test_dataloader)\n",
        "        for i, (data,label) in enumerate(tqdm(self.test_dataloader)):\n",
        "            data = data.to(device)\n",
        "            label = label.to(device)\n",
        "            output = self.model(data)\n",
        "            loss = self.criterion(output, label)\n",
        "            n_corrects = (output.argmax(axis=1)==label).sum().item()\n",
        "            sum_loss += loss.item()\n",
        "            sum_accuracy += n_corrects/label.size(0)\n",
        "        val_loss = sum_loss/n\n",
        "        val_accuracy = sum_accuracy/n\n",
        "        self.history['val_loss'].append(val_loss)\n",
        "        self.history['val_acc'].append(val_accuracy)\n",
        "        return val_loss, val_accuracy\n",
        "    def train(self):\n",
        "        for epoch in range(num_epochs):\n",
        "            train_loss, train_acc = self.train_loop()\n",
        "            val_loss, val_acc = self.validation_loop()\n",
        "            print()\n",
        "            print(f'Epoch[{epoch+1}/{num_epochs}] \\t train_loss: {train_loss:.5f}, train_acc: {train_acc:.2f} \\t val_loss: {val_loss:.5f} \\t val_acc: {val_acc:.2}')\n"
      ],
      "metadata": {
        "id": "9x10tvyWGIEU"
      },
      "execution_count": 16,
      "outputs": []
    },
    {
      "cell_type": "code",
      "source": [
        "trainer = Trainer(\n",
        "    model = model.to(device),\n",
        "    train_dataloader = train_data,\n",
        "    test_dataloader = test_data,\n",
        "    criterion=criterion,\n",
        "    optimizer=optimizer\n",
        ")"
      ],
      "metadata": {
        "id": "M0fjrTsWGcbZ"
      },
      "execution_count": 17,
      "outputs": []
    },
    {
      "cell_type": "code",
      "source": [
        "trainer.train()"
      ],
      "metadata": {
        "id": "t-_p_-qQGfZI",
        "outputId": "bcbc5dd3-3158-4553-8c6f-33658d409a08",
        "colab": {
          "base_uri": "https://localhost:8080/"
        }
      },
      "execution_count": 18,
      "outputs": [
        {
          "output_type": "stream",
          "name": "stderr",
          "text": [
            "100%|██████████| 120/120 [00:31<00:00,  3.82it/s]\n",
            "100%|██████████| 6/6 [00:00<00:00,  6.93it/s]\n"
          ]
        },
        {
          "output_type": "stream",
          "name": "stdout",
          "text": [
            "\n",
            "Epoch[1/5] \t train_loss: 5.71680, train_acc: 0.81 \t val_loss: 5.95225 \t val_acc: 0.72\n"
          ]
        },
        {
          "output_type": "stream",
          "name": "stderr",
          "text": [
            "100%|██████████| 120/120 [00:23<00:00,  5.12it/s]\n",
            "100%|██████████| 6/6 [00:00<00:00,  8.05it/s]\n"
          ]
        },
        {
          "output_type": "stream",
          "name": "stdout",
          "text": [
            "\n",
            "Epoch[2/5] \t train_loss: 1.36950, train_acc: 0.93 \t val_loss: 2.97816 \t val_acc: 0.87\n"
          ]
        },
        {
          "output_type": "stream",
          "name": "stderr",
          "text": [
            "100%|██████████| 120/120 [00:24<00:00,  4.97it/s]\n",
            "100%|██████████| 6/6 [00:00<00:00, 10.04it/s]\n"
          ]
        },
        {
          "output_type": "stream",
          "name": "stdout",
          "text": [
            "\n",
            "Epoch[3/5] \t train_loss: 0.20168, train_acc: 0.98 \t val_loss: 3.02377 \t val_acc: 0.88\n"
          ]
        },
        {
          "output_type": "stream",
          "name": "stderr",
          "text": [
            "100%|██████████| 120/120 [00:25<00:00,  4.74it/s]\n",
            "100%|██████████| 6/6 [00:01<00:00,  4.06it/s]\n"
          ]
        },
        {
          "output_type": "stream",
          "name": "stdout",
          "text": [
            "\n",
            "Epoch[4/5] \t train_loss: 0.01808, train_acc: 1.00 \t val_loss: 2.31848 \t val_acc: 0.88\n"
          ]
        },
        {
          "output_type": "stream",
          "name": "stderr",
          "text": [
            "100%|██████████| 120/120 [00:24<00:00,  4.99it/s]\n",
            "100%|██████████| 6/6 [00:00<00:00,  8.10it/s]"
          ]
        },
        {
          "output_type": "stream",
          "name": "stdout",
          "text": [
            "\n",
            "Epoch[5/5] \t train_loss: 0.07736, train_acc: 0.99 \t val_loss: 1.18370 \t val_acc: 0.92\n"
          ]
        },
        {
          "output_type": "stream",
          "name": "stderr",
          "text": [
            "\n"
          ]
        }
      ]
    },
    {
      "cell_type": "code",
      "source": [
        "test_img,test_label=next(iter(test_data))\n",
        "pred=model(test_img.to(device))\n",
        "pred=pred.argmax(axis=1)\n",
        "pred = pred.detach().cpu()\n",
        "from sklearn.metrics import confusion_matrix\n",
        "print( test_label)\n",
        "cm=confusion_matrix(test_label,pred)\n",
        "print(cm)\n",
        "import seaborn as sns\n",
        "sns.heatmap(cm,annot=True)"
      ],
      "metadata": {
        "id": "BshqHxfqGicO",
        "outputId": "f61eb4bd-4fe1-4759-ae7d-1ccab510030e",
        "colab": {
          "base_uri": "https://localhost:8080/",
          "height": 504
        }
      },
      "execution_count": 19,
      "outputs": [
        {
          "output_type": "stream",
          "name": "stdout",
          "text": [
            "tensor([0, 0, 1, 1, 1, 1, 0, 0, 0, 1])\n",
            "[[5 0]\n",
            " [1 4]]\n"
          ]
        },
        {
          "output_type": "execute_result",
          "data": {
            "text/plain": [
              "<Axes: >"
            ]
          },
          "metadata": {},
          "execution_count": 19
        },
        {
          "output_type": "display_data",
          "data": {
            "text/plain": [
              "<Figure size 640x480 with 2 Axes>"
            ],
            "image/png": "[encoded data removed]"
          },
          "metadata": {}
        }
      ]
    }
  ]
}