{
  "nbformat": 4,
  "nbformat_minor": 0,
  "metadata": {
    "colab": {
      "provenance": [],
      "include_colab_link": true
    },
    "kernelspec": {
      "name": "python3",
      "display_name": "Python 3"
    },
    "language_info": {
      "name": "python"
    }
  },
  "cells": [
    {
      "cell_type": "markdown",
      "metadata": {
        "id": "view-in-github",
        "colab_type": "text"
      },
      "source": [
        "<a href=\"https://colab.research.google.com/github/Bahrombekk/pytorch/blob/main/%D0%9A%D0%BE%D0%BF%D0%B8%D1%8F_%D0%B1%D0%BB%D0%BE%D0%BA%D0%BD%D0%BE%D1%82%D0%B0_%22Copy_of_MNIST_Homework_ipynb%22.ipynb\" target=\"_parent\"><img src=\"https://colab.research.google.com/assets/colab-badge.svg\" alt=\"Open In Colab\"/></a>"
      ]
    },
    {
      "cell_type": "markdown",
      "source": [
        "# Loading a Dataset"
      ],
      "metadata": {
        "id": "R1M51Gl3o-uI"
      }
    },
    {
      "cell_type": "code",
      "execution_count": 51,
      "metadata": {
        "colab": {
          "base_uri": "https://localhost:8080/"
        },
        "id": "Sjn1bCtu3F-X",
        "outputId": "481e69cc-8972-468f-ac25-e844e0bb11e4"
      },
      "outputs": [
        {
          "output_type": "stream",
          "name": "stdout",
          "text": [
            "--2023-06-24 11:43:20--  https://pjreddie.com/media/files/mnist_test.csv\n",
            "Resolving pjreddie.com (pjreddie.com)... 128.208.4.108\n",
            "Connecting to pjreddie.com (pjreddie.com)|128.208.4.108|:443... connected.\n",
            "HTTP request sent, awaiting response... 200 OK\n",
            "Length: 18289443 (17M) [application/octet-stream]\n",
            "Saving to: ‘mnist_test.csv.3’\n",
            "\n",
            "mnist_test.csv.3    100%[===================>]  17.44M  24.6MB/s    in 0.7s    \n",
            "\n",
            "2023-06-24 11:43:21 (24.6 MB/s) - ‘mnist_test.csv.3’ saved [18289443/18289443]\n",
            "\n"
          ]
        }
      ],
      "source": [
        "!wget https://pjreddie.com/media/files/mnist_test.csv"
      ]
    },
    {
      "cell_type": "markdown",
      "source": [
        "# Import Required Library"
      ],
      "metadata": {
        "id": "e9lS26NSpCB7"
      }
    },
    {
      "cell_type": "code",
      "source": [
        "from torch import nn\n",
        "import torch\n",
        "import numpy as np\n",
        "from sklearn.model_selection import train_test_split\n",
        "import matplotlib.pyplot as plt\n",
        "import pandas as pd\n"
      ],
      "metadata": {
        "id": "8P0owCuG8oTb"
      },
      "execution_count": 52,
      "outputs": []
    },
    {
      "cell_type": "markdown",
      "source": [
        "# Load Dataset"
      ],
      "metadata": {
        "id": "F0jexXq6pG21"
      }
    },
    {
      "cell_type": "code",
      "source": [
        "data =pd.read_csv(\"/content/mnist_test.csv\")\n",
        "data"
      ],
      "metadata": {
        "id": "sAhSl1zb8drb",
        "colab": {
          "base_uri": "https://localhost:8080/",
          "height": 424
        },
        "outputId": "67a055e1-d153-4714-8ba4-71e696c09131"
      },
      "execution_count": 53,
      "outputs": [
        {
          "output_type": "execute_result",
          "data": {
            "text/plain": [
              "      7  0  0.1  0.2  0.3  0.4  0.5  0.6  0.7  0.8  ...  0.658  0.659  0.660  \\\n",
              "0     2  0    0    0    0    0    0    0    0    0  ...      0      0      0   \n",
              "1     1  0    0    0    0    0    0    0    0    0  ...      0      0      0   \n",
              "2     0  0    0    0    0    0    0    0    0    0  ...      0      0      0   \n",
              "3     4  0    0    0    0    0    0    0    0    0  ...      0      0      0   \n",
              "4     1  0    0    0    0    0    0    0    0    0  ...      0      0      0   \n",
              "...  .. ..  ...  ...  ...  ...  ...  ...  ...  ...  ...    ...    ...    ...   \n",
              "9994  2  0    0    0    0    0    0    0    0    0  ...      0      0      0   \n",
              "9995  3  0    0    0    0    0    0    0    0    0  ...      0      0      0   \n",
              "9996  4  0    0    0    0    0    0    0    0    0  ...      0      0      0   \n",
              "9997  5  0    0    0    0    0    0    0    0    0  ...      0      0      0   \n",
              "9998  6  0    0    0    0    0    0    0    0    0  ...      0      0      0   \n",
              "\n",
              "      0.661  0.662  0.663  0.664  0.665  0.666  0.667  \n",
              "0         0      0      0      0      0      0      0  \n",
              "1         0      0      0      0      0      0      0  \n",
              "2         0      0      0      0      0      0      0  \n",
              "3         0      0      0      0      0      0      0  \n",
              "4         0      0      0      0      0      0      0  \n",
              "...     ...    ...    ...    ...    ...    ...    ...  \n",
              "9994      0      0      0      0      0      0      0  \n",
              "9995      0      0      0      0      0      0      0  \n",
              "9996      0      0      0      0      0      0      0  \n",
              "9997      0      0      0      0      0      0      0  \n",
              "9998      0      0      0      0      0      0      0  \n",
              "\n",
              "[9999 rows x 785 columns]"
            ],
            "text/html": [
              "\n",
              "  <div id=\"df-e84e6da1-e38d-4d35-ac4a-26eef75bf499\">\n",
              "    <div class=\"colab-df-container\">\n",
              "      <div>\n",
              "<style scoped>\n",
              "    .dataframe tbody tr th:only-of-type {\n",
              "        vertical-align: middle;\n",
              "    }\n",
              "\n",
              "    .dataframe tbody tr th {\n",
              "        vertical-align: top;\n",
              "    }\n",
              "\n",
              "    .dataframe thead th {\n",
              "        text-align: right;\n",
              "    }\n",
              "</style>\n",
              "<table border=\"1\" class=\"dataframe\">\n",
              "  <thead>\n",
              "    <tr style=\"text-align: right;\">\n",
              "      <th></th>\n",
              "      <th>7</th>\n",
              "      <th>0</th>\n",
              "      <th>0.1</th>\n",
              "      <th>0.2</th>\n",
              "      <th>0.3</th>\n",
              "      <th>0.4</th>\n",
              "      <th>0.5</th>\n",
              "      <th>0.6</th>\n",
              "      <th>0.7</th>\n",
              "      <th>0.8</th>\n",
              "      <th>...</th>\n",
              "      <th>0.658</th>\n",
              "      <th>0.659</th>\n",
              "      <th>0.660</th>\n",
              "      <th>0.661</th>\n",
              "      <th>0.662</th>\n",
              "      <th>0.663</th>\n",
              "      <th>0.664</th>\n",
              "      <th>0.665</th>\n",
              "      <th>0.666</th>\n",
              "      <th>0.667</th>\n",
              "    </tr>\n",
              "  </thead>\n",
              "  <tbody>\n",
              "    <tr>\n",
              "      <th>0</th>\n",
              "      <td>2</td>\n",
              "      <td>0</td>\n",
              "      <td>0</td>\n",
              "      <td>0</td>\n",
              "      <td>0</td>\n",
              "      <td>0</td>\n",
              "      <td>0</td>\n",
              "      <td>0</td>\n",
              "      <td>0</td>\n",
              "      <td>0</td>\n",
              "      <td>...</td>\n",
              "      <td>0</td>\n",
              "      <td>0</td>\n",
              "      <td>0</td>\n",
              "      <td>0</td>\n",
              "      <td>0</td>\n",
              "      <td>0</td>\n",
              "      <td>0</td>\n",
              "      <td>0</td>\n",
              "      <td>0</td>\n",
              "      <td>0</td>\n",
              "    </tr>\n",
              "    <tr>\n",
              "      <th>1</th>\n",
              "      <td>1</td>\n",
              "      <td>0</td>\n",
              "      <td>0</td>\n",
              "      <td>0</td>\n",
              "      <td>0</td>\n",
              "      <td>0</td>\n",
              "      <td>0</td>\n",
              "      <td>0</td>\n",
              "      <td>0</td>\n",
              "      <td>0</td>\n",
              "      <td>...</td>\n",
              "      <td>0</td>\n",
              "      <td>0</td>\n",
              "      <td>0</td>\n",
              "      <td>0</td>\n",
              "      <td>0</td>\n",
              "      <td>0</td>\n",
              "      <td>0</td>\n",
              "      <td>0</td>\n",
              "      <td>0</td>\n",
              "      <td>0</td>\n",
              "    </tr>\n",
              "    <tr>\n",
              "      <th>2</th>\n",
              "      <td>0</td>\n",
              "      <td>0</td>\n",
              "      <td>0</td>\n",
              "      <td>0</td>\n",
              "      <td>0</td>\n",
              "      <td>0</td>\n",
              "      <td>0</td>\n",
              "      <td>0</td>\n",
              "      <td>0</td>\n",
              "      <td>0</td>\n",
              "      <td>...</td>\n",
              "      <td>0</td>\n",
              "      <td>0</td>\n",
              "      <td>0</td>\n",
              "      <td>0</td>\n",
              "      <td>0</td>\n",
              "      <td>0</td>\n",
              "      <td>0</td>\n",
              "      <td>0</td>\n",
              "      <td>0</td>\n",
              "      <td>0</td>\n",
              "    </tr>\n",
              "    <tr>\n",
              "      <th>3</th>\n",
              "      <td>4</td>\n",
              "      <td>0</td>\n",
              "      <td>0</td>\n",
              "      <td>0</td>\n",
              "      <td>0</td>\n",
              "      <td>0</td>\n",
              "      <td>0</td>\n",
              "      <td>0</td>\n",
              "      <td>0</td>\n",
              "      <td>0</td>\n",
              "      <td>...</td>\n",
              "      <td>0</td>\n",
              "      <td>0</td>\n",
              "      <td>0</td>\n",
              "      <td>0</td>\n",
              "      <td>0</td>\n",
              "      <td>0</td>\n",
              "      <td>0</td>\n",
              "      <td>0</td>\n",
              "      <td>0</td>\n",
              "      <td>0</td>\n",
              "    </tr>\n",
              "    <tr>\n",
              "      <th>4</th>\n",
              "      <td>1</td>\n",
              "      <td>0</td>\n",
              "      <td>0</td>\n",
              "      <td>0</td>\n",
              "      <td>0</td>\n",
              "      <td>0</td>\n",
              "      <td>0</td>\n",
              "      <td>0</td>\n",
              "      <td>0</td>\n",
              "      <td>0</td>\n",
              "      <td>...</td>\n",
              "      <td>0</td>\n",
              "      <td>0</td>\n",
              "      <td>0</td>\n",
              "      <td>0</td>\n",
              "      <td>0</td>\n",
              "      <td>0</td>\n",
              "      <td>0</td>\n",
              "      <td>0</td>\n",
              "      <td>0</td>\n",
              "      <td>0</td>\n",
              "    </tr>\n",
              "    <tr>\n",
              "      <th>...</th>\n",
              "      <td>...</td>\n",
              "      <td>...</td>\n",
              "      <td>...</td>\n",
              "      <td>...</td>\n",
              "      <td>...</td>\n",
              "      <td>...</td>\n",
              "      <td>...</td>\n",
              "      <td>...</td>\n",
              "      <td>...</td>\n",
              "      <td>...</td>\n",
              "      <td>...</td>\n",
              "      <td>...</td>\n",
              "      <td>...</td>\n",
              "      <td>...</td>\n",
              "      <td>...</td>\n",
              "      <td>...</td>\n",
              "      <td>...</td>\n",
              "      <td>...</td>\n",
              "      <td>...</td>\n",
              "      <td>...</td>\n",
              "      <td>...</td>\n",
              "    </tr>\n",
              "    <tr>\n",
              "      <th>9994</th>\n",
              "      <td>2</td>\n",
              "      <td>0</td>\n",
              "      <td>0</td>\n",
              "      <td>0</td>\n",
              "      <td>0</td>\n",
              "      <td>0</td>\n",
              "      <td>0</td>\n",
              "      <td>0</td>\n",
              "      <td>0</td>\n",
              "      <td>0</td>\n",
              "      <td>...</td>\n",
              "      <td>0</td>\n",
              "      <td>0</td>\n",
              "      <td>0</td>\n",
              "      <td>0</td>\n",
              "      <td>0</td>\n",
              "      <td>0</td>\n",
              "      <td>0</td>\n",
              "      <td>0</td>\n",
              "      <td>0</td>\n",
              "      <td>0</td>\n",
              "    </tr>\n",
              "    <tr>\n",
              "      <th>9995</th>\n",
              "      <td>3</td>\n",
              "      <td>0</td>\n",
              "      <td>0</td>\n",
              "      <td>0</td>\n",
              "      <td>0</td>\n",
              "      <td>0</td>\n",
              "      <td>0</td>\n",
              "      <td>0</td>\n",
              "      <td>0</td>\n",
              "      <td>0</td>\n",
              "      <td>...</td>\n",
              "      <td>0</td>\n",
              "      <td>0</td>\n",
              "      <td>0</td>\n",
              "      <td>0</td>\n",
              "      <td>0</td>\n",
              "      <td>0</td>\n",
              "      <td>0</td>\n",
              "      <td>0</td>\n",
              "      <td>0</td>\n",
              "      <td>0</td>\n",
              "    </tr>\n",
              "    <tr>\n",
              "      <th>9996</th>\n",
              "      <td>4</td>\n",
              "      <td>0</td>\n",
              "      <td>0</td>\n",
              "      <td>0</td>\n",
              "      <td>0</td>\n",
              "      <td>0</td>\n",
              "      <td>0</td>\n",
              "      <td>0</td>\n",
              "      <td>0</td>\n",
              "      <td>0</td>\n",
              "      <td>...</td>\n",
              "      <td>0</td>\n",
              "      <td>0</td>\n",
              "      <td>0</td>\n",
              "      <td>0</td>\n",
              "      <td>0</td>\n",
              "      <td>0</td>\n",
              "      <td>0</td>\n",
              "      <td>0</td>\n",
              "      <td>0</td>\n",
              "      <td>0</td>\n",
              "    </tr>\n",
              "    <tr>\n",
              "      <th>9997</th>\n",
              "      <td>5</td>\n",
              "      <td>0</td>\n",
              "      <td>0</td>\n",
              "      <td>0</td>\n",
              "      <td>0</td>\n",
              "      <td>0</td>\n",
              "      <td>0</td>\n",
              "      <td>0</td>\n",
              "      <td>0</td>\n",
              "      <td>0</td>\n",
              "      <td>...</td>\n",
              "      <td>0</td>\n",
              "      <td>0</td>\n",
              "      <td>0</td>\n",
              "      <td>0</td>\n",
              "      <td>0</td>\n",
              "      <td>0</td>\n",
              "      <td>0</td>\n",
              "      <td>0</td>\n",
              "      <td>0</td>\n",
              "      <td>0</td>\n",
              "    </tr>\n",
              "    <tr>\n",
              "      <th>9998</th>\n",
              "      <td>6</td>\n",
              "      <td>0</td>\n",
              "      <td>0</td>\n",
              "      <td>0</td>\n",
              "      <td>0</td>\n",
              "      <td>0</td>\n",
              "      <td>0</td>\n",
              "      <td>0</td>\n",
              "      <td>0</td>\n",
              "      <td>0</td>\n",
              "      <td>...</td>\n",
              "      <td>0</td>\n",
              "      <td>0</td>\n",
              "      <td>0</td>\n",
              "      <td>0</td>\n",
              "      <td>0</td>\n",
              "      <td>0</td>\n",
              "      <td>0</td>\n",
              "      <td>0</td>\n",
              "      <td>0</td>\n",
              "      <td>0</td>\n",
              "    </tr>\n",
              "  </tbody>\n",
              "</table>\n",
              "<p>9999 rows × 785 columns</p>\n",
              "</div>\n",
              "      <button class=\"colab-df-convert\" onclick=\"convertToInteractive('df-e84e6da1-e38d-4d35-ac4a-26eef75bf499')\"\n",
              "              title=\"Convert this dataframe to an interactive table.\"\n",
              "              style=\"display:none;\">\n",
              "        \n",
              "  <svg xmlns=\"http://www.w3.org/2000/svg\" height=\"24px\"viewBox=\"0 0 24 24\"\n",
              "       width=\"24px\">\n",
              "    <path d=\"M0 0h24v24H0V0z\" fill=\"none\"/>\n",
              "    <path d=\"M18.56 5.44l.94 2.06.94-2.06 2.06-.94-2.06-.94-.94-2.06-.94 2.06-2.06.94zm-11 1L8.5 8.5l.94-2.06 2.06-.94-2.06-.94L8.5 2.5l-.94 2.06-2.06.94zm10 10l.94 2.06.94-2.06 2.06-.94-2.06-.94-.94-2.06-.94 2.06-2.06.94z\"/><path d=\"M17.41 7.96l-1.37-1.37c-.4-.4-.92-.59-1.43-.59-.52 0-1.04.2-1.43.59L10.3 9.45l-7.72 7.72c-.78.78-.78 2.05 0 2.83L4 21.41c.39.39.9.59 1.41.59.51 0 1.02-.2 1.41-.59l7.78-7.78 2.81-2.81c.8-.78.8-2.07 0-2.86zM5.41 20L4 18.59l7.72-7.72 1.47 1.35L5.41 20z\"/>\n",
              "  </svg>\n",
              "      </button>\n",
              "      \n",
              "  <style>\n",
              "    .colab-df-container {\n",
              "      display:flex;\n",
              "      flex-wrap:wrap;\n",
              "      gap: 12px;\n",
              "    }\n",
              "\n",
              "    .colab-df-convert {\n",
              "      background-color: #E8F0FE;\n",
              "      border: none;\n",
              "      border-radius: 50%;\n",
              "      cursor: pointer;\n",
              "      display: none;\n",
              "      fill: #1967D2;\n",
              "      height: 32px;\n",
              "      padding: 0 0 0 0;\n",
              "      width: 32px;\n",
              "    }\n",
              "\n",
              "    .colab-df-convert:hover {\n",
              "      background-color: #E2EBFA;\n",
              "      box-shadow: 0px 1px 2px rgba(60, 64, 67, 0.3), 0px 1px 3px 1px rgba(60, 64, 67, 0.15);\n",
              "      fill: #174EA6;\n",
              "    }\n",
              "\n",
              "    [theme=dark] .colab-df-convert {\n",
              "      background-color: #3B4455;\n",
              "      fill: #D2E3FC;\n",
              "    }\n",
              "\n",
              "    [theme=dark] .colab-df-convert:hover {\n",
              "      background-color: #434B5C;\n",
              "      box-shadow: 0px 1px 3px 1px rgba(0, 0, 0, 0.15);\n",
              "      filter: drop-shadow(0px 1px 2px rgba(0, 0, 0, 0.3));\n",
              "      fill: #FFFFFF;\n",
              "    }\n",
              "  </style>\n",
              "\n",
              "      <script>\n",
              "        const buttonEl =\n",
              "          document.querySelector('#df-e84e6da1-e38d-4d35-ac4a-26eef75bf499 button.colab-df-convert');\n",
              "        buttonEl.style.display =\n",
              "          google.colab.kernel.accessAllowed ? 'block' : 'none';\n",
              "\n",
              "        async function convertToInteractive(key) {\n",
              "          const element = document.querySelector('#df-e84e6da1-e38d-4d35-ac4a-26eef75bf499');\n",
              "          const dataTable =\n",
              "            await google.colab.kernel.invokeFunction('convertToInteractive',\n",
              "                                                     [key], {});\n",
              "          if (!dataTable) return;\n",
              "\n",
              "          const docLinkHtml = 'Like what you see? Visit the ' +\n",
              "            '<a target=\"_blank\" href=https://colab.research.google.com/notebooks/data_table.ipynb>data table notebook</a>'\n",
              "            + ' to learn more about interactive tables.';\n",
              "          element.innerHTML = '';\n",
              "          dataTable['output_type'] = 'display_data';\n",
              "          await google.colab.output.renderOutput(dataTable, element);\n",
              "          const docLink = document.createElement('div');\n",
              "          docLink.innerHTML = docLinkHtml;\n",
              "          element.appendChild(docLink);\n",
              "        }\n",
              "      </script>\n",
              "    </div>\n",
              "  </div>\n",
              "  "
            ]
          },
          "metadata": {},
          "execution_count": 53
        }
      ]
    },
    {
      "cell_type": "code",
      "source": [
        "data=np.array(data)"
      ],
      "metadata": {
        "id": "28N8cKuBr1z0"
      },
      "execution_count": 54,
      "outputs": []
    },
    {
      "cell_type": "code",
      "source": [
        "x = data[:, 1:]\n",
        "y = data[:, 0]"
      ],
      "metadata": {
        "id": "9oO2IfE48qdV"
      },
      "execution_count": 55,
      "outputs": []
    },
    {
      "cell_type": "code",
      "source": [
        "x = torch.tensor(x, dtype=torch.float32)\n",
        "y = torch.tensor(y, dtype=torch.int64)"
      ],
      "metadata": {
        "id": "ZZ8W11dw8wNG"
      },
      "execution_count": 56,
      "outputs": []
    },
    {
      "cell_type": "code",
      "source": [
        "print(x.shape, y.shape)"
      ],
      "metadata": {
        "colab": {
          "base_uri": "https://localhost:8080/"
        },
        "id": "s1UUrqwY9O9x",
        "outputId": "63a5263a-7e73-4a59-a9ef-db6bc440bb1c"
      },
      "execution_count": 57,
      "outputs": [
        {
          "output_type": "stream",
          "name": "stdout",
          "text": [
            "torch.Size([9999, 784]) torch.Size([9999])\n"
          ]
        }
      ]
    },
    {
      "cell_type": "markdown",
      "source": [
        "# Train and Test Split"
      ],
      "metadata": {
        "id": "JkZ-GGVNpUrs"
      }
    },
    {
      "cell_type": "code",
      "source": [
        "x_train, x_test, y_train, y_test = train_test_split(\n",
        "  x, y, test_size=0.33, random_state=42)"
      ],
      "metadata": {
        "id": "tDm5R9xO9Hic"
      },
      "execution_count": 58,
      "outputs": []
    },
    {
      "cell_type": "markdown",
      "source": [
        "# MODEL"
      ],
      "metadata": {
        "id": "wuXp7s5KpXxR"
      }
    },
    {
      "cell_type": "code",
      "source": [
        "class Net(torch.nn.Module):\n",
        "    def __init__(self, input, output):\n",
        "        super().__init__()\n",
        "        self.fc1 = torch.nn.Linear(in_features=input, out_features=64)\n",
        "        self.fc2 = torch.nn.Linear(in_features=64, out_features=64)\n",
        "        self.fc3 = torch.nn.Linear(in_features=64, out_features=output)\n",
        "        self.relu = torch.nn.ReLU()\n",
        "        self.softmax =torch.nn.Softmax(dim=1)\n",
        "        # Activation function\n",
        "\n",
        "    def forward(self, x):\n",
        "        x = self.relu(self.fc1(x))\n",
        "        x = self.relu(self.fc2(x))\n",
        "        out = self.softmax(self.fc3(x))\n",
        "        return out"
      ],
      "metadata": {
        "id": "osMmfEfY9Jw0"
      },
      "execution_count": 59,
      "outputs": []
    },
    {
      "cell_type": "markdown",
      "source": [
        "# Create Model"
      ],
      "metadata": {
        "id": "gH4YeXc9paDr"
      }
    },
    {
      "cell_type": "code",
      "source": [
        "model = Net(input=784,output=10)"
      ],
      "metadata": {
        "id": "gyquOHJ49MEZ"
      },
      "execution_count": 60,
      "outputs": []
    },
    {
      "cell_type": "code",
      "source": [
        "criterion = nn.CrossEntropyLoss()\n",
        "lr = 0.001\n",
        "optimizer = torch.optim.Adam(model.parameters(),lr=lr)"
      ],
      "metadata": {
        "id": "nY3DIpgO9jG6"
      },
      "execution_count": 61,
      "outputs": []
    },
    {
      "cell_type": "code",
      "source": [
        "def accuracy(y_pred, y):\n",
        "  \"\"\"\n",
        "  Calculate accuracy\n",
        "  \"\"\"\n",
        "  # CODE\n",
        "  y_pred = y_pred.argmax(axis=1)\n",
        "  acc = sum(y_pred == y)/len(y)\n",
        "  return acc"
      ],
      "metadata": {
        "id": "T841yLe79Xaf"
      },
      "execution_count": 62,
      "outputs": []
    },
    {
      "cell_type": "code",
      "source": [
        "history = {'loss':[], 'loss_val':[], 'accuracy':[], 'val_accuracy':[]}"
      ],
      "metadata": {
        "id": "yl7NBLml9fX-"
      },
      "execution_count": 63,
      "outputs": []
    },
    {
      "cell_type": "code",
      "source": [
        "epochs =450\n",
        "for epoch in range(epochs):\n",
        "\n",
        "\n",
        "    # Clear gradient buffers because we don't want any gradient from previous epoch to carry forward, dont want to cummulate gradients\n",
        "    optimizer.zero_grad()\n",
        "\n",
        "    # get output from the model, given the inputs\n",
        "    y_hat = model(x_train)\n",
        "\n",
        "    # get loss for the predicted output\n",
        "    loss = criterion(y_hat, y_train)\n",
        "    loss_val = criterion(model(x_test), y_test)\n",
        "    # get gradients w.r.t to parameters\n",
        "    loss.backward()\n",
        "\n",
        "    # update parameters\n",
        "    optimizer.step()\n",
        "\n",
        "    # pred_label_train = torch.argmax(y_hat,dim=1)\n",
        "    # accuracy = f1_score(y_train, pred_label_train,average='macro')\n",
        "    acc = accuracy(y_hat,y_train)\n",
        "    val_acc = accuracy(model(x_test), y_test)\n",
        "\n",
        "    history['loss'].append(loss.item())\n",
        "    history['loss_val'].append(loss_val.item())\n",
        "    history['accuracy'].append(acc.item())\n",
        "    history['val_accuracy'].append(val_acc.item())\n",
        "\n",
        "    if epoch%10==0:\n",
        "\n",
        "      print(f'epoch {epoch}, loss {loss.item():.3f} Accuracy {acc:.2f}  Validation Accuracy: {val_acc:.2f}')"
      ],
      "metadata": {
        "id": "wkVBmT0a9bhh",
        "colab": {
          "base_uri": "https://localhost:8080/"
        },
        "outputId": "d32903f9-6bd5-49fc-feb1-ddf14d4faac1"
      },
      "execution_count": 64,
      "outputs": [
        {
          "output_type": "stream",
          "name": "stdout",
          "text": [
            "epoch 0, loss 2.349 Accuracy 0.10  Validation Accuracy: 0.21\n",
            "epoch 10, loss 1.891 Accuracy 0.57  Validation Accuracy: 0.61\n",
            "epoch 20, loss 1.695 Accuracy 0.77  Validation Accuracy: 0.75\n",
            "epoch 30, loss 1.646 Accuracy 0.82  Validation Accuracy: 0.80\n",
            "epoch 40, loss 1.612 Accuracy 0.85  Validation Accuracy: 0.83\n",
            "epoch 50, loss 1.600 Accuracy 0.86  Validation Accuracy: 0.84\n",
            "epoch 60, loss 1.594 Accuracy 0.87  Validation Accuracy: 0.84\n",
            "epoch 70, loss 1.591 Accuracy 0.87  Validation Accuracy: 0.84\n",
            "epoch 80, loss 1.588 Accuracy 0.87  Validation Accuracy: 0.85\n",
            "epoch 90, loss 1.586 Accuracy 0.87  Validation Accuracy: 0.84\n",
            "epoch 100, loss 1.584 Accuracy 0.88  Validation Accuracy: 0.85\n",
            "epoch 110, loss 1.583 Accuracy 0.88  Validation Accuracy: 0.85\n",
            "epoch 120, loss 1.582 Accuracy 0.88  Validation Accuracy: 0.85\n",
            "epoch 130, loss 1.581 Accuracy 0.88  Validation Accuracy: 0.85\n",
            "epoch 140, loss 1.581 Accuracy 0.88  Validation Accuracy: 0.85\n",
            "epoch 150, loss 1.580 Accuracy 0.88  Validation Accuracy: 0.85\n",
            "epoch 160, loss 1.580 Accuracy 0.88  Validation Accuracy: 0.85\n",
            "epoch 170, loss 1.580 Accuracy 0.88  Validation Accuracy: 0.85\n",
            "epoch 180, loss 1.579 Accuracy 0.88  Validation Accuracy: 0.85\n",
            "epoch 190, loss 1.574 Accuracy 0.89  Validation Accuracy: 0.87\n",
            "epoch 200, loss 1.507 Accuracy 0.96  Validation Accuracy: 0.92\n",
            "epoch 210, loss 1.490 Accuracy 0.97  Validation Accuracy: 0.93\n",
            "epoch 220, loss 1.484 Accuracy 0.98  Validation Accuracy: 0.93\n",
            "epoch 230, loss 1.482 Accuracy 0.98  Validation Accuracy: 0.93\n",
            "epoch 240, loss 1.480 Accuracy 0.98  Validation Accuracy: 0.93\n",
            "epoch 250, loss 1.480 Accuracy 0.98  Validation Accuracy: 0.93\n",
            "epoch 260, loss 1.479 Accuracy 0.98  Validation Accuracy: 0.93\n",
            "epoch 270, loss 1.478 Accuracy 0.98  Validation Accuracy: 0.93\n",
            "epoch 280, loss 1.478 Accuracy 0.98  Validation Accuracy: 0.93\n",
            "epoch 290, loss 1.477 Accuracy 0.98  Validation Accuracy: 0.93\n",
            "epoch 300, loss 1.477 Accuracy 0.98  Validation Accuracy: 0.93\n",
            "epoch 310, loss 1.477 Accuracy 0.98  Validation Accuracy: 0.93\n",
            "epoch 320, loss 1.477 Accuracy 0.98  Validation Accuracy: 0.93\n",
            "epoch 330, loss 1.477 Accuracy 0.98  Validation Accuracy: 0.93\n",
            "epoch 340, loss 1.477 Accuracy 0.98  Validation Accuracy: 0.93\n",
            "epoch 350, loss 1.477 Accuracy 0.98  Validation Accuracy: 0.93\n",
            "epoch 360, loss 1.477 Accuracy 0.98  Validation Accuracy: 0.93\n",
            "epoch 370, loss 1.477 Accuracy 0.98  Validation Accuracy: 0.93\n",
            "epoch 380, loss 1.477 Accuracy 0.98  Validation Accuracy: 0.93\n",
            "epoch 390, loss 1.476 Accuracy 0.98  Validation Accuracy: 0.93\n",
            "epoch 400, loss 1.476 Accuracy 0.98  Validation Accuracy: 0.93\n",
            "epoch 410, loss 1.476 Accuracy 0.98  Validation Accuracy: 0.93\n",
            "epoch 420, loss 1.476 Accuracy 0.99  Validation Accuracy: 0.93\n",
            "epoch 430, loss 1.475 Accuracy 0.99  Validation Accuracy: 0.94\n",
            "epoch 440, loss 1.475 Accuracy 0.99  Validation Accuracy: 0.94\n"
          ]
        }
      ]
    },
    {
      "cell_type": "code",
      "source": [
        "pred = model(x_test[:100])"
      ],
      "metadata": {
        "id": "R12NV03w9dUw"
      },
      "execution_count": 68,
      "outputs": []
    },
    {
      "cell_type": "code",
      "source": [
        "# Confusion Matrix\n",
        "from sklearn.metrics import confusion_matrix"
      ],
      "metadata": {
        "id": "BH_zE2rR-CRh"
      },
      "execution_count": 69,
      "outputs": []
    },
    {
      "cell_type": "code",
      "source": [
        "pred = pred.argmax(axis=1)\n",
        "pred"
      ],
      "metadata": {
        "id": "MkfC0puQ_ldm",
        "colab": {
          "base_uri": "https://localhost:8080/"
        },
        "outputId": "1716f934-4518-405c-bd7d-54020f944bbd"
      },
      "execution_count": 70,
      "outputs": [
        {
          "output_type": "execute_result",
          "data": {
            "text/plain": [
              "tensor([4, 7, 9, 1, 7, 5, 3, 4, 8, 0, 6, 0, 2, 0, 9, 6, 8, 3, 6, 8, 7, 9, 3, 2,\n",
              "        1, 3, 9, 0, 0, 5, 9, 2, 8, 6, 8, 9, 1, 9, 1, 3, 6, 7, 3, 2, 6, 1, 8, 8,\n",
              "        5, 3, 0, 6, 7, 0, 6, 5, 7, 7, 5, 0, 1, 2, 5, 9, 1, 9, 6, 0, 5, 4, 2, 8,\n",
              "        4, 8, 1, 0, 0, 2, 1, 5, 9, 4, 3, 1, 7, 3, 0, 5, 5, 8, 8, 9, 3, 4, 4, 5,\n",
              "        6, 3, 2, 9])"
            ]
          },
          "metadata": {},
          "execution_count": 70
        }
      ]
    },
    {
      "cell_type": "code",
      "source": [
        "cm =confusion_matrix(y_test[:100],pred)"
      ],
      "metadata": {
        "id": "ArQ3EPdn-JJU"
      },
      "execution_count": 71,
      "outputs": []
    },
    {
      "cell_type": "code",
      "source": [
        "import seaborn as sns\n",
        "sns.heatmap(cm, annot=True)\n",
        "plt.show()"
      ],
      "metadata": {
        "colab": {
          "base_uri": "https://localhost:8080/",
          "height": 435
        },
        "id": "voMPcumZ-UVW",
        "outputId": "58a0a0cd-d7e3-4bb5-91c6-2d1d767058cc"
      },
      "execution_count": 72,
      "outputs": [
        {
          "output_type": "display_data",
          "data": {
            "text/plain": [
              "<Figure size 640x480 with 2 Axes>"
            ],
            "image/png": "[encoded data removed]"
          },
          "metadata": {}
        }
      ]
    },
    {
      "cell_type": "code",
      "source": [
        "#loss_graph"
      ],
      "metadata": {
        "id": "uAzekG8qAB6o"
      },
      "execution_count": null,
      "outputs": []
    },
    {
      "cell_type": "code",
      "source": [
        "def plot_accuracy(accuracy:list, val_accuracy:list, epochs:int)->None:\n",
        "  lists=[i for i in range(epochs)]\n",
        "  plt.plot(lists, accuracy)\n",
        "\n",
        "  plt.plot(lists, val_accuracy)\n",
        "  plt.show()"
      ],
      "metadata": {
        "id": "DUCbgmGRm4Ci"
      },
      "execution_count": 73,
      "outputs": []
    },
    {
      "cell_type": "code",
      "source": [
        "plt.figure(dpi=150)\n",
        "\n",
        "plot_accuracy(history['accuracy'], history['val_accuracy'], epochs)"
      ],
      "metadata": {
        "colab": {
          "base_uri": "https://localhost:8080/",
          "height": 635
        },
        "id": "CeTfwf67umkH",
        "outputId": "1766bef2-aa78-41c3-c2e4-8ba48d6b427c"
      },
      "execution_count": 74,
      "outputs": [
        {
          "output_type": "display_data",
          "data": {
            "text/plain": [
              "<Figure size 960x720 with 1 Axes>"
            ],
            "image/png": "[encoded data removed]"
          },
          "metadata": {}
        }
      ]
    },
    {
      "cell_type": "code",
      "source": [
        "def plot_loss(loss:list, val_loss:list, epochs:int)->None:\n",
        "  lists=[i for i in range(epochs)]\n",
        "  plt.plot(lists, loss)\n",
        "\n",
        "  plt.plot(lists, val_loss)\n",
        "  plt.show()"
      ],
      "metadata": {
        "id": "4pz3mSPIuy3k"
      },
      "execution_count": 75,
      "outputs": []
    },
    {
      "cell_type": "code",
      "source": [
        "plt.figure(dpi=150)\n",
        "\n",
        "plot_loss(history['loss'], history['loss_val'], epochs)"
      ],
      "metadata": {
        "colab": {
          "base_uri": "https://localhost:8080/",
          "height": 635
        },
        "id": "wP8fhJD6vFfW",
        "outputId": "cbf3eb62-d684-46c9-a0f2-297b74a430e6"
      },
      "execution_count": 76,
      "outputs": [
        {
          "output_type": "display_data",
          "data": {
            "text/plain": [
              "<Figure size 960x720 with 1 Axes>"
            ],
            "image/png": "[encoded data removed]"
          },
          "metadata": {}
        }
      ]
    }
  ]
}