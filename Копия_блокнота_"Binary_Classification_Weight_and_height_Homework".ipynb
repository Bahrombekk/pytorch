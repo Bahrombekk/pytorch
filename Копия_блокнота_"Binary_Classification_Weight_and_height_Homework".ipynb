{
  "nbformat": 4,
  "nbformat_minor": 0,
  "metadata": {
    "colab": {
      "provenance": [],
      "include_colab_link": true
    },
    "kernelspec": {
      "name": "python3",
      "display_name": "Python 3"
    },
    "language_info": {
      "name": "python"
    }
  },
  "cells": [
    {
      "cell_type": "markdown",
      "metadata": {
        "id": "view-in-github",
        "colab_type": "text"
      },
      "source": [
        "<a href=\"https://colab.research.google.com/github/Bahrombekk/pytorch/blob/main/%D0%9A%D0%BE%D0%BF%D0%B8%D1%8F_%D0%B1%D0%BB%D0%BE%D0%BA%D0%BD%D0%BE%D1%82%D0%B0_%22Binary_Classification_Weight_and_height_Homework%22.ipynb\" target=\"_parent\"><img src=\"https://colab.research.google.com/assets/colab-badge.svg\" alt=\"Open In Colab\"/></a>"
      ]
    },
    {
      "cell_type": "markdown",
      "source": [
        "# Loading a Dataset"
      ],
      "metadata": {
        "id": "F6_WKTKSWpIk"
      }
    },
    {
      "cell_type": "code",
      "execution_count": 1,
      "metadata": {
        "colab": {
          "base_uri": "https://localhost:8080/"
        },
        "id": "dn3J5nplfoGX",
        "outputId": "ac819a0a-598c-4a59-8f04-42e0a33d0094"
      },
      "outputs": [
        {
          "output_type": "stream",
          "name": "stdout",
          "text": [
            "--2023-06-22 02:26:13--  https://raw.githubusercontent.com/Naxalov/matplotlib/master/scatter/weight-height.csv\n",
            "Resolving raw.githubusercontent.com (raw.githubusercontent.com)... 185.199.108.133, 185.199.109.133, 185.199.110.133, ...\n",
            "Connecting to raw.githubusercontent.com (raw.githubusercontent.com)|185.199.108.133|:443... connected.\n",
            "HTTP request sent, awaiting response... 200 OK\n",
            "Length: 428120 (418K) [text/plain]\n",
            "Saving to: ‘weight-height.csv’\n",
            "\n",
            "\rweight-height.csv     0%[                    ]       0  --.-KB/s               \rweight-height.csv   100%[===================>] 418.09K  --.-KB/s    in 0.007s  \n",
            "\n",
            "2023-06-22 02:26:13 (62.5 MB/s) - ‘weight-height.csv’ saved [428120/428120]\n",
            "\n"
          ]
        }
      ],
      "source": [
        "!wget https://raw.githubusercontent.com/Naxalov/matplotlib/master/scatter/weight-height.csv"
      ]
    },
    {
      "cell_type": "code",
      "source": [
        "!ls"
      ],
      "metadata": {
        "colab": {
          "base_uri": "https://localhost:8080/"
        },
        "id": "Vi6H-GEbfou0",
        "outputId": "8ac10de1-6f2c-4923-89ae-5c016e88f445"
      },
      "execution_count": 2,
      "outputs": [
        {
          "output_type": "stream",
          "name": "stdout",
          "text": [
            "sample_data  weight-height.csv\n"
          ]
        }
      ]
    },
    {
      "cell_type": "markdown",
      "source": [
        "# Import Required Library"
      ],
      "metadata": {
        "id": "jafD_JetWuMw"
      }
    },
    {
      "cell_type": "code",
      "source": [
        "from torch import nn\n",
        "import torch\n",
        "import numpy as np\n",
        "from sklearn.model_selection import train_test_split\n",
        "import matplotlib.pyplot as plt\n",
        "import pandas as pd\n"
      ],
      "metadata": {
        "id": "WF_0g5kPghsR"
      },
      "execution_count": 4,
      "outputs": []
    },
    {
      "cell_type": "markdown",
      "source": [
        "# Load Dataset"
      ],
      "metadata": {
        "id": "xHIbvyyzXQis"
      }
    },
    {
      "cell_type": "code",
      "source": [
        "dataset =pd.read_csv(\"/content/weight-height.csv\")\n",
        "dataset['Gender'] = np.where(dataset['Gender']=='Male', 1, 0)\n",
        "dataset = dataset.to_numpy()"
      ],
      "metadata": {
        "id": "3_G6H4ICfxuO"
      },
      "execution_count": 5,
      "outputs": []
    },
    {
      "cell_type": "code",
      "source": [
        "print(dataset)"
      ],
      "metadata": {
        "colab": {
          "base_uri": "https://localhost:8080/"
        },
        "id": "W5fyoE3Wit1B",
        "outputId": "4a397a7c-2820-44c9-b3b6-e1d44303abb1"
      },
      "execution_count": 6,
      "outputs": [
        {
          "output_type": "stream",
          "name": "stdout",
          "text": [
            "[[  1.          73.84701702 241.89356318]\n",
            " [  1.          68.78190405 162.31047252]\n",
            " [  1.          74.11010539 212.74085556]\n",
            " ...\n",
            " [  0.          63.86799221 128.47531878]\n",
            " [  0.          69.03424313 163.85246135]\n",
            " [  0.          61.94424588 113.64910268]]\n"
          ]
        }
      ]
    },
    {
      "cell_type": "code",
      "source": [
        "y = dataset[:, 0].reshape(-1, 1)\n",
        "x = dataset[:, 1:]"
      ],
      "metadata": {
        "id": "TZsJWxzXgulb"
      },
      "execution_count": 7,
      "outputs": []
    },
    {
      "cell_type": "code",
      "source": [
        "x = torch.tensor(x, dtype = torch.float32)\n",
        "y = torch.tensor(y, dtype = torch.float32)"
      ],
      "metadata": {
        "id": "BZmOfbeNhtOw"
      },
      "execution_count": 8,
      "outputs": []
    },
    {
      "cell_type": "markdown",
      "source": [
        "# Dataset Visualization"
      ],
      "metadata": {
        "id": "jyFOPXQyXBtF"
      }
    },
    {
      "cell_type": "code",
      "source": [
        "plt.scatter(x[:,0],x[:,1],c=y)\n",
        "plt.show()"
      ],
      "metadata": {
        "colab": {
          "base_uri": "https://localhost:8080/",
          "height": 430
        },
        "id": "_S_2BGY8hqmF",
        "outputId": "66873761-56e6-4e85-8da2-c4a5936d9774"
      },
      "execution_count": 9,
      "outputs": [
        {
          "output_type": "display_data",
          "data": {
            "text/plain": [
              "<Figure size 640x480 with 1 Axes>"
            ],
            "image/png": "[encoded data removed]"
          },
          "metadata": {}
        }
      ]
    },
    {
      "cell_type": "markdown",
      "source": [
        "# Train and Test Split"
      ],
      "metadata": {
        "id": "-G_5SVU2Xijr"
      }
    },
    {
      "cell_type": "code",
      "source": [
        "x_train, x_test, y_train, y_test = train_test_split(x, y, test_size=0.33, random_state=42)"
      ],
      "metadata": {
        "id": "VgMgpac8gvva"
      },
      "execution_count": 10,
      "outputs": []
    },
    {
      "cell_type": "markdown",
      "source": [
        "# Create Model"
      ],
      "metadata": {
        "id": "BUe8-ZMuXl3z"
      }
    },
    {
      "cell_type": "code",
      "source": [
        "class Net(torch.nn.Module):\n",
        "    def __init__(self, input, output):\n",
        "        super().__init__()\n",
        "        self.fc1 = torch.nn.Linear(in_features=input, out_features=8)\n",
        "        self.fc2 = torch.nn.Linear(in_features=8, out_features=output)\n",
        "        self.act =torch.nn.Sigmoid()\n",
        "        # self.relu = torch.nn.ReLU()\n",
        "        # self.softmax =torch.nn.Softmax(dim=1)\n",
        "\n",
        "        # Activation function\n",
        "\n",
        "    def forward(self, x):\n",
        "        x = self.fc1(x)\n",
        "        x = self.fc2(x)\n",
        "\n",
        "        out = self.act(x)\n",
        "        return out"
      ],
      "metadata": {
        "id": "oWujlscAhd9h"
      },
      "execution_count": 11,
      "outputs": []
    },
    {
      "cell_type": "code",
      "source": [
        "model = Net(2, 1)"
      ],
      "metadata": {
        "id": "_Qe5qmwmhfp7"
      },
      "execution_count": 12,
      "outputs": []
    },
    {
      "cell_type": "code",
      "source": [
        "criterion = torch.nn.BCELoss()\n",
        "\n",
        "lr = 0.01\n",
        "optimizer = torch.optim.Adam(model.parameters(),lr=lr)"
      ],
      "metadata": {
        "id": "D_A8HhiHknwk"
      },
      "execution_count": 13,
      "outputs": []
    },
    {
      "cell_type": "code",
      "source": [
        "epochs=100\n",
        "n = len(y_test)\n",
        "for epoch in range(epochs):\n",
        "    # Clear gradient buffers because we don't want any gradient from previous epoch to carry forward, dont want to cummulate gradients\n",
        "    optimizer.zero_grad()\n",
        "\n",
        "    # get output from the model, given the inputs\n",
        "    y_hat = model(x_train)\n",
        "\n",
        "    # get loss for the predicted output\n",
        "    loss = criterion(y_hat, y_train)\n",
        "    # get gradients w.r.t to parameters\n",
        "    loss.backward()\n",
        "\n",
        "    # update parameters\n",
        "    optimizer.step()\n",
        "    pred = model(x_test)\n",
        "    acc = (sum((pred>.5)==y_test)/n)*100\n",
        "\n",
        "    if epoch%5==0:\n",
        "      print(f'epoch: {epoch+1} \\t loss: {loss.item():.3f} \\t acc: {acc.item():.1f}%')"
      ],
      "metadata": {
        "colab": {
          "base_uri": "https://localhost:8080/"
        },
        "id": "i4zHjxHrkqba",
        "outputId": "832b97af-dbf5-435b-cb63-8125ac846758"
      },
      "execution_count": 14,
      "outputs": [
        {
          "output_type": "stream",
          "name": "stdout",
          "text": [
            "epoch: 1 \t loss: 20.085 \t acc: 49.2%\n",
            "epoch: 6 \t loss: 4.831 \t acc: 49.2%\n",
            "epoch: 11 \t loss: 3.488 \t acc: 50.9%\n",
            "epoch: 16 \t loss: 1.667 \t acc: 63.9%\n",
            "epoch: 21 \t loss: 1.263 \t acc: 49.9%\n",
            "epoch: 26 \t loss: 0.235 \t acc: 85.5%\n",
            "epoch: 31 \t loss: 0.701 \t acc: 73.8%\n",
            "epoch: 36 \t loss: 0.244 \t acc: 85.2%\n",
            "epoch: 41 \t loss: 0.322 \t acc: 89.5%\n",
            "epoch: 46 \t loss: 0.306 \t acc: 85.7%\n",
            "epoch: 51 \t loss: 0.228 \t acc: 92.2%\n",
            "epoch: 56 \t loss: 0.258 \t acc: 90.3%\n",
            "epoch: 61 \t loss: 0.235 \t acc: 90.5%\n",
            "epoch: 66 \t loss: 0.225 \t acc: 92.1%\n",
            "epoch: 71 \t loss: 0.230 \t acc: 91.8%\n",
            "epoch: 76 \t loss: 0.225 \t acc: 91.4%\n",
            "epoch: 81 \t loss: 0.221 \t acc: 92.1%\n",
            "epoch: 86 \t loss: 0.222 \t acc: 92.2%\n",
            "epoch: 91 \t loss: 0.221 \t acc: 91.5%\n",
            "epoch: 96 \t loss: 0.220 \t acc: 92.2%\n"
          ]
        }
      ]
    },
    {
      "cell_type": "code",
      "source": [
        "pred = model(x_test)"
      ],
      "metadata": {
        "id": "FyTxBOW9kwtD"
      },
      "execution_count": 15,
      "outputs": []
    },
    {
      "cell_type": "code",
      "source": [
        "pred = pred > 0.6"
      ],
      "metadata": {
        "id": "bhDh-sOecIgc"
      },
      "execution_count": 16,
      "outputs": []
    },
    {
      "cell_type": "code",
      "source": [
        "def get_confusion_matrix(pred, y_test):\n",
        "  \"\"\"\n",
        "  Compute the confusion matrix based on predicted values and true labels.\n",
        "\n",
        "  Args:\n",
        "    preed: Prediction data\n",
        "    y_test: True data\n",
        "\n",
        "  Returns:\n",
        "    tp: True positive\n",
        "    tn: True negative\n",
        "    fp: False positive\n",
        "    fn: False negative\n",
        "  \"\"\"\n",
        "  tp = torch.sum((pred == 1) & (y_test == 1))\n",
        "  tn = torch.sum((pred == 0) & (y_test == 0))\n",
        "  fp = torch.sum((pred == 1) & (y_test == 0))\n",
        "  fn = torch.sum((pred == 0) & (y_test == 1))\n",
        "  return tp, tn, fp, fn\n",
        "  # WRITE CODE HERE"
      ],
      "metadata": {
        "id": "yTno4uMZpw7M"
      },
      "execution_count": 26,
      "outputs": []
    },
    {
      "cell_type": "code",
      "source": [
        "tp, tn, fp, fn = get_confusion_matrix(pred, y_test)"
      ],
      "metadata": {
        "id": "UU_9ekT1r382"
      },
      "execution_count": 27,
      "outputs": []
    },
    {
      "cell_type": "markdown",
      "source": [
        "# For Example"
      ],
      "metadata": {
        "id": "kcx_QErQ3rkr"
      }
    },
    {
      "cell_type": "code",
      "source": [
        "confusion_m = torch.tensor(\n",
        "    [[tp, fp],\n",
        "     [fn, tn]])"
      ],
      "metadata": {
        "id": "gF_hK4H6r-9B"
      },
      "execution_count": 28,
      "outputs": []
    },
    {
      "cell_type": "code",
      "source": [
        "print(confusion_m)"
      ],
      "metadata": {
        "colab": {
          "base_uri": "https://localhost:8080/"
        },
        "id": "42nn5F-zzsAw",
        "outputId": "74233ce9-e86f-4168-9830-c38aa9ff8021"
      },
      "execution_count": 29,
      "outputs": [
        {
          "output_type": "stream",
          "name": "stdout",
          "text": [
            "tensor([[1498,   99],\n",
            "        [ 180, 1523]])\n"
          ]
        }
      ]
    },
    {
      "cell_type": "markdown",
      "source": [
        "![Confusion Matrix](https://plat.ai/wp-content/uploads/Table1-2.png.webp)"
      ],
      "metadata": {
        "id": "WS88Kvg_3SlN"
      }
    }
  ]
}