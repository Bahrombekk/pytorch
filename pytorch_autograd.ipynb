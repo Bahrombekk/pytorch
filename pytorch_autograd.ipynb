{
  "nbformat": 4,
  "nbformat_minor": 0,
  "metadata": {
    "colab": {
      "provenance": [],
      "authorship_tag": "ABX9TyMO3X6DZLvox/Fgc1sB1hIy",
      "include_colab_link": true
    },
    "kernelspec": {
      "name": "python3",
      "display_name": "Python 3"
    },
    "language_info": {
      "name": "python"
    }
  },
  "cells": [
    {
      "cell_type": "markdown",
      "metadata": {
        "id": "view-in-github",
        "colab_type": "text"
      },
      "source": [
        "<a href=\"https://colab.research.google.com/github/Bahrombekk/pytorch/blob/main/pytorch_autograd.ipynb\" target=\"_parent\"><img src=\"https://colab.research.google.com/assets/colab-badge.svg\" alt=\"Open In Colab\"/></a>"
      ]
    },
    {
      "cell_type": "code",
      "execution_count": 1,
      "metadata": {
        "id": "l-M4UAO_f1v_"
      },
      "outputs": [],
      "source": [
        "import numpy as np\n",
        "import torch\n",
        "import pandas as pd\n",
        "import matplotlib.pyplot as plt"
      ]
    },
    {
      "cell_type": "code",
      "source": [
        "data=pd.read_csv(\"https://raw.githubusercontent.com/JavohirJalilov/Regression/master/Salary_Data.csv\")"
      ],
      "metadata": {
        "id": "BU7NmLBXgMHx"
      },
      "execution_count": 16,
      "outputs": []
    },
    {
      "cell_type": "code",
      "source": [
        "data=np.array(data)\n",
        "x=data[:,0]\n",
        "y=data[:,1]/10000"
      ],
      "metadata": {
        "id": "mNgCFFl0gOgY"
      },
      "execution_count": 17,
      "outputs": []
    },
    {
      "cell_type": "code",
      "source": [
        "plt.scatter(x,y)"
      ],
      "metadata": {
        "colab": {
          "base_uri": "https://localhost:8080/",
          "height": 447
        },
        "id": "4n9fQPFDhAdW",
        "outputId": "9598e1de-073f-449c-c6ac-9c77a84d3be6"
      },
      "execution_count": 18,
      "outputs": [
        {
          "output_type": "execute_result",
          "data": {
            "text/plain": [
              "<matplotlib.collections.PathCollection at 0x7fa4ba0565f0>"
            ]
          },
          "metadata": {},
          "execution_count": 18
        },
        {
          "output_type": "display_data",
          "data": {
            "text/plain": [
              "<Figure size 640x480 with 1 Axes>"
            ],
            "image/png": "[encoded data removed]"
          },
          "metadata": {}
        }
      ]
    },
    {
      "cell_type": "code",
      "source": [
        "x = torch.tensor(x,dtype=torch.float64)\n",
        "y = torch.tensor(y,dtype=torch.float64)"
      ],
      "metadata": {
        "id": "lXFX3CdvhGG8"
      },
      "execution_count": 19,
      "outputs": []
    },
    {
      "cell_type": "code",
      "source": [
        "w = torch.tensor(10,dtype=torch.float64,requires_grad=True)\n",
        "b = torch.tensor(10,dtype=torch.float64,requires_grad=True)"
      ],
      "metadata": {
        "id": "1GOgG7ZTiV5B"
      },
      "execution_count": 20,
      "outputs": []
    },
    {
      "cell_type": "code",
      "source": [
        "l=0.01\n",
        "epoch=350\n",
        "loss_data=[]\n",
        "loss=torch.nn.MSELoss()\n",
        "for i in range(epoch):\n",
        "  y_hat=x*w+b\n",
        "  l=loss(x,y_hat)\n",
        "\n",
        "  loss_data.append(l.item())\n",
        "\n",
        "  l.backward()\n",
        "\n",
        "  with torch.no_grad():\n",
        "    w.data=w.data-w.data*l\n",
        "    b.data=b.data-b.data*l\n",
        "\n",
        "    w.grad.zero_()\n",
        "    b.grad.zero_()\n",
        "\n",
        "print(f\"loss : {l}  w : {w.data}  b : {b.data}\")"
      ],
      "metadata": {
        "colab": {
          "base_uri": "https://localhost:8080/"
        },
        "id": "oQ-dIAuVhqGN",
        "outputId": "72509fd0-f98c-4013-e117-96f6b3d69c3f"
      },
      "execution_count": 21,
      "outputs": [
        {
          "output_type": "stream",
          "name": "stdout",
          "text": [
            "loss : nan  w : nan  b : nan\n"
          ]
        }
      ]
    }
  ]
}