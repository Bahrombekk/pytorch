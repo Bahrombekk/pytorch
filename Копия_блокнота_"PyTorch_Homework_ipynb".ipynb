{
  "nbformat": 4,
  "nbformat_minor": 0,
  "metadata": {
    "colab": {
      "provenance": [],
      "toc_visible": true,
      "include_colab_link": true
    },
    "kernelspec": {
      "name": "python3",
      "display_name": "Python 3"
    },
    "language_info": {
      "name": "python"
    }
  },
  "cells": [
    {
      "cell_type": "markdown",
      "metadata": {
        "id": "view-in-github",
        "colab_type": "text"
      },
      "source": [
        "<a href=\"https://colab.research.google.com/github/Bahrombekk/pytorch/blob/main/%D0%9A%D0%BE%D0%BF%D0%B8%D1%8F_%D0%B1%D0%BB%D0%BE%D0%BA%D0%BD%D0%BE%D1%82%D0%B0_%22PyTorch_Homework_ipynb%22.ipynb\" target=\"_parent\"><img src=\"https://colab.research.google.com/assets/colab-badge.svg\" alt=\"Open In Colab\"/></a>"
      ]
    },
    {
      "cell_type": "code",
      "metadata": {
        "id": "ohWI9BKF1RPY"
      },
      "source": [
        "import torch"
      ],
      "execution_count": 1,
      "outputs": []
    },
    {
      "cell_type": "markdown",
      "metadata": {
        "id": "-9kneZwz0_KN"
      },
      "source": [
        "### Create array"
      ]
    },
    {
      "cell_type": "markdown",
      "metadata": {
        "id": "e-onbxVxUct6"
      },
      "source": [
        "# Numerical Python"
      ]
    },
    {
      "cell_type": "code",
      "metadata": {
        "id": "mWdCLD26x4Ex"
      },
      "source": [
        "def list_arr(list1):\n",
        "  '''\n",
        "  Convert list the array\n",
        "  '''\n",
        "\n",
        "  return torch.tensor(list1)"
      ],
      "execution_count": 2,
      "outputs": []
    },
    {
      "cell_type": "code",
      "source": [
        "list_arr([1,2,3,4])"
      ],
      "metadata": {
        "colab": {
          "base_uri": "https://localhost:8080/"
        },
        "id": "_7bNYDHBhl1n",
        "outputId": "b3f00336-e1b6-4c7e-b209-39c9934be1fd"
      },
      "execution_count": 3,
      "outputs": [
        {
          "output_type": "execute_result",
          "data": {
            "text/plain": [
              "tensor([1, 2, 3, 4])"
            ]
          },
          "metadata": {},
          "execution_count": 3
        }
      ]
    },
    {
      "cell_type": "code",
      "metadata": {
        "id": "CXyhN3Dn3Ltl"
      },
      "source": [
        "def even_array(lst):\n",
        "  '''\n",
        "  Convert only even items to array\n",
        "  '''\n",
        "  # CODE\n",
        "  l=[]\n",
        "  for i in lst:\n",
        "    if i%2==0:\n",
        "      l.append(i)\n",
        "  return torch.tensor(l)"
      ],
      "execution_count": 17,
      "outputs": []
    },
    {
      "cell_type": "code",
      "source": [
        "even_array([1,2,3,4,5,6,7,8])"
      ],
      "metadata": {
        "colab": {
          "base_uri": "https://localhost:8080/"
        },
        "id": "fO0FX21th53a",
        "outputId": "10164334-d9f9-4d8c-e769-eaa987669a9d"
      },
      "execution_count": 18,
      "outputs": [
        {
          "output_type": "execute_result",
          "data": {
            "text/plain": [
              "tensor([2, 4, 6, 8])"
            ]
          },
          "metadata": {},
          "execution_count": 18
        }
      ]
    },
    {
      "cell_type": "markdown",
      "metadata": {
        "id": "ycMCv_Vd-yIa"
      },
      "source": [
        "## PyTorch Tensor properties\n"
      ]
    },
    {
      "cell_type": "code",
      "metadata": {
        "id": "XAFdLhfXf8G1"
      },
      "source": [
        "def arry_1D():\n",
        "  '''\n",
        "  Create any 1D array \n",
        "  '''\n",
        "  lst = [0,1,2,3,4]\n",
        "  # CODE\n",
        "  return torch.tensor(lst)"
      ],
      "execution_count": 19,
      "outputs": []
    },
    {
      "cell_type": "code",
      "source": [
        "arry_1D()"
      ],
      "metadata": {
        "colab": {
          "base_uri": "https://localhost:8080/"
        },
        "id": "hmdE3vF3iEEH",
        "outputId": "bd0984d5-803c-4730-e513-8ce788e852d2"
      },
      "execution_count": 20,
      "outputs": [
        {
          "output_type": "execute_result",
          "data": {
            "text/plain": [
              "tensor([0, 1, 2, 3, 4])"
            ]
          },
          "metadata": {},
          "execution_count": 20
        }
      ]
    },
    {
      "cell_type": "code",
      "metadata": {
        "id": "kRzgmVF7gNLv"
      },
      "source": [
        "def arry_2D():\n",
        "  '''\n",
        "  Create any 2D array \n",
        "  '''\n",
        "  lst=[[1,2,3],\n",
        "       [4,5,6]]\n",
        "  # CODE\n",
        "  return torch.tensor(lst)"
      ],
      "execution_count": 21,
      "outputs": []
    },
    {
      "cell_type": "code",
      "source": [
        "arry_2D()"
      ],
      "metadata": {
        "colab": {
          "base_uri": "https://localhost:8080/"
        },
        "id": "Cq2A8WqDiL-0",
        "outputId": "d8b815c5-961c-4a16-9906-19a5ba2a5277"
      },
      "execution_count": 22,
      "outputs": [
        {
          "output_type": "execute_result",
          "data": {
            "text/plain": [
              "tensor([[1, 2, 3],\n",
              "        [4, 5, 6]])"
            ]
          },
          "metadata": {},
          "execution_count": 22
        }
      ]
    },
    {
      "cell_type": "code",
      "metadata": {
        "id": "2Fk_qXQ-gSbG"
      },
      "source": [
        "def arry_3D():\n",
        "  '''\n",
        "  Create any 3D array \n",
        "  '''\n",
        "  # CODE\n",
        "  lst=[[[1,2,3]]]\n",
        "  return torch.tensor(lst)"
      ],
      "execution_count": 25,
      "outputs": []
    },
    {
      "cell_type": "code",
      "source": [
        "arry_3D().ndim"
      ],
      "metadata": {
        "colab": {
          "base_uri": "https://localhost:8080/"
        },
        "id": "TIcnMtbfiTS_",
        "outputId": "a3f71028-3d90-449f-c004-ce2006c30d56"
      },
      "execution_count": 26,
      "outputs": [
        {
          "output_type": "execute_result",
          "data": {
            "text/plain": [
              "3"
            ]
          },
          "metadata": {},
          "execution_count": 26
        }
      ]
    },
    {
      "cell_type": "markdown",
      "metadata": {
        "id": "UF_8q1iwADSL"
      },
      "source": [
        "### The shape of the array\n",
        " **size**  - Return size of tensor.\t\t\t\t\t\n",
        " **Returns**: tensor\n",
        "\n"
      ]
    },
    {
      "cell_type": "code",
      "metadata": {
        "id": "5NUwcKfwgnkw"
      },
      "source": [
        "def arry_3x3():\n",
        "  '''\n",
        "  Create any 3x3 array \n",
        "  '''\n",
        "  # CODE\n",
        "  lst=[[1, 2, 3], [4, 5, 6], [7, 8, 9]]\n",
        "  return torch.tensor(lst)"
      ],
      "execution_count": 33,
      "outputs": []
    },
    {
      "cell_type": "code",
      "source": [
        "arry_3x3().size()"
      ],
      "metadata": {
        "colab": {
          "base_uri": "https://localhost:8080/"
        },
        "id": "rVx6wbi8i4qM",
        "outputId": "6cbe7d7f-df29-4578-eb57-acb30326bad0"
      },
      "execution_count": 34,
      "outputs": [
        {
          "output_type": "execute_result",
          "data": {
            "text/plain": [
              "torch.Size([3, 3])"
            ]
          },
          "metadata": {},
          "execution_count": 34
        }
      ]
    },
    {
      "cell_type": "code",
      "metadata": {
        "id": "4o9OhDoeg2da"
      },
      "source": [
        "def arry_2x3():\n",
        "  '''\n",
        "  Create lst to 2x3 array \n",
        "  return 1D\n",
        "  '''\n",
        "  # CODE\n",
        "  lst=[[1,2,3],[3,4,5]]\n",
        "  return torch.tensor(lst)"
      ],
      "execution_count": 37,
      "outputs": []
    },
    {
      "cell_type": "code",
      "source": [
        "arry_2x3().size()"
      ],
      "metadata": {
        "colab": {
          "base_uri": "https://localhost:8080/"
        },
        "id": "ocXluIOejQjQ",
        "outputId": "1130d5e6-9816-40b2-a94f-294c94a51b64"
      },
      "execution_count": 38,
      "outputs": [
        {
          "output_type": "execute_result",
          "data": {
            "text/plain": [
              "torch.Size([2, 3])"
            ]
          },
          "metadata": {},
          "execution_count": 38
        }
      ]
    },
    {
      "cell_type": "markdown",
      "metadata": {
        "id": "YATQKjxUK3Rv"
      },
      "source": [
        "# Creating Arrays"
      ]
    },
    {
      "cell_type": "markdown",
      "metadata": {
        "id": "JHobfj2yLLbW"
      },
      "source": [
        "### torch.arange"
      ]
    },
    {
      "cell_type": "code",
      "metadata": {
        "id": "XnAfsDQwLEMG"
      },
      "source": [
        "def arange_1D_arr():\n",
        "  '''\n",
        "  Create any 1D array\n",
        "  return array\n",
        "  '''\n",
        "  # CODE\n",
        "  return torch.arange(10) "
      ],
      "execution_count": 39,
      "outputs": []
    },
    {
      "cell_type": "code",
      "source": [
        "arange_1D_arr()"
      ],
      "metadata": {
        "colab": {
          "base_uri": "https://localhost:8080/"
        },
        "id": "uD0OP92_ksvI",
        "outputId": "96288932-a295-4592-e0dc-f158e07dc323"
      },
      "execution_count": 40,
      "outputs": [
        {
          "output_type": "execute_result",
          "data": {
            "text/plain": [
              "tensor([0, 1, 2, 3, 4, 5, 6, 7, 8, 9])"
            ]
          },
          "metadata": {},
          "execution_count": 40
        }
      ]
    },
    {
      "cell_type": "code",
      "metadata": {
        "id": "mSZcdvWXMjQt"
      },
      "source": [
        "def arrange_array(n):\n",
        "  '''\n",
        "  Create any array from 0 to n\n",
        "  return array\n",
        "  '''\n",
        "  # CODE\n",
        "  return torch.arange(n)"
      ],
      "execution_count": 41,
      "outputs": []
    },
    {
      "cell_type": "code",
      "source": [
        "arrange_array(5)"
      ],
      "metadata": {
        "colab": {
          "base_uri": "https://localhost:8080/"
        },
        "id": "vxtRfxnakyXi",
        "outputId": "a69600bc-6be4-4500-e6d9-14c59bd12ca3"
      },
      "execution_count": 42,
      "outputs": [
        {
          "output_type": "execute_result",
          "data": {
            "text/plain": [
              "tensor([0, 1, 2, 3, 4])"
            ]
          },
          "metadata": {},
          "execution_count": 42
        }
      ]
    },
    {
      "cell_type": "markdown",
      "metadata": {
        "id": "S9gI0F69LaUt"
      },
      "source": [
        "### torch.linspace"
      ]
    },
    {
      "cell_type": "code",
      "metadata": {
        "id": "L-rRhP6lLgMn"
      },
      "source": [
        "def linspace_arr(n):\n",
        "  '''\n",
        "  Create an array of the range 0 and n divided by 10\n",
        "  return array\n",
        "  '''\n",
        "  # CODE\n",
        "  return torch.linspace(0,n,10)"
      ],
      "execution_count": 51,
      "outputs": []
    },
    {
      "cell_type": "code",
      "source": [
        "linspace_arr(12)"
      ],
      "metadata": {
        "colab": {
          "base_uri": "https://localhost:8080/"
        },
        "id": "QZ9PTLeWlAZO",
        "outputId": "8909a27a-2cc1-49c4-9ce5-0ab16e593a4a"
      },
      "execution_count": 52,
      "outputs": [
        {
          "output_type": "execute_result",
          "data": {
            "text/plain": [
              "tensor([ 0.0000,  1.3333,  2.6667,  4.0000,  5.3333,  6.6667,  8.0000,  9.3333,\n",
              "        10.6667, 12.0000])"
            ]
          },
          "metadata": {},
          "execution_count": 52
        }
      ]
    },
    {
      "cell_type": "markdown",
      "metadata": {
        "id": "znbfdVNlLkj5"
      },
      "source": [
        "### torch.zeros"
      ]
    },
    {
      "cell_type": "code",
      "metadata": {
        "id": "Sqc4uRgiLqVm"
      },
      "source": [
        "def array_zeros_nxm(n,m):\n",
        "  '''\n",
        "  Create an nxm array of zeros\n",
        "  return array\n",
        "  '''\n",
        "  # CODE\n",
        "  return torch.zeros((n,m))"
      ],
      "execution_count": 53,
      "outputs": []
    },
    {
      "cell_type": "code",
      "source": [
        "array_zeros_nxm(2, 3)"
      ],
      "metadata": {
        "colab": {
          "base_uri": "https://localhost:8080/"
        },
        "id": "WrGWLGW2lJIs",
        "outputId": "f26eada5-d765-4a8e-dad0-af87a2565de2"
      },
      "execution_count": 54,
      "outputs": [
        {
          "output_type": "execute_result",
          "data": {
            "text/plain": [
              "tensor([[0., 0., 0.],\n",
              "        [0., 0., 0.]])"
            ]
          },
          "metadata": {},
          "execution_count": 54
        }
      ]
    },
    {
      "cell_type": "code",
      "metadata": {
        "id": "wGbcyOfdP5z7"
      },
      "source": [
        "def array_zeros_3D(n, m, ch):\n",
        "  '''\n",
        "  Create any an 3D array of zeros\n",
        "  return 3D array\n",
        "  ''' \n",
        "  # CODE\n",
        "  return torch.zeros((n,m,ch))"
      ],
      "execution_count": 55,
      "outputs": []
    },
    {
      "cell_type": "code",
      "source": [
        "array_zeros_3D(5, 5, 3)"
      ],
      "metadata": {
        "colab": {
          "base_uri": "https://localhost:8080/"
        },
        "id": "B210gbhFlSLJ",
        "outputId": "988fc2c5-73c6-4a0e-cd03-d54c8ce81e78"
      },
      "execution_count": 56,
      "outputs": [
        {
          "output_type": "execute_result",
          "data": {
            "text/plain": [
              "tensor([[[0., 0., 0.],\n",
              "         [0., 0., 0.],\n",
              "         [0., 0., 0.],\n",
              "         [0., 0., 0.],\n",
              "         [0., 0., 0.]],\n",
              "\n",
              "        [[0., 0., 0.],\n",
              "         [0., 0., 0.],\n",
              "         [0., 0., 0.],\n",
              "         [0., 0., 0.],\n",
              "         [0., 0., 0.]],\n",
              "\n",
              "        [[0., 0., 0.],\n",
              "         [0., 0., 0.],\n",
              "         [0., 0., 0.],\n",
              "         [0., 0., 0.],\n",
              "         [0., 0., 0.]],\n",
              "\n",
              "        [[0., 0., 0.],\n",
              "         [0., 0., 0.],\n",
              "         [0., 0., 0.],\n",
              "         [0., 0., 0.],\n",
              "         [0., 0., 0.]],\n",
              "\n",
              "        [[0., 0., 0.],\n",
              "         [0., 0., 0.],\n",
              "         [0., 0., 0.],\n",
              "         [0., 0., 0.],\n",
              "         [0., 0., 0.]]])"
            ]
          },
          "metadata": {},
          "execution_count": 56
        }
      ]
    },
    {
      "cell_type": "markdown",
      "metadata": {
        "id": "d7LLHKyuLr1T"
      },
      "source": [
        "### torch.ones"
      ]
    },
    {
      "cell_type": "code",
      "metadata": {
        "id": "aOTueENZLyVY"
      },
      "source": [
        "def array_zeros_nxm(n,m):\n",
        "  '''\n",
        "  Create an nxm array of ones\n",
        "  return array\n",
        "  '''\n",
        "  # CODE\n",
        "  return torch.ones((n,m))"
      ],
      "execution_count": 57,
      "outputs": []
    },
    {
      "cell_type": "code",
      "source": [
        "array_zeros_nxm(4, 5)"
      ],
      "metadata": {
        "colab": {
          "base_uri": "https://localhost:8080/"
        },
        "id": "KxwSTrBIlhM0",
        "outputId": "e4445130-b7e0-4ba5-e74a-51d8128ef0c3"
      },
      "execution_count": 58,
      "outputs": [
        {
          "output_type": "execute_result",
          "data": {
            "text/plain": [
              "tensor([[1., 1., 1., 1., 1.],\n",
              "        [1., 1., 1., 1., 1.],\n",
              "        [1., 1., 1., 1., 1.],\n",
              "        [1., 1., 1., 1., 1.]])"
            ]
          },
          "metadata": {},
          "execution_count": 58
        }
      ]
    },
    {
      "cell_type": "markdown",
      "metadata": {
        "id": "hh8j5x0zL3fP"
      },
      "source": [
        "### torch.full"
      ]
    },
    {
      "cell_type": "code",
      "metadata": {
        "id": "y9hDs4wML5qq"
      },
      "source": [
        "def array_full_3D(n,m,k):\n",
        "  '''\n",
        "  Create any an 3D array of seven, shape = (n,m,k)\n",
        "  return 3D array\n",
        "  ''' \n",
        "  # CODE\n",
        "  return torch.full((n,m),k)"
      ],
      "execution_count": 61,
      "outputs": []
    },
    {
      "cell_type": "code",
      "source": [
        "array_full_3D(3, 4, 255)"
      ],
      "metadata": {
        "colab": {
          "base_uri": "https://localhost:8080/"
        },
        "id": "nvy2a8gilsi6",
        "outputId": "e62a9f32-317a-4c84-850c-a07ec8cf5194"
      },
      "execution_count": 62,
      "outputs": [
        {
          "output_type": "execute_result",
          "data": {
            "text/plain": [
              "tensor([[255, 255, 255, 255],\n",
              "        [255, 255, 255, 255],\n",
              "        [255, 255, 255, 255]])"
            ]
          },
          "metadata": {},
          "execution_count": 62
        }
      ]
    },
    {
      "cell_type": "code",
      "source": [],
      "metadata": {
        "id": "IJknoMDMlvIN"
      },
      "execution_count": null,
      "outputs": []
    }
  ]
}