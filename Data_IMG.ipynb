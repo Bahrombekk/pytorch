{
  "nbformat": 4,
  "nbformat_minor": 0,
  "metadata": {
    "colab": {
      "provenance": [],
      "collapsed_sections": [
        "Ljx81N65SEhT"
      ],
      "gpuType": "T4",
      "authorship_tag": "ABX9TyMadCmj9fHPaq3vQ3Y/ES47",
      "include_colab_link": true
    },
    "kernelspec": {
      "name": "python3",
      "display_name": "Python 3"
    },
    "language_info": {
      "name": "python"
    },
    "accelerator": "GPU"
  },
  "cells": [
    {
      "cell_type": "markdown",
      "metadata": {
        "id": "view-in-github",
        "colab_type": "text"
      },
      "source": [
        "<a href=\"https://colab.research.google.com/github/Bahrombekk/pytorch/blob/main/Data_IMG.ipynb\" target=\"_parent\"><img src=\"https://colab.research.google.com/assets/colab-badge.svg\" alt=\"Open In Colab\"/></a>"
      ]
    },
    {
      "cell_type": "code",
      "source": [
        "import torch\n",
        "import torch.nn as nn\n",
        "from torch.utils.data import Dataset,DataLoader,random_split\n",
        "import torch.nn.functional as F\n",
        "import glob\n",
        "\n",
        "from tqdm import tqdm\n",
        "import numpy as np\n",
        "import matplotlib.pyplot as plt\n",
        "from sklearn.metrics import accuracy_score\n",
        "# from torchinfo import summary\n",
        "from torchsummary import summary\n",
        "import pathlib\n",
        "from PIL import Image\n",
        "from torchvision.transforms import transforms\n",
        "from torch.optim import Adam\n",
        "\n",
        "import torchvision.transforms as T"
      ],
      "metadata": {
        "id": "vFbAshDqRdxG"
      },
      "execution_count": 62,
      "outputs": []
    },
    {
      "cell_type": "code",
      "source": [
        "!pip install torchinfo"
      ],
      "metadata": {
        "colab": {
          "base_uri": "https://localhost:8080/"
        },
        "id": "jzApZRtVSRz4",
        "outputId": "6d4bf189-a144-4321-cc84-52363f8567b2"
      },
      "execution_count": 63,
      "outputs": [
        {
          "output_type": "stream",
          "name": "stdout",
          "text": [
            "Requirement already satisfied: torchinfo in /usr/local/lib/python3.10/dist-packages (1.8.0)\n"
          ]
        }
      ]
    },
    {
      "cell_type": "markdown",
      "source": [
        "#MNIST_PNG(LeNet)"
      ],
      "metadata": {
        "id": "Ljx81N65SEhT"
      }
    },
    {
      "cell_type": "code",
      "source": [
        "!wget https://github.com/JavohirJalilov/Datasets/raw/main/Classification/mnist_png.tar.gz"
      ],
      "metadata": {
        "colab": {
          "base_uri": "https://localhost:8080/"
        },
        "id": "FEbwkbQJS9Y8",
        "outputId": "fad9a9d4-f55c-4711-caa1-e5d5df38b022"
      },
      "execution_count": 64,
      "outputs": [
        {
          "output_type": "stream",
          "name": "stdout",
          "text": [
            "--2023-07-07 13:53:42--  https://github.com/JavohirJalilov/Datasets/raw/main/Classification/mnist_png.tar.gz\n",
            "Resolving github.com (github.com)... 140.82.112.4\n",
            "Connecting to github.com (github.com)|140.82.112.4|:443... connected.\n",
            "HTTP request sent, awaiting response... 302 Found\n",
            "Location: https://raw.githubusercontent.com/JavohirJalilov/Datasets/main/Classification/mnist_png.tar.gz [following]\n",
            "--2023-07-07 13:53:43--  https://raw.githubusercontent.com/JavohirJalilov/Datasets/main/Classification/mnist_png.tar.gz\n",
            "Resolving raw.githubusercontent.com (raw.githubusercontent.com)... 185.199.111.133, 185.199.108.133, 185.199.110.133, ...\n",
            "Connecting to raw.githubusercontent.com (raw.githubusercontent.com)|185.199.111.133|:443... connected.\n",
            "HTTP request sent, awaiting response... 200 OK\n",
            "Length: 15683414 (15M) [application/octet-stream]\n",
            "Saving to: ‘mnist_png.tar.gz’\n",
            "\n",
            "mnist_png.tar.gz    100%[===================>]  14.96M  --.-KB/s    in 0.1s    \n",
            "\n",
            "2023-07-07 13:53:43 (134 MB/s) - ‘mnist_png.tar.gz’ saved [15683414/15683414]\n",
            "\n"
          ]
        }
      ]
    },
    {
      "cell_type": "markdown",
      "source": [
        "tar\"!tar -xzf /content/mnist_png.tar.gz\" kodi \"/content\" katalogida joylashgan \"mnist_png.tar.gz\" faylining mazmunini chiqarish uchun Linux buyrug'idan foydalanadi . Bayroqlar -xzffaylni chiqarish va gzip siqishini boshqarish uchun ishlatiladi.\n",
        "\n",
        "Qidiruv natijalariga asoslanib, ushbu buyruq odatda MNIST ma'lumotlar to'plami bo'yicha treningni o'z ichiga olgan mashinani o'rganish loyihalarida qo'llaniladi, bu tasvirni aniqlash vazifalari uchun ishlatiladigan qo'lda yozilgan raqamlar ma'lumotlar to'plamidir. Ma'lumotlar to'plami odatda \"mnist_png.tar.gz\" kabi siqilgan arxiv fayli shaklida taqdim etiladi.\n",
        "\n",
        "Umuman olganda, \"!tar -xzf /content/mnist_png.tar.gz\" buyrug'i Linux operatsion tizimida siqilgan arxiv fayli tarkibini osongina chiqarib olish usulidir."
      ],
      "metadata": {
        "id": "pyZbooj_j_mc"
      }
    },
    {
      "cell_type": "code",
      "source": [
        "!tar -xzf /content/mnist_png.tar.gz"
      ],
      "metadata": {
        "id": "WJvqbydQRduE"
      },
      "execution_count": 65,
      "outputs": []
    },
    {
      "cell_type": "markdown",
      "source": [
        "\"Device = 'cuda' if torch.cuda.is_available() aks holda 'cpu'\" kod qismi \"cuda\" qatorini \"device\" o'zgaruvchisiga tayinlaydi, agar torch.cuda.is_available() funksiyasi True qiymatini qaytarsa, bu a ekanligini ko'rsatadi CUDA yoqilgan GPU foydalanish uchun mavjud. Aks holda, \"cpu\" qatori \"qurilma\" o'zgaruvchisiga tayinlanadi, bu esa CPU o'rniga hisoblash uchun ishlatilishi kerakligini ko'rsatadi.\n",
        "\n",
        "Ushbu kod odatda tezroq o'qitish vaqtlari uchun GPUda ishlashi mumkin bo'lgan chuqur o'rganish dasturlarida qo'llaniladi. Qurilmani tayinlashdan oldin GPU mavjudligini tekshirish orqali kod uning GPU yoqilgan va faqat protsessorli mashinalarda muvaffaqiyatli ishlashini ta'minlaydi.\n",
        "\n",
        "Umuman olganda, ushbu kod mavjudligiga qarab PyTorch-da GPU va CPU resurslaridan foydalanish o'rtasida almashishning oqlangan usulini taqdim etadi."
      ],
      "metadata": {
        "id": "rjHM2P3kj4xg"
      }
    },
    {
      "cell_type": "code",
      "source": [
        "device='cuda' if  torch.cuda.is_available() else 'cpu'\n",
        "device"
      ],
      "metadata": {
        "colab": {
          "base_uri": "https://localhost:8080/",
          "height": 35
        },
        "id": "rgKyczr4RdYe",
        "outputId": "a5f1639e-b81b-4e8e-d780-afc09578d485"
      },
      "execution_count": 66,
      "outputs": [
        {
          "output_type": "execute_result",
          "data": {
            "text/plain": [
              "'cuda'"
            ],
            "application/vnd.google.colaboratory.intrinsic+json": {
              "type": "string"
            }
          },
          "metadata": {},
          "execution_count": 66
        }
      ]
    },
    {
      "cell_type": "code",
      "source": [
        "class MNISTDataset(Dataset):\n",
        "\n",
        "    def __init__(self, path, transform = None):\n",
        "        # int for cross entryp loss\n",
        "        self.path_list = list(path.glob('*/*.png'))\n",
        "        self.transform = transform\n",
        "\n",
        "    def __getitem__(self,index):\n",
        "        img = Image.open(self.path_list[index])\n",
        "        label = (self.path_list[index]).parts[-2]\n",
        "\n",
        "        if transform != None:\n",
        "            img = transform(img)\n",
        "\n",
        "        return img, int(label)\n",
        "\n",
        "    def __len__(self):\n",
        "        return len(self.path_list)"
      ],
      "metadata": {
        "id": "ooddQOOgRdqw"
      },
      "execution_count": 67,
      "outputs": []
    },
    {
      "cell_type": "code",
      "source": [
        "train_path=pathlib.Path(\"/content/mnist_png/training\")\n",
        "test_path=pathlib.Path(\"/content/mnist_png/testing\")"
      ],
      "metadata": {
        "id": "16SRcwSSRdl_"
      },
      "execution_count": 68,
      "outputs": []
    },
    {
      "cell_type": "markdown",
      "source": [
        "\"Transform=T.Compose([ T.Resize(size=32), T.ToTensor() ])\" kodi PyTorch ma'lumotlar to'plami joylashgan Python mashina o'rganish ilovalarida tasvir ma'lumotlariga qo'llanilishi uchun ikkita operatsiyadan iborat transformatsiya quvurini yaratadi. ishlatilgan. Ushbu konfiguratsiya odatda chuqur o'rganish modellarini o'rgatish uchun tasvir ma'lumotlar to'plamini tayyorlash uchun ishlatiladi.\n",
        "\n",
        "T.Compose klassi bir nechta transformatsiyalarni bitta quvur liniyasiga birlashtirish uchun ishlatiladi. Bunday holda, quvur liniyasi ikkita transformatsiyadan iborat:\n",
        "\n",
        "T.Resize(size=32): Bu oʻzgartirish kiritilgan tasvir maʼlumotlarini oʻlchamlari (32 x 32) boʻlgan kvadrat shaklga ega boʻlish uchun oʻzgartiradi. O'lchamini o'zgartirish - bu ko'plab chuqur o'rganish modellari tomonidan talab qilinadigan barcha tasvirlarni bir xil o'lchamda qilish uchun kompyuter ko'rish ilovalarida keng tarqalgan operatsiya.\n",
        "T.ToTensor(): Ushbu o'zgartirish kiritilgan tasvir ma'lumotlarini NumPy massividan PyTorch tensoriga aylantiradi. Bu juda muhim, chunki PyTorch kabi chuqur o'rganish ramkalari kirishlar tenzor formatida bo'lishini talab qiladi.\n",
        "Umuman olganda, transform=T.Compose([ T.Resize(size=32), T.ToTensor() ]) kod parchasi mashinada foydalanish uchun tasvir maʼlumotlarini oʻlchamini oʻzgartiruvchi va tenzor formatiga oʻzgartiruvchi transformatsion quvur liniyasini yaratish uchun ishlatiladi. PyTorch ma'lumotlar to'plamini o'z ichiga olgan o'rganish ilovalari."
      ],
      "metadata": {
        "id": "VrCpnblaomnT"
      }
    },
    {
      "cell_type": "code",
      "source": [
        "transform=T.Compose([\n",
        "    T.Resize(size=32),\n",
        "    T.ToTensor()\n",
        "])"
      ],
      "metadata": {
        "id": "XJG-6BaIRdi2"
      },
      "execution_count": 69,
      "outputs": []
    },
    {
      "cell_type": "code",
      "source": [
        "train_dataset=MNISTDataset(train_path,transform)\n",
        "test_dataset=MNISTDataset(test_path,transform)"
      ],
      "metadata": {
        "id": "1XaAhHrOdWl6"
      },
      "execution_count": 70,
      "outputs": []
    },
    {
      "cell_type": "markdown",
      "source": [
        "datani bachlarga bo'lib trenga beradi"
      ],
      "metadata": {
        "id": "23aK8qX1o8e3"
      }
    },
    {
      "cell_type": "code",
      "source": [
        "train_data = DataLoader(train_dataset, batch_size=64, shuffle=True)\n",
        "test_data = DataLoader(test_dataset, batch_size=64, shuffle=True)"
      ],
      "metadata": {
        "id": "43TIriXYeJrj"
      },
      "execution_count": 71,
      "outputs": []
    },
    {
      "cell_type": "code",
      "source": [
        "img, label = next(iter(test_dataset))"
      ],
      "metadata": {
        "id": "HJ5RsKSde1Ak"
      },
      "execution_count": 72,
      "outputs": []
    },
    {
      "cell_type": "code",
      "source": [
        "plt.imshow(img[0],cmap='gray')"
      ],
      "metadata": {
        "colab": {
          "base_uri": "https://localhost:8080/",
          "height": 447
        },
        "id": "swTuIJKhgj7W",
        "outputId": "268f8bd9-d7fc-4b79-eed1-411094c2cd24"
      },
      "execution_count": 73,
      "outputs": [
        {
          "output_type": "execute_result",
          "data": {
            "text/plain": [
              "<matplotlib.image.AxesImage at 0x7f6aa91ebfd0>"
            ]
          },
          "metadata": {},
          "execution_count": 73
        },
        {
          "output_type": "display_data",
          "data": {
            "text/plain": [
              "<Figure size 640x480 with 1 Axes>"
            ],
            "image/png": "[encoded data removed]"
          },
          "metadata": {}
        }
      ]
    },
    {
      "cell_type": "markdown",
      "source": [
        "Madel arxitektura\n",
        "![lenet-5.svg](data:image/svg+xml;base64,PHN2ZyB4bWxucz0iaHR0cDovL3d3dy53My5vcmcvMjAwMC9zdmciIHhtbG5zOnhsaW5rPSJodHRwOi8vd3d3LnczLm9yZy8xOTk5L3hsaW5rIiB3aWR0aD0iODI5IiBoZWlnaHQ9IjM0MyIgdmlld0JveD0iMCAwIDgyOSAzNDMiPgogIDxkZWZzPgogICAgPGZpbHRlciBpZD0iUmVjaHRlY2tfNCIgeD0iMCIgeT0iMCIgd2lkdGg9IjgyOSIgaGVpZ2h0PSIzNDMiIGZpbHRlclVuaXRzPSJ1c2VyU3BhY2VPblVzZSI+CiAgICAgIDxmZU9mZnNldCBkeT0iMyIgaW5wdXQ9IlNvdXJjZUFscGhhIi8+CiAgICAgIDxmZUdhdXNzaWFuQmx1ciBzdGREZXZpYXRpb249IjMiIHJlc3VsdD0iYmx1ciIvPgogICAgICA8ZmVGbG9vZCBmbG9vZC1vcGFjaXR5PSIwLjE2MSIvPgogICAgICA8ZmVDb21wb3NpdGUgb3BlcmF0b3I9ImluIiBpbjI9ImJsdXIiLz4KICAgICAgPGZlQ29tcG9zaXRlIGluPSJTb3VyY2VHcmFwaGljIi8+CiAgICA8L2ZpbHRlcj4KICA8L2RlZnM+CiAgPGcgaWQ9IkdydXBwZV80MSIgZGF0YS1uYW1lPSJHcnVwcGUgNDEiIHRyYW5zZm9ybT0idHJhbnNsYXRlKDExNTIgNTgyKSI+CiAgICA8ZyB0cmFuc2Zvcm09Im1hdHJpeCgxLCAwLCAwLCAxLCAtMTE1MiwgLTU4MikiIGZpbHRlcj0idXJsKCNSZWNodGVja180KSI+CiAgICAgIDxyZWN0IGlkPSJSZWNodGVja180LTIiIGRhdGEtbmFtZT0iUmVjaHRlY2sgNCIgd2lkdGg9IjgxMSIgaGVpZ2h0PSIzMjUiIHRyYW5zZm9ybT0idHJhbnNsYXRlKDkgNikiIGZpbGw9IiNmZmYiLz4KICAgIDwvZz4KICAgIDxpbWFnZSBpZD0ibGVuZXQtNSIgd2lkdGg9IjczNiIgaGVpZ2h0PSIxOTgiIHRyYW5zZm9ybT0idHJhbnNsYXRlKC0xMTA1IC01MTIpIiB4bGluazpocmVmPSJkYXRhOmltYWdlL3BuZztiYXNlNjQsaVZCT1J3MEtHZ29BQUFBTlNVaEVVZ0FBQXVBQUFBREdDQVlBQUFDVHREVUxBQUNBQUVsRVFWUjQydXhkQjVnVXhkWTkzVDB6RzlsQXpqbG55U2lpVDFGUlVZbG1CRVFRRElpQWloRlFRVkVSUlgxSVVrQk1nQUhGaElvL1pwOGdpR0FBbEp6ajVqVFQvWC9kZXhyTGNSWjJZZlBldzlmTVRzZWFycXBicDI3ZG9FTWdFQWdFQW9GQUlCQVVHb1NBQ3dRQ2dVQWdFQWdFUXNBRkFvRkFJQkFJQkFJaDRBS0JRQ0FRQ0FRQ2dVQUl1RUFnRUFnRUFvRkFJQVJjSUJBSUJBS0JRQ0FRQ0FFWENBUUNnVUFnRUFpRWdBc0VBb0ZBSUJBSUJFTEFCUUtCUUNBUUNBUUNRZjdEVXdvbUVPcHZNQUVFQUZoU3RRS0JRQ0FRQ0FTQzRnaE5Yb0ZBSUJBVU94bHNGZEQ5clZ5V1FaUVlBb0ZBSUFROFIvUUVjQk9BTUdyRHZ3UHdLb0N0L0czdUlLSXIzNjJndjNWbHdMR1U5Nkxsc00rRkdiUlBmWmJGNDZIZXR4WjBUTS9oWElGQUlDaXBZNG9RZUlGQUlDaWxzSWxyUElEWEtleS9BVkFIUUhpSTgwNFhSajVNWHRSeTJCT0dTZ0M4VW8wQ1FabEZCUUJWQU1RQWlPVVdCNkFXZ0lxbnFTRFJlZS80b0hzSHl5NWJ0dFZRenJQTFVwUHlLYTl5VGxaVUJRS0JJSmNvcVRiZ3JoWTVpZCt6cVBuZW5zTjVsUUcwQkpBSllBT0FLQURwQU5JQTFPWjcyTUo5TnFweThQb1RRQXJ0eWlNQXRBTGdBM0FJd084Y3NHcngrRzg4MWhyQUhtNmFvbkUzK2R6ZUFNN2dmYXNCV0FGZ2FaREdYaUFRbEg1Y0JXQWs1VUNBTWlDTnN1Z1RBRThEOEorQ2JMVGxTRFNBaVFDdXBId0VsUk9qQWN4WHppc0hZRGFBTmxRSTJQdTJBWGdid0JNazhvRmNQbHZrbDBBZ0VKUnl1QnJwUmh3c2JNSGZKY2dreFAyOG5LVGJKcmtUT0xEOERLQS9nTGJVb0NjQ2VJcEVQSmJuK0huY1JqY1NaZnY2WlFEMmMyQzdnSnIzd3dBZUIzQVh5L0toWWhaanNDelZBU3puOGQ2OHI2dTl2NUxmSlNxTlFGQTI0UGIxLzFCK3VPWnVzMDZCY0dzaDlybDRTTG0zdmYxRlRiaDZuUzJqcHZMNDAxUVU1UFpaNnZQNkFIZ0p3QndBZlF0SXBta3NiMDZieUZDQlFDQW9CQUorTnJVeis2aXhkZ1cwSzRSdFVwNEFZSzB5U0J6a1FITW10VVM5K1gwdDc5dUltdkREWENLdURlQUFnRFc4L2hLZS94SUhzdnY0ZlJXQUtmejdEMnJEZFc0MkdYK1J4NTVSZnNNNGFxZStGUUl1RUpRcGVDZ0RPZ0k0UnRtUUNPQWN5aXBmTHNnN1RrQ0dYYkpjay9mTzRDcWMvZmVEaWd4eXplQ3VvSndyeisvZUlGbDZNa0llUnNXRFMvUUhTeFVMQkFMQmlRZUJrZ2pYYWJFTkI0Z2ZBU1FyZzFPQW4vZlRwbkVPQjRXV0pOMi9BTmpKYThyeDJQZThiMjBPSnA4QlNLVld1eEkxUTVVQjNBdGdJNERwSERncjh2cjNBUHlYei80L21yc1kvRjRId05YOGU0bFN4aW9oUWlrS0JJS3lnUUJsVWl5L0ozTjFEb3JaU0NqUzY4cS9pb3I1aWsyZWo0Unc2RDRYd0EvY1JsRlczUWpnTldyRDNSVTZXNWF1NWlSQVU4SzV1bzdxbGZtc05LNEFIdVV4Vit0c0UvMm1MTGVmTWpDTTkvSG5rOUxGZlY5UEtrb1lUUmtUSW1rS2VBdWZLV1o5QW9GQUNIZyt3OVVRdGVmM242amhDYWYydWhNRmNqY0s0SDNVNkRUak9lczRpTmo3THVUOXZ1RzViZmk1anZmc1JzSGZqZS9MSnVMdktPWG9vZGhOcGluYUpTakMzM1dDU3VBZzZaYS9FUWV2bGRJVUJZSXlCVC83Zmh2RlQyUUxKL1U1UlVaeVNlaVp0T1Z1QXVCWEFKZFNyaTBIY0ROWCtWeDA1ZXJlVk5xYzIwUzZMb0RoVkNhNHR1ZnRxWVR3VXk2NkU0Q0xBSXlsWm53cm42WFRidncrbG1raWdPYThyMGJsdzBRcU41NEg4SVZTOXRQRkJZeCtsUk95UXZ3R2dVQWdFT1FUK1hieE80WHNPY3ErZUFCZkF6aUxqcEIrUldBdjV2bWorYjJLY2s1YkFQVm9TbUpSWXcyU2JTdUlXRjlCa2g5R3dyK1Q1QjZLUmduSzhtMVRrdmxESEFEQjY5T3BoYW9aNHJjSkJJTFNMY1BpS0t0Y1RmTmpRWElqMURYREtUZHNlZEtaKzE1VTdqRWg2QjYyUEx1VGZ6OURZbTlTN3JYaC9xb2szMWZ3dTVmYmVONHpBVUJESHZzLzVWa2pxSlN3U2ZxYnl2NzNhS3JYaTFyellObW04YnJnVFQvSis0cW1jK29QZk1iSEFENEsycTVYNUxCQUlCQUk4Z211Z080V05PaThEdUJXRGo1YnFQR0pvSm1JZlh3enpWRmU0dmN0akI4ZUMrQi9pZ25LT0M3QkpsTnpCSkw3L1NUcGIvQlpUd0JvVEVjais5cjExR2diT1RoRStSUUh6UWM1TUsybDVydTFrRytCb0V6S3NUcU1odVRhWmwrYWd5elFGTG1Yd1hQbkt5dVlEeXIzbUtoY1U0RmE2dzc4YnBQaFhjcTV6L1BjdGpUZGFLQTg4MnJLUEpNTzVpN2U1YlVCbW5xNGVGMlJ4ME1LYU1MU2xSci9Lc3BFd1VQNUdpWmhYUVVDZ2FEZ05VZFZxVUZ1eTYwOWwwRGJVL05kUTlHWTlPYXliQWQ2OS9mZ1FOZVV3cnM3Z0FHODdpd09PaXU0cE9zK3p4NllyaU9KdmxpSk5WNkZ6NjkvQWhLdE9rVjE1TURXaCtVb0orUmJJQ2l6Y3V4aUpXbFhacEFqT1VMOHZWSTVmd0QzMWFTNW5FWGZsQnJLK1plUldLdUtnWEU4MTArVE9WdTJYVXNUUEhkaUVFY3RzMHVvWFUxN1V5WHExQmYwcndFL0R5bm50MU1jUExVUUU0L21kRHhmUjBYRVd2N3RhdTl6MGw3YkU0R1grWGRFRGs2aUlrc0ZBb0dnQkdBQ0I0eXhKT01mTWJiNGhjcEFrSk5BMTA5aHdEM2Qrd2dFZ3RLRFJ4VnQ5UGZVNGdiTERYY0ZyVDU5V1V4cW55Y0JHQWJnSzVxeC9aYzVDYUFRMzhrQTNncTZWelNBVFlxVDVTS1MydjhxejIycGtIVFhhZk5PT3J0dllybkxLK2QzVW43SEZtVVNFQ3piWEdJOVBDZzBvcnVOT2drQi81RzI1OU9vQ1QvQzFjZEpPVXhlQkFLQm9OaWlKRHRoQmd0YUt5Z05zblVTamJSRnIvOGZHQ3U4TWdlbFBveUFvaWFnMElOUzBsc2hVdEdmS0oyOEZTSU4vWWxTMWdzRWd0S1Bib3I4K0o3bUpRaVNENDJwN1Y2dktBUnN1ZFNDeWdLYmZINUpEVHFDNUY5NzJwaXJTQ1l4bjgvN1hBZGdONEM3bFhPcUJpVVFhMGN6dmpFay9NRTRVL2tkcTZrTlI0Z0lKTzczbjJpbVlpb3lOY0NWUndRNWE3b09xZWR6dFhFam43RUd3RzAwUzJsRk8vUkxGQ2QzaVg0aUVBZ0VCVWpBdFh3Zzd0RzB3MjRWZ3FUakZKOGpFQWdFSjVKQkVRemw1MnFpcjFJSVo3RFp5Y3RVRUNRbzVpcWRRdHo3RXBxa2FEUWoyVUppaWlCempXZ2w2cE5KSDVjbXluMDZLQnB3Tjd4Zk1DNmx3enVDN0wvdlZuNUhmcjZ2TXhTekd4ZU42RlNmeFdlUERDRy9CUUtCUUpBTFFhc3JtNXJ4cktBRXFoN2l1M2pQQ3dTQ2dzWTVDc0UxbFlna0twNFBJdWVyRmFMN3NtS3lZakJpeVUrS2FjaGdFdlV1UWZkMDVkc0E1ZmxyRkZrTHhoZi9YU0hvMDVUcnd3RTh5NG1CNnd1emdlZG1LUTZZWVNjeDN3c1ZCU1UzY2w0OXY2S1N4TWhQNTNpQlFDQVE1RE01VjRWekdCMTVvdk9nOGRDNWJGdGV1Y2JEUWNRWFF2UGtvcHJpWkNrUUNBU25Lc05BUjhiaENtbDF0emNZSG5Vc2dBZVU4SVIvTWxxS1JqSzlWYmxtRzUwWmY2Tkd1em5OV3FZcGlYSTJrWXhIS0hMUTNkek1sWE1VY3U3S3dWNUJqcFYvOGxuMjUvdEtlRUhRZnR3OXp5YkViM09DVURFUDhqa25tYTB6bWRCb211T280MEZsSmt0ejdjL0huZWJ6QkFLQm9OQUhoZUpRanNzNTBHUnlTNlh3M2Fha2F2ZFEwekdaU1NEZUF0QmYyUjhLaGhJeTZ3WEd4ZTNKWjV6TS9qcU9EazR4QVA1RCswZFBQbVYyRXdnRVpVdld1cUVHTHdad09NaE9PU3hvUmM1TjFMT0paTmE5dmpxak9yVlJvbys4VDJkS2k4NlMxUm5oeEU4bHhYNlM3TVFnWDVRT2pQMXRFL0h2bEdlNG4wM29nTm1NOTluRHZBaHZCZjJtQ05xSGQyQll4YldNMDczNU5PeXhYYm5kaGZHK1l4a3BwYU1TQnZFaUhzdmk3MmxQRzNHeEFSY0lCSUk4WUNCdEhHM0IrU3JEOWMya1U4MGl4clIxbDBoSGMxQjVYaEhXb2V5MlZidkg2M25OSW9ZakJHMG1wNUJjSTBSNjQvSVUrcHVVVUZ4R2tFWmV5K0U3UXBRSEp6a0hPZHdUWXBjdUVBaUpMMFNGaW5hU1l3VXRmOXdBQVJlU1lOdUVlN3V5MzhkSmc2WGtWOUJGTGdvRUFrSHU0UkxrV0hyNlp5bkphYUJrV0hzcDZMcEdKTko1RWJnTnFkVjI0UXJ3NGZ3ZUtwRkRSU1c4VjBFTW1vVjFENEZBVUR6a25adEF4cHVMelJOQ0ZyakhEQ1VCbUVwY1QzYVA0TExvSnptdUpyd3hjcEJQN25GZkh1eTVUeWJ6ZEdyWFoxRk8vMENaMzU1cDl5MUdqaGwvRWpOQ2dVQWdLSFlvVG1FSVd6SVN5VzZHMXpLNHJMaVdvUUV2cEtiNlJvYWptZ05nQnE4TkF6QVV3SlVBOXRMNzMxQ3l2VTJtMFA0WXdEMWNXcjJCeTdqSDZCQ1ZBbUNKY3IrQkpPYjdBTnhCNG40SGw1QS81TEx3VURvenJhRUc1andBdHdQWVFYdkVUU3pER1R6dTRlL2J3aklzb08xbU9EMzRyMkNtT3RmT000ME9UNmxjaXIyZXY4c3U5NmY4WFZteTNDb1FsQmlZcHhsNjFIVjJoQksrVDRVL0g4dVMyN0phQldDV1p5a3k4SGJLdSt1WUNqK0c3MkFxZ05lb3VJR1luZ2dFQWtIZU5SMWdURmVMdG9OUmlnUE9nOXgvZ0FUOU9nNEtHYlJMREdkTVc0dVpLbTBzNVBlM1NWaDcwYndsaS9hTVlVejZZSi96TTIwWGF5bGxpUVZRbDNGcDdYTWVaaWl1ODVYQlpqNmpFeHpndm5kb2orNDZWOTNEKzNYbmhPSlhKcWhvcGZ3ZVY5TS9YMGtJQkJKemk3OERTc3I3NmZ5K25kL1A0WGVKM0NJUUNFcnorSkJmNXdrRUFvRkFnYTZRemtuYzU0Yllta25DL1FlLzk2Ulc1QStGblBxcGJYYXhpTmZjdys5dFNNRDNLdW1UN3c4aXVYb0lZZjRKenhuRzd4WG92TG1INWl5Z3RqdU41UUxOV2t4cTBFR0NieW5odVM3azhWVmMycjJFeC8rblJDcDRYWEdvQ3FPajFWRUF0VW5hM2N4NVZjUWVYQ0FRbEJFaWZqSS9HWUZBSUNneDhCUVR3ZXBUdExtL2tneG4wdjY2TTg5NWxjZlBwdFo3dWFKaE5oaWhSS2YydkNHUHJlWTE1NUY0ZjhGSUFPQjFMbUUybE1nQXJrQ3ZUTE9WWTh3MHB6SGptNWZrZndmRFl0V2lTY2xhUmg4NEE4QkJFdXptTkRVNVNzMjRmWSt6K1Brbk5mTFhjUm41ZHdEcHlqbCszck1kRTE0azBDVEd4OVdDcFhRcWxXVlhnVUJRMm1HZDVMdEFJQkFJQVQ4RndWcVI1SFVYTmNhdTNlR05KTFNmQUhpU3hMc1ZpZXRpWGx1QjV4L2paME5xaXYyTVlBSVNhZmNhVUhOY2g0UjNCUW13cXdFM2VPMDVKTzMvVTdUdG5UZ3gyTUxQenJ6dkRwTGhnWHludjNQZnBieGZtaEpUOXdKZTh5bnZHVU1TbmFpRS9xckMrLzFPMjNpZE51cnYwTjRjUE8rQURFUUNnVUFnRUFnRUpRdDZNWmdBTkdQaUNTK0FTb3p6MnBXaEJtK2xDY29Ba3RnWXBscjJVaE5laHdrcmREcFY5Z0l3Q0VCVmFvK1A4bGdsWHRPT3hEV0NUcFhoTkIxcEZpSUVZVVZlVTRVYTZXZzZnL29VWXQrSDUyemc5d2plcHlFVFl2eEJjNVhxTkdPNWdORmJ2Q1R2OVJYTi9UVzgzKzA4dnAwT29LdjVXMnJ5dDEzTTl6VkllWSt5RENzUUNBUUNnVUJRUWxCVXpuc3VZZlRTcktNT1RVSFdjbDlWa3VNSDZhQ1lTWkthekFRV09zMHkvZ1R3THJYZnFUUWJpU0hSZnBIazFpUVI5L0RZWG9helNxSld1UmExMDc4cTJtU0wybmdmbisxaGdnZVhiTC9LZTFhaDdmbXJKTnJicUUwL1FxZk5qM2hkR0oremdVNm02WFQwL0l2MjZrZjVuSGlTOGlZTXYvZ3B6LzJTNVdwRGJmNHZBQjZUNWlzUUNBUUNnVUFnS09oSmdoYmkySDhCUEtmcys0b2t1MDRPMTZDWWFZem5NM1cwaXg4NXlhaks3K29xaFY1TWY0TkFJQkFJQkFLQklKZndGQk9DclpKc1MwbUhIQWlLYzJzRm1ZcFVZQWpCanJTWnJrUU44bFUwNGRDcEFUZVVlNEwzOVBDWXJxUTJEaWJwNnZVQkpjR0VuL3U5UWVYVWdzcVh4V3NDUVY3N2Jqa2lhYXJTZ05yOWN0VGlYMGJ6RTAwcG84N25Ha29aQkFLQlFDQVFDQVFsREZvSkw3ZnJoSGtXWTJ4dkFmQXRUVXVDbzRPRWloYVNtd2dpK1JGbFJDMXY4SDNMSzJZNG01VHk2eUdTWUlTNmowQWdFQWdFQW9GQUlCT0xNbDUrZ1VBZ0VBZ0VBa0VwSjNxdWJiUlZRclhESmIzOHBiVS9XQ2M0bnRNeEs1ZDl6TXJGUFFVQ2dVQWdFQWdFZ2xJTDR5VEUzQWl4VDFZcUJBS0JRQ0FRNUN2cEVBaktVajl3bld3Yk1yeWtqUXpGZWRka0dNdUdqUGVlb0Z3ZlJRZGdEeDF2WGNUUVJ5RVNRRFhlcHh4RFVDYnpuQm9NdVJuTGtKT21WSWRBSUJBSUJLVWJIbmtGZ2pJT040cE5kd0Q5U0xnakdZdDlNY05jV2t5UzFJdkV1UzVqc1U5bWdxaXFBTzVSNHMvUHBWbFJBd0RqR1FmK0d5Wjk4Z0tZd3pqdm1RQ3VCZEFid0RJK0s0WGxzcFRKZ1NubUtRS0JRQ0FRQ0FTQzBnRFg5djRxSmxLNlNqRXIrWU5FMmNiTkFIWUE2TUh2elFBa0FuaEN1ZGZkSk9QL0k0RjM3LzA0czdtQ0pIeUxRcXh0WEFMZ2UyWm1GYk1XZ1VBZ0VBZ0VBa0dwSnQ4MjJXME00QUNBdTRMMlB3amdYSWFIVEFCd1BZK0g4WE1HZ0lNMEhiSFBmd2JBVkdaazdjMXp2QUNlQm5BckNmZFRBTGJTTk1VbDJnc0EzTWkvZzFla3lnTVlROElQSWVjQ2dVQWdFQWdFZ3BJTUx6L3Zwd2xLTEFtd1M4QjlQRDZHcExvaVNiU1g1OXdDNEFpQXJqenZFeEwyYndHOHpYTWlBTHpDeEVvZzBkNEhvQldmMFlyYWIwTjVMbWhUZmhPQW4ya1gzbG1aSEFnRUFvRkFJQ2poa0FGZFVCYmhaaExWbVVYMUY1cVArQlZiNjB5ZTF3bkFCdHBtQjNqY3BMT2xwbVFtclFUZ053QlBVZ1BlaFBlSUEvQVg3L2tUelZQcTh6NDJ1VjhZSWd1cmorWXFyNUw4dTJZcllnY3VFQWdFQW9FUWNJR2d4TUppOUpGS3RQLzJoeURwT2duMFFVWkVnUklWcFFLL2IrRTlFa21rUCtYOUJsQ1RYVTRoNEZ1b1phL0theHJTR1JOQmpwYUpKUE5WcUFFL0xBUmNJQkFJQkFJaDRBSkJTWWRHVW4yVVJOYzFBOUdWaEVnQmFzYWphWHFpa1VEYnh6clFkbndmN2NpVGVRLzc4MlVBb3dBMEpiRlA0MzFUQU95bHVjdEFBQ3RJcm9OdHV6MjhsMDNRZDBrL0ZRZ0VBb0ZBQ0xoQVVOSmhrZVRhQkhzTnd3ZEdVZ3R0NzRzbmliYXhqbmJlWWJ6T0p1MjFBSFFETUozblZDS1JQMG95dlpnbUtzTUIvS2xFTjdGbzduSStnTm9BbGl1VGdlQ0pRWUJhOXZVU0cxd2dFQWdFQW9GQVVGb21ueHB0dFRjRGVBZkFHZHhtQWZpQzV6V2xDY3JUQUdvQ2FBL2dmVHBYNmpSamVaNm1KMVVWTXYwNkNmZEVmbmZERHQ3TC9lTVV3cTBGbFNzS3dGblVqczlqc2g2SmdDSVFDQVFDUVNtQlpNSVVsRlZZSkx1SDZQRFlpVnRMSG4rV3NiL3Q0OThCdUlBRXZCTzEyUGRRTTEyRDhjR1BBRWdDc0luWEg2RHB5dHNNUGFncno2ek9wRHNIbEVRN1VMVGs5UUJjeVdlN3pwOGJoWVFMQkFLQlFDQVFDRW9EVkZKYmtmYlpLbFF6clZvTUxhakNSL01VYjRoam9lQ2xoanMzNTdnYTlraXBKb0hnaEgxWVZ6YnRCTWUxRVAzN1JQdHp1cTk2VDRGQUlCQUlCS2NBSTJnMXlCUDAzUWdhZkQyNTBFYWY3bkdCUUpDN3Zwdlg0MEthQlFKQnNkQWNDQVNDZnpwS1duazhydllqSzJoL1R2ZXk4dGczSlFTaFFQQnZjaDNnaWxFYlRvd1BNdEpRS29tMnlZeXlUUm1OYUwwU2R6K2N6dERwTlBkSzVmNW9ybmFsTVd0dEl2dGZHRU9LQm5pZHpoV3dMY285TlNXaWtodEpTWnlvQlFMQnYrREp6NXRObURCQi8vWFhYNFhVRjJNc1diTEVGRElYRXRaSjNzdUpqdWZYZmlIY0FrSHVFYUQvUlgvNllCajAxVmdPNENFUzN5c0JYRTQvakxvazYvZnl1MDIwQndPNEZzQUxUS0tsa1hRL1FzTDlOWUR1akl6MEpvQTVKT2IydnBIMEQ3bFBJZUJXRGprRnBEOExCQUtCUUNBUUNFb3NYQ1ZQWHhMcGE1VmpId040aTM4UFlSejkvL0I3REoyazMxTHUwWU1hN2gwQTZpajc3MlUwSkJ2UEFOak9jS011emdId0dZazVGTE1XRDBuOUxJWXBiUjVVWm9GQUlEZ3VMRTRiRXlaTThFeWFOTWsvZCs3Y216d2V6ekJOMDVJbHdrb3hHcTAwemRHK21LWnBaR1ZsVFJzMmJOaXlBUU1HR0V1V0xBbkkyeEVJQkNXTWZGczBLM2tCd0JzQVhsTVNaQzFtTXF3SUFJOHlST2dYTkJXeGlmWlVFdXBXTkVkcERHQXBnRXNCOU9JOU5ZWVUzYzYvMXdDNGtRbTdEckljVjVMc0g2VldQWXRaYzU5aWNxNVBBZHdLWUNVakorMFFUYmhBSU1oM0F1N08vbE5TVWxyMjZkT25VNVVxVldCWmxrMzg1QTBYQTdoMXNYZnZYcnoxMWx2L0IyQlo4K2JORFdYWlZDQVFDRW9DZE1xdGdUUWhtYTNZZXR2YlFwcUFES04yK2hVcWcvd2t3SDh4d2xBZEV2QVdBRDZnSGZnb21waGs4dHExZk9idkFNb3hmT2hHa3ZjbUFCNVRuZzNlNHlFU2NKUDMveFpBUHlWcGwwQWdFT1FyQVhlSlhtWllXSmpwOC9uOCtYMXZ3V25ENy9QNVBFSzZCUUpCQ1lhcjFlbEdXZlpiRHNjN1VTdTlTOWx2a1Jpcm11aGFOR041alpscnU5THUyeVNSdHVpZ0dhQlczUDdlaCtSOGw2TDlkZ240SHBKeVE0bjdueWpWSmhBSUNwU0FhNXFtbWFicHhFYTFMRXNYRFhqeEFEWGdPdXVtckE3YXN2UXJFSlFlQWg0WEZCNDB1SCtYRDBHMk5lN1BvT2tJbUVncm5kcnExUURHQTdpS2hIc1B6emxDa2w2TGpwa1hrNFJyT1RoY2FyeitCcEx2dDZUYUJBSkJNQ1FlcXFBc2tXOHRhSkFzaXhzNFFaYlpzYUJFNmhQNGVaVGsxMUkwenVwNGxocWtoWGJEQW5ZSHNBM0F6eVRqMFFEMjgxNnZBbWdMb0NkSituN2VLNUZtS0RVQlhBZmdlNFk2REo3WXU4OFAwRWI4T203SFJBa2dFQWlDSVdZaWdsSlB2aTNMMHR0MTZEdzVQU05qUkVSa1JMb1pnRmJXWWhKb2poT3VCY1BRTmN1eXNzTERJenk2cnQ5dm11WTh5Z0cvTkJkQkNTTGdLNmlGN2d6Z0IrN3pBWGlYR3V4VkFLNm5yZmQySG84Z0laNU9SMDJiYkNjQU9Nd3VZdmVGbXdHTTQvVUhsVmpqbXhocnZDbUFFUXFoVitIYWdsOUs3WGRQWG5jSmdFL0UvRThnRUFnQkY1UVZ6bW1UVGIxaDQyYVBOV25lOHE3SjAyY2l2a0pGbUlHeXg4QXRteXRZUUVTVVljNllPalhoNk5IRDhkdiszTnlBaDJVbFRGQlM0SkxjUlF6Mzl6S0FPMG1vcjZLWlNBck5QbTVVanNjQXVJZWhBNStrNXJzWG5TMGIwRGt6RmNEcmpKN3lKWjhWeWYyL0FCZ0Q0RmtBZjRTUU5XRElRZnVjc3hnTnBSWExjQllKdUVCUVVQRG00Vnkvck1ZSUFSY0lDZ29Pb2JRc0MzWHJONTdTdkhYcnV4NmZNVHNRR1JtdHB5UWxsYm5vUE5rK0FOQWlvNkxUNzd2ampwU3RXLytNdlhySUNPdnhCOGFLUms1UTh1YVMyWVEzbmRGRlJnRzRodVlpbVV5T1k5SkU1Vm9BZDFEcmJlLzdpUEc1YlFKU2dmYmNuMU96L1NmdlB4ZEFmUUQvcDVBVjBHVGxEUUF6RmRKdEtmSW13SkNHRmVqUTJVWXhjWGxhdE4rQ0FrYVd2QUloNEFKQmNTRGZqcGFzYnYzR2p6ZHYzZnJ1eDJmTXpZcUtpdkprWktScmhsRzJ3dE9icGduN04wZEdSbVE4Y3YrNDFBMGJmbzYvOTVIcDFzOXJ2aE1iY0VGSkorRTI2YjZmS2VVMVpxaUVRcEMzVWZ0ZG5ocnlUT1g0TGdBVGVDOVZlMmpmYzZqeTNiMW1QVU1mK3BVeXVIREo5VHZjeEtSTFVKZ3dxbGV2dnREbjgxVS9jdVJJSURZMjF2SHgyYlVyT3dCUVpHU2s1ZmY3elFvVktpQXNMQ3pMNC9HTTNiSmx5NjlCSVRRRlFzQUZndE9DWStwc0M1LzZEWnRNYmQ2NnpWMlBQelBMakl5SzhxU25sejN5YlZrV2RFMUhSR1JFNXNQM2owdGV2KzZuOHJmZlBVSHorcnlCckV4Um1BaEtQQWwzblN2VGxmSE1JaUcyRk5PcUk4cnhnSEpPTU1uR0Nad2xBeWM1cmtKUzBRc0tFM3FqUm8zNmpoZ3hJbnp5NU1tNDZxcXJjTkZGRnlFK1BoNXBhV2s0ZlBndzVzeVo0NXhZclZvMVRKczJiUVlBSWVCQ3dBV0NmQ1hmTnVuME5HemN6REU3bVRMOVJVUkVSbXNaR1JsbGtYdzdXc0xJcU1qTVIrNGZtMDIrNzVtb0dib0JtM3pydWlqQUJTVWVwaEpxTUJUeE5WWFprQU14VmdrOUZPMjZsWU9Nc1hJamgwSk1GZ1NDQXNQYXRXc1RGeXhZNEYyNmRDbWFOR255citQbm5uc3VubnZ1T2Yra1NaTThobUdZZ1lCWVJCV0xtWk84QWtFcElkOGFOZDlUR2pkdmNkZGp6OHdPUkVXVnM3S3lNalZkMThzYytkWTBhRkhSVVJrUDN6c20rZWQxYStOczh1MHhQQWdFL05BTjZmYUMwdFhrVDBKeWN6cHU1WERNT3NGOWNsc1dLeGZsRWdoT0crM2J0NGVtYVJGRGhnd3htalJwWW1SbFpSa0FETXV5bkMwUUNEamZlL2Z1YlVSRVJCaGhZV0dpZUJVQ0xoRGtXeHUyT2FkVnQzN0R4NXExYW4zWFZNZm11NXllbVptaGxUbUhTOU4wRW1KRlJrWmxQRHgrVE1vdjY5ZkZqYnBub3U3MWVCRW9nOUZmQkFLQm9EUmp6Wm8xV3ZYcTFiMlhYSEtKWTNibzhXVHphM3Zzc3pkZDF4MWZvSm8xYTVvWFhuZ2hVbE5URFhsclFzQUZndE9GNWk0ejEyL1llR3JMdHUzdW5qcGpUaUF5TXNxVG5wNVdGalhmMEhRZEVaR08yVW5LTDcrc2k3djluZ202eCtORlZsWVdKRE90UUNBUWxENFlob0dvcUNpSGFBZkxlZnM3czJFakppWUdPWmhKQ1lTQUN3UjVJdCtPelhmOWhvMmZiTjY2N1YxVHBzOUNSRVNVby9rdW96YmZEdmwrMUxINVhodC8rMTB1K2M1RVdadU1DQVFDUVZsQ0tQTE5zY0VoNlBieC9mdjN5NHNxUmhCYklFRkpKdDk2L1FaTkhtdld1dlc0eDU2WmJVWkdSbWxsMWVZYjBMVEk2TWowUjhhUFNmMWwvYnA0eCtIUzhNRHY5d3Y1RHQxK1NzTkxFVStxMDRkZVREU0NVcGZGcHk1T1N4d1hSV1NScEtTa3dJWU5HOUM2ZFd2SDFGQlZRTG1oYUxkdTNhcC8rZVdYaUl5TTlLZW1waGJsT3pLa1gvemQ0QVdDa2thZUxDYlpjY2ozMUdmbitLTWM4bDBHYmI2emx4YTFxS2pJakVmdUdaT2FiWFl5VWZNNE50LytnalE3MFpRQlU4dGhBTlZDREtpaHJpdjA5a1BCWHRJM3dXbE80a21XU21OZGFpSDZtSmJET3pqWmRXV3RMazVuSzNUeVBYejRjR3Y3OXUwWjgrYk4rNGZOdDd2WjVOc201VE5tekhER2k0QTlNQlQ5WkZOa25HakFCU1dSZk50LzFIVnN2cys0Ni9Gblova2pJcU9Nc2hybjJ4YTRFWkVSR1EvZk95Wmx3NGFmNDI2L2U2SmpkdUwzWjBMVDlJSWszb0VRRVI3TUVOcWdZTTFIb0FnalF6alBqNGp3OWExZXRmeGpYcS9oTDBrYU56TmdJaXpjYTZXblpXbkpLV21KVWVXaSttL1pzbnVYeFBNOWRUbHlhZDhyeDI1WXQyYTQxL0Q0elVKc0M2YmZSSGhrdUpXVWtPQXh2TjY5MWF1MHUvajc3NWVrNVNQeER0VWVna01zcXQvVmZsM29mZktIRHlmRTNEeDJ3Yk9wbVJsbkdycWVaV2tsUkRsb1djNkxqZ29QczNidVBXd2tKS1Y5bkpXUk5ib3dZNy9QbmowYnJWdTNObzhkTzRiSEhuc000OGFOZzlmN2QyNnB4TVJFakI4L0h0SFIwUmcxYXBUemQxSDF1WHIxNmxYeCtYeWZob1dGZWY3ODgwL1VyVnRYTjAxVDI3dDNyMU5tVGRPc3hNUkVzMWF0V25iOTc5KzllL2ZWcWFtcGUwdHJMSDBoNElJU05XaGFsdVdwV3IzMjQwMmJ0eHo3OEpQUFdWNnZ6MGhKU3RKMDJyaVZJZllOdytOQlpGUlU1aU0yK2Y3bDUvSzMzVDNCOFlBdkJKdHZlNUN1Q3FBYUFGczRKakVaU2hWbUhFemtlZEdVTWNjVThsMk9LYnNQQWtqZ3RXWWh0QjJEY2FEN2RUbWo0YXV6bjcwMXJIcTFDckQ4SmtyQ29va1pzT0FKOHlBeEtRM2pIbndKeXo5ZEE2K1dGaU5pNGRRbWtMWWc2ZENwMjMxSER4MTZaUGFpZDFDdFJpMEUvUDVDYUF1YXN6SVZFUm1GM1R1MzQ1SDd4Mkw5VDZzYjE2cSt4NU9QRXd0N3EwaENmVmpwczlIc255NGlncktIdXYzVGJsZjdsRWwxUVJFZmgvQVBIWEJSK1N1R1BQUFNkWDNQdWVMaDhWZTc0cTM0OTBzTHlBcVlLQmNiaWVVZi9pL2xnY2NYUlNVbHBSYUoxclpxMWFxWVBuMDYrdmZ2aiszYnQ2TlhyMTZvWHIwNmR1ellnZm56NXp0L1AvSEVFNWc2ZFdxUnZyS3RXN2VHWFhYVlZhMHV2UEJDcDF5MzNub3J1bmJ0NmlRTlNrNU9kbXpVbjNycUtkU29VUVA3OXUxcnNuRGh3bGlPTVVMQUJZSWlIRFJ0OWgzUitheHpIN25raXQ1anB6d3p3NG9NZzVabEFyb1dXYVplaHBQaVR3TXlNNUIyNytnNzBqWnUzQkIvKzkwVFVNQTIzNXJ5K09FQU9nRElBTkFLd0ZzQVBnS3dDTUIzVFA5dDR6WUF6UUhjeEd5RGx3TG9EK0FRZ1BvY2dLOHNZQUx1YXZZYzh0MjlTN01GODJlTkNhdGRyMm9BNlZsYXNSL2xzM083QWg1RFMwdlA5TjkweHd2K3RzMHJlUzg2cDdueHhySWZKY2IwcWJXRlFOc09YU2FGK2J3UFRabitvbFcvWVNNclBUMjlvRmFNL3ZGMHl6UVJIaEdPM2J0MjR0NDdidlozditneVQyWkdadFkzWDMrUlgrVGJGb2FqQUZUZ1BwdUlQd09nQVlCaFROMi9obVAvZndHOENlQVRYanNFUUVzU2NmdjZ6d0FzTGlDdHVMTnFNL3o2czZzdCsrUzdSU01IWDN6ZWhFbURUS1NtMjMzU0tna0xVM1pkUnBhUHR0NWUrT25SQjZZc2luaG96S1hXK0NsdnAyN2ZlYVRReTJLVDF3b1ZLdUNMTDc3QXBFbVRjTVVWVnpnS3FUcDE2bUR1M0xubzBhT0hzMkpxanc5RmlmajRlR3Y1OHVXV1lSaldoeDkrNkdqbFhaUXJWODdKMUxsbzBTSTgrT0NEMW11dnZhYmJ4KzNmVmxvaEJGeFFVdHBwVnQzNlRZYnMydm5YMlBqNCtQUTdody96T0E2WG1sNEdNMTFZRHRuZXQzZVBxZWw2M0Mzakh0QThubXp5WGNBMjhQYXJ2Z3ZBSUFEWEFkZ0NZRE1IK1lNQWRnQTRueVFnbFZybnMzanR4UUNlQjNBTHlmcHJBTHJaOVZyUUV6Y1NpTDdkdXpaNytiVzVZeU5xMUs1cW1rbnBobTRVLzBIZU5DM29QZy9TVXRQODE5MDB6YXdVN3dtLy9jYnpjUFBkcjBvb3NWTnNDeTNPYUQ4cFByNzhnNC9QbUJXb1ZxMkdscHljckdkUFdzMENya3NURVJHUjJMRnRLOGFNSE94djIva3NUODllZmZYUFAzZzd2MzZiRDhBQ3lzdUhBTFFGc0JEQWJBRGJBRnhFOHIyR2Zma2M5citQZVg1UDl1ODBBRjhCMk02K2s5L2FSN3Q4L3ViTmF6Wjg2OE8xQys2L28vK1pkNDRiWUFhU1VwMWFLTzZPUEk3cG4vMHZKaEl6bjFxY09HdmhpcWpKNDN0SE5LaGJDY2twR1VWaU91T2FuRXlaTWdVSER4N0VhNis5aGlOSGptRDM3dDJZT1hNbXZ2dnVPNXZVb3FqTk5DM0wwcXRWcTZiZGQ5OTlWblIwdEo2Wm1RbWZ6M2Y4dUQyRzJXWHMxNjlmWU02Y09kclJvMGYxMGs1c0JJSVNNWGh1MzdxcDRiMVRuckU2ZE82c0hUNTAxSEFTRHBSQkhhQS80RWVsS2pHWWN0Lzk0VDE3RDlCaVkrT1JsSmhRa0dZbnJ2bElFd0NQQUJnQTRHY0F0UUNFQWZpVDVpUTJzZTVLUW02VDhUZ0F2MUQ3UFkxazRDUFdaM2tlSzBpNE5xMzkvbk5XeXdXdnpob2RWYTEyVlRPUW5LcVhCSDhCTTJCQ0QvTWlJeTNEZjkzd2FXYmxDbUcrV3diOVIwdE55elFCQ2VxZVIvbmhTSXJHelZ0T3JseXg4cjFQUFA4U0tsYXFyQ2NuSjJ1R3ArQ0h3VUFnZ01qSUtPemV0UU5qUnc3Mm45SHBMT09DUy90cXlVbUowSFVqdnliSEE5bi9XZ000d3RXcHZ3RHNZbi84Q1VBTnZvOEErNlZOdnR0Uk05NGR3QThBR25IRmFIWHcrOHN2OGwyeFlybkdDWWRUM25qMDN1dk9HREdxdHo5d0xNWGp2SVZpM3F3dDA4cGVmb3lPd0ZPUHY1bjA1anNydzZhTXZ6eXNmcDJLNXRGamFicEgwNHRzVWpCMTZsUnMyTEFCRXlkT1JPUEdqWjM5S1NrcDJMeDVNeDU5OUZFODlOQkQvOUE0RndXT0hUdUdqaDA3b2tXTEZrNmZVRzNWd1hqbU50cTBhWU16empnREgzLzhzU0VFWENBb0hraHIwS2dwemptdmkzNzRpS1hwZXRua0lGbFpBZFNvWkdCeDAyYW1QelBEU2NGZkNKcHZVSU9XUUEyYVRxSWRUWHRSdXdDYlNLd3JjOEQvRDgxUjdJRzlJWUFsSlBOZTJvK3ZLSUFCUG5qUzBQL2NNMXU4K3NxTG8zMDIrZllucCttZUVrUyswOUxTQTljT2Y5cXNVajdNZThmUUh0cXhwRlRFbEFzWCtwMjNTWmhOVUl3R0RSby9XYTFhemRFMithNVFzWktWbXBwU3VPUjc1dzZNR1htRC80d3VaK3M5TCt1dkpTWWNRMHhzWEg3MnoxRUFQaWY1TmtqQWt3QWM0SHY0azZZbzl2bm4waDc4YlFCUEEvaWRFMkw3dW5xMEE5OVRBSHpESnZZdEl6eStkeVpQSE5odzROQ0xBNEhEaVI3ZGJ0REZubnliQ0dnYVBKSGhlUENCbDFJLy9XS043OG1IQm9SVnJCQ054S1EwelREMDNFd0VQVGs0ZnF0UlAzVFdneG9kSmtmYmtlSERoMlB1M0xsYWJHd3NsaTVkNm1pVVhYK29xS2dvdEczYjF0R0kyeVQ4K2VlZlB4NFZKUmY5eHBORFcvTXJqcnRHVU5TY2swWXZzY3ZIYUN3aE5mSnVjSUhJeU5Kdldpb0VYRkNpQnRQMHRGUXRNY2xDVXNLeC9OSWNsVUFDbm9XRWN2RklTMHR6NUY0aHJOaTZhL1AyZ0w2VjVpWDJRNlA0ZVlBQ2VTK0FGQURoQVBvQjJNaWw3QkdVTmE1alYyVnF4Lzhvb1BJZUo5L25uTmxzNGNKWm8zMDE2bFkxelJTYmZCZi9GVTE3QUxMSmQzSmFSbURnc0tmOWxjdDdmYU51NnFFbHA2UTdiMW5JZDY3aEVBUDdmZFpyMFBESjVxM2FqWDdrcWVldCtQSVZrSjZlVmloUmsweWJmRWRsTzF5T0dUbllmMFpubTN6MzAxT1NrL0s3MytxYzVMN045bStTU0IrbGc3U05kZlRKc0RHWXExTGd2aTBLc2FwS001VEQrZHduN2Z1M3IxZTc4cnN6SHIrcFpxOEI1MWptb1VUREtDRjkwaklNZU1LODF1aXhNelBXL2J6SjgrekRWL2tpSTMxSVRjMkVvZXNJbUxtYUtHWGxVbmJsMmg1cTl1elpXcFVxVmNLR0RoM3FrRnQ3ZkhBMXl5N1J0ZmNQR2pUSU1VY0pDd3N6Y2hFSDNPUUt5Y242VjU2Tnl0MkVRYUZXYkYzeW5aU1VoSDM3OWdHbGZJMWJDTGlnWkkyb1RzZlZuSlRyV2hsTk1HUC9ibHQ0RllHcDVERkdPc2x5VFR0b0o3cUR4KzBCZXpkTlZDemFsV29rNVM1aFB3U2dHUWY1bnd1QWNMbGFtSDdkdXpaN2FkR2NjV0UxNjFReHJlUjB2U1FrSkhJR0lLK0IxTFNNd0EzRHB2bXJsUGY1N3JqcGdtenlEU0hmcDlJV2F0V3VPNk5OKzA2M1AvSDhIRE04SWxMTHlFZ3JsR1JkTnRFSWo0ek1KdDhqQnZuUDZOeE43M2xGZnowNU1iRWd6TVVzcml4RktocEllOEw4clhMT3ozUjZIazB0K1Z2YzcrZEtsa3U0R3JOZkgxWHVuUjhUNHZNYTFhdTI2S1ZuYjYzVzdhSU9Odm5XZEtQazlFbjdMUXdkL25UVzNnTUh0R2tUK3Z2c2lVTmFlaGF5VjJLdGs3VkZpNnNLdDFOQkVVR2JmWlB5OFNNQVgvTTl0YVJzcmNEdlA3R3VVbk5hTGF4WXNhTG4vUFBQZDhycVVWWjE3REhDbm1qYSsrdlhyMjllY3NrbFdMaHdvVGNYWlQwWHdBVXNYNnp5ekUwQVhtZjdNZWxVMzRXLzZTQWRkNzg1MGFybTNyMTdzVzNiTnExdTNici8wb0s3WmluZmZQTU4xcTVkaStqb2FGT2NNQVVDUVZtR080QXVBekNPUzliN0FIUUVFQS9nQ2pwVkpuSVpld1NBemh6RWJheWs1bndCZ1BjQTlPYWd2N3NBU0pmcE9GeDJiajcvdFJkSFI5V29VZEhLUEpiczJIeGJBYXRZczBYTE5PR0pDRU5HV2tiZ2VwdDhWd3p6M1Q2MGg1YWNrc0dWRG1tSWVYbWQ5aDhWS2xTZTI2Wjl4NkZQdmpEUDlQbDhXbnBhZXFGcHZpTm84ejFteEdDYmZCczlMeCtnSlNja1FDK1k1MXZzbjFlUmFMY0dVQjFBYlFCMTZZUnBFN2tXZExZY3FHZ3ZWd0I0a2xGU3ZPeS9LNE5DRko1T1hkaXk0L0l6V3RXZFArdXBrZkVkejI0WnlEaHd6UEI0RFBnRFpyRnVRSGFmOUVhRkl5MHBEY1B1K0crVzM1K0N5ZmYwQ2JQN1lrYVczOUY4NTdKdU5FYU5zdC9wb3dEdW95bWZUVzRmcDZtUVRjRHZZZjNNcE1MREpyalBzbTV6bkF6WlJEczZPanFrV1lkOXpOMWZzV0xGM0w2Q3JZeGFGVTNIZVl2K0JaTVlPU2VXUGozN0FiekJkak9QcXpEZjVCUlR2bVhMbHVhR0RSdnd5aXV2SEhjS3Rjdm1yUHJwdWtPK2QrellZYzJmUDErdlVxVUs5dXpaVTZxVDhRZ0JGd2dFSjRNYkNjRWVJTTZtYmZkbkZMajlhR2FTU1NIOUVtMjkxMUVJV3lUYXZRQmNRN09VR0FCTmcySVM1d3Y1cmxvMXR2KzVaN1o2ZmVFTG96emVxbFVzK05OMVgwd0pzQ1cwTEVEWGticnJrUC82RVUrYkR2bStzWWVXbXByQlFWUWFZUzdoaERPWk5XdTE5OEdKVjh3NjV6OFhESm4weEhPbUx5eE15eWlrWkYxL08xeHV4MWhIODMyMjBmUHlmbHBLVW1KQmtXK1hMOTRNNEY1R0hucVIyc29HSkhMZzUyTUEzcWUyMHNNSjZ5eitmUTZBVDdtaXRaLzkvblRDd3pqbHFsazF0bStITXhxL091L1oyOExMTjJwa0lpdlJDS3RSb1pqM1IvNm5hVGo2MTM0TUhmV2NQeVlLMXZqYmV2bXlzZ0xJekFya2xueXJ5S0JEN0c2UzJMKzR2ektBN3dIMEljRTloODZ3N2p0c3FlUldDSW13c0RDS0VTdUVhTEdPcjVidTM3OC9WNytjeXBNMCtnMjR2am8va3BBblVNWlg0QVRCTmF2NWpMNEVPVTRVYlBKOTBVVVhZZHUyYlk1TitwMTMzdW5ZcWJ2NDdiZmZjTWNkZCtDYWE2NXhZb0ZQbno0ZFFzQUZBa0ZaaHl0UXYrYm1JbGhDL3ArcUNGVCsvaFhBZy96N09tcmprdktwYk5rWkxuMitQdnYySlM1czFiU3V0dVNESDdNeVUwdUcyY254dHh0bVdDdFcvTStzRk8vempScmFBeW1wR1NVaklVbnhJdDk0K3VuRkVmYy9lTm5NQ3k2NWJOQWpUejduOEkrc3pNekNJOTlSVWRpOUk5dnNwRzJYYmtiUHkvdHJqczEzd2JWRnQyOGVZUmhCRjhGUmh0Sm9Gb1lnKzkwTXJtcTVtRVlOTEJSNzhsT2FDQUc0Y2RlK2hCZHZhZGNVSzc3ZTZFLzdhTFZtR0hxZ0pIUkgrNGRiWGdQdkxQc0tWU3RGbUxmZmVMNHZOUzBqT3pSbzNnTUF1Sk9rZHF5SHY1UmpMOUFrWlFHSjdRK0tZK01QdE5jL0lYYnQydVgvNFljZjBMbHpaNmloL2R6WTMxNnZGNXMyYmRJKysrd3orNWpmUGljWHNDZHZYeXJmN1FuYzNUUXh2QUpBZTVKdmR5TDNxQ0xUYzF4dXJGMjd0cE94MHliWnUzZnZkcUtpVktoUXdVa2c5TWtubnpneHpJY01HWUtiYnJxcDFBdXNNa0hBUTgwS0N3T2FqSnlDMGdmdEJBUUFRUWw3M0VHNExvQ1IxTHBWQVZDSDBWR3NmSXFBNGhCdzB6SnZ1blA0K1JFQkxTWHQ5dzBidlpvT3MyUzQ4RmpRZkY3czNIWVFtemJ2OGJ6eDRuQWNQSnlVN2VzZ01pUlA1SHZBZ0FGaEV5WU1tOStyNzVWWFB2clVjMmJBTkxXQVAxQW9vYVZOMDJTMGsrMFlNM0pRZHJTVEsvcHJ5WW1KaFZtUGVvaitaSVU0cnZiUE14bXBhQjJKMVdxYWl1bW40bVNuRW5ERDBHKysvL2FMdllGQVVzWnY2dy9wMERXckpQUkp4NVk2S2h6cjFteEZTbG9HN3BuUTE3dnZZRUorOU1rYXpEYmFoNlE3RWNBSEpPWXR1SUtoS2VaMHg1UVZqQnlMZStUSWtZenAwNmRIejU4L0grSGg0Zi9nSURiNTNyZHZIKzYvLzM2dGZQbnlTRXBLT2hFQmQrVnhGTFhkdGFubERxTnAwMGF1Z05xVHZkL2NlU2V2MlpKRG0vc0hrcEtTSE1LOVlzVUtSOXM5ZE9oUVozL2J0bTJkSkR3dFdyUTQ3cWdwQkx3ME1BWVp4QVNDL05hMjVlYTQrM2NTdDVxTWZESlQwUURsMjNCc2VQU0V1MFplYUZWcjI5Z0hmN3BSWWxUSGxnVjR3bkQwdDIyNFp1U2NnRjNzN0dWalhWcGI3aWVGNWpubm5PUDU3TE9Wci9TKzZycCtFeCtmSGdnRUFvYmZIMENoT1Z4R1JEcG1KMk5HRFBLMzY5cGQ3OW1ybjU2WWtGRFl5VS9NUEJ4M08wZzUrbk5VSU1HYXdNaEdwOTJCd3NLOCt5ZmRkYm1GNmhWOE1BTmFpWWxwWVZxQU54cS9yUHpCZW1UR1IzYWYxRTZ6VDdydnNoYnI0Q3lHYkxYSjlYSXFKaXlhZnJpVEl5aWZKNnpYTTg4ODArcmN1VE11dU9BQzNIdnZ2WTRtUERZMjFqRTVXYlpzR1JZdVhJaHg0OFk1cGg5MzNYVlhic3BibjVPdkdKckVWS0FEL1VaRzEva2poSTIzdTFweXdscDJKd2dEQnc1RXJWcTFzSExsU2h3NmRNaUpWejVtekJpbjdBOC8vREQwTWhCa29kUVNjTmZ1eWE3WUdUTm1ZTmV1WGYrSWoxbGc2Z2RkZDVhQTZ0YXRpOXR1dXczMmpGTzF3UklJeWlCWlA4emx5WDlweUJRNVpKNTJLa0lUeHQ0RENWcWx3MGNzTXltdHhQUTVSejVFaG1IWG5zTldJR0RDa2dUemVSSzVkczAzYk5nd2JQMkdqYTllZGNQUWZ2Yy84bmdnTFRYZDhBY0toM3k3WmllN2RtN0QyQkdEL1dkME9kdTRxRmMvTFNrcEVjVTg0Wk5Mb0Q2aDdiZVg1aWpJcjlqOGxnblA3cjNIdENxYVpscVovaEl6Q0RwbUpuSHAyTHN2MFRJZEo4Rjh1M1Z0QUY4QUdNLzNIVXkwZFlXc2E3bVZpYmFzR3oxNnRHTTN2WFRwVWp6MTFGTk8yNHVLaWtLclZxMGNEdFNwVXljOC92amp1WmtvV0Z5MXpLSTUwdGNzYTdxeWdoS21sRG00UFowUU5pZXp1Vkc5ZXZVY3doMFhseDBMMytaTlYxNTVwVE5SbURKbENrcENzalFoNENjaDRBa0pDVTRRK2ovLy9MTlFuOSswYVZNbjdxWVFjSUhnWHdMZUhWanN6OHNBWEUxUC94K1VpQ3VuQksvSGdNZHJPTGFiSllxQWV3MTRzbk1CaXMxM0hzazNFQnUzYjkvQmhUY01HM25aK0VtUG1hbXA2WVpwbW9WSHZpT2pzR3ZITmlmYVNic3VaeHM5TDh1MitTNWhHanlUNUZ2dG43R01xbUwva0ZlVWNLSjVvcU5lYjNhZkxFa3pTNGVBTzMxU3o0OCs2YjdQQ2d3OTZNWmM5eXRrMjAxNlZJZW1IajdXUjBkcXlUZWQ2QUUyZWJYbG5VMWdPM2Z1akQvKytBTVpHUm1vVktrU3VuVHA0cHpqOS90ems0QUhTa3o1TEpZMWs1dXJOTm5KS0ZjZ01YZC93L21jeU9Wb3R0U2hRd2Q4K09HSGp1bkp3dzgvekhlZGJXN2k4L25Rc0dGRHZQSEdHN2p2dnZzY2N4UjdYeTd0MVlXQUY4dlJYdE1jRDJFM0htWXVHK0FwdzMyRysweUJvQlFSNTM5eHh4TWN0MDV3dlJWa2EzZ05nUGtuZUk1QUVJb2syTzBucmx3c2x0d3c5SlllOTB5WUVraExUZE1MeTM3VXRmbmV0WE5iZHB4dm0zeGYzdDlKTDEvSXNqK25oK1cyZitaMHpPWUgxek5ycmRvL1pZM20xQWg0RE52dDl5NWQ0SDZkcGgwL0FMaWZJUWZkRUpEekdSbGwwNG5lZldSa3BKT1liZno0OFVoTlRVVjhmRHdPSGp3SU4rSE94UmRmak1HREIrZW1YYnBoSTZzd1N0VU9aYjlMd0pjQ0dNNElXSy95K05rQW5tZDBxeHl4ZXZWcXZVMmJObzdkdDVza1NJMWJiazhTd3NQRHRRRURCZ1JlZnZsbHcrZnpHVUxBU3dFSlY3Zjh1cWN0Z0lNZFBOM3ZUdVlzV1VzV2xCNVlKeEhhMWttT1dTRmtqNS94aVZWQkw1MUdrQnZ5YlJPQnFQajRDa3VHM1Q2Mng2aTc3L1VuSjZWNkNtdTEwWmI5RVJHUjJMVnJPOGFPSE94djMrVnM0NkxMQjJoSmlRbEZzWFJ1bmNZNUorcTdoeGxXTHAyYk54ZVpIQVdoMzI4TkFCTTVtYm1WWkh5eGNrNEM0N0MveHNnamE1a1E2UkNBejAvMmtOMjdkMlBVcUZGT25PODc3cmdEOWV2WGQvWWZPM1lNMzMzM0hhWk5tK2I4SFJFUmNhTGJ1Qk9DbmdCdXBITGtDWlpwbmJKcStUbWQ2TzFqRjFLT3R3VXdOemZ0bzNMbHltaldySmxsV2RhL0loTzVTWU02ZHV6b21NeXNXTEdpVk51aGxIb0NiZ3ZLNU9SazU3T2c3YitEU2JpYkRsWWdLT0ZFNXd3dVJlL2dVdVRsSER3V0tRTk1NMnJMNmdINERzQnNMcUc2R2ZxR2N0a3luV0czTnZBWnJaaHg3NmdRY0VFdTRKb294Y2ZGVjFneTRzNjd6Nzl0N04zK3hJUVVqNXZNbzZCeDNPeGs1N1pzOHQyMXUzNVJyNzVGWmZPdE1VRktSNFlBUFpQazdoV2FOYmg5dUNPZDZUVEdBZjlkZVpjVkdhZS9LdmUvcDVDdDF0VE9DazV2Y25TSUJId0M1V0dpY3N6TnM3Q0J6cG50K0QyUmNiZ1RUaVFiMjdkdmo1OSsrc25UbzBjUEo3eWYyMGJ0aVdoY1hKeWovZTdTcFFzbVRwem9tSDhZaHFIbFlBbmdPbEQreUhKa3NheDdsZWU3MnpNQTN1VWtJWVhuN01qTkMvSDVmRTdac3JLeWpvZExET1pzSG84SDVjcVZLL1dObzlRVGNIdkcxNkZEQjhjVzJ4YU8rVUhDczdVZkVVN2N5ajE3OXZ3dENhbDVzWW4zblhmZWllclZxNGZNVENVUWxEQWtNNFh5Ym1adFc4dUVPMGxjTHIyUXlUenU1dUJ0NzJzRVlCUzFLSXNadG1vQ004QXRCOUNOU1NtYTBxWlFDTGdndCtTN1luUjB6SHUzM0RtKzY2MWp4d1dTRWxPZGNheVF5YmMxWnNUZ1FJY3p1K3NYOXVxbkp4ZSt6YmRxcTkySEdXcmZwbm5EUUpvSGRPZUU5MDdHM24rUy9lNGJocEw3aGYzUEp1c2ZVc3M1aTlyTWlYeE9kUjZUdm5sNnlHQjJ5Uk1SZFoweWRWVmVicnhtelJxdGZ2MzZ2bkhqeGpuZi9YNi9RMkRkVlhqN2UzeDhQQjU0NEFIcjg4OC90OXV3Y1pMSndtRnVPUjEzc1kxYm5oQWVIcDZqTllLcnZFeE5UWFZDSnhiTEdaV1ZzNW1rbHNjNFA2V1dnTHZDMFBVS3ppKzR6ajFIamh6QlpaZGQ1aEJ3dXlHNVM1KzJnSjR5WllwamIyWHZFL0l0S01Gd1o2dTJKRXlsUi94TDNIY3pVeFYvQW1BR0IvOGxQUFk2bDFudllGcnJkZ0NhazJSUHB6YThDMjBKbTVIWVo1NUcwZzlCNlllYjJycEtoWXFWM2hsei84TmRod3dmRVVoTVREVlFTS0ZtSFp2dnFDanMycjROWTBZT0NyVHZlbzVEdmxPU0U0c2laS1NsUkEvYVJDM3BHSWF4MjAzYjNEaHF0WjhBY0JIVHkzK21FUFQxekdiN0p5ZkhOczRGY0FPZG90MHdkSDlKODh1M1NkT0pDSzJaQzErYm5FaXRibk1kVjN1TUlJV2d2YjlTcFVwT0ZzcU5HemNhZVN5cmRZcS9KeVQ1WHI5K3ZlTWsycVJKaytPVEJaZDh1K1Zmc1dLRnRucjFha1JIUndlU2s1T0xWeVhtWXpETk1oRm8xcDBKbnU0V2NNSVJXWTZ6dzhpUkkvSHR0OTg2Wk54ZCtyUWJ6NUFoUTNEMzNYY2ZYd0lTQ0VvNDZRRkpjb0RaTEZXWmtVd1Rrc1kwUjlHNUpmTXpscHEzNWZUa1Z4MTU0bm1QMmtvRUFFTzBiSUljMnFIZFptcFVyRkoxMlQwVEgrczY1T1lSZ1dQSGtvM0M4ck54VnoyZGFDZTNEUGEzNjlyZDZIbDVQejA1S2FFbzQ3VzdBMHh6bWdEc1loOUtwc2ExSXMzQ2JJSytSZ2x4dDQyMnlNMW9tdklXcjlNWi96dWFNYXJyMHd4aFc5Q0VYSERxa3lZckI1K1luTTdKVlFNM0RPTzQvZlNKbms4eXErV3hyS2Z6ZS83VmxmYnYzNC9wMDZkck5vOVNIVEJ0dm1SLy8vTExMNjNaczJkclRaczJ0ZmNGaWhlWFhHeFkxcDVJeTlvY1psbGJ3Lys1MmZ2eUZrUkFNajNra2NqYmpYekdqQmxZdkhqeDhabWxTNzQ3ZCs2TXA1OStHb1ZsaXlnUUZOSUFYNWQvNzZMTXFNd3dXZjhqK2Jab1l1SU8wcFZKQ0R3MFJkbXFrSE1QUDEydFdtWGFEa3AwQlVGSWJzRTJWVHNtTnY2amV4NmMzUG02SVVNRHg0NG1HZm5wVkg4aUJBSUJSRVJHWXRmT2JJZkxEbDI2TzZFR2t4SVRvT3RGdXNMcEV1S2E3SnZ1dnFyc1owZG9UdklIVFJ0Y000ZUsxSlMzNE1SNG0yTC9XNDduSG1EZk5ua3VwSDhXWC9qOWZ1dmd3WVBIZVVydzVCSFpHU2kxWDMvOXRVZ25VdW5wNlU2cStTWk5tamhKZzVZdFcrYUVpTFpKK2VyVnE1MG9MdVBHalhQaW1IZnYzdDNKbWxrOHVOOFhuQ2xjY2lVUXV4R292aDZvL0N1M2pkbWYxVmNEeDlwbG56OGhWd1JRTW1IbWdYemJzN1BQUHZzTTk5OS92OXZvajJ2QXk1VXJoK2VlZTg1eGVoQzdiMEVwUThNZ0c4YStYSjUrVzRrVG5LV0UxT29PWUNHZGN5eVNkVmVUY1E0ZGt0WnhpVHlDUytHV0RQQ0NFT09UM2M1cVZhaFErYjJIcGs1djFmL3FheDJIUzAzVEM0MTgvMjEyTXRqZjRjeHo5QXQ3OVdXY2I2T29KOGNCOXJjcUFINVMrdGpGTkEzYng3NW5LYVNyQnJkUFNOUjlTdHhtaTdiaFA1R0V0NkJweTA2WklCZGZORy9lSEZ1M2JzMTY3NzMzSW9ZT0hlckUvM1lkSFcxdWtwV1Y1WVJGZnYvOTk3WHZ2LzhlTVRFeC9zVEV4Q0l0ODUxMzNva0dEUm80aXN6Smt5YzdaYTFhdFNwNjl1enBPSXBXckZqUnNUUW9nRDVqS0lwbmkyMC9GKzI2SElXTkZVZUZWS2piWndGR1pGNEZuQ0FYNU52ZWpodzVnbHR1dWVVZjVpVTJBYmYvbmpKbGloTTZSOGkzb0RUTlhmbFpqNE43YlVaRUdVRjcwMHpHcmsyaW85Y0xBRWFTckQvRFdMWkxhWE82QkVBbDJvYmZTU2VmQyttazJaVGE5R1FaNkFXRXpzR3hRWlZxTlpaT252WkNtNHV2dUNLUW1KRHNLU3lURC9NNCtkNktPMGNNOW5mTUp0KzZUYjZMZ1htaDY0QlprUVQ4TUNlek41STQ5K2J4eitrYzNSakFmZ0NQME9seU5VMU15dkhjdFFBR2s1eVA1RE9ha2FBM1lrSVc2WnZGRU4yNmRiUDI3dDJidVhUcFVrZHIzS2hSSTBmcjdjYll0c24zeHg5L2pDVkxsdURhYTYvRndvVUx6YUxtVXpZdXYveHlad3MxNlMwQTB6TFhqTTJmUTEvSzVRTjFmM1pHS1MzVHNpeXZhVHJaZGkxTjA3WHM4YzR5aFlBWFFJT3hpZmI0OGVPeGVmUG00ek5MZTUvZjcwZXZYcjJjd1BMMjMwSytUNHZvaVhBdm52VlNtMzhQb3RaNlBJQ1B1VzhUSGJvRzB6RXpnMUVaRHZMNGVHN0RTYkRITVVvS3FGRmZIcVNSa0RaUk90dFFYdXJTSlpjdHE5ZW91ZVRScDJjMnZmanlYb0dFWTZtR1lYZ0xKVk9vTGQvRHdpT3djL3RmR0R0eWlML2pXZWZvRi9YcXB5Y2xKa0kzOU9MMFhpdlRuNklUSXd6Rk03SFZyenhuQmtuMUpKcVMyTVQ3YVI3N0M4Qk5BSzVrZEtONFpxWDlpZmZlU0cxZkhRQ2J5UmNDMGllTFYvK1pQWHMyTHJ6d1Fvd1lNUUw5K3ZWelZ1ajc5dTNybU1nZVBYclVXWm4vOU5OUDhjSUxMMkRWcWxVMkFTOFcvVHd6TS9OZmR1czJwOHFqRWxQUHhlcXBLMDhpWTJOanIwMUlTR2p1SkUzMmVQYjUvZjdaSEt2MDNKbm1tRnAyWGxSTDB6UkRONHlvN0xnb1NOVk9KVitxRVBDVElDc3J5Mm5JNzd6ekRsNSsrZVhqSmljdUNZK1BqOGZVcVZNZEI1M0N5c0JXR3VjNFNrZHhiVDdGNGFmb0JiKzdwRjJlTVYvblVGZ0ZsSkJ3R3RNUHI2STJiaytReHVFQXRlVlZHTmMyVFRtMm1XUWhPWVFtd3YxMEpiRXBBMytKN3R1NXJVdTNEYlNPalkxZmV1L0RUelRxZG00UC82N3RlenlHNFNtVVBLbjJjR29UZ0tNN3QyUDg2SnY5N2J0Mk55N3MxVTlMTEpva095Y2pQRldvK1g2ZWhIcTdramJjWXVRaGUvTGJoTnEvUDVYcjdlMWxoaG1zekdPcFN0OStrbUVKRC9BYXYvVEo0dGwvWE52cXNMQXd2UExLSzA3aUhidXRsaTlmM2duRFBHL2VQRFJ1M05peHVTNG0vZng0ZHZKVGhCN0VFM0o2cGl0UEJ0YXBVK2VCcTY2NnFrRzdkdTBNbjgvbjJKd3ZYNzc4eG9NSEQ5NnlkKy9lVDNKTHdyUDVYeVIyNy80VC9mdGZqMEdEcnNlSUViZkFzdEtSMTBUclFzQlBOTmRoU0p6OSsvZmo0WWNmZG1abXdRVDh2dnZ1YzJ5d1hHZk1FZ0o5MjdadGVoRTY0Ym9OdlR2dEZaZlRVZWlBSXVUZHRobVFsbGdvZzNsd1czQUg0VnJVZ00yaVRhbXUySFRyU2wxbGtud2JTc2c0WFNFQyszbXVlcTJtUkV4eENjVUlBSkdNSjc1YkllZGdVZ2hUMnNSSjYxSXI0dWRick1OUmRBVDhtRzBuWFRuSHkzbzBRN1E3ditIenphNWV1MjZqWlV0ZVQzOWowY3RlRFZvQWhhVGNzT1Y2ZUpnWEc5YXRSWjlyaHhnWFhkWlhTeW1hSkRzbmtzL0huVlA1UHRkU2Z1ckt1MVVWR244bzEybEt5RHVkZlhPLzBzZmNDWFlhKy9WZDlPZjRpTTdWYVVIMUtIM3kzL1YycXVZNjduWDJoT2cyQUw4eE0rWmVaV3pVbGRVSUU0cVpiTStlUGRHalJ3OG42NlhOVjJ4Q0hoY1hkNXpQS0cxWVUrVHo2ZlR6ZU9hSTJBYmdDNVl6TTBRNXJYd2FuMXdoVUovcDc3L2xzOU5EdEVuWDkrSDI4ODgvZi9yczJiT05ldlhxMmR6TmVZOTkrdlRSTDd2c3N2cWpSbzM2WU8vZXZSZXcvQ0hyYmMwYWx4TUdZSm82c3JLT1l2YnNsOUM2ZFJ1ODlkWTdhTk9tQlRwMU9odCtmL1p3TlhHaUVQQjhFOFl2dlBBQzFxMWI1NUJ4MTh6RWJ0d2RPM1owMHIraWtPTFE1c3ZvcUdsT28xeXdZRUY2VWM1dCtCbEQrOFM3dVdUNkxvQ3Y2S0MzTDhTTVdsQXc4SWNnUXFZeUlQOU1HMjEzZjJZTzU3b1Rwa0FPeHhEaTJ1QnpXdEdVWlFyakZpL25zdm1hSU1FdVRwczVhNktLdzN2SjRBRFprejRDSzBqZzF0TEVJU3VJU1A1ajVhTlN4U3I2cTh0WFdkRXg1WHdCZjBBdnpEbEZWbFltcWxjTHg1QUIxNkZXM1hyWlMrUkZJOS9Oazd4ZkZ4c1p6UVFoVmcrRDd4RTR5ZmVzRU8zcFRBQlhrSVIvUm8zNW1wUFVZMW1kL2xyNXRIcHIxOHRsQU83bnF1Tkg3RU5yT1ZiK1EvUHJSZ1J5NDJwWHJGanhuMEkzTXpNNDY2U1ZneXpPS3pJWlk3NkxNdG4raE9YOFJTbW5Kd2Y3Njl6S3RPQnJOek9wMVBmTUFQc0IyMk53bTJ6ZHVuWHJTWXNXTFRLcVZxM3FLSDRzeXpyT2U3dDA2UktZT1hPbU1XalFvSVViTjI1c3h3QUIveUxoN2R1M3p4NTQ5RmpvT3VEM0g4RkZGL1hBbVdlZWo5OS9YNHVrcEdRWWhoZUdVYzV5Q2Zpa1NVTEFUNHQ0NjdxT2pSczNPZ1RjSmQydTV0dnI5VHFPbDNhamRqWGlKWUI4SXkwdExkeWVYY2ZGeFZVN2R1eFllaEZweTNRT0lMV3BUZkV4bG0xekh2K1JNOXRWN015cDBpSUxGQldWdU56QnNPdG1NZ1ZwVXdvbXJRREpZNnlpbmJ1UVd5SW5adC9SM09WL1FWb1l3ZCtvREtEQ0NaSjZGRHdGeVNZUFVRRENXWTRvK2duMG81YjJLMlpqWEtHa09mOUhYWnFXWlNVbEh0TU1qOGZ5WjJVVjZnL0l5c3BDU3ByUGtmY0J2NzhvM3AvYng2clI1eUlRb2k3ZDgzWXd1VldEQXVnTEp1c3dRdm43Q200MktmeWE5ZmdwSXhtVjJUNXBnWmJCbGhYT3FGSGUwOUNBK3htaFJsY2NiVy9ndHAzdi9DdU9qVnVEeC9pY3huNjF1TzNidDQ5Y3MyWk5neEFUcnJ6MjgvS0t4dGx1cTlkeTI2MzA4NC9weEl0VGtVbTFhOWVPMzdGalJ3MmxyTzRxMzhmc0k0OG9iZklyY29mLzR5VHgrdUhEaDhmYjVOdXlySCtGTHJYM3RXL2YzaG94WWtUMXNXUEhEc3pNekh3NjFHUmg5dXpaenVlS0ZlOGlPVG5OaVRSVHYzNDltR1k2NnRXcmcxV3J2c0ViYnl6UXp6NjdxMTMvV0xLa1JhNStweER3azJEeTVNbE85QlBYOU1RbTNyYUF2dmJhYTNIdXVlZVdKTHR2d3k3NzNyMTc2d0dZbTVpWTJKbU5UQy9DUVRxU1FsMVRsakUxSm9mb3lDWHMzNW1WYlpiRXJTK1FpUkFZQldGU0RnT0d4WG9wTEZrUm8yaTRBMnlqNVpoMTgxSTZjYTRHTUphRHZyU0pmK0ptUnBvcFNnTHVFc2k0b0xvTWNJS2drdkZWOUJIWUZWeVh1bTQ0Y3Jld1RmdmNaeGF4WExmNzIwTjBhRDZSbk03aThZZ0NyTTlROVZpSlpldERyZUZYck1kdFpiTlBhcHJIb3lQTGI5YW15WWgrR2hNUk44dXArdDdkVmNvNjNHeVN1MHZUdEdXV1pVM0lyUWtRSFI0ei8vcnJyOTZjdUptbjBTNU1hcG5qUTVTekJoMTZyNlpaeWlkTm1qUVo5Y2NmZjJUbE5zSUorNTk1NE1DQkVRQkdCL1VEVFVuNjVpcnhLakZFcnIwZE5neGpiaUFRYU5XMmJWdkxOZEhKSWYyOTJhRkRCOE0wemJZNVRSSmNEWGlEQmkzdzhzdHpNSFhxZEt4Wjh6VjBKL2hKQkpZdi94Qk5talMyb3FJcU8vV3djZU5HU3dqNHFiWitWdFRLbFN2eCt1dXZPMys3TnQ1K3Z4K1ZLMWZHNk5Ham5hVWUxeTY4SlB5c1FDQ2dSVWRISHdId2dXRVlHMDNUVEN0Q0RYZ216UTM2c1IyNmc3YmJKZytUYUwzSVdUVEVNYk5BRkRlZ0Z2TEZIQVlNVFNGVmhhSFo2Z1dnZzJLLzUxWGE2QzZhS2IxTW0xWk4yc1MvOEQzZm1iOEliY0h0dWdzRE1JQWg3Rnl6Q0hjTjNFOU4zdXZNb0xvL2FFQXZVMk5ORGpCcDduR1FKRnM3Z1N6VkN0QUcyME1aM1V3eE1mSHlXSUF4d3Q4RXNJQmFUMDNKQjFDbVlKb1dERU03Qm1DMk1xYWRxbklxbGlTN212TGUzZjZUUnMzMy9QRHc4TmZUMHRLU0xjc3k4a0JxRGEvWHU0Rk85Vm1uU2NDalNMSnJoeWlubXp0aUlZREZmL3p4UjRvOXFjamp4Rll6RE1PV2FYTjVQeTJvREg3bWxqaFgyVytQRTY4R0FvR25BVHhoODU2VFBZUkpqTHc1SFNmL1JvTUdqVEJ1M0oyWU4yOGgxcS9mZ0pZdDI4SHJ6U2IzVjEvZDM0cUxpM1BlcDVpZ25GWkhNcDN0MFVjZkRYbDh3SUFCem95b2hJVWROQU9CZ0Y2bFNwVjk5cUNYVmNqTHVqbmdFaEl1dFMxdTU4RHpJZ2s0eEFhOHdBbjR0MXhPTGc2b3lGamo2a0QvSTUweVg2UzJUWkF6UHVWVzFMQUpXRXM2UzBGWnByWW4wNHNCekZPYytjcTBva2ZYLzVGdTIxTEk3Vkp1UlkzRzNLQVF5MjladGpsQmp0SmxFaG9zS3hDd05FUFg3Y25rby9sd3kzajZVRlRpK0dmUUZQTnJ4bkZmNUREeDdHUTFuanlTV3MrQkF3ZldLMlpEcDROSUFKMEJWRmNjZ0RQWXoxK3pKd21uT2puazVGUkxTVW41Z2c2U29WQ1RxNkVlcnBhL3hSd1U3amp4elNlZmZISjE5KzdkZmFFbXUzeHYrczgvLzV6bDgvblcrN05Oem5KMHdzeklPSVM0dUdvWU9QQWFQUGJZVTdqKytxRll2UGdOdEc3ZEV1WExWNFRmbjY0aEQwNllzbndiQkpkVXYvdnV1L2o2NjYrUDIzeTdXdkJLbFNvNThjRGR0UFFsTGV5Z2FacU94dVQyMjI4UFU3U2JoYjE1K0JuR0diU0h3dUJCbWhuY1JQS3RLNTc4Z29LRHR3amJRdkRtWlgzYmJlSjl4aGMvajRQYW9XSVE1YVA0YzRHaTNkdytHNm5VWlFhMTNWZFRVL1U4eVhlWnJjdnM4Y01EdnovTHlzaklqTXpoUFJTSGVneW5SdE9ndHZSTmFtYlBwUWxEc3ZUSmYweWY5S0QzbDlmTlVQcVBqM0x3TUxYcUErand1Q2pvbld0RklQZUQrN21Idmpvdk02NzgrWnhrbS9uUVB0VDNvaW5SVldJQXZFTW43d2ZvOFAwQXh3azNHdGZpZWZQbWJWNjNicDJtNjdwcGN6alhISVdFM0R4MjdKaTJhTkdpNU5UVTFJVTVyU2E1R25Ddk45d0p1SExYWGFOeDZOQmhMRisrQk51MzcwVHo1azJoYVJIdys3TlQ1MHNVbEZNVWlycXVPekUxNTh5WjQ5aDZ1ODZYN3V6cGhodHVRTTJhTlV0YTJNRi8vZFR5NWNzWFpiUUU5OWs2TTdVdG90WjdseUlZQW1KZVVPajFVUnpJWXlyYncxdzZXNllwc2txU2dPU3VMb3RER1hRU2grZHBuckFteU16TVgxYnIwbFhvZUgxaGdZV3paeGlIRHgxNEpRZEhjNnNZMUtQR1dPS3pTSzVXSzc0Nlpib2VjOUVIcmRPUXhRYk5lejdncE9jWEhuZVZVWUZpSVBmZGN1NWx6UGpYR01FTVNvaEQvMmxPRXRSeXFtWDFjd1g5ZlQ1M2k4SWQvRXFvMjRSRGh3N2RmdU9OTjY1NDVwbG52TjI3ZDFmZm5aNlptYW5mZHR0dDJMeDU4eE9LQ1ZXTzc4U21mSmJsUjZWS3RUQnMyR0JjZi8wd1BQREEzV2pidHAwVEI5emp5UnVsRmdLdXdFM2R1bkxsU2lkamxLdjFCcGNxWW1KaU1HYk1HRW00a3crdm1wOGZNTHhTcXRJZXJkT3dTeE9VL0lIckljWjA5UWNKVkwrOG5oSkZQcElCM0VMdEZLUXVGZklOelFxUGlQRFBuL21NOTVQM2x5NGU5ZWp0STUrNjZ5bC9NWXNnNHBiRDdvdDNzRDR0cWNjQ2g2dDBzc25nZFVyL2NiWEEvbUxXUGc0QkdCS2luSUdUbGRYdUN6Ym5jclhTTHFkeU9WY3VubTN6aHpjVTdtQUdjUWZIRnlFUUNQemYyclZyTDczbW1tdGV2T2FhYStyMjdOblRxRjI3TnZidDI1ZjF3QU1QSkh6MTFWZjI1T0dKM0dmRHpDNzd6VGNQeGR5NUMxR25UazFFUlpXSDM1OG9CUHgwQktOaEdFNjh6TmRlZTgzNWRDT2V1RnJ3bTIrK0dkV3FWU3N4WVFkTEFOS1YyVEpFb0FzVWUxSWpoRUFWbEN3aWtTUjErVzlFUkVYNjM1Zy8yL3ZwaCsrOE8vVEdHMGM4ZGRkVEtYa1ovSXVBYUVrOUZqNENJZDY3djdTVTArVlFOcmNLOXFPemVWY2dkeWtsa3hUKzREK0JITElmOE9tZVBYdGFUNXMyYmZpMGFkUE9ZN24vcEQvS0QwR1RuMy9oNzBRODJjbDRMQ3ZiVkhuWXNNRTQ5OXp6bkhDRTJiL0RGQUorcWdUY2pmdjkzbnZ2SFk5NDR0cUF4OFRFWU5DZ1FmOW9QSUo4Z1VTeUVBUzNCMHN5NjBsZGxzWXhKaklxMm54andTenY4cVd2dm52WnBaY09uVGx6NXRGaVRMNmxIdVc5NTNzNVhRc0NtMTk5L3ZubjJMQmhBM2J2M28zdzhIQW5nZENsbDE2S3BrMmI1a1lUanBNUloyV1NvREdSMUhSdVVmeU8zS3c4dVRiZ3VoNEdYYytPRGJCdDJ3NkhKMWFxVkJOKy96RjRQTDQ4dnpnaDRHNE5rRkMvODg0N1NFcEtPcDcxMHYzczA2Y1BHalpzZUp5b0MvSlZ3eUlvT1FPQ3B0U2JKZTFCSUhWNWN1SnR2d3FTYi8yOXhhOTgyTGxUcHlGTGxpdzVsazhLQ0QwUFpFVHFVZnBQa1pZek1qSVNtemR2eG0yMzNZYTJiZHVpVHAwNkRyZkt5TWhBU2txS0UrSjU2TkNoanRLekFNcG9BSWltYjhvUTdqdXB4bjcyN0d3VitGOS8vYUhObTdjUW16YjlZVVJGbGNPVUtRL0RzdEkwdy9EdzNua01SeU50L0crTnRrMjhYM3JwSmVkdk4rdWwvV2tZQnZyMzcrOWt2WFJKdVVCUXhxQkxxbW1CSU85amk3MUZ4OFQ1bDcyNXdQUGVtd3MvNzlDaHcrQlZxMVlkeXlmTnR5R2FhVUZKd2xkZmZZV0VoQVNNSERrU1BYdjJkRFRmS243KytXY24rL2pLbFNzTDR2RnVJcWtxZVVsRTZHckFxMWF0NnMvS3lzcll1WE5QeHN5WnovaXFWNjhIeTBxMU5FMm5odDBLQ0FFL1JVSDU4Y2NmTzBzaHgxOE90ZDlkdTNaRnQyN2RTbnJrRTRIZ1ZLRW0xMmpGNzFzQkpNaXJFUWhPT0xJZ3VseXNmOW1iQ3oyTEY4ejZ2RVdMRmdPLy92cnJnL2xBbkRXRlVOUmozT2dFMnJVS0JNVVM5ZXZYMS9idjM0L2V2WHM3bTgyNzNMd3Jycmx2bXpadHRNc3V1OHg4K2VXWHRmTGx5K3RIamh6SjcyS1lUSENWYTdSdlA5d1AzSXpJeUlyTG5uaGkraTlNSktpbHBoNXlOUHBBbHBaTnZyUFkveVpKSnN3OFNUTk53L3o1ODQvLzdUWU1HejE2OUVCY1hKemprT24xZXNzSzRRbzltdVQvZlVXald2emJncVVrUE9nRTRFd21XdWlXRC9jdWFKTVdRZEgxN1RMZHZ5M1RSRlM1Y3VaN1MxN3h2TG5neGE5cTFxZ3hhTTJhTlh2emlYeTdrK0xSQU5vd0pieU5nUXpOZHFyUGtENHBLREQ4OWRkZjJubm5uWWNCQXdaWWxtVnBya212cTloMEk2S2NkOTU1VnFkT25mRHR0OThXUkE2UWRBQ1A1MFUrYVpwbThmTlFicExCMlJReU4vY3Q4K3BjMS94a3o1NDkrUEhISC85K01icCtQUEZPLy83OWorOHJNMnFiMEZ0QjNGZFEvTnRDR0lDM21XQmhFSk1mWklZWXRFTnRKN3UzS2FZdEphSnZhMFVrTTBva1RET0FjbkZ4MW9ybDcraHZ2RHp6cDRqdzhHczNiOTY4bTJOdUlCL3EwTzR6VjlHaDdGTW1MOXV0bUxUa3RVOXEwaWNGaFFHZnorY29NdjErLzc4NGxSdjZPU29xQ2xXclZrVUJKWGd5bGJqcTFtbE1ValdiUHFwYlhtOVU1alhnYnV6djk5OS9INGNQSC80SEtiZlJxbFVydEdqUjRyZ3RlQmxCSThWR0N0U203S0had2FuQ3ZrY0xBT1hVUVBnQXR2SGVndUlIVjR0MkxZQ09ETm0waFlOOWVoQWh5SXZ3c3MrdlFHMTZReWI2V01sMm9NbkFYMkN3MzYwOXF0VU5ja3BLQTdBMnhIdlhncEtLNUZRMzl2NDZBR29veVpJOHJOZGZ5MXFkWnBQdjhvRlBQM2pIZUczZTg2dGpZbUlHN04rL2YxYysyMnRIa0h3ZlpBcnVud0I4QldBL2ovdFBnZFRiT0FOQWU4YjYvb25Kc0tRL0N2SnZVQ0dQQ3BVYUhsUjBabVptT2o1NUJRUVBNMjR2TzBYWlpQMDlZVGk5Z29oQk0vSHh4eDg3TXkrM2Niam1KNzE3OXo0K015c0RaTXYra2ZVQnJLQXcvNDdiMTB6enFrN2F6cUFuOFZMN05YSGZkUUErQk5CWmFWOXUydmt1eXIzYyszNERvR21RQmtaUVBJZ2FtR2I0QWdDM1VXdGdEL3FYVS91ZHFpUmRLTWUwd09XVXYyTjRmbkFiczRWWGR4Sysxc3grT2huQUgyeGpsclNGQW9IT2QydjMyVytEK3ZaL0ZkSnNveUtBY1FEZUF6Q2UxelptMzc0cGhDYlZQdjZXMHJlLzU5L2plTnhicHNoM3VYai81eCs4WXl6NDcvVFZsbWxldlgvLy9tMUtKdGY4R0s5YkFiZ0hRRFdHVXJ1SUU5bjlRUVJkN1pOdXY0eFdzaW1xL2QwKy9qcXpsdHA5OHl5MmsvbE1pUzU5VXBBdlNFbEpjVGFiYXdXVGNOY1dmTXVXTGZqdHQ5L2c5WG9MSXFwUEdPVllrZk9PTXEwQnR5dmI0L0ZnNTg2ZCtQMzMzLzkxUENvcXlnay9XRVlJdUR1ejYwcFM5Q29Gcnl2TVB3bWEvZG5rN0M4QXR3Sm9RbzNtQzJ6Y0x6RzR2YVlzUlY5QUxlZlBpa0RYbWFKYVVEeEplQmFBUkFEbFdWZWZjUlVrb0VSd3NJblpCQUJ4MUxxNWRlN2orVThvNU05dE82TUExQUt3bmVZc2x3QVlDbUN3UFJjV2pWdUIxS1ZkVjVYcHJQYzBnQXpXa1VHeURNVjhJWTUyamcwQTlHSTkzVTdaOEpkaVJ1SFdkWFBlNzNFZWN5Zno3L0YrL3JKQ3ZtUGp5cHNyUDNuZk0rLzVhYi83c3pJR1ptWm0vcW1rYk04UCtXeS8xMk9VdC9iM1RWU1dKQVZsUzd3RFFBK3VWR25LQk9zSWdFY0EvQmFVTHZ4Y0FGY0RPRUNaL0NhQWE3aHZHb0QxSlNCZXVVQ3hvM1pYOG91VDZXeTFhdFdzSDMvOEVSOSsrS0UyWU1BQVI5UHQ4L21PbDl0VmdzNmRPMWM3ZVBBZ1ltSmlBcTVsUWo3THcvRGk4RDdLUEFHM0crZnExYXV4ZGV2VzQvWkhyaE5teDQ0ZFViTm16YkpBd0RVT3FGSFVnSThFc0NHSGM5MkI5eHR1dlFHMG96bkJkVnpPL2xRWk1FeWFzL2dZZC9QUUNRWVhRZkdaaUJrY3ZBOVRXS1ZSRzVZWXBEbllCMkFPSjE2bU10anJ0RW1GUXI1ZHplbUxiRjhmQW1nTG9CLzNyMVR1TGUwaC82QXJwa1RQS01UNFh5S1JuMXU0MllUOU1RQTM4N3JuQUt4U1pJQmJUMWR5VXJYNkpQY3QxZVM3WEV5YzljMnFUL1VGTHo2N09UVWxhUUJOUS9SOG5JQzQvWEtuTXNuNWhoTW9JeWdaeXNmc1kvNmdQbW4zNmIzSy9keTYvQUhBdzFTUWdNUmI1ejIyUzU4c0FVS2JEbzJodUlyTGFZcWNhR2lhVmFOR0Rienh4aHRvMEtBQjJyVnI5N2VRb2pQbStQSGpyY3pNVE8zS0s2L0VLNis4VWhDRjl0TzBxc2g1aDBSQmNkS01ybkdDd0x1cDUrMUdZRGZXUG4zNkhHKzBaVUFEcmxFcmVRV0FTalF4c1djZkh3RzRUd2s1Rit4YzlUYUFzNmtoZVN2RVBlMnRBNER6dWN6WmhWcTRoUUNtS3M1OEl0eUxIMmt6V1hkVnFERkxER0hIYWlueFZLMFExNGNpWXA5eGVmdG1hcjF0QWpHYnBFRUcrb0tCUVkxb0VpZktuZWwvY1JkTkRnSWgzdnYzN0o5VmFQOGZhc0xzNVFwR0JXcFdtL0YrWXdEc0tBdk9mR1lnZ0ppNGVQTzdWWi9yYzJZOHNlbm80WU45YVB0ZUVERzYzWW5zZi9qZGZVNndjMmVBSzFpQkVJcVdVUFY0Z0N0Wm5ia3FWUWZBdlRSSmtYQ2p1U0xBUmZkc04yOUpjbkl5UHZqZ0EzejU1WmZPeW43MTZ0VngrZVdYTzVIY1BCNVBYckpMRmdqMjdObUQ0Y09ITzRFdDdNL2JicnZOS1Z1RkNoWHd5eSsvWU9iTW1ZNXo1blBQUFljSEgzeXdvSXBoVDBJZkZRSmV4TE5GdTBHbXBhVTVnZC9WR2FMOXQ3MTE3OTc5SDFyeDB2NUt1TTBGOEFadEJiK2hObnczN1hTOUpGdGhBTTZoMEcvRFFmWThtcUNvNU1zZGZJOEJlSllhendhMEU1M0V3V09wSkpNb3RoTXlpK1pGR3NtWW1yWFBIZkRyQTNnS1FLd1NLOXpWdHIxUElxWkdXSWlodVVrRDNuTWd0ZXhwRWhrbjk3Skx5ejJ4ZGV1c0hDZkxYL0o5VHdFd2dwcnRic3E5TkRyY3h0SnBHclFKcnhPa0NYWHJ0RHh0eUplVDhDM21xbGdLZ090TGU5OE9aSlB2d1BkZnJUUm1QVHYxcjZPSEQxeEp1ZVlwQU5NYlY2N1dvVFB0WVdxczFjbVQyeTl2NHNSSU5SY3plTTB0ZExCVVRjTXVwSCtIUFNtYndicE9JZm1XU1hFdXVxVk5HM1M5YUZaN3dzUERjZlRvVVF3YU5BajE2dFhEc0dIREhQT09YMy85RmZQbXpjT01HVE93Y09GQ3g2eTJxR0ZQRWk2NDRBSnMzNzRkVHo3NUpKNTQ0Z2xudjgzRnVuYnRpdW5UcHp0aG53dlFDUk9VVlVXT01rM0FiVks5YTljdXJGKy8vbmpjYjEzWEhhSGF1SEZqWi9hSXNxSDlkb1ZyQXMwRFFOTDhJeU1iMUZXRXU4V0JkUTVua3RkVGVQZWxQZmovdUJTdDJoMXVJWm0zc1JIQU9nN3lkWXZETEZUd0w4TG1WUWJ1SnF5ZlZVSEV5eVZWUDdFdVQ2Z2s1R2NVMjBGTGZyOVZWWTR3K3NJK0dmQlAzRkU5aGhISXlQUjdjeW0vTFVYV3oxZnE0bXNBdzJnQ1pDaGtNWWJtQ0tEejdiczBSNWhNMzQ0ZnFVVlhvNlBNVStyc2U5b1RuMUhhNjhJZUo4ckZ4Rm8vci83ZW1Edmp5VDFIRHgrNGdZUzRJTWkzaC9XVXdUcUw0YXJVbHFEVko3ZGYzc0h0WkgwOXdJbll6QnpPdVlYSHBFL215Q1ZNeXpBTTNiTE01SXpNUUVSaFA3OTkrL2JZdTNjdlJvd1lnVXN2dlJRMzMzeno4V09kT25YQzRNR0Q4ZC8vL2hkanhveHhpRzFSSXlJaXdnbjUvT3FycjJMOCtQSG8yN2V2UThydHljS1NKVXR3NVpWWDRzVVhYMFI4Zkh4QkZTRU13TjFjc1N2U2RsMm1DYmlOM2J0M1k4ZU9IWTdodnh1UzBDYmlkc010WDc1OFdYZ1ZyblprRUFYMlBHcXlkVVlvTVVpYVZmek1wY24zcUZYemNKQnVRN3RIbGFpTm80M29SSjRmUiswbkZEdHo4YkF2WGh6UE5RdXFybWpBdno3QklLNmRJTW1TYWhkdXQ2VVBsRVFoVUxUbXY5TkJUQ1prT2MxaVRBdmxZNk95RnIzOWczZnR4dTFmY21YcVJBT0kyN2ZyMCtSckUwbDFLcDFuRFdyRVZRMTFCaWZoaDJrVzlBV1BSM0F5L3FPaTFlNUdCNzBWQU56MVl2ZStxMHAzWFRqa0c3K3MvVkdiT1gzeTdvTUg5dmFsOGtFdklLZFR2M0xmZG56T044cHFreG1pN25QcWsxYVF2ZmhlT3RDYW5IeXJrNnVQcEUrZW9CMVlwdVUxUEpvRksvSEJKNVpwUnhKVDN5bUtjdno2NjYvR2VlZWQ1NUJ2djkvL2o1REpOcSs1NVpaYkhFSTdjT0JBUkVaR2FxbXBxVVh5dnFwWHI0NVZxMWJod0lFRGVPYVpaOUNtVFp0c3pVeFVGS3BVcVlMLy9PYy9XTEJnZ2FNWjM3bHpaMEVWdzB1eldRZ0JMeXJXU2MvZ2pSczNIdjl1TjFSM2Y3dDI3WTZUOFRLU2dLY1d0Vlp0S2J6SGN3bDZCVFZudXJKc1l3L0NOeXJrNlUzRzFBd1ZHN29SNzF1SEEvUERYTFora1lPMGVOWVhyNGxZYTBZdWVaNEVyeDJKMk5ZY0J1TGNtSTI0eHhQWnJnUjVIdWlCMkhMaC9tV2ZyUE0rOXV5SFh5YW1aRnpOT051NUdVQmlHRmF1R3M5dEQrQk9FcS94UVRHKzAybDJkbnhzNStUY1V2cXB1MEpTamM3WEtXdy9mV2wrc29FbVppaU41aWVCZ0IvbHlzVmFEdmwrK3RIZCszYnQ3RWZ5WFpCbUo5TnBGalNTMFdnQ1NqYS9VTy9Zek9Wa0c1VGR5NlNYNVhrU1pvV0hlWkdjbXBGODM1UjN6VlhmYjM2V1RzdUZTdXJXckZtajFhdFh6M2ZUVFRjZHR3VlhWKzMvbjcwcmdZK3F1dDdmZTI4bWU4SVNRRkVRcWxpcHVLQ294YUpWcTdVcXJiUnFLMXEzMXFxMFZxdXRWcTBXcFFxS0lNcG0xZUxTVmxGY2tZS3lpTGFnMXFWU2tCMEpJS0JCQWdGTVdKTE16UHYvM3ZCZC9xZlBOeVFoTThsazVudy84bVBXOTk2OGMrNDUzem4zM0hNTnR6bnJyTFBjSTQ0NEFvc1dMV3F4RFUzYXRtMXJyVisvSG9NSEQ0NlQ3NXFhbXYvcGd1SUZENWRmZnJrWElNUzNvaThxS3JLcXE2dFRrV1RTRXBTV2hLbjUvdmpqai9jSVgvNS95Q0dIN0htZTRRVGNHT3JoTlBhSHNMemtXRTdUalBVUmE0aTZVbHY4Yno3aitGcVUzY1FwNnlNQVBNM2pYOEhIV3ZlZGZnUzhCL3NLSDhwRmtkTzRCYjJiSk1maTdNVW9haUFXNk9qZE9QbWVQR05CYVBCOXI4NnBqVVlIa2p6WEY3eWFzYmtBd05tc3ZiK1hwUGtWUGw2VzREaVcrRjl1bkdXY2w4M1pyNSt4MW5nY2ordlppeEhzU1oxeFpRdXgzV1Vuc1JWTEYrR3hCNGR0S1YrLzdtY3MyUW1uMkttZlFSc2Faa2VwOHhrVUorTWUyM3VaaGRRZE1ZT0NzRmdNaGZtNXFLaXNycmxqK0tzMTczNVlOb3JyS2xvRStmbjVUcTlldlFLNWlpSGpiZHUyZGZ2MTY0Y0ZDeGEwR0FGZnNtU0pkZnJwcCtQY2M4OTFvOUdvRlE2SDkxeWY0emg3MXR4NTc0OGZQeDZMRnk5T3hiWFdBdmg3Z29TU0V2QlV3OVIvNzlpeEkxNTNCTkhDeDR2QTJyZHZuMDMxM3daMXpFNkRCdDYvMWJqckkwdHlRVjRzb0RiWWZINExnQnQ4UFdvVEhWZlJnajZGLzcvTURYR09aQ1p6ZXBKbHBVRlhZMjVXTklhMkpmbVJ5ZFBuaDRZOE1IVnViVFI2VVFQSnR6L0FuczYvWEphWitJUHBJUEx0K3NySllnSEhmWXAvUWNmTkxQSWRpNktnc05BdCsyUTVIaDExNzViMTZ6NjloQzFYUXlrazMrWWVEbUFRRldXM3FZb2t6aDVxNE50QWVIU2dMaEpEY1dFdVB0K3d0ZTdHSVM5dVg3enNzenRGMldhTDNNK2NuSno0akgzUWp0MG0yU2g2Z3Jjb3FmR3VyMDJiTmdtM292ZXU5Y0FERDR5dncxdThlTEdkSXE3em5CTHdGc2F1WGJ2MkVIQ1o2ZTdTcFFzNmRlcVVsZlpGUkloK0o1eklNYUFCaW15SmRuWDFIVmZSUW5HcGVEeERiTHhrcWF4YVJoanh6TGRIdm1mTUR3MGQvZHJjblRWMUE4VjIvYkY5SE5zMVBnZWNqTEhkME9PMlhubkVZc2d2S01TbnExYkd4ZzBmc25WTjJmS0JiS2ZwcEhpaklYTWZWNGt1VTloSEhWQTBFWkZJMUcxVFhHQ3RLUHNpOXZ1N1gveHl4ZXFOTjNEVHVoYVZSemdjZGowKzR4RnhRN2IvUDNEYzNjWE5JN3hsWldVdFBqWk5KeGF6RVdLZzBydHV2SXRMaW1CbStqOXBhWDNLNnEzb3QyM2Joc3JLeWozS2FnaDQ1ODZkOXhEd0xLbi9SZ0FwVGlicGNoT2NROUVpWk1MMUJMQTNPVGdNem0yVlZRdkp5QVZLaXZNaVUyWXNDQTE3NkxVNVZkdHJma3p5dmE4eUNScmJib3BzUmticFREUWFSVzUrdnZ2WitrK2pvNGZmVmJPbWJQa1ZnbnhIbXpFNUVoSWI4T2k0YkdiSEdJMjZhTnVtd0oyL2VCMnV1K1BaRFN0V2I3eUs1RHZja3ZMbzA2ZVB1M1RwMHRxSkV5ZkcrWXJaVWRMVFc1Tlk5RGpPNU1tVDdUZmZmQk1sSlNVdFd2KzhZOGVPUFpsNmYxOXlzdzd2ODg4L3gvTGx5MU1WTE9RQnVEMGRPSEJXRS9DMWE5ZityNFVqRWUvWXNXTzhyNmFuREFwRlpoRzdlS21WR3dxRkxKWU5CSElPWnZVMHc5WUNpR2UraS9JaXIwNWZFQm84NHRVNVgyNnZ1WkExMVk3S3BKbGxFWTFudm1NVlgyeUkvSG5FM1RzK0xWdHhCWHVlaDVxNW5Nck1JRWFWZkxmRW1JeWhYVWxlOUozL2xOazMzdm44Nm5XZmIva1pXM1NHVzNwQjMwY2ZmWVRDd3NLNnFWT25ZdmJzMlh0MmxQUUlydmUvUjNnOWN2N01NOC9FTitYWnZuMTdpOW1RZHUzYXVYUG56c1drU1pNc1V5cFRWMWNYejNhYkxuU2VmbzhhTmNyMitGbm56cDBqS2VLOUI2U0RYbVYxQ1VwNWVmbi9yQmcyajB0TFMvZEVZLzU2S29XaU5aTnZKeHpHcnAwNzhPNi9ab1BUMmxDSG5qNkl1cTdWcGlRdjh1emtEMFAzako0NnA2WTJ2dUJ5UThCT2g0cVVqNWRZUFBPOXFXSmpkT3p3dTNZdVcvTHhsV0xqc0lqZW9Td0tpRXZ5WTFObWZ1emNOWExLMHExZjdyeWFiVmxENmRKTm8zZnYzcmp4eGh2amYvMzc5OGN4eHh3VFg4dFdVVkdCdDk1NkMwdVhMc1hUVHorTjU1OS9QdDVydTZXd1pjc1cxN3UyMTE5L1BlNlBCZzRjR04rQjNHRDU4dVVZTldvVUNnb0s0anVSVDVvMEtSVytLY2FFaGhMd2xzVG16WnZqU21CNmdudUUyM3VjRHMzcUZZcGtrMi9idG1EYlRuVEN1QkdoV1ZOZkhzcHVOMVlta1FuUFdicXhtUGZQYlMzcnArTTFtekVYa1VnVUJmbmh1c25URitRT0cvM2EzSnFhUFFzdXM3TGVsMVBwcnZmWDdPZU54dUE0SVd6NllrUGt1U2NmaVM1Yk5QOHFRYjUxRnFMUlk5SjF2Yi9XZE0ySXQ4V0xvcmd3Ti9icTlBV2hPNFpQWGxDOXZlWVNMazYzMDhsdVZsVlY0ZVNUVDhiY3VYTng4ODAzeDhtcmg5TFNVZ3dmUGh6anhvMkxQMDlCUzc5R28wK2ZQdTZnUVlOYzd6cW5UNThlSjl2NStmbnhsb1NWbFpYbzJyV3JPM0xreUhqdjhoUmhsK2hZRTFNQzNrTHdsTkdMdnN6Q0JXTjhPM2Z1SEgrY1pmWGZFbFlLRjB2SzR5cWFqWHpiY094UWRNSzRrYzZzcVM4UGMxMzNqNXo1Y1J1aEM4blVCeXVBV0RhdHE0UGxPdmw1WVZqNU9XRW5FdHZkc3FCMUNBaklENk5EYVFuZW43Y21kLzdDZFhOMjF0VDloRm1hWlBmSlQ1VThrenEyYlF1aHZQeDg1T1hsTzVGUXVGbkY0WVJxa1Yrd2V4ci9xVDgvR04yOGFlTzEzR0kvbmJiVlQ1V045dXRiRTJYcU9nWDVPYkR5Y2h6TGFUMysxSTdGZ0x3d1N0c1hXYlBuTHM5NTk4TlZiMWR2cjdrQ1FGazY3bDFoZW1uZmYvLzk4VEtPS1ZPbXhNbnMrdlhyTVhQbVRLeGF0UXBEaHc1TnVPaXhPYkZyMXk2clQ1OCsxb3daTStLYjhxeGR1emJ1bzlxM2I0KytmZnQ2L0N1dWN5d0JUb1VSajNFWDJSWkhWaEp3VTNJeWFOQWdYSFRSUlY5cE5XaEtVTEswL01RTzZQMGF0T2luc2Ixai9ZWmNGeEkxQjdlTHhXQ0hRcTdqT0pFbnhqOFFualgxSlk5ODM5SEE5cHBXQTdNRTFsN1dreVRxNzIxSVF3NmYxemJWcVZtT1ZYbkIxWTlXNVJma2JVRXMxcXBzbTIxYnNaMjc2Z28zVlZZdjRzNnhYNlNBOEtWU252N3gzQ1NTVXJWdDYrWXJ6anRqUzlnSmI0L0J0WnM3WU0zSkRjZktsaTByK1hMYjFwdTRCWDg2a1c4bm9CYThzVFk2bWtDR1JtWUYzREcxU2ZhNkxoS3BQdTM4a1Z2RE9lRnF0NW5sMkVRdDhPeG05TXV0MjBzKzI3RDFnNDRGQlpleEZNeEp4MUt3dXJvNkRCa3lCS3RYcjQ3LzM2MWJOME4yc1diTkd2enBUMytLYi91ZUJyUDc3dXpac3plZGNNSUp1MEtoa08xeExTOTRNRjFheG93WmcyM2J0cms1T1RuV3VuWHJhbjJ0VFZQQmM1U0F0eFE4WmR5YlFtWlJEM0MvQWM3bEZ1UzE3RGU3T1FISmJweEY0MjBIY0NHM3RoN2o2NkNnU0RLUnNCM0hkV3c3K3ZqWUVlR1p1OHRPRFBtdXp3QkpoOXVESzhlM2NuZE0vNlk4N2o0NEpjLzJuRUk5NjhyanZjNnQwUnVyQy9GK1ZkdTMxMTY5Y09sbjE3UmlYWkwzTkJVMTMrYllod0FvWkkvK2RRaytGOTJIWStkd2krY0JBTzdrOFJ1TDZHNVpWbjl2NmNmelc5b3VXRUxYMHluekhlWHVwb2R3azdPTjNHVTJHVGI2TU82YTJwYTdGeS9rTHBrVmpTVGg4ZktNU0NSMndiekY2OURheDJURjdxM2IwM0lkeHRWWFg0MEpFeWJZSFR0MnhFc3Z2YlNuRTRxSHZMdzg5T3paTTE3L1BYVG9VSXdlUFRxZVdHeUJCaE5HL3V2THk4czdsWmVYTjFZZmtrMlcwMklHSTVUdEJFWEo5MWVjemJIY25yb2N3TmNCZEFCd0YzZEVkRVFHN0dBU3A0Z3ZxdlRJMEdJQTFiNUkwM01XMytXdWVUOEFNSXF2aDlObElVdW02YmExZXlWOGRNTFlrYUZaMDE0ZTVwSHZCbVpCTFJFcy9aR091QXpBWmR5Vy9uNW14NHhzMndIb0tmUkQycGQxWE94cCtZSzgyNmxYbHdMNEIvOXU0WGJtcnpRaFE5R2FBem5YZDQrU09iYU5QSWZ3LzEwQXpnWHdLT1VnNzFzYkFFZjd5SVloMkNzOUorbzd2amVHQjNJbnpHdVl2Yjh4U2ZjaUhlVGhwcG1OOXVSMkxXdVIrOUorWGt1N0swbHlMd0R0QThxOFBOdThSR1FYTFVHKy8wa1pYd0RnSWE0VDhXejJKV0szWXpkTHhtTXF4MlRTOE5oamoxbGR1M2FOYjBYdmtlKzZ1cm85Q3hzOVAyQzZpMXg2NmFVWVAzNDhjbk56UXp0MkJ4UXRmVStiYTh5a3JTNW1OUUhQUXBKZG4yRXY0V1lQZmRtbXh5UGZjMm1ZcDRtcDZSaW55WC9PREl3aFh0Nm8zd1RnVnpUd3NtZnhUamErUDRXay9UMjk3YWtqMy9GV1ZFNW85NExMYVM4UFpjMjMzY0I2VWVOc1BGTDFXeEpqajNSL0c4Q0pRbC9NZ3JSZWZMK0lwTTFrNllvQlBBNWd1T2djWWFhaGY4VC9QV0wvYjVLSGt3Rjhod1E4bXdkbnNoMkZ1ZmZYQTdpT1FkVTlBSHB6UFByTERBNmwzTDdrZDhIdmUyUnVLTit6ZkRNaGF4bFllemJnQlYyb21IUVl1OXNEd0FRQUhRRjhqOFQ0RVFDZE9ZWWtycVY4YThXWUxHQlcrM3JSWGNmbzNERUE5bWVIRHkrSWVvdDIvbGdBcFF5bXMzVnZnTFQrelczYXRBbWRldXFwY2RzdjY3dzlqdU00VHZ6MWJ0MjZ4YzQrKzJ3ODlkUlRvUXprTG9tZXV3MzhmdEJhQi9sYVNrcG1RMnJYRkw1TWxuRzRNd0Q4bVdSOHBURGdSZ205OS83dTI0WWVmTDVaUERhSy9EbXpwaFpKK2lLK3A2M1Zrb2hZTE42OXdiVkRkdVNKc1NQRHM2YnVJZDlvNUdJdGk4N2F3ODJjN2JnTndId3h1MkZtUHo1azV0cjJHVDViZkRZcWRNS2hZeitZdW5VWHlYY0ZnTC82ZEVlUkhDZGxNY0FHczlPbEpPTkxBM1k3L1JqQXFiNnhiZVM1TGNCUmVYcndMd2JrSGo1SXBkUEtjaGtXTUprQkV1VEhBQndKWUUzQS9mNmpyOWUvSzJZcEszM2p6T1lzMURrY2s4ZHh2TnZjK3I0OFhldWZGYnRSV0ZpWWNDdDZzOEZOQm5WNDg5c3NQMWsyU1lkekFaekdEa2J2SkNEb1FYcnRuNEZOeWRvMUplQUthWmc5NG53VmdBZVo3WHlZZGJrWENQSnNsTFV2czZGeTIzcUhoR3Npc3lzeVUrbzkvajZ6b2l2NHB6c3RKbE9JdTdNZnJ1WFlrU2ZHUFJDZU9mV2xlenduM01DYTd5Q2RtQUNnT3pQaHZ5Ykp2cGhreXhHTGJidnl2UnpmdEgwT3M5c3pSUDJrcVM4dTQrZCt4MUtuSzdtclhJMFN0NlFqd3Z0NU4ydS92ZkY4QTRDTFNMam0rZTU1WjVKcHViMThsTitkVGtjbUhhRk5QVG1OT3JFb0ZjNHF5eEVWd2RFMUFPNWprSFFxUzBWdXBwemxQVCtUWXlzaXlIWU9reUdUT01OaGliTEM3Y3grZXpyeFk4NUVQY1Z6S3RJWXVibTVlM3hBa0Y4d2U1eVVsNWNqUThhaytRMGRPQXR2eXFsS3lXTWluTTM1S2NmS0Y3UnBUMVBYSXlMcFdNZi9JNExBbTlMS25TeTl5dUhuSkorSktBRlhKQXN4MXZnZXlxaXhGNENaTlBCSGswakpER2M3T3QyZHdvaUh1VkF2SjRBQWdNZUpzTTR3cXZYZnlTWGY4WjNQTER2Nmx6RWp3bTlNZStVZVpzQ3dEL1dMTVpZZC9RTEFrNndkZjV6RTdSeEJ3RTBHSWcvQWdWeFlHeFg2a0MvYVBWbmk5Vk00Qlo0dkZsNTZ1bkFXZ0NsSzJwSUtFekQzWWZEMElJbjRXSllCblV3Q0xqUFd1YXo3MytrajRNVWlpMjc1T3FMa1VnZmVZd1pWa2R4c0h6aGVydUc5N2czZ2ZDWTd2T0IzQkltMUpPQWRHUnpYQ1J1UXgvOUR2a3pmQVp3UitSWm5NSjRqOFRpVS82OUl4L1o3aXQxWXQyNWQzZHR2djUxMzBra24vVThOT05qT0x4UUtZZkhpeGRhc1diT1FrNU1UcWEydGJlMWpvWlFKdlR6NmozWGtMVGtzaFh5RUpWcWVIK3RDdmI0YXdKc0FqaGV6cjhmeHRSNWMrekthZHU4OEhxYzdzK2Q5T1E3ZVlIRDZWRURBcXdSYzBTVDBaMm1BcDhUUDB0bE9ZYzJnNDJzditCei9HaEtsZm8zWm1NdW9jOGZRZ1h5c1diSmtrTzhZYk11Q0hlL3pmWC9valdtdkRDWDUzcGNldmtZZW51RzVDY0FQYVhBS1dEcjBnaUJreGhrdkF2Q2JCcEI2NzdpSGMrcmNYTnZaNGpQbDFEZEY4bUJtSG5xem52OThacXJiTUN2MHVrL3VJTm02b29ISEwyVGQvaUNlNjJCMk9YcGF5eFdTU2pwTTZkYkZKQTFsSWpQM2Q1WnYrUW55bUVib3g3MWNFQTBHWlJJWFVpZDAwVlNhdW9CdDI3YlZqQjQ5dXFoMzc5NG9LaXI2WDVJWENua0VIWU1IRDBhWExsM2NsU3RYUmxzeEFUZWxKZWN3dTMwdVg3K2F3ZUpkbkhIOWlMWnBPUjhmVHg1VFNWSStnQUhuSUs1dGVRYkFTQ2FhZnN4azRjTzBsM1A1M1hFazZtczRXOVJrN3FJRVhDSHhTN2FjMm84Um8yZDRaN09zeEs5c2pxZ1g5NVB1aU8renRXeGZOMGhreW5kb05xWHBpTVZjMkxiak9vNFRmV0w4aU5Dc2FhOE1kVjEzY0NNV1hBYkp6MkpXNEN3R1N5ZlNxUDBPd0RKQndLVVRkeEk0NktodjdVQUZNK2x5V3R6VUdxL1JZQ3pwTUZtYWlleGUwaGZBNlN3ditCV0pGUUlXSDRVVDZJVmZualpudlo1aXlaTE45b01xeHlRT2MvNWZ4Y3pjbVN3VGNwa0ZmRk5rdWYzKzNhN0hSaHY5ZUl5WlB0ZDN6aHBSY3FRQlZacWliOSsrZVNlZGRKSjE1cGxuNHBaYmJvbHZhRk5TVW9LTkd6ZGk4dVRKZU9hWlozRGJiYmVGVjZ4WWdWdHZ2ZFhPZ0xId05wTStWMUYzdjh2T2Fwc0FyT2JzRDlpQjYzTSsvZy9McnZLWVNIcVBoUHdsa3V6TjFQR2ZNd0d4bmR4bk5YM1RGbzZwdi9IL0pvOEhKZUFLaVVvNmFzdlg4elFvMG9zMlFnRS80NThpbVdreEYyNG90SnQ4UC83d3FQQ3NxUy83YTc3M2xRUzVkT2d6K0JjU2hEbElGMklOQ0tZa0FYOVpwZGQ4MlRIK3YxUElNOGYwVGs4Z1QxZThYeCtxNkx3VXpZTjF6Tkk1QVJ1ZXVRSEJWMFAxNDIyOXRhMTNqQzljdUhEUmhnMGJTc3JLeXR4TExya2s3RGlPNC9tQm5Kd2N0NmFtSmxwWFYxYzdaTWlRMktaTm0zS0tpNHNycTZxcTBFcURaRE1UNUJIck0xZ3V0WTVsV2FZWC9zRUEvc3Z5MmZXMGNkMUl3TUYxRVUvVHJ4V1NlQi9PRXE5S2x0cHQ0dUxtZkpMdmI3RWtwWFF2NDAwSnVLSnBuRTRvVmxTUXVHUnVQWTZtSERNYWpTSlNGNG52bW1YYjJabEE5MzU3cExZdWZ2OWNGOUVKWTBma0dQSXQ3blV5Ym83dFc3QmlKL0c0aWNpQVprNVRON2FOWHRRbVdaNUk0ZGJvaXErT0hibFJVckpzdEZYUHpzYUtOSFlKbFpXVkoxWlc3bTVzVTExZEhmaWhCUXNXZk1XZHR0TGY2N0RzTFEvQXUyeHYvQTVuZzc0QjRIbTJSUzFtOXR1c1V6cWE3WlFMV01MVm5sbnRTcEoyTURueENUUHJoVHpHMFN6UCtpVjk3RTk0RGkxQlVTUTNrazZoNFUyS1UyN2JycjNicVczSXNweFMySFoyQ3FtdUZ1aFFCS3V3dU5oNTdxbEhuTlVyUDdtbkNUWGY5V1ViVXFFUDZ0QmJabXluL2ZoV3ROaVlWUG0xL3NBc1cyUmR5NW0zYjNBL2cwOUlxTS9oVE4vZkJUbmV3TzhNNXlKeG03djBydVRqKzVnbDM4YlAyR3dRY0NabkM5OWlGbndZTSswalJlbXRac0FWMllOd09Cd2JNZVFXNjIrUDdMKzl0aTRhdHJLVWdMdFJGM2tGT2RHRi8vMXZjZm42dGZjMnNlWmJvVkFvRkprVm1HVTYzaE9iK2RrazNpL3hlUUZKOUZhV3FEanM5RFNQNzM4a2pyT1kzNjhVQzlKM3NVVEZENGZIU3hxVWdDdGFBK0t0Q3V2cTZvWXRuUGZoNklXNkdFZ2FoSTFpUjFjbDN3cUZRcUhJZE5paWhDNG05aWd4YlZRLzVLWngyMzMrTWhxdzhVNU04T0dJNzlpV1dHc1JGZWVJS1FGWFpBc01zZHp1RzFDSzNkQldqZ3FGUXFISUprNFFEVmlFN0xLdWV6WmZNejN6MTdMTnJlWGIvZkpBOWdtZjUrdk01UW9TN3ZIa1k5bElZajIvbTVUMU03YktVZEVLeWFiK2ZYWFJtMEtoVUNnVTJVTEEvZHZEUjBYVzJoTHRjVWV4aTRuY1BNeGt3UHV4dmp1YTRIaUdpSTlnVnhYTHR3ZUdFbkJGVmc0OC9WUGlyVkFvRklyc2dVazZGWEtEUDBPV2k5a2ovMmpoR3kzdU43S2QreDI0N0h4eUx2ZERzSm4xbnM4KzRvY0pqdEVOd0EvNCtSb3UrdnlZNzUzT1RRdVZnQ3NVQ29WQ29WQW9NaDR1U2ZhclhHanBzbC8zZmV6emZRdmJFWUpaNmp3QW5RQXNZUm5KN2V3WGZqOTMrajZBcis4UDRBSHVkSGt5TnlFOENNQjRIcXNyTitRWkRPQW9IaU5YQ2JoQ29WQW9GQXFGSXROaE1STzlnSmxwRDdleUQvaGF2djQ5UWRhL3h0Y0x1Qk8zOTdrNTNFbDJHNEJlM0JqdXJ3QTJBdmcyaWYwS3RoOWN6MTAxSzluK3NDdVBPZGMwaDFBQ3JsQW9GQXFGUXFISVpKalNranhtcEQzMEVTMEdpOWwrME1Bank1K1NPSGZranE5ZHVmdWxkNno5dU5PbGh6QkpkNGlaY0k5ODMweVN2cDZFL3o2ZTczWnhMVXJBRlFxRlFxRlFLQlFaQ1VOMjgxaWJiWWp6NXl3bEtlQ1c4cStJN3h4R1FoNEIwSWJmT3c5QUJYZTl0RWl1VCtIalNTVHQwL2wzQkx1a1ZBTG93QzN3LzhDYThiRHVoS2xRS0JRS2hVS2h5R1FZc3R1Zm0rVWNRakorUFlBTFNMYUhNUnR1Mmd3dTU3YjFhd0ZNQUhBZE4vQlp6REtVdHdDY1R4TC9Pd0NiQUF3QmNDT0FaUUFlWTVhOG10bjFtMG04YjJJSlNwTmFBQ3NCVnlnVUNvVkNvVkMwQnJ6Q1hTOXRrdXhGQUpieXVhbkxObTBHWCtPVzh0N3ppUUJlWkMwM1NKN0hNQk5lSjBwS3ZPTlA0M2VpN0NuK0ZoZDFEdVozYTVMeFE1U0FLeFFLaFVLaFVDaGFBK1NHT1JDOXVhTUpNdEp5MTh0YThkajF2V1lKRWw3ck8wYk1SN3lUc3ZtZDFvQXJGQXFGUXFGUUtGb2ozQVNQOS9VNGJpUFBxUVJjb1ZBb0ZBcUZRcUZvRFVoNkNVb3NGb1BydW00c0ZuTXR5OUk3bkE3aG9ldkN0dTI0YkJRS2hVS2hVQ2dVR1VUQVhkZU5GaFVWMVZtVzVUcU9vMnd2dlJBdExDeU1CMGQ2S3hRS2hVS2hVQ2d5aElEbjV1YVdmUERCQitHaW9xSjQxbFV6NE9rQnlzS3BxcXJ5WktSbFJ3cUZRcUZRS0JRdENDdUp4M0dmZlBMSjdxdFdyVHF3dXJxNnhyWnRaZDlwaEZnczVwYVVsSVFPT09DQVQ2KzU1cHJ5WkszaVZTZ1VDb1ZDb1ZBb0ZBcUZRcUZRS0JTS3RFVlNTMUR1dlBOT2U4bVNKWnI1VG1PODhNSUxNYzE4S3hRS2hVS2hVQ2dVQ29WQ29WQW9GSXFzZ0M3SVV5Z1VDb1ZDb1ZBb2xJQXJGQXFGUXFGUUtCUkt3QlVLaFVLaFVDZ1VDb1VTY0lWQ29WQW9GQXFGUWdtNFFxRlFLQlFLaFVLaFVBS3VVQ2dVQ29WQ29WQzBMQnk5Qllvc2hzVmUrQTcvVXIwN3FQOThTTkw1TE5IVFgzdThaelpDdW91dHlsWFI0bjRqckxMYVo5akNEOXA2SHhWTkdZZ0tsYWxlcjk2elZKL0g4aDFQWnk4emk1QW8xSFprdzNWYSsyanZNaEpPRmc0SzI1ZHBzRklZaFZrKzQxcmZ1ZFFRcDFZbkxOLy9PUUIrQ2VBQ0FPY0EyQUhnVTk5M3JRQzVCTW13SWVjckFQQWJBQU40dmtvQW56ZEJaNHdldHdNd0RFQXhnQ1ZLeWdObGxtNWpOcEZlWVM5eTl2QTdBS2NDK0FCQU5JTmxuV2lNMmNJNXUwMjhyM3R6OVBKY2pmRWxWajN5ZGdQc2cvZmF6MmlIUGdKUW8yTTQ4UDdhU2JZSmpkVUxJNzhEYUc4OXJFd0RPK2Myd0FjMVZyZFRpYjRBZmczZ2JBQkhBSmhIVzZab0JTZ0JVQW9nTitDOU5nQU80di9KUUJIUGxaL2dPbnFROUNRakVOSnlvTlFZOFAyb0UwNEErWDRXd0RnQXZRRmNER0E1Z09PYkVKeUdBSFRobiswN242ZXZyOUZ3ZStmN0xZQmxOT2I3a3JFdzErY1IrZmNBL0VxY041dWR0OU1BR1oxQWVWaE4xQzJubnZkN1VmOGFJbCtybnRjOTJjNEFNQVpBend3TzFwMEU5OEpPY3NMQ0ZtVmJEVG11MVlRa2tMT1h6N2NGOENLQXh3RWN1WmRyeWtRNUY5REhGdk4vYXgvdnI3SG54ZUo0K1VuV0N5UEQ4Mmh2cndLd2Z3dU93NzNaSG8rekhNSXltVlNQbzhZbXhEelMvVDZUQ01jQ21BVmdyTERONW5NZXR6bzhXekxoclNHamxjZHM1VXdBSHdQWUFPQVN2dDhPd0xVQXBnSDRFRUE1TTQzK2dldlF5UFhtZ0xVNVdJOFJnODZtWWZncGdDa0FGZ0tvQUhBTjMvZXU0MG9BLytDNXZQZHU0L2R0WDlhekY4K1ZKd3hPbndRRHc4UFhBSFJVY1NkbG9IK0RBM3N1Z0tVQTVsTWVCb2NCcUFad3RIanRFd0EvNTJNam8rNGs1VzBvWDV2NjB0Wm52RHhTOXlpQWR3R3M1bm03aUdOL0g4QVc2b0lKN3NwcGlPUjFIMHJEMUlZNkUrTDVpZ0l5T1djQldDV09vZmgvK0lOajQ3QUdBTmhPZVFRNXNtL3dmaGZ5dlR6S0l5L0JlUTRTSkZ0bXpvbzR3L0ZZQW1MWmlabWd6a0tlM3JtN0JzalpPLzUvQWR6UUNFTFMydkYxbjg2YklOWWJpOS9pKzBIM29SdkhZaHR4L3p3YjNEN0I1L2VqM1lYUGZoL0M0eHhQWFlDUERCVFNsdmNVcngxQTByQTNuU3owSGVOdEFDT3lSSzV5SnZCNUpqemU1cXpkZEI4SkwrYjQ2QzdHYUZjaGQybDd2Yzh0NHV6QnYybkhiL0tkMHp2T2NTU241bmhIa1RzRTNmY08xQ1g1M2dVODlwRnBkRTk3Q3AzeTlHOHdTZTBDenVhZUVhRGIzdS82SnU5YlVUTmY3eHNBL2k2ZTMwamJab0lvYzYzVEdPZ1VaSW05Uy90QjZ4SFRXMmt3UFVQOFR3QmxmT3dOaUpzNXVEeU1CQkFUQk1nUzVQbFJUdGtZQnp5Sm1hVkNNYUE5cDNnMXlaQjMvQWtBZHZINDNuWGNLODUxQTZjTVQvSVJOKzk0ZitDNXJ1ZHJmNkdCS1BIOXhtK1R4RmN3a3drdFIya3lMZ1p3b2NneWxUT2dzZ1Z4cWdOd0haOWZ5TUN1bXlEYW5pd0hVdlpQOEhPLzRMRjYraFkvZWdGZmYrRzhLeWh2Z3hPcEp4ZncrVzhCdkNOSW90SFJtNmd6Wm9yemozUlVCNG5GUHhhekwwdG93STdoVkI2eTNGZ1ZjVnlQQWJBZXdDa2lzMklJOEd3NkowY1FLdk9YeS92cDNmOC84YnNQTVhqcjZMdTMzNlNzMW5Qcyt1Lzl0UUIya3FSSm9tLzA3MHpxeUw4RWlkakNHUTJJV2JFOGtwV0pKSGNuQ2tlVmFYTE9ZNEQwSUlDdHZDY0dCOU1PUDhEQTJoc1RsL251ZzNkdkwyVmcvUWhmdXdMQUYvUVJNcnQ1R0cydFI5eGU4ZG51cXprN2RoLzl6UE1rWkphUTQwRU1zcVAwRjhWTTFnenpYWlBuQjM1RSs3R0dlbVBrTzRxRXhMdTJrN09BYkpqZmRTQnQ2RlVrd1NmUzEwTFkza05JekRiVDE3WmpzdUUzQVpucTIvalpQaVRaeDRzRWlaSFg1UUFpZ3Z4ZENlQXoyazNMbDdpNWxqYmlHWEhkbmw5WXdVVGNpYjVrVG5PamdKbjRQMVBYaitMclo1QUhHVXhsaVV5cGVNM3pjMDh6NlBzSGdEZEozSzFtbW9YL0srOWpQc2ZiSE5wY0NOOTJQRzN3cFEzSTlpdGFDQ05JbVBKOEF6eE1SZnpTbDEyMHhQc3phY3d2WVMxbDIzcEk3NitZeldybmV6M01USmJMakxrMDRzWkpUdVpBT0lYR3ZsT0EwemlQVHNjVkVhc3FYZE1OUFlTUmZwSkcyaEZ5dm80Ry9tRTZ3K044ZW1CMDYvY0ExcElBTFJUQmxwMkFSQmpqTjk5M1BSNloza1NDK0JCSmZOQjFqNkJlbnNJeWxWNCs1d1FHbzU2KzNNL1BMK2J4dzFsSXdDMlJ0YnFNaE9vemtqYUljclV6R0FSOU40SDhqT3orUnNkME1vbGVqNEF4KzMzZWQ1Y0VTMmE1YytuNEppUTRqem5PYVFDMlVjNy81QXlmUC92OUxaNWpJb09DdVN4WjJLK0p0ZTdwS0w5U090MVhHZlFhdTV4UGVZd1QzM21BWTdldHovYWJjZjA1eC9OaUVZakpzZjhkQmxDMVRLZ1lYTUt4YnJLZjdYai9iL0tSQkhPOXEra2Zoak9aNHovUC9nd0NaakpoZEJCZlA1UnJUcVlBdUl2dnoyWmdZR1dvL1RmM3JUL3RXaUxJSUdjTFAvOFhrZEJ3ZlBKK2tYYXd2dlBld0F4MlAzS0hNM3pqMCthWUgweC8veWR4akRFazhFT3Bod3NGMlcxdWU5dVI0MlFhcjdOVEFDL3hmc3RGMU4xdjhQWHYwaTZlSU96ZFpoRTBwcko4MFJ5M0UyY3E1akJSZXAxdlhRZjR1OTVsUXNYVzdIZjZERjVUSTNRQ2hYaU9JRmtoNFVDSGt1aTBDVkJNRHorbU1WenFJemZ3T1VDYnBPdDlrVzBKaVQrVExha1FTbTc3RElrWHpXM2tNYzRPSU5mbU9IMll0VDlhQ1hoU1lQdHF5ajRGTUY0TTlCQWQzM3U4NzdOOHdaclVnNDdVbFVXaURDQWM0RFNNYys3SWJOZnQ0djFDRXJZNU5JcFBCcHpQR0p1akFQeUhKT0tIQWNheGdObnoyZFRmWWk1cWNVVW1QSnYxNXc4TWZvcDlEdnNOQnNTb3gvbjNKQWxiQU9EOHZZelp3Nms3ZlgxRS95WTZ0ZzcxT0NQUHdiekVjcm83RThqdEhtWnd2MGN5MkpkeUhwU0JjczRWd1dXNUdHTVhjamFoUGU5OW1QYTRRdGh2dWJEc1FDN3NXcG5nUGxuaXRZMWkxaEVNdUI3eUpWSFdpQm13SEo4TzNFbjV6ZVRNcGo4b01vL3ZvNjNKRlVtZFdzN1VkU0R4M2tFaWp3d240S000Njl5Yk14NEZBWjhOOHg2TXBSMzhCd014Lzh4VlBtM3pkZVFEeHlVNHI4VVo4YmQ5SmFWMndMZ3VwY3l2NFBPMlRONjhUdHZnamR1N09mdHhVRE9UY0JtYzNVV2ZsTy96UWVaM1BNZUFQWmUvODExbXY4MVl5eVhaZlNsQjhpb1ZzdS9IQk1rSzJyRlRmSEw0SnNmQm1mVWtSUlV0TUhBUHBJRmF4WWczMzVmWkJnbnNlbEVmYmdWRTFwN1JycUp6UzJTY096UHpXY1pNVm9FdkVBQ3pVR3ZabVNEUmNZcW9hSS82RERoODVPQlh6TnAzVmNWTEtnRTNBZGtpUVloeVNNU2VwdDZjd0V6azQ3N0ZkVkt2NXRIUUk4RWlIZm05UjBpZzh3WDVmb3VPeDZGeDJVR2lpQURDWDhqcm5lWWozektyVmtQU0RaRlJpekNybXMwRTNHWTk2V3UrUU9sODFuNzM0UFQyandQc2c3UWxWY3c2QndWYkpyRDdLZS81d2VMNys5SCsvSnFmdXlpZ0ZFN3EwQmpxUW9jRUdlMXB6QWhMa2pxZjMwT0daWWRNNXU1bEppeU1Eby9qUFpYcmRLNWlrSE5vZ093c2x2YXNTbUJMemZOVG1hajVIcC8zNFBOZmlNODRKSUFQKyt5M0k0S0RpSmdGU1dRYjN2RVJuU2RaamlqeEJra1RNbEMyRWc5d2x1bGV6aURNQ3doV3paZ2JSUDk1cEU5MjV2NGZ4dnM2Z2hueXJTVEgvdlZZNXZPek9ic1lEc2l1R3RtZFRwbWF3TG9uU2Z2RjRyUDk2RE8rM1FJRTNGeXJGeEM4NE5NemM5L09abkRaajgvYjAvN2RJdTVITHYzU015bldPYmtBczR3azIyWTV5aGFPWVZ1TWs0bTh2Z3ZGK0Zha0FRSHZ3WXpnanpqUS9GbUpveG1wWGk4SXNveVdIWktibHhpQlRST1J0djljWCtjVTFROUlzbCtnd29iRW9QeTNtS1lxOW5XK01OT1FqOUZodnNkQllBVTRmWWRHYVlHb0QxY0MzalFTWm5BanlmQlIxSk5DT2w2VFBiTkVKbXUxSU0yU1VOL0J6TW1ub3BZMFVVL211NmtYUGNTNmdvRWtkUHVKNzQxbGxpVW9RTHlIMmJ2M2ZZdVFKQUd2STFFd0dZK1RlWTVlV1V6QWpRTmFJWUlwbTBId1NrNHRXNXoyZjR2M0tDZEFqdmR6aW5vZXliTVZNTE1Wb2w2czlTM0MvTE1vUGZvK0E2VWVQcGtZbWYrSWRmd3IrVGhJWnErVHJKamYxcFo2bUdrWmNFdkk0MjBHeCthMy9ZVy9XUWJWRHdlMGdEUHYvWUVrcTR6andRbEllamhzL2JkUnlPZHcyb1VyeEN6bmZwVGhSZUljY2xIZ0I4eWFqMGxBd0czNkRVOVBSZ3M5K2l0bjNjeHZ5cUhlM0xzWElwK0pPSVZrOTQ5Q051WWVIY1Z4dWxiTUVDVXE1NUxrM3ZWMWw1SWxoNnQ0bjQ5TFFNQWR5dCtsN2JYSUJUWXl3Mjc0d2dBR2E1MWFnSURibkExYlJsdGwrenFwblVYN2RTRS9YMEM3RWFFL05McmRuZ1Q0MmhUYkVoTVV6QlUxK0dhaCtrWWgrMnY0L0FDTzJ5aDl0YVY4S1Azd0pBZVRjYUEvb1BNekVkOFpuUGJ6RCtweG5BTHB3WXp6dVNLemxBaS9wekljS0NMa1IwVG01RFRXVVRrK1pibWRSclk3eWRIbFBvV1VnM1pxTTBTaTJSU3NGVkp1dzhUc3haMnMvZXpKR3ROKzRuc1RPUzFxKzhqMzkxazMySVZFM25TMXlQT2RyeFRBRUpJOGc4ZVoyUmxBL2VrbTNwdnBXdzF1anZNTFpyOTdNT04rdHkvSXRBUkpHU3UrL3hUMU9xeDFjL0d4Smp1RzNPbkxQczRSOXk3WDU5aC96Y0RuSU5aTFhwK0FQSnQ3UHQxSEp2NHI3TVExbEdXeEwwc0xscXl0WVluYU9FSGFjM3cyeEV3em0rZVhNY0RZUDhNQ2RWdU0yMC9FNG1oRG5IYUpOVGpkV2FKeWNjQjk3Yy92ZDJjZ2JLYmM4d1BPTllUa0RpS0o4Z1ZyVXlHSS9wc2ltSFpFSW1jT000cjltUTN0NmlQUFVsZDJpakpHMEJkOEpuN1RhWHplTXdzQ2FGdDBEZXRJSWp0UytFYUw1YVB6T0lZR2lVQTN5SzQ1WWpiOFNwTG5nM3l5Nk0rQTdYRE9qandaNEl2RHd0OVgrSHpKUE45YWdTbWlKdDFxZ1hIU2hpVk1BMzN2WDBGdVlqTEhOek40REpHd1B5RStleXNUQUoxU1RISWxBWjhoWGorQzQrWjRqcDBQeWVQQWhhNlZ2dGxGUlJyaFA1eE9NcXZKZDlINVRlRjdtOFVVdlZHc0srbjB1dlA1dXh6OFAvWFZsdmt4aVptT0hLNjRydUxpbmxkNWpDL0VRZ1pEekFid0dvNFNCSytDcTdqbE9RNW1vTENOQStRMmJiM1RaUExkZ3pwUXhRSC9KdVcxbUZPV0pnTTluMEhTRXlTdjNYM09yeWVkNHFYQ1lKazZUYm40NndUcTNwZlVpWDl4Tm1NdENWNGhEZjY3ek00OVRmTGQwWGUrdnB6dU5tc0ZIcVBqdmoxZzZ2dDRFc1V4TkxqUGkweXNuWVdaYjNCeHJPbHlOSWZCZFhlT3JjbDBtQy9Tc0gvQjU2VkNqbWN3QTJNVzJUN0N6OTdoTzkvK25LVW81NnpKM2RTSFY1a05mWUR5V01RdUJYS2d2aDRBQUFSK1NVUkJWUE9GM2xuODdBZTBXNkQ5Y2RsNW80dFB6aVVzeVhpUmVqZUxzeDJaSkdjemJvOWx0citHWS9ZeVFZeGY0RUxWSVp3VkdCUkF2ZzlsVXVZcVBoOU1rbktmYUVOb2d1VWIrTmxxQmptbUZlRkF2ajZjK2pGSkJGUXlzQjNQSU5qbThUWXlZRDdKRjhDZnliSHUwbDhONFB0NURPQmVweTdORk1tZ2JCcS92NlB2UHRhbkM4OXlodG9obWE3bXVxOWo5aEtnaEtnMzc0dkEycUlkWHlOYXpON0JoTWdvWC8xNUFjbjNZcFpyakJCNmNSSnQvQU9VMjEvMzBzSXcxZVBrT3h3bkx1M0JBQkx5WnpreitnNFRBKy9UZjV3bHZyZVVNekVQTVNuUnN4bCtnOUhuZnJTSkV6aU81NGoxRjhQb3J4OGtWL28zZjhzaUVXVFltVXBZV2dOTTVxR1VKUFU4R3F4NW5MS0lpRjBCNjZoNEc3bEl5cUF0bjM5SllYWWlBVjVNSnkzUFpkRm8vNEpSNUFVMG9QdnpQRkdlS3lyT0ZSVTdkNVh3T0Z2NFdnZWVheVdKT1VUR3F4MnZ5M3gzVTRwMjVzd1c1SkNNVnRONTUxQW50Z281VzZ3RjdrTFpsZEh4UytSU2poWFVsM3lXb0h6R21sUlFUdm1peHE0TkkvNEk1VndsakVkUDZzOWFPb1NJNzN3RmRNeVZvaGI4U0JLQ0RRRy9zejNmMzhMZ3JUYkw1VjRnTWtNaGpzdWRvaWUwMmF6alRUcUFLWlJ0SGI5ZnhNOVVpbW5lSHBUVkZ6NUhYeXJHck1VeFd5eGFCOXFjQWRuRW9LdUMrZ0ZoeHlyNDJDV3hxS0o5aUFib2MyK2UxOWdxS3dOdFJENWxGZUY5cWVHWU5WbTByL1AxVFF4VS9mY2doOSt2RUZuVzN2enNaK0t6RG4xQmlQZmFvY3lORDltZnBIczd4MTV0d0xrNjBMN3NFbTN6MmpDanVFTjh2b2cyWkJldmJ3ZjlqN21Pby9tWnhiUVh0czluSVFObDNKYTJyVDluRU80bklaVDN1QlB0bWhtYnZhZ0R5NFNkZHNXeDJ2TlkzeVEzV0NqdVpTN0g1aWF4VUxHM3NPTnlKOGtPL0Y2VStsSEphM0E1Wm8vaWRTMEtzTi9OQmJQWlVDMS95dzdxNnY1Q3o0cjRHNm80SGd3NjB1ZlZNSG13czVsdFNZbW81LytFdnRjV3RyZUExM0l0cytFL3BPMnR5a1JPMUpvSStBMGtWWWR6RU4zRXdiZ3Z5ck8zNytTd2Rxb1hvOTlTWmlEZjMwZmphQ21aYmxXWjFGaUt4cG1iWk4yd0VtelZyYnEyZHh6TjJaRit6RUlIeVR4WjkzRTlNK0cvcGFPc1V6bW52YTRISFhkdmRtRmZyeVBiNUdxSkxrMlhNNnRkeXhtOEQ1dGdPMy9DOW5xZFdQYzhta1E3MmJZOEUrVFZXTjF1TGo4WWhJblVrWlBVdDZVSHptQW5nNTRKQWdncjRLKytvTVBmY3M1a3QvcXlTOEpSU1R3WEdyRFZycGFjSkhldzF5Y25xd0gzdmFFeWJPN3pOZlI0MlN6M29OZDZNSmh2dnhjWk5XWE1XaUtRdjQ2MnhHckE0akZMN1VPOU9wMnE4Wk9NY1dVMTBEWmsreGcyYlZxdGVtVFUwUEdSNXlzdmF1cngwRXBrVlorZGE0b1BhazYvSENRamk0SFZBUFZ0NllsUU05WURPYm9DVjZGUUtCU0twQ0tjUk4vcStQWjlVQ2dVU1NiQ3pVVzhIZC8yMVFxRklqTmdOK051b1dIZFVFdWgrQXFTbVlIVkdjRE1SQ2lMV25FcUZBcUZRcUZRS0JTSzVvQ1dWaWdVQ29WQ29WQW9GRXJBRlFxRlFxRlFLQlFLSmVBS2hVS2hVQ2dVQ29WQ0NiaENvVkFvRkFxRlFxRUVYS0ZRS0JRS2hVS2hVQ2dCVnlnVUNvVkNvVkFvbElBckZBcUZRcUZRS0JSWmcvOExBQUQvLzdONEJWYTVnMjEzQUFBQUFFbEZUa1N1UW1DQyIvPgogIDwvZz4KPC9zdmc+Cg==)"
      ],
      "metadata": {
        "id": "gqt92CsYJrht"
      }
    },
    {
      "cell_type": "markdown",
      "source": [
        "nn.Conv2d(in_channels=1,out_channels=6,kernel_size=5,stride=1,padding=0)\n",
        "\n",
        "in_channels: kirish kanallari soni. Bunday holda, kirish bitta kanalli tasvirlardan iborat bo'ladi, masalan, kulrang rangdagi tasvirlar.\n",
        "\n",
        "out_channels: kirishga qo'llamoqchi bo'lgan filtrlar soniga mos keladigan chiqish kanallari soni. Bunday holda, chiqish 6 ta kanalga ega bo'lishi kerak.\n",
        "\n",
        "kernel_size: konvolyutsion yadroning o'lchami, ya'ni kirish ustiga siljiydigan oyna. Bunday holda, yadro 5x5 (ya'ni, kengligi 5 piksel va balandligi 5 piksel).\n",
        "\n",
        "stride: har bir konvolyutsiyadan keyin oyna qancha harakatlanishini aniqlaydigan konvolyutsion yadroning qadami. Bunday holda, qadam 1 ga o'rnatiladi, ya'ni yadro bir vaqtning o'zida bir piksel harakat qiladi.\n",
        "\n",
        "padding: kiritish uchun qo'llaniladigan to'ldirish miqdori. Konvolyutsion qatlamning chiqishi kirish bilan bir xil o'lchamlarga ega bo'lishini ta'minlash uchun to'ldirish qo'llaniladi. Bunday holda, to'ldirish 0 ga o'rnatiladi, ya'ni kiritishga hech qanday to'ldirish qo'shilmaydi."
      ],
      "metadata": {
        "id": "4zuHE-YsLd15"
      }
    },
    {
      "cell_type": "markdown",
      "source": [
        "\n",
        "nn.AvgPool2d - bu rasimni 2d ko'rinishga o'tkazib beradi\n",
        "\n",
        "nn.Tanh() - bu PyTorch faollashtirish funksiyasi bo'lib, u kirish tenzor elementi bo'yicha giperbolik tangens funksiyasini qo'llaydi. U neyron tarmoqlarda faollashtirish funktsiyasi sifatida keng qo'llaniladi, chunki u farqlanishi mumkin va tarmoqqa chiziqli bo'lmaganlikni kiritishi mumkin, bu esa kirish va chiqishlar o'rtasidagi murakkabroq xaritalarni o'rganish imkonini beradi.\n",
        "\n",
        "PyTorch da nn.Tanh() mustaqil funksiya sifatida yoki kattaroq neyron tarmoq arxitekturasining bir qismi sifatida ishlatilishi mumkin. Neyron tarmoqda nn.Tanh() dan foydalanish uchun uni nn.Sequential() konteyneri yordamida qatlam sifatida qo'shish mumkin.\n",
        "\n",
        "nn.Tanh() ning chiqishi (-1, 1) oralig'ida bo'ladi, ya'ni kuchli salbiy kirishlar salbiy natijalarga va kuchli ijobiy kirishlar ijobiy natijalarga moslashtiriladi. Faqat nolga yaqin kirishlar nolga yaqin chiqishlar bilan taqqoslanadi, bu esa yo'qolib borayotgan gradient muammosini hal qilishga yordam beradi."
      ],
      "metadata": {
        "id": "_NjEJWerOSP1"
      }
    },
    {
      "cell_type": "markdown",
      "source": [
        "nn.Linear() - PyTorch funktsiyasi nn.Linear() kirish tensoriga chiziqli transformatsiyani qo'llaydi. Xususan, u oʻrganish mumkin boʻlgan ogʻirlik matritsasi bilan kiritilgan maʼlumotlarni matritsali koʻpaytirishni amalga oshiradi va oʻrganish mumkin boʻlgan tarafkashlik atamasini qoʻshadi. Chiqish tensori kirish tenzori bilan bir xil shaklga ega, konstruktorda ko'rsatilgan chiqish xususiyatlarining soniga teng bo'lgan oxirgi o'lchov bundan mustasno.\n",
        "\n",
        "nn.Linear() sinfining konstruktori ikkita argumentni oladi:\n",
        "\n",
        "in_features: har bir kirish namunasining o'lchami\n",
        "out_features: har bir chiqish namunasi hajmi\n",
        "Masalan, nn.Linear(784, 256)784 ta kirish xususiyati va 256 ta chiqish xususiyatiga ega chiziqli qatlam hosil qiladi.\n",
        "\n",
        "nn.Linear() funksiyasi odatda neyron tarmoq arxitekturasining bir qismi sifatida boshqa qatlamlar va faollashtirish funksiyalari bilan birga ishlatiladi. U tasniflash yoki regressiya kabi vazifalar uchun ishlatilishi mumkin, bunda kirish xususiyatlari chiziqli transformatsiyadan so'ng chiziqli bo'lmagan faollashtirish funktsiyalari orqali pastki o'lchamli bo'shliqqa aylanadi.\n",
        "\n",
        "nn.Linear() qatlamining og'irliklari va noaniqliklari tasodifiy ishga tushirish yoki oldindan o'rgatilgan og'irliklar kabi turli usullar yordamida ishga tushirilishi mumkin. Trening davomida og'irliklar va noaniqliklar stoxastik gradient descent (SGD) yoki Adam kabi optimallashtirish algoritmi yordamida yangilanadi."
      ],
      "metadata": {
        "id": "DdR_S-d1O5p4"
      }
    },
    {
      "cell_type": "code",
      "source": [
        "class LeNet(nn.Module):\n",
        "  def __init__(self):\n",
        "      super(LeNet,self).__init__()\n",
        "      #32x32x1\n",
        "      self.conv1=nn.Conv2d(in_channels=1,out_channels=6,kernel_size=5,stride=1,padding=0)\n",
        "      #28x28x6\n",
        "      self.conv2=nn.Conv2d(in_channels=6,out_channels=16,kernel_size=5,stride=1,padding=0)\n",
        "      #14x14x6\n",
        "      self.conv3=nn.Conv2d(in_channels=16,out_channels=120,kernel_size=5,stride=1,padding=0)\n",
        "      #10x10x16\n",
        "      #AVG POLL 5x5x16\n",
        "      self.linear1=nn.Linear(120,84)\n",
        "      self.linear2=nn.Linear(84,10)\n",
        "      self.tanh=nn.Tanh()\n",
        "      self.avgpool=nn.AvgPool2d(kernel_size=2,stride=2)\n",
        "  def forward(self,x):\n",
        "      #32x32x1\n",
        "      x=self.conv1(x)\n",
        "      x=self.tanh(x)\n",
        "      #28x28x6\n",
        "      x=self.avgpool(x)\n",
        "      #14x14x6\n",
        "      x=self.conv2(x)\n",
        "      #10x10x16\n",
        "      x=self.tanh(x)\n",
        "      x=self.avgpool(x)\n",
        "      #5x5x16\n",
        "      x=self.conv3(x)\n",
        "      #1x1x120\n",
        "      x=self.tanh(x)\n",
        "      x=x.reshape(x.shape[0],-1)\n",
        "      #120\n",
        "      x=self.linear1(x)\n",
        "      #84\n",
        "      x=self.tanh(x)\n",
        "      #84\n",
        "      x=self.linear2(x)\n",
        "      #10\n",
        "      return x"
      ],
      "metadata": {
        "id": "IJrDv70KgpSC"
      },
      "execution_count": 74,
      "outputs": []
    },
    {
      "cell_type": "code",
      "source": [
        "model=LeNet()"
      ],
      "metadata": {
        "id": "Tl1GzuFtRRQa"
      },
      "execution_count": 75,
      "outputs": []
    },
    {
      "cell_type": "markdown",
      "source": [
        "nn.CrossEntropyLoss() ko'p sinfli tasniflash muammolari uchun ishlatiladigan PyTorch yo'qotish funktsiyasidir. Ushbu yo'qotish funktsiyasi log softmax funktsiyasini va salbiy log ehtimollik yo'qolishini bitta funktsiyaga birlashtiradi. nn.CrossEntropyLoss() ga kirish normallashtirilmagan logitlar bo'lishi kerak va maqsad sinf indeksi tenzori bo'lishi kerak, bunda har bir element har bir misol uchun to'g'ri sinfni ifodalaydi.\n",
        "\n",
        "nn.CrossEntropyLoss() funksiyasi neyron tarmoqning chiqishiga Softmax funksiyasini qo'llaydi va keyin bashorat qilingan sinf ehtimolliklari va haqiqiy sinf ehtimolliklari o'rtasidagi o'zaro entropiya yo'qotilishini hisoblab chiqadi. U odatda tasvirni tasniflash vazifalarida qo'llaniladi, bu erda maqsad tasvirni bir nechta sinflardan biriga to'g'ri tasniflashdir.\n",
        "\n",
        "Funktsiya bir nechta ixtiyoriy argumentlarni oladi, jumladan, vazn, o'lcham_o'rtacha, ignore_index, kamaytirish va kamaytirish, ular yo'qotish funksiyasining harakatini sozlash uchun ishlatilishi mumkin.\n",
        "\n",
        "nn.CrossEntropyLoss() odatda neyron tarmoqni o'rgatish uchun SGD yoki Adam kabi optimallashtiruvchi bilan birgalikda ishlatiladi. Trening davomida optimallashtiruvchi nn.CrossEntropyLoss() tomonidan yaratilgan yo'qotishlarni minimallashtirish uchun neyron tarmoqning og'irliklarini moslashtiradi."
      ],
      "metadata": {
        "id": "vFkmrc9VSk3H"
      }
    },
    {
      "cell_type": "markdown",
      "source": [
        "PyTorch torch.optim.Adam deb nomlangan alohida sinfni taqdim etadi, bu stokastik gradient tushishi uchun Adam optimallashtirish algoritmini amalga oshirishdir.\n",
        "\n",
        "Torch.optim.Adam klassi berilgan yo'qotish funksiyasini minimallashtirish uchun mashg'ulot vaqtida neyron tarmoqni optimallashtirish uchun ishlatiladi. Unda o'rganish tezligi, beta va epsilon kabi o'rnatilishi mumkin bo'lgan bir nechta giperparametrlar mavjud.\n",
        "\n",
        "Torch.optim.Adam dan foydalanish uchun avvalo sinfning namunasini yaratishingiz va optimallashtiriladigan parametrlarni va giperparametrlarni argument sifatida topshirishingiz kerak. Keyin, har bir trening iteratsiyasi davomida, ushbu parametrlarga nisbatan yo'qotish funksiyasining gradienti asosida parametrlarni yangilash uchun optimallashtiruvchining step() usulini chaqirishingiz kerak."
      ],
      "metadata": {
        "id": "r-r8WP6JTBqW"
      }
    },
    {
      "cell_type": "code",
      "source": [
        "learning_rate=0.001\n",
        "criterion=nn.CrossEntropyLoss()\n",
        "optimizer=torch.optim.Adam(model.parameters(),lr=learning_rate)"
      ],
      "metadata": {
        "id": "e5gTq0ttRdoh"
      },
      "execution_count": 76,
      "outputs": []
    },
    {
      "cell_type": "code",
      "source": [
        "num_epochs=10"
      ],
      "metadata": {
        "id": "mopIAfloTJKC"
      },
      "execution_count": 77,
      "outputs": []
    },
    {
      "cell_type": "markdown",
      "source": [
        "Pythonda o'rnatilgan \"enumerate()\" funksiyasi takrorlanadigan ob'ektga hisoblagich qo'shish va tsikllar uchun ishlatilishi yoki kortejlar ro'yxatiga aylantirilishi mumkin bo'lgan sanab o'tilgan ob'ektni qaytarish uchun ishlatiladi.\n",
        "\n",
        "Pythondan tashqarida, \"sanoqlash\" atamasi ro'yxat yoki ketma-ketlikdagi elementlarning sonini sanash yoki aniqlash ma'nosini bildiruvchi fe'l sifatida ham ishlatilishi mumkin.\n",
        "\n",
        "Mulkni boshqarish dasturiy ta'minoti kontekstida \"Enumerate\" bu mulkni boshqarish uchun buxgalteriya hisobini boshqarish, aloqa, jalb qilish va hisobot berish vositalarini birlashtirgan dasturiy platformaning nomi.\n",
        "\n",
        "Ba'zi kontekstlarda \"sanoqlash\" \"element\" yoki \"ro'yxat\" ning sinonimi sifatida ishlatiladi, bu har bir elementni ketma-ketlikda alohida-alohida oshirish tartibida belgilashni anglatadi.. Misol uchun, siz argumentdagi kamchiliklarni sanab o'tishingiz yoki jarayondagi bosqichlarni sanab o'tishingiz mumkin."
      ],
      "metadata": {
        "id": "qbbccvh4jLwA"
      }
    },
    {
      "cell_type": "markdown",
      "source": [
        "Tqdm - bu Python kutubxonasi bo'lib, u iteratorlar uchun progress barlarini taqdim etadi va tsikl yoki boshqa iteratsiya jarayonini kuzatish uchun ishlatilishi mumkin. “Tqdm” nomi “taqadum”ning qisqartmasi bo‘lib, arabcha “taraqqiyot” ma’nosini bildiradi. Bu uzoq muddatli hisoblash yoki katta hajmdagi ma'lumotlarni o'z ichiga olgan vazifaning borishini ko'rsatish uchun foydali bo'lishi mumkin.\n",
        "\n",
        "Tqdm kutubxonasi juda ko'p qirrali bo'lib, uni bir necha usulda ishlatish mumkin. Tqdm dan foydalanishning eng keng tarqalgan usullaridan biri bu tsikl yoki generator kabi takrorlanuvchini \"tqdm()\" funksiyasi bilan o'rashdir. Shu tarzda foydalanilganda, tqdm avtomatik ravishda bajarilish foizini va operatsiya uchun qolgan taxminiy vaqtni ko'rsatadigan progress satrini ko'rsatadi.\n",
        "\n",
        "Tqdm kutubxonasi yuqori darajadagi sozlash imkonini beradi va taraqqiyot satrining ko'rinishi va xatti-harakatlarini boshqarish uchun ishlatilishi mumkin bo'lgan ko'plab parametrlarni taqdim etadi. Masalan, siz progress satrining tavsifini belgilashingiz, kutilgan takrorlashlarning umumiy sonini belgilashingiz mumkin, va agar xohlasangiz, harakatlanish panelini butunlay o'chirib qo'ying.\n",
        "\n",
        "Tqdm-ni pip yoki conda yordamida o'rnatish mumkin va paketni GitHub omboridan ham yuklab olish mumkin. Kutubxona MIT Open Source License ostida tarqatiladi va manba kodi GitHub da mavjud."
      ],
      "metadata": {
        "id": "Qzz28VN1jYnB"
      }
    },
    {
      "cell_type": "markdown",
      "source": [
        ".argmax()turli xil Python kutubxonalarida, jumladan NumPy, PyTorch va pandalarda mavjud boʻlgan usul boʻlib, massivdagi yoki belgilangan oʻq boʻyicha tensordagi maksimal qiymat indekslarini qaytaradi..\n",
        "\n",
        "NumPy ilovasi .argmax()massivning oʻqi yoki oʻqlari boʻyicha maksimal qiymatlar indekslarini qaytaradi.. Xuddi shunday, PyTorch-ning amalga oshirilishi .argmax()bir yoki bir nechta o'lchamlar bo'yicha tensorning maksimal qiymatlari indekslarini qaytaradi.. Boshqa tomondan, pandasning amalga oshirilishi .argmax()Seriyadagi maksimal qiymatning qator o'rnini qaytaradi.\n",
        "\n",
        "Shuni ta'kidlash kerakki, .argmax()ba'zida GPU-da ishlamay qolishi mumkin, qidiruv natijalaridan birida tasvirlanganidek. Shuni ham ta'kidlash joizki, taqdim etilgan kodda uchraydigan xato DataFrame usuli NumPy massivini emas, balki bog'langan metod ob'ektini qaytarayotgani bilan bog'liq bo'lishi mumkin , shuning uchun undan to_numpy()foydalanishga urinayotganda AttributeError ..argmax()\n",
        "\n",
        "Umuman olganda, .argmax()massiv yoki tensorda maksimal qiymat indeksini topish uchun ko'plab ma'lumotlarni tahlil qilish va mashinani o'rganish kontekstlarida foydali usul."
      ],
      "metadata": {
        "id": "iQLo3vu1jjXg"
      }
    },
    {
      "cell_type": "code",
      "source": [
        "class Trainer:\n",
        "    def __init__(self, model, train_dataloader, test_dataloader, criterion, optimizer, epochs=3):\n",
        "        self.model = model\n",
        "        self.train_dataloader = train_dataloader\n",
        "        self.test_dataloader = test_dataloader\n",
        "        self.criterion = criterion\n",
        "        self.optimizer = optimizer\n",
        "\n",
        "        self.epochs = epochs\n",
        "        self.history = {'loss':[],'acc':[],'val_loss':[],'val_acc':[]}\n",
        "\n",
        "    def train_loop(self):\n",
        "        sum_loss = 0\n",
        "        sum_accuracy = 0\n",
        "        n = len(self.train_dataloader)\n",
        "        for i, (data,label) in enumerate(tqdm(self.train_dataloader)):\n",
        "            data = data.to(device)\n",
        "            label = label.to(device)\n",
        "            # bashorat qilish modeli\n",
        "            output = self.model(data)\n",
        "            # yo'qotishni loss\n",
        "            loss = self.criterion(output, label)\n",
        "\n",
        "            sum_loss += loss.item()\n",
        "            n_corrects = (output.argmax(axis=1)==label).sum().item()\n",
        "            sum_accuracy += n_corrects/label.size(0)\n",
        "\n",
        "            loss.backward()\n",
        "            self.optimizer.step()\n",
        "            self.optimizer.zero_grad()\n",
        "\n",
        "\n",
        "        train_loss = sum_loss/n\n",
        "        train_accuracy = sum_accuracy/n\n",
        "\n",
        "        self.history['loss'].append(train_loss)\n",
        "        self.history['acc'].append(train_accuracy)\n",
        "\n",
        "        return train_loss, train_accuracy\n",
        "\n",
        "    def validation_loop(self):\n",
        "        sum_loss = 0\n",
        "        sum_accuracy = 0\n",
        "        n = len(self.test_dataloader)\n",
        "        for i, (data,label) in enumerate(tqdm(self.test_dataloader)):\n",
        "            data = data.to(device)\n",
        "            label = label.to(device)\n",
        "            # bashorat qilish modeli\n",
        "            output = self.model(data)\n",
        "            # yo'qotishni loss\n",
        "            loss = self.criterion(output, label)\n",
        "            n_corrects = (output.argmax(axis=1)==label).sum().item()\n",
        "\n",
        "            sum_loss += loss.item()\n",
        "            sum_accuracy += n_corrects/label.size(0)\n",
        "\n",
        "        val_loss = sum_loss/n\n",
        "        val_accuracy = sum_accuracy/n\n",
        "\n",
        "        self.history['val_loss'].append(val_loss)\n",
        "        self.history['val_acc'].append(val_accuracy)\n",
        "\n",
        "        return val_loss, val_accuracy\n",
        "\n",
        "    def train(self):\n",
        "        for epoch in range(num_epochs):\n",
        "            train_loss, train_acc = self.train_loop()\n",
        "            val_loss, val_acc = self.validation_loop()\n",
        "            print()\n",
        "            print(f'Epoch[{epoch+1}/{num_epochs}] \\t train_loss: {train_loss:.5f}, train_acc: {train_acc:.2f} \\t val_loss: {val_loss:.5f} \\t val_acc: {val_acc:.2}')\n"
      ],
      "metadata": {
        "id": "W2o-Pg-aieXv"
      },
      "execution_count": 78,
      "outputs": []
    },
    {
      "cell_type": "code",
      "source": [
        "trainer = Trainer(\n",
        "    model = model.to(device),\n",
        "    train_dataloader = train_data,\n",
        "    test_dataloader = test_data,\n",
        "    criterion=criterion,\n",
        "    optimizer=optimizer\n",
        ")"
      ],
      "metadata": {
        "id": "KYcFSHVOg7R_"
      },
      "execution_count": 79,
      "outputs": []
    },
    {
      "cell_type": "code",
      "source": [
        "trainer.train()"
      ],
      "metadata": {
        "colab": {
          "base_uri": "https://localhost:8080/"
        },
        "id": "BjnTU24mhl7A",
        "outputId": "a3d81bf5-51fd-4227-f533-ab15bb9eafe0"
      },
      "execution_count": 80,
      "outputs": [
        {
          "output_type": "stream",
          "name": "stderr",
          "text": [
            "100%|██████████| 938/938 [00:40<00:00, 23.14it/s]\n",
            "100%|██████████| 157/157 [00:04<00:00, 33.20it/s]\n"
          ]
        },
        {
          "output_type": "stream",
          "name": "stdout",
          "text": [
            "\n",
            "Epoch[1/10] \t train_loss: 0.27900, train_acc: 0.92 \t val_loss: 0.10416 \t val_acc: 0.97\n"
          ]
        },
        {
          "output_type": "stream",
          "name": "stderr",
          "text": [
            "100%|██████████| 938/938 [00:37<00:00, 25.22it/s]\n",
            "100%|██████████| 157/157 [00:04<00:00, 33.82it/s]\n"
          ]
        },
        {
          "output_type": "stream",
          "name": "stdout",
          "text": [
            "\n",
            "Epoch[2/10] \t train_loss: 0.08744, train_acc: 0.97 \t val_loss: 0.06569 \t val_acc: 0.98\n"
          ]
        },
        {
          "output_type": "stream",
          "name": "stderr",
          "text": [
            "100%|██████████| 938/938 [00:32<00:00, 28.88it/s]\n",
            "100%|██████████| 157/157 [00:04<00:00, 34.15it/s]\n"
          ]
        },
        {
          "output_type": "stream",
          "name": "stdout",
          "text": [
            "\n",
            "Epoch[3/10] \t train_loss: 0.05978, train_acc: 0.98 \t val_loss: 0.07003 \t val_acc: 0.98\n"
          ]
        },
        {
          "output_type": "stream",
          "name": "stderr",
          "text": [
            "100%|██████████| 938/938 [00:43<00:00, 21.49it/s]\n",
            "100%|██████████| 157/157 [00:05<00:00, 31.13it/s]\n"
          ]
        },
        {
          "output_type": "stream",
          "name": "stdout",
          "text": [
            "\n",
            "Epoch[4/10] \t train_loss: 0.04688, train_acc: 0.99 \t val_loss: 0.04302 \t val_acc: 0.99\n"
          ]
        },
        {
          "output_type": "stream",
          "name": "stderr",
          "text": [
            "100%|██████████| 938/938 [00:30<00:00, 30.30it/s]\n",
            "100%|██████████| 157/157 [00:05<00:00, 29.12it/s]\n"
          ]
        },
        {
          "output_type": "stream",
          "name": "stdout",
          "text": [
            "\n",
            "Epoch[5/10] \t train_loss: 0.03736, train_acc: 0.99 \t val_loss: 0.04465 \t val_acc: 0.99\n"
          ]
        },
        {
          "output_type": "stream",
          "name": "stderr",
          "text": [
            "100%|██████████| 938/938 [00:30<00:00, 30.47it/s]\n",
            "100%|██████████| 157/157 [00:05<00:00, 31.01it/s]\n"
          ]
        },
        {
          "output_type": "stream",
          "name": "stdout",
          "text": [
            "\n",
            "Epoch[6/10] \t train_loss: 0.02978, train_acc: 0.99 \t val_loss: 0.05376 \t val_acc: 0.98\n"
          ]
        },
        {
          "output_type": "stream",
          "name": "stderr",
          "text": [
            "100%|██████████| 938/938 [00:31<00:00, 29.57it/s]\n",
            "100%|██████████| 157/157 [00:04<00:00, 34.67it/s]\n"
          ]
        },
        {
          "output_type": "stream",
          "name": "stdout",
          "text": [
            "\n",
            "Epoch[7/10] \t train_loss: 0.02636, train_acc: 0.99 \t val_loss: 0.04330 \t val_acc: 0.99\n"
          ]
        },
        {
          "output_type": "stream",
          "name": "stderr",
          "text": [
            "100%|██████████| 938/938 [00:31<00:00, 30.16it/s]\n",
            "100%|██████████| 157/157 [00:04<00:00, 34.06it/s]\n"
          ]
        },
        {
          "output_type": "stream",
          "name": "stdout",
          "text": [
            "\n",
            "Epoch[8/10] \t train_loss: 0.02118, train_acc: 0.99 \t val_loss: 0.03897 \t val_acc: 0.99\n"
          ]
        },
        {
          "output_type": "stream",
          "name": "stderr",
          "text": [
            "100%|██████████| 938/938 [00:32<00:00, 29.06it/s]\n",
            "100%|██████████| 157/157 [00:04<00:00, 34.39it/s]\n"
          ]
        },
        {
          "output_type": "stream",
          "name": "stdout",
          "text": [
            "\n",
            "Epoch[9/10] \t train_loss: 0.01928, train_acc: 0.99 \t val_loss: 0.04487 \t val_acc: 0.99\n"
          ]
        },
        {
          "output_type": "stream",
          "name": "stderr",
          "text": [
            "100%|██████████| 938/938 [00:31<00:00, 29.37it/s]\n",
            "100%|██████████| 157/157 [00:04<00:00, 32.83it/s]"
          ]
        },
        {
          "output_type": "stream",
          "name": "stdout",
          "text": [
            "\n",
            "Epoch[10/10] \t train_loss: 0.01543, train_acc: 1.00 \t val_loss: 0.04132 \t val_acc: 0.99\n"
          ]
        },
        {
          "output_type": "stream",
          "name": "stderr",
          "text": [
            "\n"
          ]
        }
      ]
    },
    {
      "cell_type": "markdown",
      "source": [
        "PyTorch-da \"next(iter(test_loader))\" ga qo'ng'iroq qilish \"test_loader\" DataLoader obyektidan keyingi ma'lumotlar va teglar to'plamini qaytaradi. Bu PyTorch-dagi DataLoaders-dan foydalanib, ma'lumotlar to'plamini to'plamlarda takrorlashning keng tarqalgan usuli.\n",
        "\n",
        "Xuddi shunday, TensorFlow'da \"keyingi (iter (test_data))\" chaqiruvi \"test_data\" ma'lumotlar to'plami ob'ektidagi ma'lumotlar va teglarning keyingi partiyasini qaytaradi. Bu, shuningdek, TensorFlow-dagi ma'lumotlar to'plamidan foydalangan holda ma'lumotlar to'plamini to'plamlarda takrorlashning keng tarqalgan usuli.\n",
        "\n",
        "Umuman olganda, \"next(iter())\" chaqiruvi ma'lumotlar to'plami yoki DataLoader ob'ekti orqali to'plamlarda iteratsiya qilishning keng tarqalgan namunasidir va undan PyTorch va TensorFlow-da ham foydalanish mumkin."
      ],
      "metadata": {
        "id": "lr_q6Idmnu1A"
      }
    },
    {
      "cell_type": "markdown",
      "source": [
        "PyTorch yoki TensorFlow kabi mashinani o'rganish tizimi kontekstida tensorda \".detach().cpu()\" ni chaqirish uni NumPy massiviga aylantirishning keng tarqalgan usuli hisoblanadi, shu bilan birga uning hisoblash grafikidan va CPU xotirasida saqlanadi.\n",
        "\n",
        "Detach() usuli tensorni hisoblash grafigidan olib tashlash uchun ishlatiladi, ya'ni tensor endi modelni o'rgatish uchun orqaga tarqalish operatsiyalari uchun ishlatilmaydi. detach() dan so'ng cpu() ga qo'ng'iroq qilish, tensor dastlab GPUda bo'lgan taqdirda, GPU xotirasidan farqli o'laroq, protsessor xotirasida saqlanishini ta'minlaydi. Bu ko'pincha NumPy-dan foydalanganda kerak bo'ladi, chunki u GPU operatsiyalarini qo'llab-quvvatlamaydi.\n",
        "\n",
        "Xulosa qilib aytganda, “pred.detach().cpu()” chaqirilishi tensorni NumPy massiviga aylantirish va uni hisoblash grafikidan ajratib, protsessor xotirasiga o‘tkazish usulidir. Bu PyTorch yoki TensorFlowni o'z ichiga olgan mashinani o'rganish dasturlarida keng tarqalgan operatsiya."
      ],
      "metadata": {
        "id": "z6m6p-rpn7UU"
      }
    },
    {
      "cell_type": "markdown",
      "source": [
        "\"From sklearn.metrics import confusion_matrix\" import bayonoti tasniflash modelining ishlashini baholashni o'z ichiga olgan Python mashina o'rganish ilovalarida qo'llaniladi. Scikit-learn metrikalari moduli tomonidan taqdim etilgan confusion_matrix() funksiyasi tasniflash modelining bashoratli ishlashini baholash uchun ishlatiladigan jadval bo'lgan chalkashlik matritsasini hisoblaydi va qaytaradi.\n",
        "\n",
        "Funktsiya kirish sifatida ikkita massivni oladi: y_true, unda haqiqiy teglar va y_pred, bashorat qilingan teglar mavjud. Keyin chalkashlik matritsasini qaytaradi, bu shaklning 2D massivi (n_classes, n_classes), bu erda n_classes y_true va y_pred-dagi noyob teglar sonidir.\n",
        "\n",
        "Matritsadagi har bir c_ij elementi i sinfiga tegishli, lekin model bo'yicha j sinf sifatida tasniflangan kuzatuvlar sonini ifodalaydi. c_ii diagonal elementlari haqiqiy musbat (TP) sonini, diagonaldan tashqari elementlar esa noto'g'ri musbat (FP), noto'g'ri salbiy (FN) va haqiqiy salbiy (TN) ni ifodalaydi.\n",
        "\n",
        "Umuman olganda, confusion_matrix() funktsiyasi tasniflash modellarining ishlashini baholash uchun foydali vosita bo'lib, u aniqlik, eslab qolish, F1 ball va aniqlik kabi boshqa baholash ko'rsatkichlari bilan birgalikda ishlatilishi mumkin."
      ],
      "metadata": {
        "id": "djgEdagXoFBI"
      }
    },
    {
      "cell_type": "code",
      "source": [
        "test_img,test_label=next(iter(test_data))\n",
        "pred=model(test_img.to(device))\n",
        "pred=pred.argmax(axis=1)\n",
        "pred = pred.detach().cpu()\n",
        "from sklearn.metrics import confusion_matrix\n",
        "print( test_label)\n",
        "cm=confusion_matrix(test_label,pred)\n",
        "print(cm)\n",
        "import seaborn as sns\n",
        "sns.heatmap(cm,annot=True)"
      ],
      "metadata": {
        "colab": {
          "base_uri": "https://localhost:8080/",
          "height": 678
        },
        "id": "mq5Cw8j-h20f",
        "outputId": "78ddba56-cb50-47b4-9a6e-b2318f07d5c3"
      },
      "execution_count": 81,
      "outputs": [
        {
          "output_type": "stream",
          "name": "stdout",
          "text": [
            "tensor([9, 0, 5, 9, 0, 0, 2, 4, 2, 5, 5, 5, 2, 4, 6, 5, 3, 7, 1, 0, 5, 9, 4, 9,\n",
            "        4, 7, 1, 9, 2, 8, 2, 6, 7, 7, 8, 0, 8, 9, 6, 2, 9, 5, 7, 7, 3, 6, 9, 6,\n",
            "        2, 9, 1, 3, 8, 4, 0, 1, 6, 7, 2, 4, 8, 0, 6, 9])\n",
            "[[ 7  0  0  0  0  0  0  0  0  0]\n",
            " [ 0  4  0  0  0  0  0  0  0  0]\n",
            " [ 1  0  7  0  0  0  0  0  0  0]\n",
            " [ 0  0  0  3  0  0  0  0  0  0]\n",
            " [ 0  0  0  0  6  0  0  0  0  0]\n",
            " [ 0  0  0  0  0  7  0  0  0  0]\n",
            " [ 0  0  0  0  0  0  6  0  1  0]\n",
            " [ 0  0  0  0  0  0  0  7  0  0]\n",
            " [ 0  0  0  0  0  0  0  0  5  0]\n",
            " [ 0  0  0  0  0  0  0  0  0 10]]\n"
          ]
        },
        {
          "output_type": "execute_result",
          "data": {
            "text/plain": [
              "<Axes: >"
            ]
          },
          "metadata": {},
          "execution_count": 81
        },
        {
          "output_type": "display_data",
          "data": {
            "text/plain": [
              "<Figure size 640x480 with 2 Axes>"
            ],
            "image/png": "[encoded data removed]"
          },
          "metadata": {}
        }
      ]
    },
    {
      "cell_type": "code",
      "source": [
        "\n",
        "img=\"/content/1.png\"\n",
        "img=Image.open(img)\n",
        "plt.imshow(img)\n",
        "plt.show()\n",
        ""
      ],
      "metadata": {
        "colab": {
          "base_uri": "https://localhost:8080/",
          "height": 363
        },
        "id": "x-qfY8IyuxrG",
        "outputId": "1f4edd81-f15a-40ad-af0a-e59160d5af76"
      },
      "execution_count": 93,
      "outputs": [
        {
          "output_type": "display_data",
          "data": {
            "text/plain": [
              "<Figure size 640x480 with 1 Axes>"
            ],
            "image/png": "[encoded data removed]"
          },
          "metadata": {}
        }
      ]
    },
    {
      "cell_type": "code",
      "source": [
        "img_path = \"/content/1.png\"\n",
        "img = Image.open(img_path)\n",
        "transform = T.Compose([\n",
        "        T.Resize(size=32),\n",
        "        T.ToTensor()\n",
        "    ])\n",
        "img = transform(img)\n",
        "img = img.unsqueeze(0)\n",
        "model.eval()\n",
        "with torch.no_grad():\n",
        "    logits = model(img)\n",
        "    predictions = np.argmax(torch.sigmoid(logits).detach().cpu().numpy(), axis=1)\n",
        "print(\"Predicted label for the given image is: \", predictions)"
      ],
      "metadata": {
        "colab": {
          "base_uri": "https://localhost:8080/",
          "height": 397
        },
        "id": "8Xskd9tnr0bm",
        "outputId": "6a1e157a-2514-4e40-dd51-4054690b628a"
      },
      "execution_count": 94,
      "outputs": [
        {
          "output_type": "error",
          "ename": "RuntimeError",
          "evalue": "ignored",
          "traceback": [
            "\u001b[0;31m---------------------------------------------------------------------------\u001b[0m",
            "\u001b[0;31mRuntimeError\u001b[0m                              Traceback (most recent call last)",
            "\u001b[0;32m<ipython-input-94-56d0e04187d7>\u001b[0m in \u001b[0;36m<cell line: 10>\u001b[0;34m()\u001b[0m\n\u001b[1;32m      9\u001b[0m \u001b[0mmodel\u001b[0m\u001b[0;34m.\u001b[0m\u001b[0meval\u001b[0m\u001b[0;34m(\u001b[0m\u001b[0;34m)\u001b[0m\u001b[0;34m\u001b[0m\u001b[0;34m\u001b[0m\u001b[0m\n\u001b[1;32m     10\u001b[0m \u001b[0;32mwith\u001b[0m \u001b[0mtorch\u001b[0m\u001b[0;34m.\u001b[0m\u001b[0mno_grad\u001b[0m\u001b[0;34m(\u001b[0m\u001b[0;34m)\u001b[0m\u001b[0;34m:\u001b[0m\u001b[0;34m\u001b[0m\u001b[0;34m\u001b[0m\u001b[0m\n\u001b[0;32m---> 11\u001b[0;31m     \u001b[0mlogits\u001b[0m \u001b[0;34m=\u001b[0m \u001b[0mmodel\u001b[0m\u001b[0;34m(\u001b[0m\u001b[0mimg\u001b[0m\u001b[0;34m)\u001b[0m\u001b[0;34m\u001b[0m\u001b[0;34m\u001b[0m\u001b[0m\n\u001b[0m\u001b[1;32m     12\u001b[0m     \u001b[0mpredictions\u001b[0m \u001b[0;34m=\u001b[0m \u001b[0mnp\u001b[0m\u001b[0;34m.\u001b[0m\u001b[0margmax\u001b[0m\u001b[0;34m(\u001b[0m\u001b[0mtorch\u001b[0m\u001b[0;34m.\u001b[0m\u001b[0msigmoid\u001b[0m\u001b[0;34m(\u001b[0m\u001b[0mlogits\u001b[0m\u001b[0;34m)\u001b[0m\u001b[0;34m.\u001b[0m\u001b[0mdetach\u001b[0m\u001b[0;34m(\u001b[0m\u001b[0;34m)\u001b[0m\u001b[0;34m.\u001b[0m\u001b[0mcpu\u001b[0m\u001b[0;34m(\u001b[0m\u001b[0;34m)\u001b[0m\u001b[0;34m.\u001b[0m\u001b[0mnumpy\u001b[0m\u001b[0;34m(\u001b[0m\u001b[0;34m)\u001b[0m\u001b[0;34m,\u001b[0m \u001b[0maxis\u001b[0m\u001b[0;34m=\u001b[0m\u001b[0;36m1\u001b[0m\u001b[0;34m)\u001b[0m\u001b[0;34m\u001b[0m\u001b[0;34m\u001b[0m\u001b[0m\n\u001b[1;32m     13\u001b[0m \u001b[0mprint\u001b[0m\u001b[0;34m(\u001b[0m\u001b[0;34m\"Predicted label for the given image is: \"\u001b[0m\u001b[0;34m,\u001b[0m \u001b[0mpredictions\u001b[0m\u001b[0;34m)\u001b[0m\u001b[0;34m\u001b[0m\u001b[0;34m\u001b[0m\u001b[0m\n",
            "\u001b[0;32m/usr/local/lib/python3.10/dist-packages/torch/nn/modules/module.py\u001b[0m in \u001b[0;36m_call_impl\u001b[0;34m(self, *args, **kwargs)\u001b[0m\n\u001b[1;32m   1499\u001b[0m                 \u001b[0;32mor\u001b[0m \u001b[0m_global_backward_pre_hooks\u001b[0m \u001b[0;32mor\u001b[0m \u001b[0m_global_backward_hooks\u001b[0m\u001b[0;34m\u001b[0m\u001b[0;34m\u001b[0m\u001b[0m\n\u001b[1;32m   1500\u001b[0m                 or _global_forward_hooks or _global_forward_pre_hooks):\n\u001b[0;32m-> 1501\u001b[0;31m             \u001b[0;32mreturn\u001b[0m \u001b[0mforward_call\u001b[0m\u001b[0;34m(\u001b[0m\u001b[0;34m*\u001b[0m\u001b[0margs\u001b[0m\u001b[0;34m,\u001b[0m \u001b[0;34m**\u001b[0m\u001b[0mkwargs\u001b[0m\u001b[0;34m)\u001b[0m\u001b[0;34m\u001b[0m\u001b[0;34m\u001b[0m\u001b[0m\n\u001b[0m\u001b[1;32m   1502\u001b[0m         \u001b[0;31m# Do not call functions when jit is used\u001b[0m\u001b[0;34m\u001b[0m\u001b[0;34m\u001b[0m\u001b[0m\n\u001b[1;32m   1503\u001b[0m         \u001b[0mfull_backward_hooks\u001b[0m\u001b[0;34m,\u001b[0m \u001b[0mnon_full_backward_hooks\u001b[0m \u001b[0;34m=\u001b[0m \u001b[0;34m[\u001b[0m\u001b[0;34m]\u001b[0m\u001b[0;34m,\u001b[0m \u001b[0;34m[\u001b[0m\u001b[0;34m]\u001b[0m\u001b[0;34m\u001b[0m\u001b[0;34m\u001b[0m\u001b[0m\n",
            "\u001b[0;32m<ipython-input-74-9d6303eaf85e>\u001b[0m in \u001b[0;36mforward\u001b[0;34m(self, x)\u001b[0m\n\u001b[1;32m     16\u001b[0m   \u001b[0;32mdef\u001b[0m \u001b[0mforward\u001b[0m\u001b[0;34m(\u001b[0m\u001b[0mself\u001b[0m\u001b[0;34m,\u001b[0m\u001b[0mx\u001b[0m\u001b[0;34m)\u001b[0m\u001b[0;34m:\u001b[0m\u001b[0;34m\u001b[0m\u001b[0;34m\u001b[0m\u001b[0m\n\u001b[1;32m     17\u001b[0m       \u001b[0;31m#32x32x1\u001b[0m\u001b[0;34m\u001b[0m\u001b[0;34m\u001b[0m\u001b[0m\n\u001b[0;32m---> 18\u001b[0;31m       \u001b[0mx\u001b[0m\u001b[0;34m=\u001b[0m\u001b[0mself\u001b[0m\u001b[0;34m.\u001b[0m\u001b[0mconv1\u001b[0m\u001b[0;34m(\u001b[0m\u001b[0mx\u001b[0m\u001b[0;34m)\u001b[0m\u001b[0;34m\u001b[0m\u001b[0;34m\u001b[0m\u001b[0m\n\u001b[0m\u001b[1;32m     19\u001b[0m       \u001b[0mx\u001b[0m\u001b[0;34m=\u001b[0m\u001b[0mself\u001b[0m\u001b[0;34m.\u001b[0m\u001b[0mtanh\u001b[0m\u001b[0;34m(\u001b[0m\u001b[0mx\u001b[0m\u001b[0;34m)\u001b[0m\u001b[0;34m\u001b[0m\u001b[0;34m\u001b[0m\u001b[0m\n\u001b[1;32m     20\u001b[0m       \u001b[0;31m#28x28x6\u001b[0m\u001b[0;34m\u001b[0m\u001b[0;34m\u001b[0m\u001b[0m\n",
            "\u001b[0;32m/usr/local/lib/python3.10/dist-packages/torch/nn/modules/module.py\u001b[0m in \u001b[0;36m_call_impl\u001b[0;34m(self, *args, **kwargs)\u001b[0m\n\u001b[1;32m   1499\u001b[0m                 \u001b[0;32mor\u001b[0m \u001b[0m_global_backward_pre_hooks\u001b[0m \u001b[0;32mor\u001b[0m \u001b[0m_global_backward_hooks\u001b[0m\u001b[0;34m\u001b[0m\u001b[0;34m\u001b[0m\u001b[0m\n\u001b[1;32m   1500\u001b[0m                 or _global_forward_hooks or _global_forward_pre_hooks):\n\u001b[0;32m-> 1501\u001b[0;31m             \u001b[0;32mreturn\u001b[0m \u001b[0mforward_call\u001b[0m\u001b[0;34m(\u001b[0m\u001b[0;34m*\u001b[0m\u001b[0margs\u001b[0m\u001b[0;34m,\u001b[0m \u001b[0;34m**\u001b[0m\u001b[0mkwargs\u001b[0m\u001b[0;34m)\u001b[0m\u001b[0;34m\u001b[0m\u001b[0;34m\u001b[0m\u001b[0m\n\u001b[0m\u001b[1;32m   1502\u001b[0m         \u001b[0;31m# Do not call functions when jit is used\u001b[0m\u001b[0;34m\u001b[0m\u001b[0;34m\u001b[0m\u001b[0m\n\u001b[1;32m   1503\u001b[0m         \u001b[0mfull_backward_hooks\u001b[0m\u001b[0;34m,\u001b[0m \u001b[0mnon_full_backward_hooks\u001b[0m \u001b[0;34m=\u001b[0m \u001b[0;34m[\u001b[0m\u001b[0;34m]\u001b[0m\u001b[0;34m,\u001b[0m \u001b[0;34m[\u001b[0m\u001b[0;34m]\u001b[0m\u001b[0;34m\u001b[0m\u001b[0;34m\u001b[0m\u001b[0m\n",
            "\u001b[0;32m/usr/local/lib/python3.10/dist-packages/torch/nn/modules/conv.py\u001b[0m in \u001b[0;36mforward\u001b[0;34m(self, input)\u001b[0m\n\u001b[1;32m    461\u001b[0m \u001b[0;34m\u001b[0m\u001b[0m\n\u001b[1;32m    462\u001b[0m     \u001b[0;32mdef\u001b[0m \u001b[0mforward\u001b[0m\u001b[0;34m(\u001b[0m\u001b[0mself\u001b[0m\u001b[0;34m,\u001b[0m \u001b[0minput\u001b[0m\u001b[0;34m:\u001b[0m \u001b[0mTensor\u001b[0m\u001b[0;34m)\u001b[0m \u001b[0;34m->\u001b[0m \u001b[0mTensor\u001b[0m\u001b[0;34m:\u001b[0m\u001b[0;34m\u001b[0m\u001b[0;34m\u001b[0m\u001b[0m\n\u001b[0;32m--> 463\u001b[0;31m         \u001b[0;32mreturn\u001b[0m \u001b[0mself\u001b[0m\u001b[0;34m.\u001b[0m\u001b[0m_conv_forward\u001b[0m\u001b[0;34m(\u001b[0m\u001b[0minput\u001b[0m\u001b[0;34m,\u001b[0m \u001b[0mself\u001b[0m\u001b[0;34m.\u001b[0m\u001b[0mweight\u001b[0m\u001b[0;34m,\u001b[0m \u001b[0mself\u001b[0m\u001b[0;34m.\u001b[0m\u001b[0mbias\u001b[0m\u001b[0;34m)\u001b[0m\u001b[0;34m\u001b[0m\u001b[0;34m\u001b[0m\u001b[0m\n\u001b[0m\u001b[1;32m    464\u001b[0m \u001b[0;34m\u001b[0m\u001b[0m\n\u001b[1;32m    465\u001b[0m \u001b[0;32mclass\u001b[0m \u001b[0mConv3d\u001b[0m\u001b[0;34m(\u001b[0m\u001b[0m_ConvNd\u001b[0m\u001b[0;34m)\u001b[0m\u001b[0;34m:\u001b[0m\u001b[0;34m\u001b[0m\u001b[0;34m\u001b[0m\u001b[0m\n",
            "\u001b[0;32m/usr/local/lib/python3.10/dist-packages/torch/nn/modules/conv.py\u001b[0m in \u001b[0;36m_conv_forward\u001b[0;34m(self, input, weight, bias)\u001b[0m\n\u001b[1;32m    457\u001b[0m                             \u001b[0mweight\u001b[0m\u001b[0;34m,\u001b[0m \u001b[0mbias\u001b[0m\u001b[0;34m,\u001b[0m \u001b[0mself\u001b[0m\u001b[0;34m.\u001b[0m\u001b[0mstride\u001b[0m\u001b[0;34m,\u001b[0m\u001b[0;34m\u001b[0m\u001b[0;34m\u001b[0m\u001b[0m\n\u001b[1;32m    458\u001b[0m                             _pair(0), self.dilation, self.groups)\n\u001b[0;32m--> 459\u001b[0;31m         return F.conv2d(input, weight, bias, self.stride,\n\u001b[0m\u001b[1;32m    460\u001b[0m                         self.padding, self.dilation, self.groups)\n\u001b[1;32m    461\u001b[0m \u001b[0;34m\u001b[0m\u001b[0m\n",
            "\u001b[0;31mRuntimeError\u001b[0m: Given groups=1, weight of size [6, 1, 5, 5], expected input[1, 4, 32, 53] to have 1 channels, but got 4 channels instead"
          ]
        }
      ]
    },
    {
      "cell_type": "markdown",
      "source": [
        "#Cat_and_Dog"
      ],
      "metadata": {
        "id": "osZw3vQfwY68"
      }
    },
    {
      "cell_type": "code",
      "source": [
        "!wget https://storage.googleapis.com/mledu-datasets/cats_and_dogs_filtered.zip"
      ],
      "metadata": {
        "colab": {
          "base_uri": "https://localhost:8080/"
        },
        "id": "8T5BTgE0r16B",
        "outputId": "a7d8bc8f-44e8-4d66-dc99-5b000692c4bd"
      },
      "execution_count": 95,
      "outputs": [
        {
          "output_type": "stream",
          "name": "stdout",
          "text": [
            "--2023-07-07 14:47:59--  https://storage.googleapis.com/mledu-datasets/cats_and_dogs_filtered.zip\n",
            "Resolving storage.googleapis.com (storage.googleapis.com)... 74.125.26.128, 172.217.193.128, 172.217.204.128, ...\n",
            "Connecting to storage.googleapis.com (storage.googleapis.com)|74.125.26.128|:443... connected.\n",
            "HTTP request sent, awaiting response... 200 OK\n",
            "Length: 68606236 (65M) [application/zip]\n",
            "Saving to: ‘cats_and_dogs_filtered.zip’\n",
            "\n",
            "cats_and_dogs_filte 100%[===================>]  65.43M  97.4MB/s    in 0.7s    \n",
            "\n",
            "2023-07-07 14:48:00 (97.4 MB/s) - ‘cats_and_dogs_filtered.zip’ saved [68606236/68606236]\n",
            "\n"
          ]
        }
      ]
    },
    {
      "cell_type": "markdown",
      "source": [
        "cats_and_dogs_filtered.zipBerilgan kod nomli siqilgan faylni ochish va uning mazmunini nomli yangi katalogda saqlash buyrug'i kabi ko'rinadi data. Bayroq -dajratilgan fayllar uchun mo'ljallangan katalogni ko'rsatish uchun ishlatiladi.\n",
        "\n",
        "Shuni yodda tutingki, bu kod to'g'ridan-to'g'ri Python skriptida emas, balki qobiq muhitida (masalan, Bash yoki Zsh) ishga tushirilgan. Buyruqning boshidagi belgi !notebook muhitidan qobiq buyruqlarini bajarish uchun Jupyter Notebook yoki Google Colab-ga xos sintaksisdir.\n",
        "\n",
        "Agar siz ushbu kod bilan xatoga yo'l qo'ysangiz, aniqroq yo'l-yo'riq ko'rsatishim uchun xato xabarida nima deyilganini menga xabar bering."
      ],
      "metadata": {
        "id": "m5U91q5wz5NP"
      }
    },
    {
      "cell_type": "code",
      "source": [
        "!unzip -d data cats_and_dogs_filtered.zip"
      ],
      "metadata": {
        "id": "GJhYjyyjwTJs"
      },
      "execution_count": null,
      "outputs": []
    },
    {
      "cell_type": "code",
      "source": [
        "device = torch.device(\"cuda\") if torch.cuda.is_available() else torch.device(\"cpu\")"
      ],
      "metadata": {
        "id": "wObGNB9IwXLJ"
      },
      "execution_count": 97,
      "outputs": []
    },
    {
      "cell_type": "code",
      "source": [
        "transform = T.Compose([\n",
        "    T.Resize(size=(150,150)),\n",
        "    T.ToTensor()\n",
        "])"
      ],
      "metadata": {
        "id": "erujLZnt0Fmp"
      },
      "execution_count": 98,
      "outputs": []
    },
    {
      "cell_type": "code",
      "source": [
        "class CATinDOGtaset(Dataset):\n",
        "\n",
        "    def __init__(self, path, transform = None):\n",
        "        # int for cross entryp loss\n",
        "        self.path_list = list(path.glob('*/*.jpg'))\n",
        "        self.transform = transform\n",
        "\n",
        "    def __getitem__(self,index):\n",
        "        img = Image.open(self.path_list[index])\n",
        "        label = (self.path_list[index]).parts[-2]\n",
        "        label = 0 if 'cat' in label else 1\n",
        "        if transform != None:\n",
        "            img = transform(img)\n",
        "\n",
        "        return img, int(label)\n",
        "\n",
        "    def __len__(self):\n",
        "        return len(self.path_list)"
      ],
      "metadata": {
        "id": "KwufByiv0Ii0"
      },
      "execution_count": 99,
      "outputs": []
    },
    {
      "cell_type": "code",
      "source": [
        "train_path = pathlib.Path('/content/data/cats_and_dogs_filtered/train')\n",
        "test_path = pathlib.Path('/content/data/cats_and_dogs_filtered/validation')"
      ],
      "metadata": {
        "id": "bSEMy8hQ0MAG"
      },
      "execution_count": 100,
      "outputs": []
    },
    {
      "cell_type": "code",
      "source": [
        "train_dataset = CATinDOGtaset(train_path, transform)\n",
        "test_dataset = CATinDOGtaset(test_path, transform)"
      ],
      "metadata": {
        "id": "msKh1RyM0Oab"
      },
      "execution_count": 101,
      "outputs": []
    },
    {
      "cell_type": "code",
      "source": [
        "path_list = list(train_path.glob('*/*.jpg'))\n",
        "path_test=list(test_path.glob('*/*.jpg'))"
      ],
      "metadata": {
        "id": "uAQIIUBC0P7p"
      },
      "execution_count": 102,
      "outputs": []
    },
    {
      "cell_type": "code",
      "source": [
        "train_data = DataLoader(train_dataset, batch_size=256, shuffle=True)\n",
        "test_data = DataLoader(test_dataset, batch_size=256, shuffle=True)"
      ],
      "metadata": {
        "id": "7S5iDfav0SBW"
      },
      "execution_count": 103,
      "outputs": []
    },
    {
      "cell_type": "markdown",
      "source": [
        "MODEL"
      ],
      "metadata": {
        "id": "0sLJ4p7_0VYc"
      }
    },
    {
      "cell_type": "code",
      "source": [
        "class ConvNet(nn.Module):\n",
        "    def __init__(self,num_classes=2):\n",
        "        super(ConvNet,self).__init__()\n",
        "\n",
        "        #Output size after convolution filter\n",
        "        #((w-f+2P)/s) +1\n",
        "\n",
        "        #Input shape= (256,3,150,150)\n",
        "\n",
        "        self.conv1=nn.Conv2d(in_channels=3,out_channels=12,kernel_size=3,stride=1,padding=1)\n",
        "        #Shape= (256,12,150,150)\n",
        "        self.bn1=nn.BatchNorm2d(num_features=12)\n",
        "        #Shape= (256,12,150,150)\n",
        "        self.relu1=nn.ReLU()\n",
        "        #Shape= (256,12,150,150)\n",
        "\n",
        "        self.pool=nn.MaxPool2d(kernel_size=2)\n",
        "        #Reduce the image size be factor 2\n",
        "        #Shape= (256,12,75,75)\n",
        "\n",
        "        self.conv2=nn.Conv2d(in_channels=12,out_channels=20,kernel_size=3,stride=1,padding=1)\n",
        "        #Shape= (256,20,75,75)\n",
        "        self.relu2=nn.ReLU()\n",
        "        #Shape= (256,20,75,75)\n",
        "\n",
        "        self.conv3=nn.Conv2d(in_channels=20,out_channels=32,kernel_size=3,stride=1,padding=1)\n",
        "        #Shape= (256,32,75,75)\n",
        "        self.bn3=nn.BatchNorm2d(num_features=32)\n",
        "        #Shape= (256,32,75,75)\n",
        "        self.relu3=nn.ReLU()\n",
        "        #Shape= (256,32,75,75)\n",
        "\n",
        "        self.fc=nn.Linear(in_features=75 * 75 * 32,out_features=num_classes)\n",
        "\n",
        "        #Feed forwad function\n",
        "\n",
        "    def forward(self,input):\n",
        "        output=self.conv1(input)\n",
        "        output=self.bn1(output)\n",
        "        output=self.relu1(output)\n",
        "\n",
        "        output=self.pool(output)\n",
        "\n",
        "        output=self.conv2(output)\n",
        "        output=self.relu2(output)\n",
        "\n",
        "        output=self.conv3(output)\n",
        "        output=self.bn3(output)\n",
        "        output=self.relu3(output)\n",
        "\n",
        "        #Above output will be in matrix form, with shape (256,32,75,75)\n",
        "\n",
        "        output=output.view(-1,32*75*75)\n",
        "\n",
        "        output=self.fc(output)\n",
        "\n",
        "        return output\n"
      ],
      "metadata": {
        "id": "ItPAytsk0XF1"
      },
      "execution_count": 104,
      "outputs": []
    },
    {
      "cell_type": "code",
      "source": [
        "model=ConvNet()"
      ],
      "metadata": {
        "id": "9RBlF0FJ0aM_"
      },
      "execution_count": 105,
      "outputs": []
    },
    {
      "cell_type": "code",
      "source": [
        "learning_rate = 0.001\n",
        "criterion = nn.CrossEntropyLoss()\n",
        "optimizer = torch.optim.Adam(model.parameters(),lr=learning_rate)"
      ],
      "metadata": {
        "id": "m3L3Bhk00b8G"
      },
      "execution_count": 106,
      "outputs": []
    },
    {
      "cell_type": "code",
      "source": [
        "num_epochs = 5"
      ],
      "metadata": {
        "id": "di_rzpPA0djd"
      },
      "execution_count": 107,
      "outputs": []
    },
    {
      "cell_type": "code",
      "source": [
        "class Trainer:\n",
        "    def __init__(self, model, train_dataloader, test_dataloader, criterion, optimizer, epochs=3):\n",
        "        self.model = model\n",
        "        self.train_dataloader = train_dataloader\n",
        "        self.test_dataloader = test_dataloader\n",
        "        self.criterion = criterion\n",
        "        self.optimizer = optimizer\n",
        "\n",
        "        self.epochs = epochs\n",
        "        self.history = {'loss':[],'acc':[],'val_loss':[],'val_acc':[]}\n",
        "\n",
        "    def train_loop(self):\n",
        "        sum_loss = 0\n",
        "        sum_accuracy = 0\n",
        "        n = len(self.train_dataloader)\n",
        "        for i, (data,label) in enumerate(tqdm(self.train_dataloader)):\n",
        "            data = data.to(device)\n",
        "            label = label.to(device)\n",
        "            # prediction model\n",
        "            output = self.model(data)\n",
        "            # find loss\n",
        "            loss = self.criterion(output, label)\n",
        "\n",
        "            sum_loss += loss.item()\n",
        "            n_corrects = (output.argmax(axis=1)==label).sum().item()\n",
        "            sum_accuracy += n_corrects/label.size(0)\n",
        "\n",
        "            loss.backward()\n",
        "            self.optimizer.step()\n",
        "            self.optimizer.zero_grad()\n",
        "\n",
        "\n",
        "        train_loss = sum_loss/n\n",
        "        train_accuracy = sum_accuracy/n\n",
        "\n",
        "        self.history['loss'].append(train_loss)\n",
        "        self.history['acc'].append(train_accuracy)\n",
        "\n",
        "        return train_loss, train_accuracy\n",
        "\n",
        "    def validation_loop(self):\n",
        "        sum_loss = 0\n",
        "        sum_accuracy = 0\n",
        "        n = len(self.test_dataloader)\n",
        "        for i, (data,label) in enumerate(tqdm(self.test_dataloader)):\n",
        "            data = data.to(device)\n",
        "            label = label.to(device)\n",
        "            # prediction model\n",
        "            output = self.model(data)\n",
        "            # find loss\n",
        "            loss = self.criterion(output, label)\n",
        "            n_corrects = (output.argmax(axis=1)==label).sum().item()\n",
        "\n",
        "            sum_loss += loss.item()\n",
        "            sum_accuracy += n_corrects/label.size(0)\n",
        "\n",
        "        val_loss = sum_loss/n\n",
        "        val_accuracy = sum_accuracy/n\n",
        "\n",
        "        self.history['val_loss'].append(val_loss)\n",
        "        self.history['val_acc'].append(val_accuracy)\n",
        "\n",
        "        return val_loss, val_accuracy\n",
        "\n",
        "    def train(self):\n",
        "        for epoch in range(num_epochs):\n",
        "            train_loss, train_acc = self.train_loop()\n",
        "            val_loss, val_acc = self.validation_loop()\n",
        "            print()\n",
        "            print(f'Epoch[{epoch+1}/{num_epochs}] \\t train_loss: {train_loss:.5f}, train_acc: {train_acc:.2f} \\t val_loss: {val_loss:.5f} \\t val_acc: {val_acc:.2}')\n"
      ],
      "metadata": {
        "id": "pze3cUZ70foZ"
      },
      "execution_count": 108,
      "outputs": []
    },
    {
      "cell_type": "code",
      "source": [
        "trainer = Trainer(\n",
        "    model = model.to(device),\n",
        "    train_dataloader = train_data,\n",
        "    test_dataloader = test_data,\n",
        "    criterion=criterion,\n",
        "    optimizer=optimizer\n",
        ")"
      ],
      "metadata": {
        "id": "QBF3iKl90h64"
      },
      "execution_count": 109,
      "outputs": []
    },
    {
      "cell_type": "code",
      "source": [
        "trainer.train()"
      ],
      "metadata": {
        "colab": {
          "base_uri": "https://localhost:8080/"
        },
        "id": "ahCpw1Ib0jov",
        "outputId": "2751535d-103d-476a-dbb1-62105b005ab4"
      },
      "execution_count": 110,
      "outputs": [
        {
          "output_type": "stream",
          "name": "stderr",
          "text": [
            "100%|██████████| 8/8 [00:09<00:00,  1.18s/it]\n",
            "100%|██████████| 4/4 [00:04<00:00,  1.04s/it]\n"
          ]
        },
        {
          "output_type": "stream",
          "name": "stdout",
          "text": [
            "\n",
            "Epoch[1/5] \t train_loss: 15.55370, train_acc: 0.53 \t val_loss: 5.91936 \t val_acc: 0.55\n"
          ]
        },
        {
          "output_type": "stream",
          "name": "stderr",
          "text": [
            "100%|██████████| 8/8 [00:08<00:00,  1.12s/it]\n",
            "100%|██████████| 4/4 [00:04<00:00,  1.01s/it]\n"
          ]
        },
        {
          "output_type": "stream",
          "name": "stdout",
          "text": [
            "\n",
            "Epoch[2/5] \t train_loss: 5.71770, train_acc: 0.58 \t val_loss: 2.39859 \t val_acc: 0.64\n"
          ]
        },
        {
          "output_type": "stream",
          "name": "stderr",
          "text": [
            "100%|██████████| 8/8 [00:09<00:00,  1.20s/it]\n",
            "100%|██████████| 4/4 [00:04<00:00,  1.16s/it]\n"
          ]
        },
        {
          "output_type": "stream",
          "name": "stdout",
          "text": [
            "\n",
            "Epoch[3/5] \t train_loss: 3.51405, train_acc: 0.63 \t val_loss: 3.35376 \t val_acc: 0.62\n"
          ]
        },
        {
          "output_type": "stream",
          "name": "stderr",
          "text": [
            "100%|██████████| 8/8 [00:08<00:00,  1.04s/it]\n",
            "100%|██████████| 4/4 [00:05<00:00,  1.42s/it]\n"
          ]
        },
        {
          "output_type": "stream",
          "name": "stdout",
          "text": [
            "\n",
            "Epoch[4/5] \t train_loss: 1.89298, train_acc: 0.71 \t val_loss: 1.94547 \t val_acc: 0.66\n"
          ]
        },
        {
          "output_type": "stream",
          "name": "stderr",
          "text": [
            "100%|██████████| 8/8 [00:08<00:00,  1.02s/it]\n",
            "100%|██████████| 4/4 [00:04<00:00,  1.23s/it]"
          ]
        },
        {
          "output_type": "stream",
          "name": "stdout",
          "text": [
            "\n",
            "Epoch[5/5] \t train_loss: 0.81703, train_acc: 0.79 \t val_loss: 1.94258 \t val_acc: 0.61\n"
          ]
        },
        {
          "output_type": "stream",
          "name": "stderr",
          "text": [
            "\n"
          ]
        }
      ]
    },
    {
      "cell_type": "code",
      "source": [
        "test_img,test_label=next(iter(test_data))\n",
        "pred=model(test_img.to(device))\n",
        "pred=pred.argmax(axis=1)\n",
        "pred = pred.detach().cpu()\n",
        "from sklearn.metrics import confusion_matrix\n",
        "print( test_label)\n",
        "cm=confusion_matrix(test_label,pred)\n",
        "print(cm)\n",
        "import seaborn as sns\n",
        "sns.heatmap(cm,annot=True)"
      ],
      "metadata": {
        "colab": {
          "base_uri": "https://localhost:8080/",
          "height": 673
        },
        "id": "GNt8uYAe0tUa",
        "outputId": "96dc5a8d-8766-4358-c2c9-f0141dbcca25"
      },
      "execution_count": 111,
      "outputs": [
        {
          "output_type": "stream",
          "name": "stdout",
          "text": [
            "tensor([1, 1, 0, 0, 1, 0, 1, 1, 0, 0, 0, 0, 1, 1, 1, 0, 0, 0, 0, 0, 0, 1, 0, 0,\n",
            "        1, 0, 1, 0, 1, 0, 0, 1, 1, 0, 0, 0, 1, 1, 1, 1, 1, 1, 0, 0, 0, 1, 0, 0,\n",
            "        1, 1, 0, 0, 1, 0, 1, 1, 1, 1, 1, 1, 1, 1, 0, 1, 1, 0, 0, 0, 1, 0, 1, 0,\n",
            "        1, 1, 1, 0, 0, 0, 0, 1, 1, 0, 0, 0, 0, 0, 1, 1, 0, 0, 0, 1, 0, 1, 1, 1,\n",
            "        1, 0, 1, 1, 1, 0, 1, 0, 0, 1, 1, 1, 1, 1, 1, 1, 1, 0, 0, 1, 0, 1, 1, 0,\n",
            "        0, 1, 1, 1, 0, 0, 1, 0, 0, 1, 1, 0, 1, 0, 1, 1, 0, 1, 0, 1, 1, 1, 0, 0,\n",
            "        1, 0, 0, 1, 0, 1, 1, 0, 1, 1, 0, 1, 1, 0, 1, 0, 1, 1, 1, 0, 1, 0, 1, 1,\n",
            "        0, 0, 1, 0, 1, 0, 0, 0, 0, 0, 0, 0, 1, 1, 0, 1, 0, 0, 0, 1, 1, 1, 1, 1,\n",
            "        1, 1, 0, 1, 1, 1, 1, 1, 0, 1, 0, 0, 1, 0, 1, 0, 0, 1, 1, 0, 0, 1, 0, 0,\n",
            "        1, 0, 0, 1, 1, 0, 1, 1, 1, 0, 0, 1, 1, 0, 1, 1, 0, 1, 1, 1, 0, 0, 1, 1,\n",
            "        1, 1, 1, 0, 1, 0, 1, 1, 1, 1, 1, 1, 0, 1, 0, 1])\n",
            "[[ 42  73]\n",
            " [ 28 113]]\n"
          ]
        },
        {
          "output_type": "execute_result",
          "data": {
            "text/plain": [
              "<Axes: >"
            ]
          },
          "metadata": {},
          "execution_count": 111
        },
        {
          "output_type": "display_data",
          "data": {
            "text/plain": [
              "<Figure size 640x480 with 2 Axes>"
            ],
            "image/png": "[encoded data removed]"
          },
          "metadata": {}
        }
      ]
    },
    {
      "cell_type": "markdown",
      "source": [
        "#CIFAR-10"
      ],
      "metadata": {
        "id": "AZMYp8fj1UDO"
      }
    },
    {
      "cell_type": "code",
      "source": [
        "!wget https://www.cs.toronto.edu/~kriz/cifar-10-python.tar.gz"
      ],
      "metadata": {
        "colab": {
          "base_uri": "https://localhost:8080/"
        },
        "id": "wvQMxJEl1TQZ",
        "outputId": "e8fbff24-b703-4c05-a2e2-f48079fd1e69"
      },
      "execution_count": 112,
      "outputs": [
        {
          "output_type": "stream",
          "name": "stdout",
          "text": [
            "--2023-07-07 14:53:00--  https://www.cs.toronto.edu/~kriz/cifar-10-python.tar.gz\n",
            "Resolving www.cs.toronto.edu (www.cs.toronto.edu)... 128.100.3.30\n",
            "Connecting to www.cs.toronto.edu (www.cs.toronto.edu)|128.100.3.30|:443... connected.\n",
            "HTTP request sent, awaiting response... 200 OK\n",
            "Length: 170498071 (163M) [application/x-gzip]\n",
            "Saving to: ‘cifar-10-python.tar.gz’\n",
            "\n",
            "cifar-10-python.tar 100%[===================>] 162.60M  52.0MB/s    in 3.1s    \n",
            "\n",
            "2023-07-07 14:53:05 (52.0 MB/s) - ‘cifar-10-python.tar.gz’ saved [170498071/170498071]\n",
            "\n"
          ]
        }
      ]
    },
    {
      "cell_type": "code",
      "source": [
        "!tar -xzf /content/cifar-10-python.tar.gz"
      ],
      "metadata": {
        "id": "vPmQxBr316uJ"
      },
      "execution_count": 113,
      "outputs": []
    }
  ]
}